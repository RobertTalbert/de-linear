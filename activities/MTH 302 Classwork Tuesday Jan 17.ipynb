{
 "cells": [
  {
   "cell_type": "code",
   "execution_count": 1,
   "id": "c18d02b4",
   "metadata": {},
   "outputs": [],
   "source": [
    "from sympy import *\n",
    "init_printing()"
   ]
  },
  {
   "attachments": {},
   "cell_type": "markdown",
   "id": "cbd02d63",
   "metadata": {},
   "source": [
    "# MTH 302: Linear Algebra and Differential Equations \n",
    "\n",
    "## Class Activities for Tuesday, January 17 \n",
    "\n",
    "**Instructions:** \n",
    "\n",
    "- Download this notebook from the Resource Page and open it in Colab. \n",
    "- Work on the following exercises in your groups. Be sure to stay active, ask for help, and give help. \n",
    "- If you get stuck, try to work it out with your team. You can ask questions at any time, but try to power through the difficulty yourself first. \n",
    "- Some items are designated \"**★AA**\". These will be collected as part of **Application/Analysis 1** which is due on Wednesday, January 25. None of the other items will be turned in, but you will need to work on the *entire* activity here to understand the parts that *are* turned in. \n",
    "- You may use technology if you want, unless it says otherwise. \n",
    "- We will review as many of the items that are *not* on on Application/Analysis 1, as we have time for. \n",
    "\n",
    "\n",
    "### 1. Linear combinations \n",
    "\n",
    "1. Below are some randomly generated vectors $\\mathbf{a}, \\mathbf{b}, \\mathbf{c}$ in $\\mathbb{R}^2$ and $\\mathbf{s}, \\mathbf{t}, \\mathbf{u}$ in $\\mathbb{R}^5$. By hand (don't use technology except to check), compute $2\\mathbf{a} - \\mathbf{b} + 3\\mathbf{c}$ and $-2\\mathbf{s} + 3\\mathbf{t} - 5\\mathbf{u}$. "
   ]
  },
  {
   "cell_type": "code",
   "execution_count": 2,
   "id": "5606cb13",
   "metadata": {},
   "outputs": [],
   "source": [
    "# Run this code cell to randomly generate the vectors \n",
    "\n",
    "a = randMatrix(2,1,-10,10)\n",
    "b = randMatrix(2,1,-10,10)\n",
    "c = randMatrix(2,1,-10,10)\n",
    "s = randMatrix(5,1,-10,10)\n",
    "t = randMatrix(5,1,-10,10)\n",
    "u = randMatrix(5,1,-10,10)"
   ]
  },
  {
   "cell_type": "code",
   "execution_count": null,
   "id": "8eb99f93",
   "metadata": {},
   "outputs": [],
   "source": [
    "# Run this code cell to see what SymPy generated \n",
    "\n",
    "print(\"a,b,c:\") \n",
    "(a,b,c)"
   ]
  },
  {
   "cell_type": "code",
   "execution_count": null,
   "id": "19b79939",
   "metadata": {},
   "outputs": [],
   "source": [
    "# Run this code cell to see what SymPy generated \n",
    "\n",
    "print(\"s,t,u:\")\n",
    "(s,t,u)"
   ]
  },
  {
   "cell_type": "markdown",
   "id": "2d48bf9c",
   "metadata": {},
   "source": [
    "###  2. Is it a linear combination?\n",
    "\n",
    "\n",
    "1. Let $\\mathbf{x} = \\begin{bmatrix} 20 \\\\ 23 \\end{bmatrix}$. Is $\\mathbf{x}$ a linear combination of the vectors $\\mathbf{a}, \\mathbf{b}, \\mathbf{c}$ from part 1? If so, then find the weights that are used in the linear combination. If not, explain why not. \n",
    "\n",
    "2. Let $\\mathbf{y} = \\begin{bmatrix} 1 \\\\ 2 \\end{bmatrix}$ and let $\\mathbf{z} = \\begin{bmatrix} -2 \\\\ -4 \\end{bmatrix}$. Is the vector $\\mathbf{x}$ from the previous question a linear combination of these? Why or why not? \n",
    "\n",
    "3. Let $\\mathbf{x} = \\begin{bmatrix} 1 \\\\ 15 \\\\ 6 \\\\ 7 \\\\ 2 \\end{bmatrix}$. Is $\\mathbf{x}$ a linear combination of the vectors $\\mathbf{s}, \\mathbf{t}, \\mathbf{u}$ from part 1? If so, then find the weights that are used in the linear combination. If not, explain why not. \n",
    "\n",
    "\n",
    "\n",
    "4. Find a set of three nonzero vectors in $\\mathbb{R}^2$ that cannot possibly produce the vector $\\mathbf{x} = \\begin{bmatrix} 20 \\\\ 23 \\end{bmatrix}$ as a linear combination of those three. Explain why your example works. Also, what vectors in $\\mathbb{R}^2$ *can* be produced as a linear combination of those three? \n",
    "\n",
    "5. How are you using linear systems and our processes for solving them, to answer the questions above? Write down a sentence or two that clearly explains your process. \n",
    "\n",
    "6. (**★AA**) In Calculus 3 and physics we sometimes talk about three special 3D vectors: $\\mathbf{i} =  \\begin{bmatrix} 1 \\\\ 0 \\\\ 0 \\end{bmatrix}$, $\\mathbf{j} =  \\begin{bmatrix} 0 \\\\ 1 \\\\ 0 \\end{bmatrix}$,  and $\\mathbf{k} =  \\begin{bmatrix} 0 \\\\ 0 \\\\ 1 \\end{bmatrix}$. These vectors are special because **every vector in $\\mathbb{R}^3$ is a linear combination of these three**. Explain why that statement is true. \n",
    "\n",
    "7. (**★AA**) Is it true that if you take *any* three vectors from $\\mathbb{R}^3$, that every vector in $\\mathbb{R}^3$ will be a linear combination of these? If so, explain why using a general argument and not specific examples (because specific examples don't explain why a statement is \"always\" true). If not, give an example where you choose a set of three specific vectors from  $\\mathbb{R}^3$ and a fourth vector that cannot be a linear combination of the first three. (Compare with what you did above.) "
   ]
  }
 ],
 "metadata": {
  "kernelspec": {
   "display_name": "Python 3",
   "language": "python",
   "name": "python3"
  },
  "language_info": {
   "codemirror_mode": {
    "name": "ipython",
    "version": 3
   },
   "file_extension": ".py",
   "mimetype": "text/x-python",
   "name": "python",
   "nbconvert_exporter": "python",
   "pygments_lexer": "ipython3",
   "version": "3.8.12 | packaged by conda-forge | (default, Sep 16 2021, 01:40:49) [MSC v.1916 64 bit (AMD64)]"
  },
  "vscode": {
   "interpreter": {
    "hash": "a43062f98620bd5d1d81e5ead56f7bb5d0cd1288750de86f025fe748b517b08d"
   }
  }
 },
 "nbformat": 4,
 "nbformat_minor": 5
}
