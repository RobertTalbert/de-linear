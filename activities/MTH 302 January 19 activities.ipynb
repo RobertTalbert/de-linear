{
 "cells": [
  {
   "attachments": {},
   "cell_type": "markdown",
   "metadata": {},
   "source": [
    "# MTH 302: Linear Algebra and Differential Equations\n",
    "\n",
    "## Class Activities: Thursday 2023-01-19\n",
    "\n",
    "### Reminders/Instructions\n",
    "\n",
    "- Work on these in your groups. Please use SymPy for all mathematical calculations unless it states otherwise. \n",
    "- Some of these are tagged with **(AA)**. Those will be part of *Application/Analysis Set 1*. You'll work on those in groups now, then write up your own individual solution later and submit by Wednesday. \n",
    "- But don't work *only* on the ones that are tagged; give a full effort to each activity below! \n",
    "- We will discuss the solutions to as many of the non-tagged items as we can. \n",
    "\n",
    "\n",
    "## Part 1: Practice and review with linear systems and RREF\n",
    "\n",
    "1. Solve each of the following systems using matrices. This means: Convert each one to its augmented matrix; get the matrix into RREF; then determine if the system is consistent or inconsistent. If consistent with one solution, state what the solution is. If consistent with infinitely many solutions, identify the free variable(s) and then give a relationship between the pivot variables and the free variables. \n",
    "\n",
    "   (a) $$\\begin{equation*}\n",
    "\\begin{alignedat}{3}\n",
    "2x &  {}+{}  & y &  {}={}  & 0 \\\\\n",
    "x &  {}+{}  & 2y &  {}={}  & 3 \\\\\n",
    "-2x &  {}+{}  & 2y &  {}={}  & 6 \\\\\n",
    "\\end{alignedat}\n",
    "\\end{equation*}$$\n",
    "   (b) $$\\begin{equation*}\n",
    "\\begin{alignedat}{5}\n",
    "-x_1 &  {}+{}  & 2x_2 &  &  &  {}+{}\n",
    "& x_3 &  {}={}  & 2 \\\\ \n",
    "3x_1 &  &  &  &  &  {}+{}  & 2x_3\n",
    "&  {}={}  & -1 \\\\ \n",
    "-x_1 &  {}-{}  & x_2 &  &  &  {}+{}\n",
    "& x_3 &  {}={}  & 2 \\\\ \n",
    "\\end{alignedat}\n",
    "\\end{equation*}$$\n",
    "   (c) $$\\begin{equation*}\n",
    "\\begin{alignedat}{5}\n",
    "x_1 &  {}+{}  & 2x_2 &  {}-{}  & 5x_3 &\n",
    "{}-{}  & x_4 &  {}={}  & -3 \\\\\n",
    "-2x_1 &  {}-{}  & 2x_2 &  {}+{}  & 6x_3 &\n",
    "{}-{}  & 2x_4 &  {}={}  & 4 \\\\\n",
    "x_1 &  &  &  {}-{}  & x_3 &  {}+{}\n",
    "& 9x_4 &  {}={}  & -7 \\\\\n",
    "&  & -x_2 &  {}+{}  & 2x_3 &  {}-{}\n",
    "& x_4 &  {}={}  & 4 \\\\\n",
    "\\end{alignedat}\n",
    "\\end{equation*}$$\n",
    "\n",
    "2. In statistical analysis, we sometimes want to find a curve that passes through a given set of points to model a data set. Suppose we have three $xy$-pairs: $(1,4), (2,7)$, and $(3,6)$. These three points don't lie on the same *line*, but we might be able to find a *curve* that goes through them. Is it possible to find a parabola, graphed by the function $f(t) = at^2 + bt + c$, that goes through all three of these points? If so, what are the values of $a,b,c$ that make this work? (Hint: If the graph of $f(t)$ goes through the point $(1,4)$, it means that $f(1) = 4$, and therefore $4 = a \\cdot 1^2 + b \\cdot 1 + c$. Can you use this idea and the rest of the information here to make a linear system?)\n",
    "\n",
    "3. Using the code block below, generate three random vectors $\\mathbf{u}, \\mathbf{v}$ and $\\mathbf{w}$ in $\\mathbb{R}^3$. Then determine if the vector $[1,1,1]^T$ can be written as a linear combination of those three. If it can be, then find weights on $\\mathbf{u}, \\mathbf{v}$ and $\\mathbf{w}$ that create the linear combination. If not, explain why. "
   ]
  },
  {
   "cell_type": "code",
   "execution_count": null,
   "metadata": {},
   "outputs": [],
   "source": [
    "# Generate three random vectors u,v,w in R3 here \n",
    "# This uses the randMatrix command"
   ]
  },
  {
   "attachments": {},
   "cell_type": "markdown",
   "metadata": {},
   "source": [
    "4. (**AA**) In Calculus 3 and physics we sometimes talk about three special 3D vectors: $\\mathbf{i} =  \\begin{bmatrix} 1 \\\\ 0 \\\\ 0 \\end{bmatrix}$, $\\mathbf{j} =  \\begin{bmatrix} 0 \\\\ 1 \\\\ 0 \\end{bmatrix}$,  and $\\mathbf{k} =  \\begin{bmatrix} 0 \\\\ 0 \\\\ 1 \\end{bmatrix}$. These vectors are special because **every vector in $\\mathbb{R}^3$ is a linear combination of these three**. Explain why that statement is true. \n",
    "\n",
    "5. (**AA**) Is it true that if you take *any* three vectors from $\\mathbb{R}^3$, that *every* vector in $\\mathbb{R}^3$ will be a linear combination of these? If so, explain why using a general argument and not specific examples (because specific examples don't explain why a statement is \"always\" true). If not, give an example where you choose a set of three specific vectors from  $\\mathbb{R}^3$ and a fourth vector that cannot be a linear combination of the first three. "
   ]
  },
  {
   "attachments": {},
   "cell_type": "markdown",
   "metadata": {},
   "source": [
    "## Part 2: Span, and homogeneous systems \n",
    "\n",
    "1. Determine if the vector $\\mathbf{b} = [11 \\ {-4}]^T$ is in the span of the vectors $\\mathbf{a}_1 = [3 \\ {-2}]^T$ and $\\mathbf{a}_2 = [9\\ {-6}]^T$. \n",
    "2. Consider the 3D vectors $\\mathbf{v}_1 = [1 \\ 1 \\ 1]^T$ and $\\mathbf{v}_2 = [-3 \\ 0 \\ 2]^T$.\n",
    "   \n",
    "   (a) Describe visually/geometrically the set $\\text{Span}\\{\\mathbf{v}_1, \\mathbf{v}_2\\}$. That is, what does this set *look like*, or what parts of $\\mathbb{R}^3$ does it occupy? \n",
    "   \n",
    "   (b) Can every vector in $\\mathbb{R}^3$ be found in $\\text{Span}\\{\\mathbf{v}_1, \\mathbf{v}_2\\}$? If so, explain why. If not, find a vector that is not in this set and justify your answer. \n",
    "   \n",
    "3. Consider the homogeneous system shown below. Solve the system; if infinitely many solutions exist, express the solution set as the span of a set of vectors. (Compare with Example 1.4.4 from the textbook.)\n",
    "\n",
    "$$\\begin{equation*}\n",
    "\\begin{alignedat}{4}\n",
    "x &  {}-{}  & y & {} + & 2z  {}={}  & 0 \\\\\n",
    "4x &  {}-{}  & 2y & {} + & 6z  {}={}  & 0 \\\\\n",
    "-7x &  {}+{}  & 3y & {} - & 10z  {}={}  & 0 \\\\\n",
    "\\end{alignedat}\n",
    "\\end{equation*}$$\n",
    "\n",
    "4. **(AA)** Decide whether each of the following sentences is true or false. In each case, state your response (\"True\" or \"False\") and write one complete, legible English sentence to support your answer. \n",
    "   \n",
    "   (a) The span of a single nonzero vector in $\\mathbb{R}^2$ can be thought of as a line through the origin. \n",
    "   \n",
    "   (b) The span of any two nonzero vectors in $\\mathbb{R}^3$ can be viewed as a plane through the origin in $\\mathbb{R}^3$/\n",
    "   \n",
    "   (c) If $\\mathbf{Ax = b}$ holds true for a given matrix $\\mathbf{A}$ and vectors $\\mathbf{x}$ and $\\mathbf{b}$, then $\\mathbf{x}$ lies in the span of the columns of $\\mathbf{A}$. \n",
    "   \n",
    "   (d) It is possible for a homogeneous equation $\\mathbf{Ax = 0}$ to be inconsistent. \n",
    "   \n",
    "   (e) The number of free variables present in the solution to $\\mathbf{Ax = 0}$ is the same as the number of pivot columns in the matrix $\\mathbf{A}$.  "
   ]
  }
 ],
 "metadata": {
  "kernelspec": {
   "display_name": "base",
   "language": "python",
   "name": "python3"
  },
  "language_info": {
   "codemirror_mode": {
    "name": "ipython",
    "version": 3
   },
   "file_extension": ".py",
   "mimetype": "text/x-python",
   "name": "python",
   "nbconvert_exporter": "python",
   "pygments_lexer": "ipython3",
   "version": "3.9.15 (main, Nov  4 2022, 11:11:31) \n[Clang 12.0.0 ]"
  },
  "orig_nbformat": 4,
  "vscode": {
   "interpreter": {
    "hash": "784cc7598c8dead48ccbe373380d278edc58654b6275e9517b5b2c0bab31845c"
   }
  }
 },
 "nbformat": 4,
 "nbformat_minor": 2
}
