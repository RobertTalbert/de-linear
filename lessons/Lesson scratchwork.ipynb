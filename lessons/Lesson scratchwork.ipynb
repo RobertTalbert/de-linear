{
 "cells": [
  {
   "cell_type": "code",
   "execution_count": 1,
   "id": "12e9bf7e",
   "metadata": {},
   "outputs": [],
   "source": [
    "from sympy import * \n",
    "init_printing()"
   ]
  },
  {
   "cell_type": "code",
   "execution_count": 12,
   "id": "d36123d7",
   "metadata": {},
   "outputs": [],
   "source": [
    "A = randMatrix(3,3,-10,10)\n",
    "b = randMatrix(3,1,-20,20)"
   ]
  },
  {
   "cell_type": "code",
   "execution_count": 13,
   "id": "d8d544a4",
   "metadata": {},
   "outputs": [
    {
     "data": {
      "text/latex": [
       "$\\displaystyle \\left[\\begin{matrix}-6 & 3 & -9\\\\-6 & 2 & -2\\\\8 & -10 & -10\\end{matrix}\\right]$"
      ],
      "text/plain": [
       "⎡-6   3   -9 ⎤\n",
       "⎢            ⎥\n",
       "⎢-6   2   -2 ⎥\n",
       "⎢            ⎥\n",
       "⎣8   -10  -10⎦"
      ]
     },
     "execution_count": 13,
     "metadata": {},
     "output_type": "execute_result"
    }
   ],
   "source": [
    "A"
   ]
  },
  {
   "cell_type": "code",
   "execution_count": 5,
   "id": "56dbdfbd",
   "metadata": {},
   "outputs": [
    {
     "data": {
      "text/latex": [
       "$\\displaystyle \\left[\\begin{matrix}-16\\\\-19\\\\14\\end{matrix}\\right]$"
      ],
      "text/plain": [
       "⎡-16⎤\n",
       "⎢   ⎥\n",
       "⎢-19⎥\n",
       "⎢   ⎥\n",
       "⎣14 ⎦"
      ]
     },
     "execution_count": 5,
     "metadata": {},
     "output_type": "execute_result"
    }
   ],
   "source": [
    "b"
   ]
  },
  {
   "cell_type": "code",
   "execution_count": 10,
   "id": "f889edf4",
   "metadata": {},
   "outputs": [
    {
     "data": {
      "text/latex": [
       "$\\displaystyle \\left[\\begin{matrix}10 & 7 & 5 & -16\\\\5 & -9 & 10 & -19\\\\-4 & 2 & -10 & 14\\end{matrix}\\right]$"
      ],
      "text/plain": [
       "⎡10  7    5   -16⎤\n",
       "⎢                ⎥\n",
       "⎢5   -9  10   -19⎥\n",
       "⎢                ⎥\n",
       "⎣-4  2   -10  14 ⎦"
      ]
     },
     "execution_count": 10,
     "metadata": {},
     "output_type": "execute_result"
    }
   ],
   "source": [
    "M = A.col_insert(3,b)\n",
    "M"
   ]
  },
  {
   "cell_type": "code",
   "execution_count": 14,
   "id": "4a9b19f1",
   "metadata": {},
   "outputs": [
    {
     "data": {
      "text/latex": [
       "$\\displaystyle \\left[\\begin{matrix}1 & 0 & 0 & - \\frac{103}{64}\\\\0 & 1 & 0 & \\frac{31}{64}\\\\0 & 0 & 1 & - \\frac{211}{320}\\end{matrix}\\right]$"
      ],
      "text/plain": [
       "⎡         -103 ⎤\n",
       "⎢1  0  0  ─────⎥\n",
       "⎢           64 ⎥\n",
       "⎢              ⎥\n",
       "⎢          31  ⎥\n",
       "⎢0  1  0   ──  ⎥\n",
       "⎢          64  ⎥\n",
       "⎢              ⎥\n",
       "⎢         -211 ⎥\n",
       "⎢0  0  1  ─────⎥\n",
       "⎣          320 ⎦"
      ]
     },
     "execution_count": 14,
     "metadata": {},
     "output_type": "execute_result"
    }
   ],
   "source": [
    "M.rref(pivots = False)"
   ]
  },
  {
   "cell_type": "code",
   "execution_count": 15,
   "id": "063bab37",
   "metadata": {},
   "outputs": [],
   "source": [
    "c1 = Matrix([1,1,2,-1])\n",
    "c2 = Matrix([0,4,-2,3])\n",
    "c3 = Matrix([-2,4,0,2])\n",
    "c4 = 2*c1 - c2 + c3"
   ]
  },
  {
   "cell_type": "code",
   "execution_count": 21,
   "id": "0b2c5f30",
   "metadata": {},
   "outputs": [
    {
     "data": {
      "text/latex": [
       "$\\displaystyle \\left[\\begin{matrix}1 & 0 & -2 & 0\\\\1 & 4 & 4 & 2\\\\2 & -2 & 0 & 6\\\\-1 & 3 & 2 & -3\\end{matrix}\\right]$"
      ],
      "text/plain": [
       "⎡1   0   -2  0 ⎤\n",
       "⎢              ⎥\n",
       "⎢1   4   4   2 ⎥\n",
       "⎢              ⎥\n",
       "⎢2   -2  0   6 ⎥\n",
       "⎢              ⎥\n",
       "⎣-1  3   2   -3⎦"
      ]
     },
     "execution_count": 21,
     "metadata": {},
     "output_type": "execute_result"
    }
   ],
   "source": [
    "M = Matrix.hstack(c1,c2,c3,c4)\n",
    "M"
   ]
  },
  {
   "cell_type": "code",
   "execution_count": 23,
   "id": "72be9864",
   "metadata": {},
   "outputs": [
    {
     "data": {
      "text/latex": [
       "$\\displaystyle \\left[\\begin{matrix}1 & 0 & 0 & 2\\\\0 & 1 & 0 & -1\\\\0 & 0 & 1 & 1\\\\0 & 0 & 0 & 0\\end{matrix}\\right]$"
      ],
      "text/plain": [
       "⎡1  0  0  2 ⎤\n",
       "⎢           ⎥\n",
       "⎢0  1  0  -1⎥\n",
       "⎢           ⎥\n",
       "⎢0  0  1  1 ⎥\n",
       "⎢           ⎥\n",
       "⎣0  0  0  0 ⎦"
      ]
     },
     "execution_count": 23,
     "metadata": {},
     "output_type": "execute_result"
    }
   ],
   "source": [
    "M.rref(pivots=False)"
   ]
  },
  {
   "cell_type": "code",
   "execution_count": null,
   "id": "8cf85381",
   "metadata": {},
   "outputs": [],
   "source": []
  }
 ],
 "metadata": {
  "kernelspec": {
   "display_name": "Python 3 (ipykernel)",
   "language": "python",
   "name": "python3"
  },
  "language_info": {
   "codemirror_mode": {
    "name": "ipython",
    "version": 3
   },
   "file_extension": ".py",
   "mimetype": "text/x-python",
   "name": "python",
   "nbconvert_exporter": "python",
   "pygments_lexer": "ipython3",
   "version": "3.9.15"
  }
 },
 "nbformat": 4,
 "nbformat_minor": 5
}
