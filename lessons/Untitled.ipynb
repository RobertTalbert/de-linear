{
 "cells": [
  {
   "cell_type": "code",
   "execution_count": 1,
   "id": "8972d6f0-d6ea-437a-a796-437c8268008e",
   "metadata": {},
   "outputs": [],
   "source": [
    "from sympy import *\n",
    "init_printing()"
   ]
  },
  {
   "cell_type": "code",
   "execution_count": 3,
   "id": "018b5372-3583-4e37-b455-b9ad46d7b2cc",
   "metadata": {},
   "outputs": [],
   "source": [
    "def niceEigs(e1,e2):\n",
    "    M = Matrix([[e1,0],[0,e2]])\n",
    "    P = randMatrix(2,2,-3,3)\n",
    "    while P.det() == 0: \n",
    "        # Change the -3 and 3 if you want more variety in the entries \n",
    "        P = randMatrix(2,2,-3,3) \n",
    "    return P*M*P.inv()"
   ]
  },
  {
   "cell_type": "code",
   "execution_count": 2,
   "id": "ae472963-1135-4122-aff0-2a04eb956bb5",
   "metadata": {},
   "outputs": [
    {
     "data": {
      "text/latex": [
       "$\\displaystyle \\left[ \\left( \\frac{3}{2} - \\frac{\\sqrt{11} i}{2}, \\  1, \\  \\left[ \\left[\\begin{matrix}\\frac{1}{6} - \\frac{\\sqrt{11} i}{6}\\\\1\\end{matrix}\\right]\\right]\\right), \\  \\left( \\frac{3}{2} + \\frac{\\sqrt{11} i}{2}, \\  1, \\  \\left[ \\left[\\begin{matrix}\\frac{1}{6} + \\frac{\\sqrt{11} i}{6}\\\\1\\end{matrix}\\right]\\right]\\right)\\right]$"
      ],
      "text/plain": [
       "⎡⎛              ⎡⎡1   √11⋅ⅈ⎤⎤⎞  ⎛              ⎡⎡1   √11⋅ⅈ⎤⎤⎞⎤\n",
       "⎢⎜3   √11⋅ⅈ     ⎢⎢─ - ─────⎥⎥⎟  ⎜3   √11⋅ⅈ     ⎢⎢─ + ─────⎥⎥⎟⎥\n",
       "⎢⎜─ - ─────, 1, ⎢⎢6     6  ⎥⎥⎟, ⎜─ + ─────, 1, ⎢⎢6     6  ⎥⎥⎟⎥\n",
       "⎢⎜2     2       ⎢⎢         ⎥⎥⎟  ⎜2     2       ⎢⎢         ⎥⎥⎟⎥\n",
       "⎣⎝              ⎣⎣    1    ⎦⎦⎠  ⎝              ⎣⎣    1    ⎦⎦⎠⎦"
      ]
     },
     "execution_count": 2,
     "metadata": {},
     "output_type": "execute_result"
    }
   ],
   "source": [
    "M = Matrix([[2,-1], [3,1]])\n",
    "M.eigenvects()"
   ]
  },
  {
   "cell_type": "code",
   "execution_count": 38,
   "id": "b5f5438d-311a-42de-a9e5-fe8fada94c44",
   "metadata": {},
   "outputs": [
    {
     "data": {
      "text/latex": [
       "$\\displaystyle \\left[\\begin{matrix}\\frac{9}{2} & - \\frac{5}{2}\\\\\\frac{15}{2} & - \\frac{11}{2}\\end{matrix}\\right]$"
      ],
      "text/plain": [
       "⎡9/2   -5/2 ⎤\n",
       "⎢           ⎥\n",
       "⎣15/2  -11/2⎦"
      ]
     },
     "execution_count": 38,
     "metadata": {},
     "output_type": "execute_result"
    }
   ],
   "source": [
    "M = niceEigs(2,-3)\n",
    "M"
   ]
  },
  {
   "cell_type": "code",
   "execution_count": 39,
   "id": "789250db-d1d0-4eb5-9e8c-a5c8433ece36",
   "metadata": {},
   "outputs": [
    {
     "data": {
      "text/latex": [
       "$\\displaystyle \\left[ \\left( -3, \\  1, \\  \\left[ \\left[\\begin{matrix}\\frac{1}{3}\\\\1\\end{matrix}\\right]\\right]\\right), \\  \\left( 2, \\  1, \\  \\left[ \\left[\\begin{matrix}1\\\\1\\end{matrix}\\right]\\right]\\right)\\right]$"
      ],
      "text/plain": [
       "⎡⎛       ⎡⎡1/3⎤⎤⎞  ⎛      ⎡⎡1⎤⎤⎞⎤\n",
       "⎢⎜-3, 1, ⎢⎢   ⎥⎥⎟, ⎜2, 1, ⎢⎢ ⎥⎥⎟⎥\n",
       "⎣⎝       ⎣⎣ 1 ⎦⎦⎠  ⎝      ⎣⎣1⎦⎦⎠⎦"
      ]
     },
     "execution_count": 39,
     "metadata": {},
     "output_type": "execute_result"
    }
   ],
   "source": [
    "M.eigenvects()"
   ]
  },
  {
   "cell_type": "code",
   "execution_count": 40,
   "id": "baf72e92-0425-490d-b4b7-f8e07a6574e4",
   "metadata": {},
   "outputs": [],
   "source": [
    "M = Matrix(2,2,[-2,3,0,5])"
   ]
  },
  {
   "cell_type": "code",
   "execution_count": 41,
   "id": "482987c6-d891-4bec-849e-1736e30e5c51",
   "metadata": {},
   "outputs": [
    {
     "data": {
      "text/latex": [
       "$\\displaystyle \\left[ \\left( -2, \\  1, \\  \\left[ \\left[\\begin{matrix}1\\\\0\\end{matrix}\\right]\\right]\\right), \\  \\left( 5, \\  1, \\  \\left[ \\left[\\begin{matrix}\\frac{3}{7}\\\\1\\end{matrix}\\right]\\right]\\right)\\right]$"
      ],
      "text/plain": [
       "⎡⎛       ⎡⎡1⎤⎤⎞  ⎛      ⎡⎡3/7⎤⎤⎞⎤\n",
       "⎢⎜-2, 1, ⎢⎢ ⎥⎥⎟, ⎜5, 1, ⎢⎢   ⎥⎥⎟⎥\n",
       "⎣⎝       ⎣⎣0⎦⎦⎠  ⎝      ⎣⎣ 1 ⎦⎦⎠⎦"
      ]
     },
     "execution_count": 41,
     "metadata": {},
     "output_type": "execute_result"
    }
   ],
   "source": [
    "M.eigenvects()"
   ]
  },
  {
   "cell_type": "code",
   "execution_count": 42,
   "id": "8032cc7d-8d9b-4f2c-8d81-37d4b69beb2a",
   "metadata": {},
   "outputs": [],
   "source": [
    "S = Matrix([[-1,-6], [1,0]])"
   ]
  },
  {
   "cell_type": "code",
   "execution_count": 44,
   "id": "1e420acb-0fea-4bfc-9706-7ca94b678a17",
   "metadata": {},
   "outputs": [
    {
     "data": {
      "text/latex": [
       "$\\displaystyle \\left[ \\left( - \\frac{1}{2} - \\frac{\\sqrt{23} i}{2}, \\  1, \\  \\left[ \\left[\\begin{matrix}- \\frac{1}{2} - \\frac{\\sqrt{23} i}{2}\\\\1\\end{matrix}\\right]\\right]\\right), \\  \\left( - \\frac{1}{2} + \\frac{\\sqrt{23} i}{2}, \\  1, \\  \\left[ \\left[\\begin{matrix}- \\frac{1}{2} + \\frac{\\sqrt{23} i}{2}\\\\1\\end{matrix}\\right]\\right]\\right)\\right]$"
      ],
      "text/plain": [
       "⎡⎛                ⎡⎡  1   √23⋅ⅈ⎤⎤⎞  ⎛                ⎡⎡  1   √23⋅ⅈ⎤⎤⎞⎤\n",
       "⎢⎜  1   √23⋅ⅈ     ⎢⎢- ─ - ─────⎥⎥⎟  ⎜  1   √23⋅ⅈ     ⎢⎢- ─ + ─────⎥⎥⎟⎥\n",
       "⎢⎜- ─ - ─────, 1, ⎢⎢  2     2  ⎥⎥⎟, ⎜- ─ + ─────, 1, ⎢⎢  2     2  ⎥⎥⎟⎥\n",
       "⎢⎜  2     2       ⎢⎢           ⎥⎥⎟  ⎜  2     2       ⎢⎢           ⎥⎥⎟⎥\n",
       "⎣⎝                ⎣⎣     1     ⎦⎦⎠  ⎝                ⎣⎣     1     ⎦⎦⎠⎦"
      ]
     },
     "execution_count": 44,
     "metadata": {},
     "output_type": "execute_result"
    }
   ],
   "source": [
    "S.eigenvects()"
   ]
  },
  {
   "cell_type": "code",
   "execution_count": null,
   "id": "ba2c0937-400d-41fe-b21f-787b80c4bc26",
   "metadata": {},
   "outputs": [],
   "source": []
  }
 ],
 "metadata": {
  "kernelspec": {
   "display_name": "Python 3 (ipykernel)",
   "language": "python",
   "name": "python3"
  },
  "language_info": {
   "codemirror_mode": {
    "name": "ipython",
    "version": 3
   },
   "file_extension": ".py",
   "mimetype": "text/x-python",
   "name": "python",
   "nbconvert_exporter": "python",
   "pygments_lexer": "ipython3",
   "version": "3.9.15"
  }
 },
 "nbformat": 4,
 "nbformat_minor": 5
}
