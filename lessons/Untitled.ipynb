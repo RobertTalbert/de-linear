{
 "cells": [
  {
   "cell_type": "code",
   "execution_count": 2,
   "id": "e7396f13",
   "metadata": {},
   "outputs": [],
   "source": [
    "from sympy import *\n",
    "init_printing()"
   ]
  },
  {
   "cell_type": "code",
   "execution_count": 3,
   "id": "46e69988-ecb1-4f67-8ce1-ea9d3e0479f2",
   "metadata": {},
   "outputs": [],
   "source": [
    "A = Matrix(2,4,[1, -3, 2, 0, -4, 1, 0, 0])"
   ]
  },
  {
   "cell_type": "code",
   "execution_count": 5,
   "id": "5364ce7f-3135-42fd-992c-3ef51f64e836",
   "metadata": {},
   "outputs": [
    {
     "data": {
      "text/latex": [
       "$\\displaystyle \\left[\\begin{matrix}1 & 0 & - \\frac{2}{11} & 0\\\\0 & 1 & - \\frac{8}{11} & 0\\end{matrix}\\right]$"
      ],
      "text/plain": [
       "⎡1  0  -2/11  0⎤\n",
       "⎢              ⎥\n",
       "⎣0  1  -8/11  0⎦"
      ]
     },
     "execution_count": 5,
     "metadata": {},
     "output_type": "execute_result"
    }
   ],
   "source": [
    "A.rref(pivots= False)"
   ]
  },
  {
   "cell_type": "markdown",
   "id": "e53d9da6-0956-42b3-84f5-7fb471f13d52",
   "metadata": {},
   "source": [
    "$$\\begin{align*}\n",
    "x_1 - 3x_2 + 2x_3 &= 0 \\\\\n",
    "-4x_1 + x_2 &= 0\n",
    "\\end{align*}$$\n"
   ]
  },
  {
   "cell_type": "code",
   "execution_count": null,
   "id": "1bf97b76-9a42-4bbd-b4cb-739e37d3e6dc",
   "metadata": {},
   "outputs": [],
   "source": []
  }
 ],
 "metadata": {
  "kernelspec": {
   "display_name": "Python 3 (ipykernel)",
   "language": "python",
   "name": "python3"
  },
  "language_info": {
   "codemirror_mode": {
    "name": "ipython",
    "version": 3
   },
   "file_extension": ".py",
   "mimetype": "text/x-python",
   "name": "python",
   "nbconvert_exporter": "python",
   "pygments_lexer": "ipython3",
   "version": "3.9.15"
  }
 },
 "nbformat": 4,
 "nbformat_minor": 5
}
