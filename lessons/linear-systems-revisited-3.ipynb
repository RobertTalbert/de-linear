{
 "cells": [
  {
   "cell_type": "markdown",
   "metadata": {
    "slideshow": {
     "slide_type": "slide"
    }
   },
   "source": [
    "### Linear systems revisited\n",
    "\n",
    "## Part 3: Another theorem to rule them all \n",
    "\n",
    "### MTH 302: Linear Algebra and Differential Equations"
   ]
  },
  {
   "cell_type": "markdown",
   "metadata": {
    "slideshow": {
     "slide_type": "slide"
    }
   },
   "source": [
    "## Everything comes back to linear systems\n",
    "\n",
    "![](system-connection.png)"
   ]
  },
  {
   "attachments": {},
   "cell_type": "markdown",
   "metadata": {
    "slideshow": {
     "slide_type": "slide"
    }
   },
   "source": [
    "## Theorem 1.5.1\n",
    "\n",
    "Let $\\mathbf{A}$ be an $m \\times n$ matrix. Let $\\mathbf{b}$ be a vector in $\\mathbb{R}^m$. So, $\\mathbf{Ax} = \\mathbf{b}$ represents a system of $m$ linear equations in $n$ variables. Then *the following are equivalent*: \n",
    "\n",
    "1. The system $\\mathbf{Ax} = \\mathbf{b}$ is consistent. \n",
    "2. The vector $\\mathbf{b}$ is a linear combination of the columns of $\\mathbf{A}$. \n",
    "3. The vector $\\mathbf{b}$ is in the span of the columns of $\\mathbf{A}$. \n",
    "4. When the augmented matrix $[\\mathbf{A} \\ \\mathbf{b}]$ is row-reduced, there are no rows where the first $n$ entries are zero but the last entry is nonzero. \n",
    "\n",
    "---\n",
    "\n",
    "$$\\mathbf{A} = \\begin{bmatrix} 2 & -1 \\\\ 1 & -1/2 \\end{bmatrix}$$\n",
    "\n",
    "The system $\\mathbf{Ax} = \\mathbf{b}$ is *sometimes* but *not always* consistent. \n",
    "\n",
    "Example: $\\mathbf{b} = [6 \\ 3]^T$ makes the system consistent..."
   ]
  },
  {
   "cell_type": "code",
   "execution_count": 1,
   "metadata": {
    "slideshow": {
     "slide_type": "-"
    }
   },
   "outputs": [
    {
     "data": {
      "text/latex": [
       "$\\displaystyle \\left[\\begin{matrix}1 & - \\frac{1}{2} & 3\\\\0 & 0 & 0\\end{matrix}\\right]$"
      ],
      "text/plain": [
       "⎡1  -1/2  3⎤\n",
       "⎢          ⎥\n",
       "⎣0   0    0⎦"
      ]
     },
     "execution_count": 1,
     "metadata": {},
     "output_type": "execute_result"
    }
   ],
   "source": [
    "from sympy import * \n",
    "init_printing()\n",
    "\n",
    "\n",
    "A = Matrix(2,3,[2,-1,6,1,-1/2,3])\n",
    "A.rref(pivots=False)"
   ]
  },
  {
   "attachments": {},
   "cell_type": "markdown",
   "metadata": {},
   "source": [
    "But not $[4 \\ 4]^T$"
   ]
  },
  {
   "cell_type": "code",
   "execution_count": 2,
   "metadata": {},
   "outputs": [
    {
     "data": {
      "text/latex": [
       "$\\displaystyle \\left[\\begin{matrix}1 & - \\frac{1}{2} & 0\\\\0 & 0 & 1\\end{matrix}\\right]$"
      ],
      "text/plain": [
       "⎡1  -1/2  0⎤\n",
       "⎢          ⎥\n",
       "⎣0   0    1⎦"
      ]
     },
     "execution_count": 2,
     "metadata": {},
     "output_type": "execute_result"
    }
   ],
   "source": [
    "A = Matrix(2,3,[2,-1,4,1,-1/2,4])\n",
    "A.rref(pivots=False)"
   ]
  },
  {
   "cell_type": "markdown",
   "metadata": {
    "slideshow": {
     "slide_type": "slide"
    }
   },
   "source": [
    "$$\\mathbf{A} = \\begin{bmatrix} 2 & -1 \\\\ 1 & -1/2 \\end{bmatrix}$$\n",
    "\n",
    "What vectors $\\mathbf{b}$ will make $\\mathbf{Ax} = \\mathbf{b}$ consistent? "
   ]
  },
  {
   "cell_type": "markdown",
   "metadata": {},
   "source": [
    "## Theorem 1.5.2\n",
    "\n",
    "Let $\\mathbf{A}$ be an $m \\times n$ matrix. Then *the following are equivalent*: \n",
    "\n",
    "1. The system $\\mathbf{Ax} = \\mathbf{b}$ is consistent for every $\\mathbf{b} \\in \\mathbb{R}^m$. \n",
    "2. Every vector $\\mathbf{b}$ is a linear combination of the columns of $\\mathbf{A}$. \n",
    "3. The span of the columns of $\\mathbf{A}$ is all of $\\mathbb{R}^m$. \n",
    "4. $\\mathbf{A}$ has a pivot position in every row. That is, when $\\mathbf{A}$ is row-reduced, there are no rows of all zeros. "
   ]
  },
  {
   "attachments": {},
   "cell_type": "markdown",
   "metadata": {},
   "source": [
    "Theorem 1.5.2 is like Theorem 1.5.1 but \n",
    "\n",
    "- Theorem 1.5.2 focuses more on the matrix $\\mathbf{A}$ be itself \n",
    "- Theorem 1.5.2 is asking when conditions hold *for all vectors* in $\\mathbb{R}^n$ rather than for a single one"
   ]
  },
  {
   "attachments": {},
   "cell_type": "markdown",
   "metadata": {},
   "source": [
    "## Example of use \n",
    "\n",
    "Generate a random $2 \\times 2$ matrix below. Do its columns span all of $\\mathbb{R}^2$? "
   ]
  },
  {
   "cell_type": "code",
   "execution_count": 3,
   "metadata": {},
   "outputs": [
    {
     "data": {
      "text/latex": [
       "$\\displaystyle \\left[\\begin{matrix}81 & -88\\\\46 & -51\\end{matrix}\\right]$"
      ],
      "text/plain": [
       "⎡81  -88⎤\n",
       "⎢       ⎥\n",
       "⎣46  -51⎦"
      ]
     },
     "execution_count": 3,
     "metadata": {},
     "output_type": "execute_result"
    }
   ],
   "source": [
    "A = randMatrix(2,2,-100,100)\n",
    "A"
   ]
  },
  {
   "cell_type": "code",
   "execution_count": 4,
   "metadata": {},
   "outputs": [
    {
     "data": {
      "text/latex": [
       "$\\displaystyle \\left[\\begin{matrix}1 & 0\\\\0 & 1\\end{matrix}\\right]$"
      ],
      "text/plain": [
       "⎡1  0⎤\n",
       "⎢    ⎥\n",
       "⎣0  1⎦"
      ]
     },
     "execution_count": 4,
     "metadata": {},
     "output_type": "execute_result"
    }
   ],
   "source": [
    "# Theorem 1.5.2 says we can answer this question about span using RREF\n",
    "A.rref(pivots = False)"
   ]
  },
  {
   "attachments": {},
   "cell_type": "markdown",
   "metadata": {},
   "source": [
    "## Example where we cannot visualize things\n",
    "\n",
    "Random $5 \\times 5$ . Do its columns span all of $\\mathbb{R}^5$?"
   ]
  },
  {
   "cell_type": "code",
   "execution_count": 5,
   "metadata": {},
   "outputs": [
    {
     "data": {
      "text/latex": [
       "$\\displaystyle \\left[\\begin{matrix}29 & -97 & -60 & 69 & -55\\\\-6 & -28 & 16 & -26 & -56\\\\71 & 25 & -32 & -10 & 20\\\\87 & 76 & -100 & 99 & -19\\\\-4 & 8 & -35 & -48 & 30\\end{matrix}\\right]$"
      ],
      "text/plain": [
       "⎡29  -97  -60   69   -55⎤\n",
       "⎢                       ⎥\n",
       "⎢-6  -28   16   -26  -56⎥\n",
       "⎢                       ⎥\n",
       "⎢71  25   -32   -10  20 ⎥\n",
       "⎢                       ⎥\n",
       "⎢87  76   -100  99   -19⎥\n",
       "⎢                       ⎥\n",
       "⎣-4   8   -35   -48  30 ⎦"
      ]
     },
     "execution_count": 5,
     "metadata": {},
     "output_type": "execute_result"
    }
   ],
   "source": [
    "B = randMatrix(5,5,-100,100)\n",
    "B"
   ]
  },
  {
   "cell_type": "code",
   "execution_count": 6,
   "metadata": {},
   "outputs": [
    {
     "data": {
      "text/latex": [
       "$\\displaystyle \\left[\\begin{matrix}1 & 0 & 0 & 0 & 0\\\\0 & 1 & 0 & 0 & 0\\\\0 & 0 & 1 & 0 & 0\\\\0 & 0 & 0 & 1 & 0\\\\0 & 0 & 0 & 0 & 1\\end{matrix}\\right]$"
      ],
      "text/plain": [
       "⎡1  0  0  0  0⎤\n",
       "⎢             ⎥\n",
       "⎢0  1  0  0  0⎥\n",
       "⎢             ⎥\n",
       "⎢0  0  1  0  0⎥\n",
       "⎢             ⎥\n",
       "⎢0  0  0  1  0⎥\n",
       "⎢             ⎥\n",
       "⎣0  0  0  0  1⎦"
      ]
     },
     "execution_count": 6,
     "metadata": {},
     "output_type": "execute_result"
    }
   ],
   "source": [
    "B.rref(pivots=False)"
   ]
  },
  {
   "attachments": {},
   "cell_type": "markdown",
   "metadata": {},
   "source": [
    "What about the columns of this random $5 \\times 7$ matrix? "
   ]
  },
  {
   "cell_type": "code",
   "execution_count": 7,
   "metadata": {},
   "outputs": [
    {
     "data": {
      "text/latex": [
       "$\\displaystyle \\left[\\begin{matrix}65 & 94 & 91 & 84 & 76 & -95 & 12\\\\80 & -55 & -45 & 0 & -59 & -6 & 95\\\\65 & -61 & -89 & 74 & -76 & -94 & -6\\\\1 & -85 & 25 & 76 & 31 & 35 & -50\\\\76 & 22 & -58 & 100 & 65 & -81 & 22\\end{matrix}\\right]$"
      ],
      "text/plain": [
       "⎡65  94   91   84   76   -95  12 ⎤\n",
       "⎢                                ⎥\n",
       "⎢80  -55  -45   0   -59  -6   95 ⎥\n",
       "⎢                                ⎥\n",
       "⎢65  -61  -89  74   -76  -94  -6 ⎥\n",
       "⎢                                ⎥\n",
       "⎢1   -85  25   76   31   35   -50⎥\n",
       "⎢                                ⎥\n",
       "⎣76  22   -58  100  65   -81  22 ⎦"
      ]
     },
     "execution_count": 7,
     "metadata": {},
     "output_type": "execute_result"
    }
   ],
   "source": [
    "C = randMatrix(5,7,-100,100)\n",
    "C"
   ]
  },
  {
   "cell_type": "code",
   "execution_count": 8,
   "metadata": {},
   "outputs": [
    {
     "data": {
      "text/latex": [
       "$\\displaystyle \\left[\\begin{matrix}1 & 0 & 0 & 0 & 0 & - \\frac{267674957}{8225436075} & \\frac{11045814679}{8225436075}\\\\0 & 1 & 0 & 0 & 0 & - \\frac{7735837723}{8225436075} & - \\frac{1471819444}{8225436075}\\\\0 & 0 & 1 & 0 & 0 & \\frac{1607045414}{8225436075} & - \\frac{173508133}{8225436075}\\\\0 & 0 & 0 & 1 & 0 & - \\frac{8023677973}{8225436075} & - \\frac{8466368569}{8225436075}\\\\0 & 0 & 0 & 0 & 1 & \\frac{86122633}{109672481} & \\frac{43165352}{109672481}\\end{matrix}\\right]$"
      ],
      "text/plain": [
       "⎡               -267674957    11045814679 ⎤\n",
       "⎢1  0  0  0  0  ───────────   ─────────── ⎥\n",
       "⎢                8225436075    8225436075 ⎥\n",
       "⎢                                         ⎥\n",
       "⎢               -7735837723   -1471819444 ⎥\n",
       "⎢0  1  0  0  0  ────────────  ────────────⎥\n",
       "⎢                8225436075    8225436075 ⎥\n",
       "⎢                                         ⎥\n",
       "⎢                1607045414   -173508133  ⎥\n",
       "⎢0  0  1  0  0   ──────────   ─────────── ⎥\n",
       "⎢                8225436075    8225436075 ⎥\n",
       "⎢                                         ⎥\n",
       "⎢               -8023677973   -8466368569 ⎥\n",
       "⎢0  0  0  1  0  ────────────  ────────────⎥\n",
       "⎢                8225436075    8225436075 ⎥\n",
       "⎢                                         ⎥\n",
       "⎢                 86122633      43165352  ⎥\n",
       "⎢0  0  0  0  1   ─────────     ─────────  ⎥\n",
       "⎣                109672481     109672481  ⎦"
      ]
     },
     "execution_count": 8,
     "metadata": {},
     "output_type": "execute_result"
    }
   ],
   "source": [
    "C.rref(pivots=False)"
   ]
  },
  {
   "attachments": {},
   "cell_type": "markdown",
   "metadata": {},
   "source": [
    "What about the columns of this random $5 \\times 3$ matrix? "
   ]
  },
  {
   "cell_type": "code",
   "execution_count": 11,
   "metadata": {},
   "outputs": [
    {
     "data": {
      "text/latex": [
       "$\\displaystyle \\left[\\begin{matrix}93 & 61 & -22\\\\99 & 33 & -66\\\\94 & 12 & -67\\\\87 & -40 & 66\\\\13 & -88 & 55\\end{matrix}\\right]$"
      ],
      "text/plain": [
       "⎡93  61   -22⎤\n",
       "⎢            ⎥\n",
       "⎢99  33   -66⎥\n",
       "⎢            ⎥\n",
       "⎢94  12   -67⎥\n",
       "⎢            ⎥\n",
       "⎢87  -40  66 ⎥\n",
       "⎢            ⎥\n",
       "⎣13  -88  55 ⎦"
      ]
     },
     "execution_count": 11,
     "metadata": {},
     "output_type": "execute_result"
    }
   ],
   "source": [
    "C = randMatrix(5,3,-100,100)\n",
    "C"
   ]
  },
  {
   "cell_type": "code",
   "execution_count": 12,
   "metadata": {},
   "outputs": [
    {
     "data": {
      "text/latex": [
       "$\\displaystyle \\left[\\begin{matrix}1 & 0 & 0\\\\0 & 1 & 0\\\\0 & 0 & 1\\\\0 & 0 & 0\\\\0 & 0 & 0\\end{matrix}\\right]$"
      ],
      "text/plain": [
       "⎡1  0  0⎤\n",
       "⎢       ⎥\n",
       "⎢0  1  0⎥\n",
       "⎢       ⎥\n",
       "⎢0  0  1⎥\n",
       "⎢       ⎥\n",
       "⎢0  0  0⎥\n",
       "⎢       ⎥\n",
       "⎣0  0  0⎦"
      ]
     },
     "execution_count": 12,
     "metadata": {},
     "output_type": "execute_result"
    }
   ],
   "source": [
    "C.rref(pivots=False)"
   ]
  },
  {
   "cell_type": "code",
   "execution_count": 30,
   "metadata": {},
   "outputs": [
    {
     "data": {
      "text/latex": [
       "$\\displaystyle \\left[\\begin{matrix}93 & 61 & -22 & 1\\\\99 & 33 & -66 & 1\\\\94 & 12 & -67 & 1\\\\87 & -40 & 66 & 1\\\\13 & -88 & 55 & 1\\end{matrix}\\right]$"
      ],
      "text/plain": [
       "⎡93  61   -22  1⎤\n",
       "⎢               ⎥\n",
       "⎢99  33   -66  1⎥\n",
       "⎢               ⎥\n",
       "⎢94  12   -67  1⎥\n",
       "⎢               ⎥\n",
       "⎢87  -40  66   1⎥\n",
       "⎢               ⎥\n",
       "⎣13  -88  55   1⎦"
      ]
     },
     "execution_count": 30,
     "metadata": {},
     "output_type": "execute_result"
    }
   ],
   "source": [
    "# A vector in R5 that is not a linear combination of the columns of the original\n",
    "\n",
    "v = Matrix([1,1,1,1,1])\n",
    "\n",
    "# This method inserts a column vector into position 3 \n",
    "M = C.col_insert(3, v)\n",
    "M"
   ]
  },
  {
   "cell_type": "code",
   "execution_count": 31,
   "metadata": {},
   "outputs": [
    {
     "data": {
      "text/latex": [
       "$\\displaystyle \\left[\\begin{matrix}1 & 0 & 0 & 0\\\\0 & 1 & 0 & 0\\\\0 & 0 & 1 & 0\\\\0 & 0 & 0 & 1\\\\0 & 0 & 0 & 0\\end{matrix}\\right]$"
      ],
      "text/plain": [
       "⎡1  0  0  0⎤\n",
       "⎢          ⎥\n",
       "⎢0  1  0  0⎥\n",
       "⎢          ⎥\n",
       "⎢0  0  1  0⎥\n",
       "⎢          ⎥\n",
       "⎢0  0  0  1⎥\n",
       "⎢          ⎥\n",
       "⎣0  0  0  0⎦"
      ]
     },
     "execution_count": 31,
     "metadata": {},
     "output_type": "execute_result"
    }
   ],
   "source": [
    "M.rref(pivots=False)"
   ]
  },
  {
   "attachments": {},
   "cell_type": "markdown",
   "metadata": {},
   "source": [
    "## Wrap up\n",
    "\n",
    "1. Theorem 1.5.1 gives four equivalent conditions for knowing when a system is consistent, when a given vector is a linear combination of a collection of vectors, and when a given vector is in the span of a collection of vectors. The focus is **specific individual ystems**. \n",
    "2. Theorem 1.5.2 gives four equivalent conditions for knowing when a a system is consistent *for all possible* solution vectors, when a collection of vectors spans *all of the space they are from*, and whether *every vector* is a linear combination of the others. The focus is on **global statements about what a collection of vectors can do**. "
   ]
  }
 ],
 "metadata": {
  "celltoolbar": "Slideshow",
  "kernelspec": {
   "display_name": "Python 3 (ipykernel)",
   "language": "python",
   "name": "python3"
  },
  "language_info": {
   "codemirror_mode": {
    "name": "ipython",
    "version": 3
   },
   "file_extension": ".py",
   "mimetype": "text/x-python",
   "name": "python",
   "nbconvert_exporter": "python",
   "pygments_lexer": "ipython3",
   "version": "3.9.15"
  },
  "vscode": {
   "interpreter": {
    "hash": "784cc7598c8dead48ccbe373380d278edc58654b6275e9517b5b2c0bab31845c"
   }
  }
 },
 "nbformat": 4,
 "nbformat_minor": 2
}
