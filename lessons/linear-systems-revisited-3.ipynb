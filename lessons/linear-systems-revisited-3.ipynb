{
 "cells": [
  {
   "cell_type": "markdown",
   "metadata": {
    "slideshow": {
     "slide_type": "slide"
    }
   },
   "source": [
    "### Linear systems revisited\n",
    "\n",
    "## Part 3: Another theorem to rule them all \n",
    "\n",
    "### MTH 302: Linear Algebra and Differential Equations"
   ]
  },
  {
   "cell_type": "markdown",
   "metadata": {
    "slideshow": {
     "slide_type": "slide"
    }
   },
   "source": [
    "## Everything comes back to linear systems\n",
    "\n",
    "![](system-connection.png)"
   ]
  },
  {
   "cell_type": "markdown",
   "metadata": {
    "slideshow": {
     "slide_type": "slide"
    }
   },
   "source": [
    "## Theorem 1.5.1\n",
    "\n",
    "Let $\\mathbf{A}$ be an $m \\times n$ matrix. Let $\\mathbf{b}$ be a vector in $\\mathbb{R}^m$. So, $\\mathbf{Ax} = \\mathbf{b}$ represents a system of $m$ linear equations in $n$ variables. Then *the following are equivalent*: \n",
    "\n",
    "1. The system $\\mathbf{Ax} = \\mathbf{b}$ is consistent. \n",
    "2. The vector $\\mathbf{b}$ is a linear combination of the columns of $\\mathbf{A}$. \n",
    "3. The vector $\\mathbf{b}$ is in the span of the columns of $\\mathbf{A}$. \n",
    "4. When the augmented matrix $[\\mathbf{A} \\ \\mathbf{b}]$ is row-reduced, there are no rows where the first $n$ entries are zero but the last entry is nonzero. \n"
   ]
  },
  {
   "cell_type": "markdown",
   "metadata": {
    "slideshow": {
     "slide_type": "slide"
    }
   },
   "source": [
    "$$\\mathbf{A} = \\begin{bmatrix} 2 & -1 \\\\ 1 & -1/2 \\end{bmatrix}$$\n",
    "\n",
    "The system $\\mathbf{Ax} = \\mathbf{b}$ is *sometimes* but *not always* consistent. \n",
    "\n",
    "Example: $\\mathbf{b} = [6 \\ 3]^T$ makes the system consistent:"
   ]
  },
  {
   "cell_type": "code",
   "execution_count": 1,
   "metadata": {
    "slideshow": {
     "slide_type": "fragment"
    }
   },
   "outputs": [
    {
     "data": {
      "text/latex": [
       "$\\displaystyle \\left[\\begin{matrix}1 & - \\frac{1}{2} & 3\\\\0 & 0 & 0\\end{matrix}\\right]$"
      ],
      "text/plain": [
       "⎡1  -1/2  3⎤\n",
       "⎢          ⎥\n",
       "⎣0   0    0⎦"
      ]
     },
     "execution_count": 1,
     "metadata": {},
     "output_type": "execute_result"
    }
   ],
   "source": [
    "from sympy import * \n",
    "init_printing()\n",
    "\n",
    "\n",
    "A = Matrix(2,3,[2,-1,6,1,-1/2,3])\n",
    "A.rref(pivots=False)"
   ]
  },
  {
   "cell_type": "markdown",
   "metadata": {
    "slideshow": {
     "slide_type": "slide"
    }
   },
   "source": [
    "$$\\mathbf{A} = \\begin{bmatrix} 2 & -1 \\\\ 1 & -1/2 \\end{bmatrix}$$\n",
    "\n",
    "The system $\\mathbf{Ax} = \\mathbf{b}$ is *sometimes* but *not always* consistent. \n",
    "\n",
    "$[4 \\ 4]^T$ makes the system inconsistent: "
   ]
  },
  {
   "cell_type": "code",
   "execution_count": 2,
   "metadata": {
    "slideshow": {
     "slide_type": "fragment"
    }
   },
   "outputs": [
    {
     "data": {
      "text/latex": [
       "$\\displaystyle \\left[\\begin{matrix}1 & - \\frac{1}{2} & 0\\\\0 & 0 & 1\\end{matrix}\\right]$"
      ],
      "text/plain": [
       "⎡1  -1/2  0⎤\n",
       "⎢          ⎥\n",
       "⎣0   0    1⎦"
      ]
     },
     "execution_count": 2,
     "metadata": {},
     "output_type": "execute_result"
    }
   ],
   "source": [
    "A = Matrix(2,3,[2,-1,4,1,-1/2,4])\n",
    "A.rref(pivots=False)"
   ]
  },
  {
   "cell_type": "markdown",
   "metadata": {
    "slideshow": {
     "slide_type": "slide"
    }
   },
   "source": [
    "$$\\mathbf{A} = \\begin{bmatrix} 2 & -1 \\\\ 1 & -1/2 \\end{bmatrix}$$\n",
    "\n",
    "What vectors $\\mathbf{b}$ will make $\\mathbf{Ax} = \\mathbf{b}$ consistent? "
   ]
  },
  {
   "cell_type": "markdown",
   "metadata": {
    "slideshow": {
     "slide_type": "slide"
    }
   },
   "source": [
    "## Theorem 1.5.2\n",
    "\n",
    "Let $\\mathbf{A}$ be an $m \\times n$ matrix. Then *the following are equivalent*: \n",
    "\n",
    "1. The system $\\mathbf{Ax} = \\mathbf{b}$ is consistent for every $\\mathbf{b} \\in \\mathbb{R}^m$. \n",
    "2. Every vector $\\mathbf{b}$ is a linear combination of the columns of $\\mathbf{A}$. \n",
    "3. The span of the columns of $\\mathbf{A}$ is all of $\\mathbb{R}^m$. \n",
    "4. $\\mathbf{A}$ has a pivot position in every row. That is, when $\\mathbf{A}$ is row-reduced, there are no rows of all zeros. "
   ]
  },
  {
   "cell_type": "markdown",
   "metadata": {
    "slideshow": {
     "slide_type": "fragment"
    }
   },
   "source": [
    "Theorem 1.5.2 is like Theorem 1.5.1 but \n",
    "\n",
    "- Theorem 1.5.2 focuses more on the matrix $\\mathbf{A}$ by itself \n",
    "- Theorem 1.5.2 is asking when conditions hold *for all vectors* in $\\mathbb{R}^n$ rather than for a single one"
   ]
  },
  {
   "cell_type": "markdown",
   "metadata": {
    "slideshow": {
     "slide_type": "slide"
    }
   },
   "source": [
    "## Example of use \n",
    "\n",
    "Generate a random $2 \\times 2$ matrix below. Do its columns span all of $\\mathbb{R}^2$? "
   ]
  },
  {
   "cell_type": "code",
   "execution_count": 3,
   "metadata": {
    "slideshow": {
     "slide_type": "fragment"
    }
   },
   "outputs": [
    {
     "data": {
      "text/latex": [
       "$\\displaystyle \\left[\\begin{matrix}-83 & 59\\\\93 & 74\\end{matrix}\\right]$"
      ],
      "text/plain": [
       "⎡-83  59⎤\n",
       "⎢       ⎥\n",
       "⎣93   74⎦"
      ]
     },
     "execution_count": 3,
     "metadata": {},
     "output_type": "execute_result"
    }
   ],
   "source": [
    "A = randMatrix(2,2,-100,100)\n",
    "A"
   ]
  },
  {
   "cell_type": "code",
   "execution_count": 4,
   "metadata": {
    "slideshow": {
     "slide_type": "fragment"
    }
   },
   "outputs": [
    {
     "data": {
      "text/latex": [
       "$\\displaystyle \\left[\\begin{matrix}1 & 0\\\\0 & 1\\end{matrix}\\right]$"
      ],
      "text/plain": [
       "⎡1  0⎤\n",
       "⎢    ⎥\n",
       "⎣0  1⎦"
      ]
     },
     "execution_count": 4,
     "metadata": {},
     "output_type": "execute_result"
    }
   ],
   "source": [
    "# Theorem 1.5.2 says we can answer this question about span using RREF\n",
    "A.rref(pivots = False)"
   ]
  },
  {
   "cell_type": "markdown",
   "metadata": {
    "slideshow": {
     "slide_type": "slide"
    }
   },
   "source": [
    "Why does Theorem 1.5.2 work? \n",
    "\n",
    "Pick some random vector and create the augmented matrix $[ \\mathbf{A} \\ \\mathbf{b}]$:"
   ]
  },
  {
   "cell_type": "code",
   "execution_count": 5,
   "metadata": {
    "slideshow": {
     "slide_type": "fragment"
    }
   },
   "outputs": [
    {
     "data": {
      "text/latex": [
       "$\\displaystyle \\left[\\begin{matrix}-83 & 59 & -2\\\\93 & 74 & -96\\end{matrix}\\right]$"
      ],
      "text/plain": [
       "⎡-83  59  -2 ⎤\n",
       "⎢            ⎥\n",
       "⎣93   74  -96⎦"
      ]
     },
     "execution_count": 5,
     "metadata": {},
     "output_type": "execute_result"
    }
   ],
   "source": [
    "b = randMatrix(2,1,-100,100)\n",
    "\n",
    "# col_insert sticks the vector b into A, in position \"2\" (start counting at 0)\n",
    "augmented = A.col_insert(2,b)\n",
    "augmented"
   ]
  },
  {
   "cell_type": "code",
   "execution_count": 6,
   "metadata": {
    "slideshow": {
     "slide_type": "fragment"
    }
   },
   "outputs": [
    {
     "data": {
      "text/latex": [
       "$\\displaystyle \\left[\\begin{matrix}1 & 0 & - \\frac{5516}{11629}\\\\0 & 1 & - \\frac{8154}{11629}\\end{matrix}\\right]$"
      ],
      "text/plain": [
       "⎡      -5516 ⎤\n",
       "⎢1  0  ──────⎥\n",
       "⎢      11629 ⎥\n",
       "⎢            ⎥\n",
       "⎢      -8154 ⎥\n",
       "⎢0  1  ──────⎥\n",
       "⎣      11629 ⎦"
      ]
     },
     "execution_count": 6,
     "metadata": {},
     "output_type": "execute_result"
    }
   ],
   "source": [
    "augmented.rref(pivots=False)"
   ]
  },
  {
   "cell_type": "markdown",
   "metadata": {
    "slideshow": {
     "slide_type": "slide"
    }
   },
   "source": [
    "## Example where we cannot visualize things\n",
    "\n",
    "Random $5 \\times 5$ . Do its columns span all of $\\mathbb{R}^5$?"
   ]
  },
  {
   "cell_type": "code",
   "execution_count": 7,
   "metadata": {
    "slideshow": {
     "slide_type": "fragment"
    }
   },
   "outputs": [
    {
     "data": {
      "text/latex": [
       "$\\displaystyle \\left[\\begin{matrix}37 & -100 & -10 & 54 & -23\\\\-27 & -50 & 83 & 83 & 63\\\\-100 & 7 & 15 & -82 & -40\\\\88 & -73 & -49 & 38 & -2\\\\13 & -88 & 9 & 58 & -92\\end{matrix}\\right]$"
      ],
      "text/plain": [
       "⎡ 37   -100  -10  54   -23⎤\n",
       "⎢                         ⎥\n",
       "⎢-27   -50   83   83   63 ⎥\n",
       "⎢                         ⎥\n",
       "⎢-100   7    15   -82  -40⎥\n",
       "⎢                         ⎥\n",
       "⎢ 88   -73   -49  38   -2 ⎥\n",
       "⎢                         ⎥\n",
       "⎣ 13   -88    9   58   -92⎦"
      ]
     },
     "execution_count": 7,
     "metadata": {},
     "output_type": "execute_result"
    }
   ],
   "source": [
    "B = randMatrix(5,5,-100,100)\n",
    "B"
   ]
  },
  {
   "cell_type": "code",
   "execution_count": 8,
   "metadata": {
    "slideshow": {
     "slide_type": "fragment"
    }
   },
   "outputs": [
    {
     "data": {
      "text/latex": [
       "$\\displaystyle \\left[\\begin{matrix}1 & 0 & 0 & 0 & 0\\\\0 & 1 & 0 & 0 & 0\\\\0 & 0 & 1 & 0 & 0\\\\0 & 0 & 0 & 1 & 0\\\\0 & 0 & 0 & 0 & 1\\end{matrix}\\right]$"
      ],
      "text/plain": [
       "⎡1  0  0  0  0⎤\n",
       "⎢             ⎥\n",
       "⎢0  1  0  0  0⎥\n",
       "⎢             ⎥\n",
       "⎢0  0  1  0  0⎥\n",
       "⎢             ⎥\n",
       "⎢0  0  0  1  0⎥\n",
       "⎢             ⎥\n",
       "⎣0  0  0  0  1⎦"
      ]
     },
     "execution_count": 8,
     "metadata": {},
     "output_type": "execute_result"
    }
   ],
   "source": [
    "B.rref(pivots=False)"
   ]
  },
  {
   "cell_type": "markdown",
   "metadata": {
    "slideshow": {
     "slide_type": "slide"
    }
   },
   "source": [
    "What about the columns of this random $5 \\times 7$ matrix? "
   ]
  },
  {
   "cell_type": "code",
   "execution_count": 9,
   "metadata": {
    "slideshow": {
     "slide_type": "-"
    }
   },
   "outputs": [
    {
     "data": {
      "text/latex": [
       "$\\displaystyle \\left[\\begin{matrix}91 & -91 & 24 & 11 & 62 & 98 & 68\\\\-21 & -37 & 34 & 43 & -72 & -25 & -46\\\\-9 & -87 & -62 & -55 & -79 & -64 & -80\\\\22 & 25 & 51 & 17 & 31 & 29 & -55\\\\18 & 72 & -90 & -77 & -28 & -5 & 3\\end{matrix}\\right]$"
      ],
      "text/plain": [
       "⎡91   -91  24   11   62   98   68 ⎤\n",
       "⎢                                 ⎥\n",
       "⎢-21  -37  34   43   -72  -25  -46⎥\n",
       "⎢                                 ⎥\n",
       "⎢-9   -87  -62  -55  -79  -64  -80⎥\n",
       "⎢                                 ⎥\n",
       "⎢22   25   51   17   31   29   -55⎥\n",
       "⎢                                 ⎥\n",
       "⎣18   72   -90  -77  -28  -5    3 ⎦"
      ]
     },
     "execution_count": 9,
     "metadata": {},
     "output_type": "execute_result"
    }
   ],
   "source": [
    "C = randMatrix(5,7,-100,100)\n",
    "C"
   ]
  },
  {
   "cell_type": "code",
   "execution_count": 10,
   "metadata": {
    "slideshow": {
     "slide_type": "fragment"
    }
   },
   "outputs": [
    {
     "data": {
      "text/latex": [
       "$\\displaystyle \\left[\\begin{matrix}1 & 0 & 0 & 0 & 0 & \\frac{3004367279}{2852130044} & \\frac{712935603}{1426065022}\\\\0 & 1 & 0 & 0 & 0 & \\frac{431561167}{2852130044} & \\frac{52877153}{1426065022}\\\\0 & 0 & 1 & 0 & 0 & - \\frac{1117676585}{2852130044} & - \\frac{4294319907}{1426065022}\\\\0 & 0 & 0 & 1 & 0 & \\frac{580964233}{713032511} & \\frac{2329775513}{713032511}\\\\0 & 0 & 0 & 0 & 1 & \\frac{376170967}{1426065022} & \\frac{715449347}{713032511}\\end{matrix}\\right]$"
      ],
      "text/plain": [
       "⎡                3004367279    712935603  ⎤\n",
       "⎢1  0  0  0  0   ──────────    ────────── ⎥\n",
       "⎢                2852130044    1426065022 ⎥\n",
       "⎢                                         ⎥\n",
       "⎢                431561167      52877153  ⎥\n",
       "⎢0  1  0  0  0   ──────────    ────────── ⎥\n",
       "⎢                2852130044    1426065022 ⎥\n",
       "⎢                                         ⎥\n",
       "⎢               -1117676585   -4294319907 ⎥\n",
       "⎢0  0  1  0  0  ────────────  ────────────⎥\n",
       "⎢                2852130044    1426065022 ⎥\n",
       "⎢                                         ⎥\n",
       "⎢                580964233     2329775513 ⎥\n",
       "⎢0  0  0  1  0   ─────────     ────────── ⎥\n",
       "⎢                713032511     713032511  ⎥\n",
       "⎢                                         ⎥\n",
       "⎢                376170967     715449347  ⎥\n",
       "⎢0  0  0  0  1   ──────────    ─────────  ⎥\n",
       "⎣                1426065022    713032511  ⎦"
      ]
     },
     "execution_count": 10,
     "metadata": {},
     "output_type": "execute_result"
    }
   ],
   "source": [
    "C.rref(pivots=False)"
   ]
  },
  {
   "cell_type": "markdown",
   "metadata": {
    "slideshow": {
     "slide_type": "slide"
    }
   },
   "source": [
    "What about the columns of this random $5 \\times 3$ matrix? "
   ]
  },
  {
   "cell_type": "code",
   "execution_count": 11,
   "metadata": {},
   "outputs": [
    {
     "data": {
      "text/latex": [
       "$\\displaystyle \\left[\\begin{matrix}89 & -96 & -59\\\\15 & -85 & 84\\\\36 & -29 & 13\\\\-82 & 88 & -61\\\\-66 & -64 & -70\\end{matrix}\\right]$"
      ],
      "text/plain": [
       "⎡89   -96  -59⎤\n",
       "⎢             ⎥\n",
       "⎢15   -85  84 ⎥\n",
       "⎢             ⎥\n",
       "⎢36   -29  13 ⎥\n",
       "⎢             ⎥\n",
       "⎢-82  88   -61⎥\n",
       "⎢             ⎥\n",
       "⎣-66  -64  -70⎦"
      ]
     },
     "execution_count": 11,
     "metadata": {},
     "output_type": "execute_result"
    }
   ],
   "source": [
    "C = randMatrix(5,3,-100,100)\n",
    "C"
   ]
  },
  {
   "cell_type": "code",
   "execution_count": 12,
   "metadata": {
    "slideshow": {
     "slide_type": "fragment"
    }
   },
   "outputs": [
    {
     "data": {
      "text/latex": [
       "$\\displaystyle \\left[\\begin{matrix}1 & 0 & 0\\\\0 & 1 & 0\\\\0 & 0 & 1\\\\0 & 0 & 0\\\\0 & 0 & 0\\end{matrix}\\right]$"
      ],
      "text/plain": [
       "⎡1  0  0⎤\n",
       "⎢       ⎥\n",
       "⎢0  1  0⎥\n",
       "⎢       ⎥\n",
       "⎢0  0  1⎥\n",
       "⎢       ⎥\n",
       "⎢0  0  0⎥\n",
       "⎢       ⎥\n",
       "⎣0  0  0⎦"
      ]
     },
     "execution_count": 12,
     "metadata": {},
     "output_type": "execute_result"
    }
   ],
   "source": [
    "C.rref(pivots=False)"
   ]
  },
  {
   "cell_type": "code",
   "execution_count": 13,
   "metadata": {
    "slideshow": {
     "slide_type": "slide"
    }
   },
   "outputs": [
    {
     "data": {
      "text/latex": [
       "$\\displaystyle \\left[\\begin{matrix}89 & -96 & -59 & 1\\\\15 & -85 & 84 & 1\\\\36 & -29 & 13 & 1\\\\-82 & 88 & -61 & 1\\\\-66 & -64 & -70 & 1\\end{matrix}\\right]$"
      ],
      "text/plain": [
       "⎡89   -96  -59  1⎤\n",
       "⎢                ⎥\n",
       "⎢15   -85  84   1⎥\n",
       "⎢                ⎥\n",
       "⎢36   -29  13   1⎥\n",
       "⎢                ⎥\n",
       "⎢-82  88   -61  1⎥\n",
       "⎢                ⎥\n",
       "⎣-66  -64  -70  1⎦"
      ]
     },
     "execution_count": 13,
     "metadata": {},
     "output_type": "execute_result"
    }
   ],
   "source": [
    "# A vector in R5 that is not a linear combination of the columns of the original\n",
    "\n",
    "v = Matrix([1,1,1,1,1])\n",
    "\n",
    "# This method inserts a column vector into position 3 \n",
    "M = C.col_insert(3, v)\n",
    "M"
   ]
  },
  {
   "cell_type": "code",
   "execution_count": 14,
   "metadata": {
    "slideshow": {
     "slide_type": "fragment"
    }
   },
   "outputs": [
    {
     "data": {
      "text/latex": [
       "$\\displaystyle \\left[\\begin{matrix}1 & 0 & 0 & 0\\\\0 & 1 & 0 & 0\\\\0 & 0 & 1 & 0\\\\0 & 0 & 0 & 1\\\\0 & 0 & 0 & 0\\end{matrix}\\right]$"
      ],
      "text/plain": [
       "⎡1  0  0  0⎤\n",
       "⎢          ⎥\n",
       "⎢0  1  0  0⎥\n",
       "⎢          ⎥\n",
       "⎢0  0  1  0⎥\n",
       "⎢          ⎥\n",
       "⎢0  0  0  1⎥\n",
       "⎢          ⎥\n",
       "⎣0  0  0  0⎦"
      ]
     },
     "execution_count": 14,
     "metadata": {},
     "output_type": "execute_result"
    }
   ],
   "source": [
    "M.rref(pivots=False)"
   ]
  },
  {
   "cell_type": "markdown",
   "metadata": {
    "slideshow": {
     "slide_type": "slide"
    }
   },
   "source": [
    "## Wrap up\n",
    "\n",
    "1. Theorem 1.5.1 gives four equivalent conditions for knowing when a system is consistent, when a given vector is a linear combination of a collection of vectors, and when a given vector is in the span of a collection of vectors. The focus is **specific individual ystems**. \n",
    "2. Theorem 1.5.2 gives four equivalent conditions for knowing when a a system is consistent *for all possible* solution vectors, when a collection of vectors spans *all of the space they are from*, and whether *every vector* is a linear combination of the others. The focus is on **global statements about what a collection of vectors can do**. "
   ]
  }
 ],
 "metadata": {
  "celltoolbar": "Slideshow",
  "kernelspec": {
   "display_name": "Python 3 (ipykernel)",
   "language": "python",
   "name": "python3"
  },
  "language_info": {
   "codemirror_mode": {
    "name": "ipython",
    "version": 3
   },
   "file_extension": ".py",
   "mimetype": "text/x-python",
   "name": "python",
   "nbconvert_exporter": "python",
   "pygments_lexer": "ipython3",
   "version": "3.9.15"
  },
  "vscode": {
   "interpreter": {
    "hash": "784cc7598c8dead48ccbe373380d278edc58654b6275e9517b5b2c0bab31845c"
   }
  }
 },
 "nbformat": 4,
 "nbformat_minor": 2
}
