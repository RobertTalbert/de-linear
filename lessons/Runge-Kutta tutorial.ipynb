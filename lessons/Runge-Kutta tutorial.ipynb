{
 "cells": [
  {
   "cell_type": "markdown",
   "id": "718e0e8b-e52f-42e2-95fb-1e206927e47c",
   "metadata": {},
   "source": [
    "# The Runge-Kutta Method\n",
    "\n",
    "This tutorial will teach you about the **Runge-Kutta** method (pronounced, RUNG-uh CUT-uh) for solving a differential equation numerically. This method, sometimes abbreviated RK, is considered the standard method for numerical solutions to both single DEs and systems of DEs. It provides high accuracy for relatively low cost, although there is more bookkeeping involved. \n",
    "\n",
    "## Review: Euler's Method\n",
    "\n",
    "Earlier, we learned *Euler's method* for numerical solutions to DEs. Suppose our DE is of the form $\\frac{dy}{dx} = f(x,y)$. For example, in the DE $\\frac{dy}{dx} = x^2 - y^2$, the \"$f(x,y)$\" is $x^2 - y^2$.) Then given an initial condition $(x_0, y_0)$ and a step size $h$, Euler's method proceeds this way: \n",
    "\n",
    "1. Compute the slope of the tangent line to $y$ at the initial point, that is, $f(x_0,y_0)$. \n",
    "2. Let $x_1 = x_0 + h$. This is the new/next $x$ value. \n",
    "3. Let $y_1 = y_0 + h f(x_0,y_0)$. Graphically, we move $h$ units along the tangent line starting from $y_0$ to arrive at the new/next $y$ value.\n",
    "4. Repeat steps 1-3 using the new/next $x$ and $y$ values until you have all the values you need. \n",
    "\n",
    "Conceptually: Euler's Method uses the slope $dy/dx$ at a point to project forward from that point to the next point. \n",
    "\n",
    "## Runge-Kutta\n",
    "\n",
    "The RK method also uses slopes to project forward from one point to the next. The big difference is that RK actually uses *four different* slopes calculated using the differential equation, all combined into a weighted average of slopes, and that weighted average is used to project forward. \n",
    "\n",
    "Be warned: There are a lot of intermediate variables involved in the Runge-Kutta method. It provides a great deal of accuracy for a relatively low cost in computation. But we have to do quite a bit of bookkeeping. \n",
    "\n",
    "We start the method with the usual ingredients: \n",
    "\n",
    "- A differential equation, $\\dfrac{dy}{dt} = f(t,y)$\n",
    "- An initial point, $(t_0, y_0)$\n",
    "- A step size, $h$\n",
    "\n",
    "### First slope: $m_0$\n",
    "\n",
    "This part is simple: The first slope is just the slope at the initial point: \n",
    "$$m_0 = f(t_0, y_0)$$\n",
    "\n",
    "### Second slope: $n_0$ \n",
    "\n",
    "To find the next slope to use, denoted $n_0$: \n",
    "\n",
    "1. Let $\\tilde{t} = t_0 + \\frac{h}{2}$. That is, $\\tilde{t}$ is one *half* of a step forward along the $t$-axis.\n",
    "2. Let $\\tilde{y} = y_0 + m_0 \\frac{h}{2}$. That is, $\\tilde{y}_0$ is found by starting at the initial point and moving up the tangent line at this point *one half* of a step -- like Euler's method but only half a step. \n",
    "3. The slope $n_0$ is the slope at that point, $n_0 = f(\\tilde{t}, \\tilde{y}_0)$. \n",
    "\n",
    "### Third slope: $q_0$\n",
    "\n",
    "Go back to the initial point $(t_0, y_0)$. \n",
    "\n",
    "1. As with $n_0$, let $\\tilde{t} = t_0 + \\frac{h}{2}$.\n",
    "2. Let $\\hat{y}_0 = y_0 + n_0 \\frac{h}{2}$. That is, get $\\hat{y}$ by starting at the initial point and moving along the tangent line *but using the slope from the second step instead*. \n",
    "3. The slope $q_0$ is the slope at that point, $q_0 = f(\\tilde{t}, \\hat{y}_0)$.\n",
    "\n",
    "### Fourth slope: $p_0$\n",
    "\n",
    "Go back to the initial point $(t_0, y_0)$. \n",
    "\n",
    "1. This time go a full step forward on the $t$-axis: $t_1 = t_0 + h$. \n",
    "2. And from the initial point $(t_0, y_0)$, find the line through this point *that uses the slope from step 3*, $q_0$, and move *one full step* in this direction. Since you are moving one full step, you will end at $t_1 = t_0 + h$, and the $y$ value will be $\\bar{y}_0 = y_0 + q_0h$. \n",
    "3. The slope $p_0$ is the slope at that point, $p_0 = f(t_1, \\bar{y}_0)$. \n",
    "\n",
    "### Putting it together \n",
    "\n",
    "So now we have four slopes: One of these ($m_0$) is calculated right at the initial point. Two of them ($n_0$ and $q_0$) are calculated a half step away from the initial point. The fourth ($p_0$) is calculated one full step away. We next **form a weighted average of these four slopes that counts $n_0$ and $q_0$ twice**: \n",
    "\n",
    "$$\\frac{m_0 + 2n_0 + 2q_0 + p_0}{6}$$\n",
    "\n",
    "And finally, to find the next point in the approximate solution, we set $t_1 = t_0 + h$; and for the $y_1$, compute: \n",
    "\n",
    "$$y_1 = y_0 + \\left( \\frac{m_0 + 2n_0 + 2q_0 + p_0}{6} \\right) h$$\n",
    "\n",
    "### Moving forward\n",
    "\n",
    "The above process shows you how to get from the initial point $(t_0, y_0)$ to the next point $(t_1, y_1)$. To get from $(t_1, y_1)$ to the *next* point $(t_2, y_2)$, just repeat the whole process with the new \"initial point\" being $(t_1, y_1)$. Then keep the process rolling until you have all the values you want. \n",
    "\n",
    "---\n",
    "\n",
    "## Example\n",
    "\n",
    "Here is a brief example that shows the Runge-Kutta process using the differential equation $\\dfrac{dy}{dt}= -2t^2y$ with an initial condition $y(0) = 1$ and a step size of $h = 0.1$. We'll go through two complete iterations to show how all this works. \n",
    "\n",
    "The initial condition is the first point in the solution, $t_0 = 0$ and $y_0 = 1$. The next $t$-value is just going to be $t_1 = 0.1$ because that's one step along the $t$-axis. The question is what the next $y$ value is going to be. \n",
    "\n",
    "We'll do the calculations here using Python. Note, each code cell prints the result of the calculation back; this isn't necessary, it's only there so you can see what we just computed. \n",
    "\n",
    "First, calculate $m_0$:"
   ]
  },
  {
   "cell_type": "code",
   "execution_count": 1,
   "id": "a9a9090e-b2d9-406e-accb-62858ff99592",
   "metadata": {},
   "outputs": [
    {
     "name": "stdout",
     "output_type": "stream",
     "text": [
      "0\n"
     ]
    }
   ],
   "source": [
    "m0 = -2*0*1**2 \n",
    "print(m0)"
   ]
  },
  {
   "cell_type": "markdown",
   "id": "812e9008-fe8e-4c82-b803-bce120bfacd8",
   "metadata": {},
   "source": [
    "Now $n_0$: "
   ]
  },
  {
   "cell_type": "code",
   "execution_count": 2,
   "id": "8d61a159-29c3-4f25-8e17-0b05f5fba325",
   "metadata": {},
   "outputs": [
    {
     "name": "stdout",
     "output_type": "stream",
     "text": [
      "0.05 1.0\n"
     ]
    }
   ],
   "source": [
    "# t-tilde is half a step along the t-axis\n",
    "t_tilde = 0 + 0.1/2  \n",
    "\n",
    "# y-tilde goes up the tangent line half a step \n",
    "y_tilde = 1 + m0 * 0.1/2\n",
    "print(t_tilde, y_tilde) "
   ]
  },
  {
   "cell_type": "code",
   "execution_count": 3,
   "id": "b76af6a1-50d4-4e8b-8775-1032986e55e1",
   "metadata": {},
   "outputs": [
    {
     "name": "stdout",
     "output_type": "stream",
     "text": [
      "-0.1\n"
     ]
    }
   ],
   "source": [
    "# Now get the slope there\n",
    "n0 = -2 * t_tilde * y_tilde**2\n",
    "print(n0)"
   ]
  },
  {
   "cell_type": "markdown",
   "id": "e52a5999-dbcc-4d95-bdf3-a9c994c22875",
   "metadata": {},
   "source": [
    "Now $q_0$: "
   ]
  },
  {
   "cell_type": "code",
   "execution_count": 4,
   "id": "5eb8b3da-6c28-4bb8-8b15-92aeb27bd12c",
   "metadata": {},
   "outputs": [
    {
     "name": "stdout",
     "output_type": "stream",
     "text": [
      "0.995\n"
     ]
    }
   ],
   "source": [
    "# t-tilde is the same as before\n",
    "# y-hat is half a step along the tangent line with slope n0: \n",
    "y_hat = 1 + n0 * 0.1/2\n",
    "print(y_hat)"
   ]
  },
  {
   "cell_type": "code",
   "execution_count": 5,
   "id": "045285d7-0b8e-47aa-8319-7b25b00978b8",
   "metadata": {},
   "outputs": [
    {
     "name": "stdout",
     "output_type": "stream",
     "text": [
      "-0.09900250000000001\n"
     ]
    }
   ],
   "source": [
    "# Get the slope there\n",
    "q0 = -2 * t_tilde * y_hat**2\n",
    "print(q0)"
   ]
  },
  {
   "cell_type": "markdown",
   "id": "73dcf28d-bde2-4785-bd05-09ea96554414",
   "metadata": {},
   "source": [
    "Finally $p_0$: "
   ]
  },
  {
   "cell_type": "code",
   "execution_count": 6,
   "id": "2ac09ffe-c2e9-4451-a267-cc9930d371da",
   "metadata": {},
   "outputs": [
    {
     "name": "stdout",
     "output_type": "stream",
     "text": [
      "0.99009975\n"
     ]
    }
   ],
   "source": [
    "y_bar = 1 + q0 * 0.1  # This one goes a full step \n",
    "print(y_bar)"
   ]
  },
  {
   "cell_type": "code",
   "execution_count": 7,
   "id": "12baf432-7767-4e8c-803c-4d8f6bb60bf0",
   "metadata": {},
   "outputs": [
    {
     "name": "stdout",
     "output_type": "stream",
     "text": [
      "-0.19605950299001249\n"
     ]
    }
   ],
   "source": [
    "# And get the slope\n",
    "p0 = -2 * 0.1 * y_bar**2  # Again, go a full step this time\n",
    "print(p0)"
   ]
  },
  {
   "cell_type": "markdown",
   "id": "95067f6d-a61b-4e2f-bbd4-418b706aeb59",
   "metadata": {},
   "source": [
    "Now we compute the weighted average: "
   ]
  },
  {
   "cell_type": "code",
   "execution_count": 8,
   "id": "a13b87e5-6765-484f-aee5-66978b1183d2",
   "metadata": {},
   "outputs": [
    {
     "data": {
      "text/plain": [
       "-0.09901075049833542"
      ]
     },
     "execution_count": 8,
     "metadata": {},
     "output_type": "execute_result"
    }
   ],
   "source": [
    "avg_slope = (m0 + 2*n0 + 2*q0 + p0)/6\n",
    "avg_slope"
   ]
  },
  {
   "cell_type": "markdown",
   "id": "5793297e-f94b-415f-889d-81fdedd473b3",
   "metadata": {},
   "source": [
    "And with this, we're finally ready to get $y_1$: "
   ]
  },
  {
   "cell_type": "code",
   "execution_count": 9,
   "id": "cbf0e148-1446-4638-81cc-cb6312c195bc",
   "metadata": {},
   "outputs": [
    {
     "name": "stdout",
     "output_type": "stream",
     "text": [
      "0.9900989249501665\n"
     ]
    }
   ],
   "source": [
    "y1 = 1 + 0.1*avg_slope\n",
    "print(y1)"
   ]
  },
  {
   "cell_type": "markdown",
   "id": "d2437c31-101f-4653-b02e-18d58970d170",
   "metadata": {},
   "source": [
    "So, the first predicted value in the solution is $t_1 = 0.1$, $y_1 = 0.990989249501665$. \n",
    "\n",
    "Now let's run through this one more time. This round, all calculations will be done in a single code block below and the results printed out at the end. Work along with this by hand to see if you understand the process. "
   ]
  },
  {
   "cell_type": "code",
   "execution_count": 10,
   "id": "9954bcb8-c428-43cb-80fa-d34328b8adad",
   "metadata": {},
   "outputs": [
    {
     "name": "stdout",
     "output_type": "stream",
     "text": [
      "The new values of t and y are: 0.2 0.961538143658087\n"
     ]
    }
   ],
   "source": [
    "t1 = 0.1\n",
    "y1 = 0.9900989249501665\n",
    "h = 0.1 \n",
    "\n",
    "# A quick custom function in Python to compute the slope\n",
    "def dydt(t,y): \n",
    "    return -2*t*y**2\n",
    "\n",
    "# First slope m1\n",
    "m1 = dydt(t1, y1)\n",
    "\n",
    "# Second slope n1\n",
    "t_tilde = t1 + h/2 \n",
    "y_tilde = y1 + m1 * h/2\n",
    "n1 = dydt(t_tilde, y_tilde) \n",
    "\n",
    "# Third slope q1 \n",
    "y_hat = y1 + n1 * h/2 \n",
    "q1 = dydt(t_tilde, y_hat) \n",
    "\n",
    "# Fourth slope p1 \n",
    "t2 = t1 + h\n",
    "y_bar = y1 + q1 * h \n",
    "p1 = dydt(t2, y_bar) \n",
    "\n",
    "# Weighted average\n",
    "avg = (m1 + 2*n1 + 2*q1 + p1)/6\n",
    "y2 = y1 + avg * h \n",
    "\n",
    "print(\"The new values of t and y are:\", t2, y2) "
   ]
  },
  {
   "cell_type": "markdown",
   "id": "0b6542d7-2ecb-4122-b32c-e8108360a4e5",
   "metadata": {},
   "source": [
    "Finally: Notice that you *could* solve this DE algebraically because it is a separable equation. If you do, and solve for the initial condition, you get \n",
    "$$y(t) = \\frac{1}{t^2 + 1}$$\n",
    "Using this algebraic solution, we would get the values: \n",
    "\n",
    "$$\\begin{align*}\n",
    "y(0.1) &= \\frac{1}{(0.1)^2 + 1} \\approx 0.99009900990099 \\\\ \n",
    "y(0.2) &= \\frac{1}{(0.2)^2 + 1} \\approx 0.9615384615384615 \n",
    "\\end{align*}\n",
    "$$\n",
    "\n",
    "The values given by Runge-Kutta are really, really close to these -- an error of only $3.3 \\times 10^{-5}$ percent in the estimate for $y(0.2)$. By contrast, if you use Euler's method with the same step size, you get $y(0.1) = 1$ and $y(0.2) \\approx 0.98$ which is much further off. \n"
   ]
  },
  {
   "cell_type": "code",
   "execution_count": null,
   "id": "04d0e8a6-1f6b-42d8-a2cf-0bd45b65c27c",
   "metadata": {},
   "outputs": [],
   "source": []
  }
 ],
 "metadata": {
  "kernelspec": {
   "display_name": "Python 3 (ipykernel)",
   "language": "python",
   "name": "python3"
  },
  "language_info": {
   "codemirror_mode": {
    "name": "ipython",
    "version": 3
   },
   "file_extension": ".py",
   "mimetype": "text/x-python",
   "name": "python",
   "nbconvert_exporter": "python",
   "pygments_lexer": "ipython3",
   "version": "3.9.12"
  }
 },
 "nbformat": 4,
 "nbformat_minor": 5
}
