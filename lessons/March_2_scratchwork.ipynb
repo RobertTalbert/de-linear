{
  "nbformat": 4,
  "nbformat_minor": 0,
  "metadata": {
    "colab": {
      "provenance": [],
      "authorship_tag": "ABX9TyOCV3aBao3imCLFhinle5kv",
      "include_colab_link": true
    },
    "kernelspec": {
      "name": "python3",
      "display_name": "Python 3"
    },
    "language_info": {
      "name": "python"
    }
  },
  "cells": [
    {
      "cell_type": "markdown",
      "metadata": {
        "id": "view-in-github",
        "colab_type": "text"
      },
      "source": [
        "<a href=\"https://colab.research.google.com/github/RobertTalbert/linalg-diffeq/blob/main/lessons/March_2_scratchwork.ipynb\" target=\"_parent\"><img src=\"https://colab.research.google.com/assets/colab-badge.svg\" alt=\"Open In Colab\"/></a>"
      ]
    },
    {
      "cell_type": "code",
      "execution_count": 1,
      "metadata": {
        "id": "mowu41Oj5c_n"
      },
      "outputs": [],
      "source": [
        "from sympy import *\n",
        "init_printing()"
      ]
    },
    {
      "cell_type": "code",
      "source": [
        "M = Matrix(2,2,[0.02, -0.03, -0.04, 0.05])\n",
        "M"
      ],
      "metadata": {
        "colab": {
          "base_uri": "https://localhost:8080/",
          "height": 58
        },
        "id": "tHp6tSswDWp3",
        "outputId": "0e93b75d-b424-4499-b468-625285a882e0"
      },
      "execution_count": 27,
      "outputs": [
        {
          "output_type": "execute_result",
          "data": {
            "text/plain": [
              "⎡0.02   -0.03⎤\n",
              "⎢            ⎥\n",
              "⎣-0.04  0.05 ⎦"
            ],
            "text/latex": "$\\displaystyle \\left[\\begin{matrix}0.02 & -0.03\\\\-0.04 & 0.05\\end{matrix}\\right]$"
          },
          "metadata": {},
          "execution_count": 27
        }
      ]
    },
    {
      "cell_type": "code",
      "source": [
        "M.eigenvects()"
      ],
      "metadata": {
        "colab": {
          "base_uri": "https://localhost:8080/",
          "height": 58
        },
        "id": "sSirq84qTiDA",
        "outputId": "6b4ff3e3-ba65-4357-c226-b26a6d30f10d"
      },
      "execution_count": 28,
      "outputs": [
        {
          "output_type": "execute_result",
          "data": {
            "text/plain": [
              "⎡⎛                         ⎡⎡-0.796812092815491⎤⎤⎞  ⎛                       ⎡⎡\n",
              "⎢⎜-0.00274917217635375, 1, ⎢⎢                  ⎥⎥⎟, ⎜0.0727491721763538, 1, ⎢⎢\n",
              "⎣⎝                         ⎣⎣-0.604227183055345⎦⎦⎠  ⎝                       ⎣⎣\n",
              "\n",
              "0.498686843111862 ⎤⎤⎞⎤\n",
              "                  ⎥⎥⎟⎥\n",
              "-0.876843938312998⎦⎦⎠⎦"
            ],
            "text/latex": "$\\displaystyle \\left[ \\left( -0.00274917217635375, \\  1, \\  \\left[ \\left[\\begin{matrix}-0.796812092815491\\\\-0.604227183055345\\end{matrix}\\right]\\right]\\right), \\  \\left( 0.0727491721763538, \\  1, \\  \\left[ \\left[\\begin{matrix}0.498686843111862\\\\-0.876843938312998\\end{matrix}\\right]\\right]\\right)\\right]$"
          },
          "metadata": {},
          "execution_count": 28
        }
      ]
    },
    {
      "cell_type": "code",
      "source": [
        "Lambda1 = M.eigenvects()[0][0]\n",
        "Lambda2 = M.eigenvects()[1][0]\n",
        "v1 = M.eigenvects()[0][2][0]\n",
        "v2 = M.eigenvects()[1][2][0]\n",
        "(Lambda1, Lambda2, v1, v2)"
      ],
      "metadata": {
        "colab": {
          "base_uri": "https://localhost:8080/",
          "height": 58
        },
        "id": "ARxkPK1oTnFl",
        "outputId": "f0ea1c06-812d-4fa8-97a6-42536fc4ceb0"
      },
      "execution_count": 30,
      "outputs": [
        {
          "output_type": "execute_result",
          "data": {
            "text/plain": [
              "⎛                                          ⎡-0.796812092815491⎤  ⎡0.4986868431\n",
              "⎜-0.00274917217635375, 0.0727491721763538, ⎢                  ⎥, ⎢            \n",
              "⎝                                          ⎣-0.604227183055345⎦  ⎣-0.876843938\n",
              "\n",
              "11862 ⎤⎞\n",
              "      ⎥⎟\n",
              "312998⎦⎠"
            ],
            "text/latex": "$\\displaystyle \\left( -0.00274917217635375, \\  0.0727491721763538, \\  \\left[\\begin{matrix}-0.796812092815491\\\\-0.604227183055345\\end{matrix}\\right], \\  \\left[\\begin{matrix}0.498686843111862\\\\-0.876843938312998\\end{matrix}\\right]\\right)$"
          },
          "metadata": {},
          "execution_count": 30
        }
      ]
    },
    {
      "cell_type": "code",
      "source": [
        "t = var(\"t\")\n",
        "v = exp(Lambda1*t)*v1\n",
        "v"
      ],
      "metadata": {
        "colab": {
          "base_uri": "https://localhost:8080/",
          "height": 58
        },
        "id": "6-VPhbHBUmx6",
        "outputId": "e1d185de-ffb7-4dbf-a724-a19966bf3797"
      },
      "execution_count": 35,
      "outputs": [
        {
          "output_type": "execute_result",
          "data": {
            "text/plain": [
              "⎡                    -0.00274917217635375⋅t⎤\n",
              "⎢-0.796812092815491⋅ℯ                      ⎥\n",
              "⎢                                          ⎥\n",
              "⎢                    -0.00274917217635375⋅t⎥\n",
              "⎣-0.604227183055345⋅ℯ                      ⎦"
            ],
            "text/latex": "$\\displaystyle \\left[\\begin{matrix}- 0.796812092815491 e^{- 0.00274917217635375 t}\\\\- 0.604227183055345 e^{- 0.00274917217635375 t}\\end{matrix}\\right]$"
          },
          "metadata": {},
          "execution_count": 35
        }
      ]
    },
    {
      "cell_type": "code",
      "source": [
        "C = v[0]\n",
        "W = v[1]\n",
        "(C,W)"
      ],
      "metadata": {
        "colab": {
          "base_uri": "https://localhost:8080/",
          "height": 38
        },
        "id": "saOKYQuFXANX",
        "outputId": "37d26971-7893-4b01-ce3c-bc4ca728a086"
      },
      "execution_count": 36,
      "outputs": [
        {
          "output_type": "execute_result",
          "data": {
            "text/plain": [
              "⎛                    -0.00274917217635375⋅t                      -0.0027491721\n",
              "⎝-0.796812092815491⋅ℯ                      , -0.604227183055345⋅ℯ             \n",
              "\n",
              "7635375⋅t⎞\n",
              "         ⎠"
            ],
            "image/png": "[encoded data removed]",
            "text/latex": "$\\displaystyle \\left( - 0.796812092815491 e^{- 0.00274917217635375 t}, \\  - 0.604227183055345 e^{- 0.00274917217635375 t}\\right)$"
          },
          "metadata": {},
          "execution_count": 36
        }
      ]
    },
    {
      "cell_type": "code",
      "source": [
        "diff(W,t)"
      ],
      "metadata": {
        "colab": {
          "base_uri": "https://localhost:8080/",
          "height": 38
        },
        "id": "Yvz56sRXXN0B",
        "outputId": "cfe1b134-c0a7-4ab9-a4a6-9c4297664481"
      },
      "execution_count": 39,
      "outputs": [
        {
          "output_type": "execute_result",
          "data": {
            "text/plain": [
              "                     -0.00274917217635375⋅t\n",
              "0.00166112455985236⋅ℯ                      "
            ],
            "image/png": "[encoded data removed]",
            "text/latex": "$\\displaystyle 0.00166112455985236 e^{- 0.00274917217635375 t}$"
          },
          "metadata": {},
          "execution_count": 39
        }
      ]
    },
    {
      "cell_type": "code",
      "source": [
        "-.04*C + .05*W"
      ],
      "metadata": {
        "colab": {
          "base_uri": "https://localhost:8080/",
          "height": 38
        },
        "id": "w8PnuTEgXSHg",
        "outputId": "19ab267a-8684-494b-eaac-c8250488e685"
      },
      "execution_count": 40,
      "outputs": [
        {
          "output_type": "execute_result",
          "data": {
            "text/plain": [
              "                     -0.00274917217635375⋅t\n",
              "0.00166112455985236⋅ℯ                      "
            ],
            "image/png": "[encoded data removed]",
            "text/latex": "$\\displaystyle 0.00166112455985236 e^{- 0.00274917217635375 t}$"
          },
          "metadata": {},
          "execution_count": 40
        }
      ]
    },
    {
      "cell_type": "code",
      "source": [
        "plot_parametric((C,W), (t, 0, 1000000))"
      ],
      "metadata": {
        "colab": {
          "base_uri": "https://localhost:8080/",
          "height": 371
        },
        "id": "n_jjk8TCX7AF",
        "outputId": "826ed6b2-c9b3-4161-f81a-60f512e2e879"
      },
      "execution_count": 44,
      "outputs": [
        {
          "output_type": "stream",
          "name": "stderr",
          "text": [
            "/usr/local/lib/python3.8/dist-packages/sympy/plotting/plot.py:1486: RuntimeWarning: invalid value encountered in double_scalars\n",
            "  cos_theta = dot_product / (vector_a_norm * vector_b_norm)\n"
          ]
        },
        {
          "output_type": "display_data",
          "data": {
            "text/plain": [
              "<Figure size 432x288 with 1 Axes>"
            ],
            "image/png": "[encoded data removed]"
          },
          "metadata": {
            "needs_background": "light"
          }
        },
        {
          "output_type": "execute_result",
          "data": {
            "text/plain": [
              "<sympy.plotting.plot.Plot at 0x7fc69c950280>"
            ]
          },
          "metadata": {},
          "execution_count": 44
        }
      ]
    },
    {
      "cell_type": "code",
      "source": [
        "M = Matrix(2,2,[-1,-6,1,0])\n",
        "M"
      ],
      "metadata": {
        "colab": {
          "base_uri": "https://localhost:8080/",
          "height": 58
        },
        "id": "q4OHU17mYHwF",
        "outputId": "0f112bc7-0b5e-4efa-df3e-3b6b243fb797"
      },
      "execution_count": 45,
      "outputs": [
        {
          "output_type": "execute_result",
          "data": {
            "text/plain": [
              "⎡-1  -6⎤\n",
              "⎢      ⎥\n",
              "⎣1   0 ⎦"
            ],
            "text/latex": "$\\displaystyle \\left[\\begin{matrix}-1 & -6\\\\1 & 0\\end{matrix}\\right]$"
          },
          "metadata": {},
          "execution_count": 45
        }
      ]
    },
    {
      "cell_type": "code",
      "source": [
        "M.eigenvals()"
      ],
      "metadata": {
        "colab": {
          "base_uri": "https://localhost:8080/",
          "height": 68
        },
        "id": "E8LcBezSbVht",
        "outputId": "3f79fa9f-d31f-49d5-922c-e90dc04be097"
      },
      "execution_count": 47,
      "outputs": [
        {
          "output_type": "execute_result",
          "data": {
            "text/plain": [
              "⎧  1   √23⋅ⅈ       1   √23⋅ⅈ   ⎫\n",
              "⎨- ─ - ─────: 1, - ─ + ─────: 1⎬\n",
              "⎩  2     2         2     2     ⎭"
            ],
            "image/png": "[encoded data removed]",
            "text/latex": "$\\displaystyle \\left\\{ - \\frac{1}{2} - \\frac{\\sqrt{23} i}{2} : 1, \\  - \\frac{1}{2} + \\frac{\\sqrt{23} i}{2} : 1\\right\\}$"
          },
          "metadata": {},
          "execution_count": 47
        }
      ]
    },
    {
      "cell_type": "code",
      "source": [],
      "metadata": {
        "id": "XA5EL4qqbaC7"
      },
      "execution_count": null,
      "outputs": []
    }
  ]
}