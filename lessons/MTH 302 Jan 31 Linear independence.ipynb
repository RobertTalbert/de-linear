{
 "cells": [
  {
   "cell_type": "markdown",
   "id": "320de21e",
   "metadata": {
    "slideshow": {
     "slide_type": "slide"
    }
   },
   "source": [
    "# MTH 302: Linear Algebra and Differential Equations \n",
    "\n",
    "## Review of Week 3 + Linear independence  \n",
    "\n",
    "## 31 January 2023"
   ]
  },
  {
   "cell_type": "markdown",
   "id": "4e17325a",
   "metadata": {
    "slideshow": {
     "slide_type": "slide"
    }
   },
   "source": [
    "## Housekeeping\n",
    "\n",
    "- Miniproject 1 initial deadline is this Sunday. \n",
    "   - To use $k+1$ as a subscript: Put it in curly braces. So, `U_{k+1}` produces $U_{k+1}$\n",
    "   - Remember to hit \"Submit\" once the link is put in\n",
    "   - Submit a complete, good-faith effort by Sunday; then no deadlines on revisions if needed. "
   ]
  },
  {
   "cell_type": "markdown",
   "id": "19e5a090",
   "metadata": {
    "slideshow": {
     "slide_type": "slide"
    }
   },
   "source": [
    "## Goals  \n",
    "\n",
    "- Use Theorems 1.5.1 and 1.5.2 to draw conclusions about systems using partial information about their matrices. \n",
    "- Determine whether a set of vectors is linearly independent or linearly dependent. \n",
    "- Add an item to Theorems 1.5.1 and 1.5.2 to link linear independence to earlier concepts. \n",
    "\n",
    "**These notes are posted as a Jupyter notebook** on the Resource Page. Also a PDF of the slides. "
   ]
  },
  {
   "attachments": {},
   "cell_type": "markdown",
   "id": "a2902d9c",
   "metadata": {
    "slideshow": {
     "slide_type": "slide"
    }
   },
   "source": [
    "##  Q&A from Class Prep\n",
    "\n",
    "- If a set of vectors is linearly independent then does that automatically mean that those vectors call (span?) all of $\\mathbb{R}^2$? \n",
    "- How does linear dependence connect to span? Like if a (set of vectors) is linearly independent does that mean it always spans all of $\\mathbb{R}^2$ (or $\\mathbb{R}^3$)? What is the span of a linearly dependent set? -is it just those vectors?\n",
    "- Is it possible to just set every set as a homogeneous equation to find out if the set is dependent or independent?\n"
   ]
  },
  {
   "cell_type": "markdown",
   "id": "f124240d",
   "metadata": {
    "slideshow": {
     "slide_type": "slide"
    }
   },
   "source": [
    "## Theorem 1.5.1\n",
    "\n",
    "Let $\\mathbf{A}$ be an $m \\times n$ matrix. Let $\\mathbf{b}$ be a vector in $\\mathbb{R}^m$. So, $\\mathbf{Ax} = \\mathbf{b}$ represents a system of $m$ linear equations in $n$ variables. Then *the following are equivalent*: \n",
    "\n",
    "1. The system $\\mathbf{Ax} = \\mathbf{b}$ is consistent. \n",
    "2. The vector $\\mathbf{b}$ is a linear combination of the columns of $\\mathbf{A}$. \n",
    "3. The vector $\\mathbf{b}$ is in the span of the columns of $\\mathbf{A}$. \n",
    "4. When the augmented matrix $[\\mathbf{A} \\ \\mathbf{b}]$ is row-reduced, there are no rows where the first $n$ entries are zero but the last entry is nonzero. "
   ]
  },
  {
   "cell_type": "markdown",
   "id": "691df530",
   "metadata": {
    "slideshow": {
     "slide_type": "slide"
    }
   },
   "source": [
    "## Theorem 1.5.2\n",
    "\n",
    "Let $\\mathbf{A}$ be an $m \\times n$ matrix. Then *the following are equivalent*: \n",
    "\n",
    "1. The system $\\mathbf{Ax} = \\mathbf{b}$ is consistent for every $\\mathbf{b} \\in \\mathbb{R}^m$. \n",
    "2. Every vector $\\mathbf{b}$ is a linear combination of the columns of $\\mathbf{A}$. \n",
    "3. The span of the columns of $\\mathbf{A}$ is all of $\\mathbb{R}^m$. \n",
    "4. $\\mathbf{A}$ has a pivot position in every row. That is, when $\\mathbf{A}$ is row-reduced, there are no rows of all zeros. "
   ]
  },
  {
   "cell_type": "markdown",
   "id": "f9f13001",
   "metadata": {
    "slideshow": {
     "slide_type": "slide"
    }
   },
   "source": [
    "## Polling: Using these two theorems \n",
    "\n",
    "### Go to http://pollev.com/talbert \n",
    "\n",
    "### After polling: Go to Activity for January 31, Part 1. "
   ]
  },
  {
   "cell_type": "markdown",
   "id": "c7de7fd3",
   "metadata": {
    "slideshow": {
     "slide_type": "slide"
    }
   },
   "source": [
    "# Break time! "
   ]
  },
  {
   "cell_type": "markdown",
   "id": "0351fef4",
   "metadata": {
    "slideshow": {
     "slide_type": "slide"
    }
   },
   "source": [
    "## Linear independence\n",
    "\n",
    "**Intuitive idea:** A set of vectors is *linearly dependent*, if one of the vectors is a linear combination of the others. The dependent vector is \"redundant\". If none of the vectors is a linear combination of the others then the set is *linearly independent*. "
   ]
  },
  {
   "cell_type": "markdown",
   "id": "35115e48",
   "metadata": {
    "slideshow": {
     "slide_type": "slide"
    }
   },
   "source": [
    "**Formal definition:** Given a set $S = \\{\\mathbf{v}_1, \\mathbf{v}_2, \\dots, \\mathbf{v}_k\\}$ of vectors in $\\mathbb{R}^m$, the set is *linearly dependent* if there is a nontrivial (nonzero) solution to the equation\n",
    "$$x_1 \\mathbf{v}_1 +x_2 \\mathbf{v}_2 + \\cdots + x_k \\mathbf{v}_k = \\mathbf{0}$$\n",
    "If the only solution to this equation is the trivial (all-zeroes) solution then $S$ is *linearly independent*. "
   ]
  },
  {
   "cell_type": "markdown",
   "id": "f1d10c89",
   "metadata": {
    "slideshow": {
     "slide_type": "slide"
    }
   },
   "source": [
    "## Why the intuitive idea = formal definition \n",
    "\n",
    "Let $S = \\{\\mathbf{v}_1, \\mathbf{v}_2, \\dots, \\mathbf{v}_k\\}$. Let's suppose that $\\mathbf{v}_k$ is a linear combination of all the others. This means there are weights $x_1, \\dots, x_{k-1}$ so that: $$x_1 \\mathbf{v}_1 + x_2 \\mathbf{v}_2 + \\cdots + x_{k-1} \\mathbf{v}_{k-1} = \\mathbf{v}_k$$\n",
    "\n",
    "Subtract the $\\mathbf{v}_k$ over to get: \n",
    "$$x_1 \\mathbf{v}_1 + x_2 \\mathbf{v}_2 + \\cdots + x_{k-1} \\mathbf{v}_{k-1} - \\mathbf{v}_k = \\mathbf{0}$$\n",
    "\n",
    "Now $x_1 = 0, x_2 = 0, \\dots, x_{k-1} = 0, x_k = -1$ is a nozero solution. "
   ]
  },
  {
   "cell_type": "markdown",
   "id": "548f13f4",
   "metadata": {
    "slideshow": {
     "slide_type": ""
    }
   },
   "source": [
    "To determine if $S = \\{\\mathbf{v}_1, \\mathbf{v}_2, \\dots, \\mathbf{v}_k\\}$ is linearly dependent or independent: \n",
    "\n",
    "1. Solve $x_1 \\mathbf{v}_1 +x_2 \\mathbf{v}_2 + \\cdots + x_k \\mathbf{v}_k = \\mathbf{0}$. \n",
    "2. This is the same thing as the homogeneous system $\\mathbf{Ax = 0}$ where the columns of $\\mathbf{A}$ are the vectors $\\mathbf{v}_1, \\dots, \\mathbf{v}_k$ and the vector $\\mathbf{x}$ holds the weights. \n",
    "3. Is there a *nonzero* solution? \n",
    "4. Yes $\\rightarrow$ The set of vectors is linearly dependent \n",
    "5. No (only the trivial solution) $\\rightarrow$ The set of vectors is linearly independent\n",
    "\n"
   ]
  },
  {
   "cell_type": "markdown",
   "id": "454d39f2",
   "metadata": {
    "slideshow": {
     "slide_type": "slide"
    }
   },
   "source": [
    "## Example\n",
    "\n",
    "Randomly generate 5 vectors in $\\mathbb{R}^5$. Is the set linearly dependent, or linearly independent? "
   ]
  },
  {
   "cell_type": "code",
   "execution_count": 2,
   "id": "49da605a",
   "metadata": {},
   "outputs": [
    {
     "data": {
      "image/png": "[encoded data removed]",
      "text/latex": [
       "$\\displaystyle \\left[\\begin{matrix}-9 & -14 & 19 & 0 & -3\\\\-4 & 16 & -14 & 11 & 4\\\\-7 & 19 & 12 & 8 & 7\\\\-12 & -13 & 12 & -8 & 9\\\\-14 & -10 & -11 & -15 & 4\\end{matrix}\\right]$"
      ],
      "text/plain": [
       "⎡-9   -14  19    0   -3⎤\n",
       "⎢                      ⎥\n",
       "⎢-4   16   -14  11   4 ⎥\n",
       "⎢                      ⎥\n",
       "⎢-7   19   12    8   7 ⎥\n",
       "⎢                      ⎥\n",
       "⎢-12  -13  12   -8   9 ⎥\n",
       "⎢                      ⎥\n",
       "⎣-14  -10  -11  -15  4 ⎦"
      ]
     },
     "execution_count": 2,
     "metadata": {},
     "output_type": "execute_result"
    }
   ],
   "source": [
    "from sympy import *\n",
    "init_printing()\n",
    "S = randMatrix(5,5,-20,20)\n",
    "S"
   ]
  },
  {
   "cell_type": "code",
   "execution_count": 3,
   "id": "93ed0878",
   "metadata": {
    "slideshow": {
     "slide_type": "slide"
    }
   },
   "outputs": [
    {
     "data": {
      "image/png": "[encoded data removed]",
      "text/latex": [
       "$\\displaystyle \\left[\\begin{matrix}-9 & -14 & 19 & 0 & -3 & 0\\\\-4 & 16 & -14 & 11 & 4 & 0\\\\-7 & 19 & 12 & 8 & 7 & 0\\\\-12 & -13 & 12 & -8 & 9 & 0\\\\-14 & -10 & -11 & -15 & 4 & 0\\end{matrix}\\right]$"
      ],
      "text/plain": [
       "⎡-9   -14  19    0   -3  0⎤\n",
       "⎢                         ⎥\n",
       "⎢-4   16   -14  11   4   0⎥\n",
       "⎢                         ⎥\n",
       "⎢-7   19   12    8   7   0⎥\n",
       "⎢                         ⎥\n",
       "⎢-12  -13  12   -8   9   0⎥\n",
       "⎢                         ⎥\n",
       "⎣-14  -10  -11  -15  4   0⎦"
      ]
     },
     "execution_count": 3,
     "metadata": {},
     "output_type": "execute_result"
    }
   ],
   "source": [
    "# The zero vector in R5\n",
    "z = Matrix([0,0,0,0,0])\n",
    "\n",
    "# Augment S with this vector to set up the system Sx = 0 \n",
    "system = S.col_insert(5,z)\n",
    "system"
   ]
  },
  {
   "cell_type": "code",
   "execution_count": 4,
   "id": "d21df327",
   "metadata": {
    "slideshow": {
     "slide_type": "slide"
    }
   },
   "outputs": [
    {
     "data": {
      "image/png": "[encoded data removed]",
      "text/latex": [
       "$\\displaystyle \\left[\\begin{matrix}1 & 0 & 0 & 0 & 0 & 0\\\\0 & 1 & 0 & 0 & 0 & 0\\\\0 & 0 & 1 & 0 & 0 & 0\\\\0 & 0 & 0 & 1 & 0 & 0\\\\0 & 0 & 0 & 0 & 1 & 0\\end{matrix}\\right]$"
      ],
      "text/plain": [
       "⎡1  0  0  0  0  0⎤\n",
       "⎢                ⎥\n",
       "⎢0  1  0  0  0  0⎥\n",
       "⎢                ⎥\n",
       "⎢0  0  1  0  0  0⎥\n",
       "⎢                ⎥\n",
       "⎢0  0  0  1  0  0⎥\n",
       "⎢                ⎥\n",
       "⎣0  0  0  0  1  0⎦"
      ]
     },
     "execution_count": 4,
     "metadata": {},
     "output_type": "execute_result"
    }
   ],
   "source": [
    "system.rref(pivots=False)"
   ]
  },
  {
   "cell_type": "markdown",
   "id": "ac7d37fe",
   "metadata": {},
   "source": [
    "- Exactly one solution and it's the zero vector $\\rightarrow$ Linearly independent \n",
    "- Otherwise linearly dependent "
   ]
  },
  {
   "cell_type": "markdown",
   "id": "054fc300",
   "metadata": {
    "slideshow": {
     "slide_type": "slide"
    }
   },
   "source": [
    "## Example\n",
    "\n",
    "What if it were *four* vectors in $\\mathbb{R}^5$? "
   ]
  },
  {
   "cell_type": "code",
   "execution_count": 13,
   "id": "023defb0",
   "metadata": {},
   "outputs": [
    {
     "data": {
      "text/latex": [
       "$\\displaystyle \\left[\\begin{matrix}-9 & -8 & -20 & 17\\\\17 & -10 & 18 & -18\\\\-20 & -13 & -4 & 8\\\\12 & 12 & 12 & 14\\\\0 & -6 & 16 & -8\\end{matrix}\\right]$"
      ],
      "text/plain": [
       "⎡-9   -8   -20  17 ⎤\n",
       "⎢                  ⎥\n",
       "⎢17   -10  18   -18⎥\n",
       "⎢                  ⎥\n",
       "⎢-20  -13  -4    8 ⎥\n",
       "⎢                  ⎥\n",
       "⎢12   12   12   14 ⎥\n",
       "⎢                  ⎥\n",
       "⎣ 0   -6   16   -8 ⎦"
      ]
     },
     "execution_count": 13,
     "metadata": {},
     "output_type": "execute_result"
    }
   ],
   "source": [
    "S = randMatrix(5,4,-20,20)\n",
    "S"
   ]
  },
  {
   "cell_type": "code",
   "execution_count": 14,
   "id": "5a6f8424",
   "metadata": {
    "slideshow": {
     "slide_type": "slide"
    }
   },
   "outputs": [
    {
     "data": {
      "text/latex": [
       "$\\displaystyle \\left[\\begin{matrix}1 & 0 & 0 & 0 & 0\\\\0 & 1 & 0 & 0 & 0\\\\0 & 0 & 1 & 0 & 0\\\\0 & 0 & 0 & 1 & 0\\\\0 & 0 & 0 & 0 & 0\\end{matrix}\\right]$"
      ],
      "text/plain": [
       "⎡1  0  0  0  0⎤\n",
       "⎢             ⎥\n",
       "⎢0  1  0  0  0⎥\n",
       "⎢             ⎥\n",
       "⎢0  0  1  0  0⎥\n",
       "⎢             ⎥\n",
       "⎢0  0  0  1  0⎥\n",
       "⎢             ⎥\n",
       "⎣0  0  0  0  0⎦"
      ]
     },
     "execution_count": 14,
     "metadata": {},
     "output_type": "execute_result"
    }
   ],
   "source": [
    "z = Matrix([0,0,0,0,0])\n",
    "system = S.col_insert(4,z)\n",
    "system.rref(pivots=False)\n"
   ]
  },
  {
   "cell_type": "markdown",
   "id": "a52b364d",
   "metadata": {
    "slideshow": {
     "slide_type": "slide"
    }
   },
   "source": [
    "## Your turn\n",
    "\n",
    "Go to Activity for January 31, Part 2. \n",
    "\n",
    "Work in groups and use technology to do all the computations. Debrief later. "
   ]
  },
  {
   "cell_type": "markdown",
   "id": "4834a4ed",
   "metadata": {
    "slideshow": {
     "slide_type": "slide"
    }
   },
   "source": [
    "## A bigger and better theorem \n",
    "\n",
    "(Theorem 1.6.2) Let $\\mathbf{A}$ be an $m \\times n$ matrix. The following are equivalent: \n",
    "\n",
    "1. The columns of $\\mathbf{A}$ are linearly independent.\n",
    "2. $\\mathbf{A}$ has a pivot position in every column.\n",
    "3. The equation $\\mathbf{Ax = 0}$ has only the trivial solution. "
   ]
  },
  {
   "cell_type": "markdown",
   "id": "6ccaa963",
   "metadata": {
    "slideshow": {
     "slide_type": "slide"
    }
   },
   "source": [
    "![Theorem 1.6.2](sm1.jpeg)"
   ]
  },
  {
   "cell_type": "markdown",
   "id": "8c9a6f5e",
   "metadata": {
    "slideshow": {
     "slide_type": "slide"
    }
   },
   "source": [
    "## It gets better if $A$ is square\n",
    "\n",
    "(Theorem 1.6.3) Let $\\mathbf{A}$ be an $n \\times n$ matrix. The following are equivalent: \n",
    "\n",
    "1. The columns of $\\mathbf{A}$ are linearly independent.\n",
    "2. The columns of $\\mathbf{A}$ span all of $\\mathbb{R}^n$. \n",
    "2. $\\mathbf{A}$ has a pivot position in every column.\n",
    "2. $\\mathbf{A}$ has a pivot position in every row. \n",
    "3. The equation $\\mathbf{Ax = b}$ has exactly one solution for every $\\mathbf{b} \\in \\mathbb{R}^n$.  "
   ]
  },
  {
   "cell_type": "markdown",
   "id": "62229af7",
   "metadata": {
    "slideshow": {
     "slide_type": "slide"
    }
   },
   "source": [
    "![Theorem 1.6.2](sm2.jpeg)"
   ]
  },
  {
   "cell_type": "markdown",
   "id": "9f4c85a3",
   "metadata": {
    "slideshow": {
     "slide_type": "slide"
    }
   },
   "source": [
    "## True or false? (from Class Prep quiz) \n",
    "\n",
    "**Any set of vectors that include the zero vector, is automatically linearly dependent.**"
   ]
  },
  {
   "cell_type": "markdown",
   "id": "7b8bad96",
   "metadata": {
    "slideshow": {
     "slide_type": "fragment"
    }
   },
   "source": [
    "**If a set of vectors is linearly dependent, then one of the vectors is a scalar multiple of one of the others.** "
   ]
  },
  {
   "cell_type": "markdown",
   "id": "d5b6d999",
   "metadata": {},
   "source": [
    "## Next Time\n",
    "\n",
    "- Matrix arithmetic and intro to matrix inverses\n",
    "- Class Prep due Wednesday 11:59pm\n",
    "- Skill Quiz 3: LA.1 final appearance; LA.2 second attempt; new LA.3 (\"I can determine if a collection of vectors is linearly independent.\") "
   ]
  }
 ],
 "metadata": {
  "celltoolbar": "Slideshow",
  "kernelspec": {
   "display_name": "Python 3 (ipykernel)",
   "language": "python",
   "name": "python3"
  },
  "language_info": {
   "codemirror_mode": {
    "name": "ipython",
    "version": 3
   },
   "file_extension": ".py",
   "mimetype": "text/x-python",
   "name": "python",
   "nbconvert_exporter": "python",
   "pygments_lexer": "ipython3",
   "version": "3.9.12"
  }
 },
 "nbformat": 4,
 "nbformat_minor": 5
}
