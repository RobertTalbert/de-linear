{
 "cells": [
  {
   "cell_type": "markdown",
   "metadata": {
    "slideshow": {
     "slide_type": "slide"
    }
   },
   "source": [
    "### Linear systems revisited\n",
    "\n",
    "## Part 4: Nonhomogeneous linear systems\n",
    "\n",
    "### MTH 302: Linear Algebra and Differential Equations"
   ]
  },
  {
   "cell_type": "markdown",
   "metadata": {
    "slideshow": {
     "slide_type": "slide"
    }
   },
   "source": [
    "## Homogeneous systems\n",
    "\n",
    "Just means the right hand sides are all zero. \n",
    "\n",
    "$$\\begin{align*}\n",
    "x_1 - 3x_2 + 2x_3 &= 0 \\\\\n",
    "-4x_1 + x_2 + 3x_3 &= 0\n",
    "\\end{align*}$$\n",
    "\n",
    "Homogeneous systems are always consistent. "
   ]
  },
  {
   "cell_type": "code",
   "execution_count": 1,
   "metadata": {},
   "outputs": [
    {
     "data": {
      "text/latex": [
       "$\\displaystyle \\left[\\begin{matrix}1 & 0 & \\frac{11}{13} & 0\\\\0 & 1 & - \\frac{5}{13} & 0\\end{matrix}\\right]$"
      ],
      "text/plain": [
       "⎡       11     ⎤\n",
       "⎢1  0   ──    0⎥\n",
       "⎢       13     ⎥\n",
       "⎢              ⎥\n",
       "⎣0  1  -5/13  0⎦"
      ]
     },
     "execution_count": 1,
     "metadata": {},
     "output_type": "execute_result"
    }
   ],
   "source": [
    "from sympy import * \n",
    "init_printing()\n",
    "\n",
    "M = Matrix(2,4,[1,-3,2,0,4,1,3,0])\n",
    "M.rref(pivots=False)"
   ]
  },
  {
   "cell_type": "markdown",
   "metadata": {
    "slideshow": {
     "slide_type": "slide"
    }
   },
   "source": [
    "$$\\begin{align*}\n",
    "x_1 - 3x_2 + 2x_3 &= 0 \\\\\n",
    "-4x_1 + x_2 + 3x_3 &= 0\n",
    "\\end{align*}$$\n",
    "\n",
    "What is the complete set of solutions to this? "
   ]
  },
  {
   "cell_type": "code",
   "execution_count": 2,
   "metadata": {
    "slideshow": {
     "slide_type": "fragment"
    }
   },
   "outputs": [
    {
     "data": {
      "text/latex": [
       "$\\displaystyle \\left[\\begin{matrix}1 & 0 & \\frac{11}{13} & 0\\\\0 & 1 & - \\frac{5}{13} & 0\\end{matrix}\\right]$"
      ],
      "text/plain": [
       "⎡       11     ⎤\n",
       "⎢1  0   ──    0⎥\n",
       "⎢       13     ⎥\n",
       "⎢              ⎥\n",
       "⎣0  1  -5/13  0⎦"
      ]
     },
     "execution_count": 2,
     "metadata": {},
     "output_type": "execute_result"
    }
   ],
   "source": [
    "M = Matrix(2,4,[1,-3,2,0,4,1,3,0])\n",
    "M.rref(pivots=False)"
   ]
  },
  {
   "cell_type": "markdown",
   "metadata": {
    "slideshow": {
     "slide_type": "slide"
    }
   },
   "source": [
    "- $x_3$ is free\n",
    "- $x_1 = -\\frac{11}{13}x_3$\n",
    "- $x_2 = \\frac{5}{13}x_3$\n",
    "\n",
    "So if $[x_1 \\ x_2 \\ x_3]^T$ is a solution then\n",
    "$$\\begin{bmatrix} x_1 \\\\ x_2 \\\\ x_3 \\end{bmatrix} = \\begin{bmatrix} -\\frac{11}{13}x_3 \\\\ \\frac{5}{13}x_3 \\\\ x_3 \\end{bmatrix} = x_3 \\begin{bmatrix} -\\frac{11}{13} \\\\ \\frac{5}{13} \\\\ 1 \\end{bmatrix}$$"
   ]
  },
  {
   "cell_type": "markdown",
   "metadata": {
    "slideshow": {
     "slide_type": "fragment"
    }
   },
   "source": [
    "- Every solution to the original system is a multiple of $[-11/13 \\ \\ 5/13 \\ \\ 1]^T$\n",
    "- This vector \"spans\" all solutions"
   ]
  },
  {
   "cell_type": "markdown",
   "metadata": {
    "slideshow": {
     "slide_type": "slide"
    }
   },
   "source": [
    "## Non-homogeneous systems\n",
    "\n",
    "What happens if we have the same coefficients but the system is non-homogeneous? \n",
    "\n",
    "$$\\begin{align*}\n",
    "x_1 - 3x_2 + 2x_3 &= 5 \\\\\n",
    "-4x_1 + x_2 + 3x_3 &= -9\n",
    "\\end{align*}$$"
   ]
  },
  {
   "cell_type": "code",
   "execution_count": 3,
   "metadata": {},
   "outputs": [
    {
     "data": {
      "text/latex": [
       "$\\displaystyle \\left[\\begin{matrix}1 & 0 & \\frac{11}{13} & - \\frac{22}{13}\\\\0 & 1 & - \\frac{5}{13} & - \\frac{29}{13}\\end{matrix}\\right]$"
      ],
      "text/plain": [
       "⎡       11    -22 ⎤\n",
       "⎢1  0   ──    ────⎥\n",
       "⎢       13     13 ⎥\n",
       "⎢                 ⎥\n",
       "⎢             -29 ⎥\n",
       "⎢0  1  -5/13  ────⎥\n",
       "⎣              13 ⎦"
      ]
     },
     "execution_count": 3,
     "metadata": {},
     "output_type": "execute_result"
    }
   ],
   "source": [
    "N = Matrix(2,4,[1,-3,2,5,4,1,3,-9])\n",
    "N.rref(pivots=False)"
   ]
  },
  {
   "cell_type": "markdown",
   "metadata": {
    "slideshow": {
     "slide_type": "slide"
    }
   },
   "source": [
    "- $x_3$ is free\n",
    "- $x_1 = -\\frac{11}{13}x_3 - 22/13$\n",
    "- $x_2 = \\frac{5}{13}x_3 - 29/13$\n",
    "\n",
    "So if $[x_1 \\ x_2 \\ x_3]^T$ is a solution then\n",
    "$$\\begin{bmatrix} x_1 \\\\ x_2 \\\\ x_3 \\end{bmatrix} = \\begin{bmatrix} -\\frac{11}{13}x_3 \\\\ \\frac{5}{13}x_3 \\\\ x_3 \\end{bmatrix} + \\begin{bmatrix} -\\frac{22}{13} \\\\ - \\frac{29}{13} \\\\ 0 \\end{bmatrix} \n",
    "= x_3 \\begin{bmatrix} -\\frac{11}{13} \\\\ \\frac{5}{13} \\\\ 1 \\end{bmatrix} + \\begin{bmatrix} -\\frac{22}{13} \\\\ - \\frac{29}{13} \\\\ 0 \\end{bmatrix} $$\n",
    "\n",
    "First vector is the solution to the homogeneous version of the system. \n",
    "\n",
    "Second vector is a \"particular\" solution of the *non*-homogeneous system obtained by setting the free variable to zero. \n",
    "$$\\begin{bmatrix} -\\frac{22}{13} \\\\ - \\frac{29}{13} \\\\ 0 \\end{bmatrix}$$"
   ]
  },
  {
   "cell_type": "markdown",
   "metadata": {
    "slideshow": {
     "slide_type": "slide"
    }
   },
   "source": [
    "## What this means and why we care\n",
    "\n",
    "Start with a (non-homogeneous) system $\\mathbf{Ax} = \\mathbf{b}$. "
   ]
  },
  {
   "cell_type": "markdown",
   "metadata": {
    "slideshow": {
     "slide_type": "fragment"
    }
   },
   "source": [
    "If you know any single particular solution to it, then you can find *all* solutions to it: "
   ]
  },
  {
   "cell_type": "markdown",
   "metadata": {
    "slideshow": {
     "slide_type": "fragment"
    }
   },
   "source": [
    "1. Find the generic solution to the homogeneous system \n",
    "2. Add the particular solution to it "
   ]
  },
  {
   "cell_type": "markdown",
   "metadata": {
    "slideshow": {
     "slide_type": "fragment"
    }
   },
   "source": [
    "Focus on solving systems moving forward: Solve the homogeneous version of the system first. "
   ]
  }
 ],
 "metadata": {
  "celltoolbar": "Slideshow",
  "kernelspec": {
   "display_name": "Python 3 (ipykernel)",
   "language": "python",
   "name": "python3"
  },
  "language_info": {
   "codemirror_mode": {
    "name": "ipython",
    "version": 3
   },
   "file_extension": ".py",
   "mimetype": "text/x-python",
   "name": "python",
   "nbconvert_exporter": "python",
   "pygments_lexer": "ipython3",
   "version": "3.9.15"
  },
  "vscode": {
   "interpreter": {
    "hash": "784cc7598c8dead48ccbe373380d278edc58654b6275e9517b5b2c0bab31845c"
   }
  }
 },
 "nbformat": 4,
 "nbformat_minor": 2
}
