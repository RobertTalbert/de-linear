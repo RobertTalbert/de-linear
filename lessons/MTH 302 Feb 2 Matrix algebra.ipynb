{
 "cells": [
  {
   "cell_type": "markdown",
   "id": "39b7e24e",
   "metadata": {
    "slideshow": {
     "slide_type": "slide"
    }
   },
   "source": [
    "# MTH 302: Linear Algebra and Differential Equations\n",
    "\n",
    "## Matrix Algebra and Introduction to Inverses\n",
    "    \n",
    "## 2023 February 2"
   ]
  },
  {
   "cell_type": "markdown",
   "id": "5e8c0736",
   "metadata": {
    "slideshow": {
     "slide_type": "slide"
    }
   },
   "source": [
    "## Housekeeping\n",
    "\n",
    "- Change to quiz setup for Class Preps next week\n",
    "- Application Analysis -- what to do next\n",
    "- Where do you find due dates? \n",
    "- What's in the announcements? "
   ]
  },
  {
   "cell_type": "markdown",
   "id": "5fd295f5",
   "metadata": {
    "slideshow": {
     "slide_type": "slide"
    }
   },
   "source": [
    "## Today's Goals\n",
    "\n",
    "- Add, subtract, rescale, and multiply matrices by hand\n",
    "- Do all of this in SymPy as well\n",
    "- Make conjectures about matrix arithmetic \n",
    "- Find the inverse of a square matrix (if it exists) using RREF \n",
    "- Make conjectutes about matrix inverses (connect to linear independence, etc.) "
   ]
  },
  {
   "cell_type": "markdown",
   "id": "def88617",
   "metadata": {
    "slideshow": {
     "slide_type": "slide"
    }
   },
   "source": [
    "## Debriefing Class Prep \n",
    "\n",
    "No big questions but some items to clear up "
   ]
  },
  {
   "cell_type": "markdown",
   "id": "a548b2b2",
   "metadata": {
    "slideshow": {
     "slide_type": "slide"
    }
   },
   "source": [
    "## Practice \n",
    "\n",
    "Work through **Exercise 1.7 #1 (and #2 if time)** by hand.\n",
    "\n",
    "Note: This is Foundational Skill LA.4\n",
    "\n",
    ">LA.4: I can add, subtract, and multiply matrices.\n",
    "\n",
    "We will debrief this using SymPy. "
   ]
  },
  {
   "cell_type": "code",
   "execution_count": 1,
   "id": "680a889a",
   "metadata": {
    "slideshow": {
     "slide_type": "slide"
    }
   },
   "outputs": [],
   "source": [
    "from sympy import *\n",
    "init_printing()\n",
    "A = Matrix(2,3,[3,-5,2,-1,5,-4])\n",
    "B = Matrix(3,2,[-6,10,2,11,-3,-2])\n",
    "C = Matrix(3,2,[5,3,-1,0,2,-4])"
   ]
  },
  {
   "cell_type": "code",
   "execution_count": 5,
   "id": "28d28af6",
   "metadata": {
    "slideshow": {
     "slide_type": "fragment"
    }
   },
   "outputs": [
    {
     "data": {
      "image/png": "[encoded data removed]",
      "text/latex": [
       "$\\displaystyle \\left[\\begin{matrix}3 & -1\\\\-5 & 5\\\\2 & -4\\end{matrix}\\right]$"
      ],
      "text/plain": [
       "⎡3   -1⎤\n",
       "⎢      ⎥\n",
       "⎢-5  5 ⎥\n",
       "⎢      ⎥\n",
       "⎣2   -4⎦"
      ]
     },
     "execution_count": 5,
     "metadata": {},
     "output_type": "execute_result"
    }
   ],
   "source": [
    "T = A.transpose()"
   ]
  },
  {
   "cell_type": "code",
   "execution_count": 11,
   "id": "63397b6c",
   "metadata": {
    "slideshow": {
     "slide_type": "fragment"
    }
   },
   "outputs": [
    {
     "ename": "ShapeError",
     "evalue": "Matrix size mismatch: (2, 3) * (2, 3).",
     "output_type": "error",
     "traceback": [
      "\u001b[1;31m---------------------------------------------------------------------------\u001b[0m",
      "\u001b[1;31mShapeError\u001b[0m                                Traceback (most recent call last)",
      "Input \u001b[1;32mIn [11]\u001b[0m, in \u001b[0;36m<cell line: 2>\u001b[1;34m()\u001b[0m\n\u001b[0;32m      1\u001b[0m \u001b[38;5;66;03m# Check arithmetic here\u001b[39;00m\n\u001b[1;32m----> 2\u001b[0m \u001b[43mA\u001b[49m\u001b[38;5;241;43m*\u001b[39;49m\u001b[43mA\u001b[49m\n",
      "File \u001b[1;32m~\\Anaconda3\\lib\\site-packages\\sympy\\core\\decorators.py:106\u001b[0m, in \u001b[0;36mcall_highest_priority.<locals>.priority_decorator.<locals>.binary_op_wrapper\u001b[1;34m(self, other)\u001b[0m\n\u001b[0;32m    104\u001b[0m         \u001b[38;5;28;01mif\u001b[39;00m f \u001b[38;5;129;01mis\u001b[39;00m \u001b[38;5;129;01mnot\u001b[39;00m \u001b[38;5;28;01mNone\u001b[39;00m:\n\u001b[0;32m    105\u001b[0m             \u001b[38;5;28;01mreturn\u001b[39;00m f(\u001b[38;5;28mself\u001b[39m)\n\u001b[1;32m--> 106\u001b[0m \u001b[38;5;28;01mreturn\u001b[39;00m \u001b[43mfunc\u001b[49m\u001b[43m(\u001b[49m\u001b[38;5;28;43mself\u001b[39;49m\u001b[43m,\u001b[49m\u001b[43m \u001b[49m\u001b[43mother\u001b[49m\u001b[43m)\u001b[49m\n",
      "File \u001b[1;32m~\\Anaconda3\\lib\\site-packages\\sympy\\matrices\\common.py:2774\u001b[0m, in \u001b[0;36mMatrixArithmetic.__mul__\u001b[1;34m(self, other)\u001b[0m\n\u001b[0;32m   2745\u001b[0m \u001b[38;5;129m@call_highest_priority\u001b[39m(\u001b[38;5;124m'\u001b[39m\u001b[38;5;124m__rmul__\u001b[39m\u001b[38;5;124m'\u001b[39m)\n\u001b[0;32m   2746\u001b[0m \u001b[38;5;28;01mdef\u001b[39;00m \u001b[38;5;21m__mul__\u001b[39m(\u001b[38;5;28mself\u001b[39m, other):\n\u001b[0;32m   2747\u001b[0m     \u001b[38;5;124;03m\"\"\"Return self*other where other is either a scalar or a matrix\u001b[39;00m\n\u001b[0;32m   2748\u001b[0m \u001b[38;5;124;03m    of compatible dimensions.\u001b[39;00m\n\u001b[0;32m   2749\u001b[0m \n\u001b[1;32m   (...)\u001b[0m\n\u001b[0;32m   2771\u001b[0m \u001b[38;5;124;03m    matrix_multiply_elementwise\u001b[39;00m\n\u001b[0;32m   2772\u001b[0m \u001b[38;5;124;03m    \"\"\"\u001b[39;00m\n\u001b[1;32m-> 2774\u001b[0m     \u001b[38;5;28;01mreturn\u001b[39;00m \u001b[38;5;28;43mself\u001b[39;49m\u001b[38;5;241;43m.\u001b[39;49m\u001b[43mmultiply\u001b[49m\u001b[43m(\u001b[49m\u001b[43mother\u001b[49m\u001b[43m)\u001b[49m\n",
      "File \u001b[1;32m~\\Anaconda3\\lib\\site-packages\\sympy\\matrices\\common.py:2796\u001b[0m, in \u001b[0;36mMatrixArithmetic.multiply\u001b[1;34m(self, other, dotprodsimp)\u001b[0m\n\u001b[0;32m   2792\u001b[0m \u001b[38;5;28;01mif\u001b[39;00m (\u001b[38;5;28mhasattr\u001b[39m(other, \u001b[38;5;124m'\u001b[39m\u001b[38;5;124mshape\u001b[39m\u001b[38;5;124m'\u001b[39m) \u001b[38;5;129;01mand\u001b[39;00m \u001b[38;5;28mlen\u001b[39m(other\u001b[38;5;241m.\u001b[39mshape) \u001b[38;5;241m==\u001b[39m \u001b[38;5;241m2\u001b[39m \u001b[38;5;129;01mand\u001b[39;00m\n\u001b[0;32m   2793\u001b[0m     (\u001b[38;5;28mgetattr\u001b[39m(other, \u001b[38;5;124m'\u001b[39m\u001b[38;5;124mis_Matrix\u001b[39m\u001b[38;5;124m'\u001b[39m, \u001b[38;5;28;01mTrue\u001b[39;00m) \u001b[38;5;129;01mor\u001b[39;00m\n\u001b[0;32m   2794\u001b[0m      \u001b[38;5;28mgetattr\u001b[39m(other, \u001b[38;5;124m'\u001b[39m\u001b[38;5;124mis_MatrixLike\u001b[39m\u001b[38;5;124m'\u001b[39m, \u001b[38;5;28;01mTrue\u001b[39;00m))):\n\u001b[0;32m   2795\u001b[0m     \u001b[38;5;28;01mif\u001b[39;00m \u001b[38;5;28mself\u001b[39m\u001b[38;5;241m.\u001b[39mshape[\u001b[38;5;241m1\u001b[39m] \u001b[38;5;241m!=\u001b[39m other\u001b[38;5;241m.\u001b[39mshape[\u001b[38;5;241m0\u001b[39m]:\n\u001b[1;32m-> 2796\u001b[0m         \u001b[38;5;28;01mraise\u001b[39;00m ShapeError(\u001b[38;5;124m\"\u001b[39m\u001b[38;5;124mMatrix size mismatch: \u001b[39m\u001b[38;5;132;01m%s\u001b[39;00m\u001b[38;5;124m * \u001b[39m\u001b[38;5;132;01m%s\u001b[39;00m\u001b[38;5;124m.\u001b[39m\u001b[38;5;124m\"\u001b[39m \u001b[38;5;241m%\u001b[39m (\n\u001b[0;32m   2797\u001b[0m             \u001b[38;5;28mself\u001b[39m\u001b[38;5;241m.\u001b[39mshape, other\u001b[38;5;241m.\u001b[39mshape))\n\u001b[0;32m   2799\u001b[0m \u001b[38;5;66;03m# honest SymPy matrices defer to their class's routine\u001b[39;00m\n\u001b[0;32m   2800\u001b[0m \u001b[38;5;28;01mif\u001b[39;00m \u001b[38;5;28mgetattr\u001b[39m(other, \u001b[38;5;124m'\u001b[39m\u001b[38;5;124mis_Matrix\u001b[39m\u001b[38;5;124m'\u001b[39m, \u001b[38;5;28;01mFalse\u001b[39;00m):\n",
      "\u001b[1;31mShapeError\u001b[0m: Matrix size mismatch: (2, 3) * (2, 3)."
     ]
    }
   ],
   "source": [
    "# Check arithmetic here\n",
    "A*A"
   ]
  },
  {
   "cell_type": "markdown",
   "id": "3783f654",
   "metadata": {
    "slideshow": {
     "slide_type": "slide"
    }
   },
   "source": [
    "## Activity\n",
    "\n",
    "In groups, work on Part 1 of tonight's activity. \n",
    "\n",
    "Demo for the first item is on the next slide. "
   ]
  },
  {
   "cell_type": "code",
   "execution_count": null,
   "id": "f17575f4",
   "metadata": {
    "slideshow": {
     "slide_type": "slide"
    }
   },
   "outputs": [],
   "source": [
    "# Randomly generate two 4x4 matrices\n",
    "A = randMatrix(4,4,-15,15)\n",
    "B = randMatrix(4,4,-15,15)\n",
    "(A,B)"
   ]
  },
  {
   "cell_type": "code",
   "execution_count": null,
   "id": "eeb0d88c",
   "metadata": {},
   "outputs": [],
   "source": [
    "(A+B, B+A)"
   ]
  },
  {
   "cell_type": "markdown",
   "id": "e9881528",
   "metadata": {},
   "source": [
    "Does $A+B$ appear to be equal to $B+A$ all the time? If so, what's a general explanation? If not, what's an example of failure and an example of success? "
   ]
  },
  {
   "cell_type": "markdown",
   "id": "4a4c2561",
   "metadata": {
    "slideshow": {
     "slide_type": "slide"
    }
   },
   "source": [
    "# Break time! "
   ]
  },
  {
   "cell_type": "markdown",
   "id": "7531c007",
   "metadata": {
    "slideshow": {
     "slide_type": "slide"
    }
   },
   "source": [
    "## Inverses\n",
    "\n",
    "If $\\mathbf{A}$ is $n \\times n$, then $\\mathbf{A}$ is **invertible** if there is another matrix $\\mathbf{B}$ such that $\\mathbf{AB = I}_n$ and $\\mathbf{BA = I}_n$. \n",
    "\n",
    "Example: $\\mathbf{A} = \\begin{bmatrix} 1 & 2 \\\\ -1 & 4 \\end{bmatrix}$ is invertible:\n",
    "\n",
    "$$\\begin{bmatrix} 1 & 2 \\\\ -1 & 4 \\end{bmatrix} \\left[\\begin{matrix}\\frac{2}{3} & - \\frac{1}{3}\\\\\\frac{1}{6} & \\frac{1}{6}\\end{matrix}\\right] = \\begin{bmatrix} 1 & 0 \\\\ 0 & 1 \\end{bmatrix}$$\n",
    "\n",
    "(Check that this also works if you reverse the order.) "
   ]
  },
  {
   "cell_type": "markdown",
   "id": "5c81ea6f",
   "metadata": {
    "slideshow": {
     "slide_type": "slide"
    }
   },
   "source": [
    "## Not all matrices are invertible \n",
    "\n",
    "Let $\\mathbf{A} = \\begin{bmatrix} 1 & 2 \\\\ -1 & -2 \\end{bmatrix}$. Is there a way to fill in the entries? \n",
    "\n",
    "$$\\begin{bmatrix} 1 & 2 \\\\ -1 & -2 \\end{bmatrix} \\left[\\begin{matrix} a & b \\\\ c & d \\end{matrix}\\right] = \\begin{bmatrix} 1 & 0 \\\\ 0 & 1 \\end{bmatrix}$$"
   ]
  },
  {
   "cell_type": "code",
   "execution_count": null,
   "id": "72073202",
   "metadata": {
    "slideshow": {
     "slide_type": "fragment"
    }
   },
   "outputs": [],
   "source": [
    "a,b,c,d = var(\"a b c d\")\n",
    "A = Matrix(2,2,[1,2,-1,-2])\n",
    "X = Matrix(2,2,[a,b,c,d])\n",
    "A*X"
   ]
  },
  {
   "cell_type": "markdown",
   "id": "a36dc517",
   "metadata": {
    "slideshow": {
     "slide_type": "slide"
    }
   },
   "source": [
    "## Finding inverses using RREF\n",
    "\n",
    "- Form an augmented matrix with $\\mathbf{A}$ on the left and $\\mathbf{I}_n$ on the right\n",
    "- RREF the entire thing\n",
    "- If pivot position in every row: Get $\\mathbf{I}_n$ on the left and $\\mathbf{A}^{-1}$ on the right\n",
    "- Otherwise $\\mathbf{A}$ is not invertible"
   ]
  },
  {
   "cell_type": "code",
   "execution_count": 22,
   "id": "67d90f7d",
   "metadata": {},
   "outputs": [
    {
     "data": {
      "image/png": "[encoded data removed]",
      "text/latex": [
       "$\\displaystyle \\left[\\begin{matrix}-10 & 0 & 4 & 1 & 0 & 0\\\\5 & -10 & 5 & 0 & 1 & 0\\\\7 & -10 & -5 & 0 & 0 & 1\\end{matrix}\\right]$"
      ],
      "text/plain": [
       "⎡-10   0   4   1  0  0⎤\n",
       "⎢                     ⎥\n",
       "⎢ 5   -10  5   0  1  0⎥\n",
       "⎢                     ⎥\n",
       "⎣ 7   -10  -5  0  0  1⎦"
      ]
     },
     "execution_count": 22,
     "metadata": {},
     "output_type": "execute_result"
    }
   ],
   "source": [
    "# Example\n",
    "A = randMatrix(3,3,-10,10)\n",
    "I = eye(3)   # Produces 3x3 identity matrix \n",
    "M = A.col_insert(3,I)\n",
    "M"
   ]
  },
  {
   "cell_type": "code",
   "execution_count": 23,
   "id": "95475ba4",
   "metadata": {
    "slideshow": {
     "slide_type": "fragment"
    }
   },
   "outputs": [
    {
     "data": {
      "image/png": "[encoded data removed]",
      "text/latex": [
       "$\\displaystyle \\left( \\left[\\begin{matrix}1 & 0 & 0 & - \\frac{5}{46} & \\frac{1}{23} & - \\frac{1}{23}\\\\0 & 1 & 0 & - \\frac{3}{46} & - \\frac{11}{460} & - \\frac{7}{92}\\\\0 & 0 & 1 & - \\frac{1}{46} & \\frac{5}{46} & - \\frac{5}{46}\\end{matrix}\\right], \\  \\left[\\begin{matrix}- \\frac{5}{46} & \\frac{1}{23} & - \\frac{1}{23}\\\\- \\frac{3}{46} & - \\frac{11}{460} & - \\frac{7}{92}\\\\- \\frac{1}{46} & \\frac{5}{46} & - \\frac{5}{46}\\end{matrix}\\right]\\right)$"
      ],
      "text/plain": [
       "⎛⎡1  0  0  -5/46  1/23  -1/23⎤  ⎡-5/46  1/23  -1/23⎤⎞\n",
       "⎜⎢                           ⎥  ⎢                  ⎥⎟\n",
       "⎜⎢                -11        ⎥  ⎢       -11        ⎥⎟\n",
       "⎜⎢0  1  0  -3/46  ────  -7/92⎥, ⎢-3/46  ────  -7/92⎥⎟\n",
       "⎜⎢                460        ⎥  ⎢       460        ⎥⎟\n",
       "⎜⎢                           ⎥  ⎢                  ⎥⎟\n",
       "⎝⎣0  0  1  -1/46  5/46  -5/46⎦  ⎣-1/46  5/46  -5/46⎦⎠"
      ]
     },
     "execution_count": 23,
     "metadata": {},
     "output_type": "execute_result"
    }
   ],
   "source": [
    "(M.rref(pivots=False), A.inv())"
   ]
  },
  {
   "cell_type": "markdown",
   "id": "95b32809",
   "metadata": {
    "slideshow": {
     "slide_type": "slide"
    }
   },
   "source": [
    "## Getting inverses from SymPy directly"
   ]
  },
  {
   "cell_type": "code",
   "execution_count": 17,
   "id": "8167bc34",
   "metadata": {},
   "outputs": [
    {
     "data": {
      "image/png": "[encoded data removed]",
      "text/latex": [
       "$\\displaystyle \\left[\\begin{matrix}12 & -4 & 13 & -16\\\\13 & 9 & -7 & 13\\\\-20 & -7 & 3 & -6\\\\-13 & 3 & -5 & -13\\end{matrix}\\right]$"
      ],
      "text/plain": [
       "⎡12   -4  13  -16⎤\n",
       "⎢                ⎥\n",
       "⎢13   9   -7  13 ⎥\n",
       "⎢                ⎥\n",
       "⎢-20  -7  3   -6 ⎥\n",
       "⎢                ⎥\n",
       "⎣-13  3   -5  -13⎦"
      ]
     },
     "execution_count": 17,
     "metadata": {},
     "output_type": "execute_result"
    }
   ],
   "source": [
    "A = randMatrix(4,4,-20,20)\n",
    "A"
   ]
  },
  {
   "cell_type": "code",
   "execution_count": 21,
   "id": "7c19f611",
   "metadata": {},
   "outputs": [
    {
     "data": {
      "image/png": "[encoded data removed]",
      "text/latex": [
       "$\\displaystyle \\left[\\begin{matrix}1 & 0 & 0 & 0\\\\0 & 1 & 0 & 0\\\\0 & 0 & 1 & 0\\\\0 & 0 & 0 & 1\\end{matrix}\\right]$"
      ],
      "text/plain": [
       "⎡1  0  0  0⎤\n",
       "⎢          ⎥\n",
       "⎢0  1  0  0⎥\n",
       "⎢          ⎥\n",
       "⎢0  0  1  0⎥\n",
       "⎢          ⎥\n",
       "⎣0  0  0  1⎦"
      ]
     },
     "execution_count": 21,
     "metadata": {},
     "output_type": "execute_result"
    }
   ],
   "source": [
    "B = A.inv()\n",
    "B*A"
   ]
  },
  {
   "cell_type": "code",
   "execution_count": 24,
   "id": "d90a701f",
   "metadata": {
    "slideshow": {
     "slide_type": "slide"
    }
   },
   "outputs": [
    {
     "ename": "NonInvertibleMatrixError",
     "evalue": "Matrix det == 0; not invertible.",
     "output_type": "error",
     "traceback": [
      "\u001b[1;31m---------------------------------------------------------------------------\u001b[0m",
      "\u001b[1;31mNonInvertibleMatrixError\u001b[0m                  Traceback (most recent call last)",
      "Input \u001b[1;32mIn [24]\u001b[0m, in \u001b[0;36m<cell line: 3>\u001b[1;34m()\u001b[0m\n\u001b[0;32m      1\u001b[0m \u001b[38;5;66;03m# What if A is non-invertible \u001b[39;00m\n\u001b[0;32m      2\u001b[0m A \u001b[38;5;241m=\u001b[39m Matrix(\u001b[38;5;241m2\u001b[39m,\u001b[38;5;241m2\u001b[39m,[\u001b[38;5;241m1\u001b[39m,\u001b[38;5;241m-\u001b[39m\u001b[38;5;241m1\u001b[39m,\u001b[38;5;241m2\u001b[39m,\u001b[38;5;241m-\u001b[39m\u001b[38;5;241m2\u001b[39m])\n\u001b[1;32m----> 3\u001b[0m \u001b[43mA\u001b[49m\u001b[38;5;241;43m.\u001b[39;49m\u001b[43minv\u001b[49m\u001b[43m(\u001b[49m\u001b[43m)\u001b[49m\n",
      "File \u001b[1;32m~\\Anaconda3\\lib\\site-packages\\sympy\\matrices\\matrices.py:2223\u001b[0m, in \u001b[0;36mMatrixBase.inv\u001b[1;34m(self, method, iszerofunc, try_block_diag)\u001b[0m\n\u001b[0;32m   2222\u001b[0m \u001b[38;5;28;01mdef\u001b[39;00m \u001b[38;5;21minv\u001b[39m(\u001b[38;5;28mself\u001b[39m, method\u001b[38;5;241m=\u001b[39m\u001b[38;5;28;01mNone\u001b[39;00m, iszerofunc\u001b[38;5;241m=\u001b[39m_iszero, try_block_diag\u001b[38;5;241m=\u001b[39m\u001b[38;5;28;01mFalse\u001b[39;00m):\n\u001b[1;32m-> 2223\u001b[0m     \u001b[38;5;28;01mreturn\u001b[39;00m \u001b[43m_inv\u001b[49m\u001b[43m(\u001b[49m\u001b[38;5;28;43mself\u001b[39;49m\u001b[43m,\u001b[49m\u001b[43m \u001b[49m\u001b[43mmethod\u001b[49m\u001b[38;5;241;43m=\u001b[39;49m\u001b[43mmethod\u001b[49m\u001b[43m,\u001b[49m\u001b[43m \u001b[49m\u001b[43miszerofunc\u001b[49m\u001b[38;5;241;43m=\u001b[39;49m\u001b[43miszerofunc\u001b[49m\u001b[43m,\u001b[49m\n\u001b[0;32m   2224\u001b[0m \u001b[43m            \u001b[49m\u001b[43mtry_block_diag\u001b[49m\u001b[38;5;241;43m=\u001b[39;49m\u001b[43mtry_block_diag\u001b[49m\u001b[43m)\u001b[49m\n",
      "File \u001b[1;32m~\\Anaconda3\\lib\\site-packages\\sympy\\matrices\\inverse.py:459\u001b[0m, in \u001b[0;36m_inv\u001b[1;34m(M, method, iszerofunc, try_block_diag)\u001b[0m\n\u001b[0;32m    456\u001b[0m     \u001b[38;5;28;01mreturn\u001b[39;00m diag(\u001b[38;5;241m*\u001b[39mr)\n\u001b[0;32m    458\u001b[0m \u001b[38;5;28;01mif\u001b[39;00m method \u001b[38;5;241m==\u001b[39m \u001b[38;5;124m\"\u001b[39m\u001b[38;5;124mGE\u001b[39m\u001b[38;5;124m\"\u001b[39m:\n\u001b[1;32m--> 459\u001b[0m     rv \u001b[38;5;241m=\u001b[39m \u001b[43mM\u001b[49m\u001b[38;5;241;43m.\u001b[39;49m\u001b[43minverse_GE\u001b[49m\u001b[43m(\u001b[49m\u001b[43miszerofunc\u001b[49m\u001b[38;5;241;43m=\u001b[39;49m\u001b[43miszerofunc\u001b[49m\u001b[43m)\u001b[49m\n\u001b[0;32m    460\u001b[0m \u001b[38;5;28;01melif\u001b[39;00m method \u001b[38;5;241m==\u001b[39m \u001b[38;5;124m\"\u001b[39m\u001b[38;5;124mLU\u001b[39m\u001b[38;5;124m\"\u001b[39m:\n\u001b[0;32m    461\u001b[0m     rv \u001b[38;5;241m=\u001b[39m M\u001b[38;5;241m.\u001b[39minverse_LU(iszerofunc\u001b[38;5;241m=\u001b[39miszerofunc)\n",
      "File \u001b[1;32m~\\Anaconda3\\lib\\site-packages\\sympy\\matrices\\matrices.py:2208\u001b[0m, in \u001b[0;36mMatrixBase.inverse_GE\u001b[1;34m(self, iszerofunc)\u001b[0m\n\u001b[0;32m   2207\u001b[0m \u001b[38;5;28;01mdef\u001b[39;00m \u001b[38;5;21minverse_GE\u001b[39m(\u001b[38;5;28mself\u001b[39m, iszerofunc\u001b[38;5;241m=\u001b[39m_iszero):\n\u001b[1;32m-> 2208\u001b[0m     \u001b[38;5;28;01mreturn\u001b[39;00m \u001b[43m_inv_GE\u001b[49m\u001b[43m(\u001b[49m\u001b[38;5;28;43mself\u001b[39;49m\u001b[43m,\u001b[49m\u001b[43m \u001b[49m\u001b[43miszerofunc\u001b[49m\u001b[38;5;241;43m=\u001b[39;49m\u001b[43miszerofunc\u001b[49m\u001b[43m)\u001b[49m\n",
      "File \u001b[1;32m~\\Anaconda3\\lib\\site-packages\\sympy\\matrices\\inverse.py:245\u001b[0m, in \u001b[0;36m_inv_GE\u001b[1;34m(M, iszerofunc)\u001b[0m\n\u001b[0;32m    242\u001b[0m red \u001b[38;5;241m=\u001b[39m big\u001b[38;5;241m.\u001b[39mrref(iszerofunc\u001b[38;5;241m=\u001b[39miszerofunc, simplify\u001b[38;5;241m=\u001b[39m\u001b[38;5;28;01mTrue\u001b[39;00m)[\u001b[38;5;241m0\u001b[39m]\n\u001b[0;32m    244\u001b[0m \u001b[38;5;28;01mif\u001b[39;00m \u001b[38;5;28many\u001b[39m(iszerofunc(red[j, j]) \u001b[38;5;28;01mfor\u001b[39;00m j \u001b[38;5;129;01min\u001b[39;00m \u001b[38;5;28mrange\u001b[39m(red\u001b[38;5;241m.\u001b[39mrows)):\n\u001b[1;32m--> 245\u001b[0m     \u001b[38;5;28;01mraise\u001b[39;00m NonInvertibleMatrixError(\u001b[38;5;124m\"\u001b[39m\u001b[38;5;124mMatrix det == 0; not invertible.\u001b[39m\u001b[38;5;124m\"\u001b[39m)\n\u001b[0;32m    247\u001b[0m \u001b[38;5;28;01mreturn\u001b[39;00m M\u001b[38;5;241m.\u001b[39m_new(red[:, big\u001b[38;5;241m.\u001b[39mrows:])\n",
      "\u001b[1;31mNonInvertibleMatrixError\u001b[0m: Matrix det == 0; not invertible."
     ]
    }
   ],
   "source": [
    "# What if A is non-invertible \n",
    "A = Matrix(2,2,[1,-1,2,-2])\n",
    "A.inv()"
   ]
  },
  {
   "cell_type": "markdown",
   "id": "26eddf3b",
   "metadata": {
    "slideshow": {
     "slide_type": "slide"
    }
   },
   "source": [
    "# Activity\n",
    "\n",
    "## Work in groups on today's activity, Part 2. "
   ]
  },
  {
   "cell_type": "markdown",
   "id": "dd722b04",
   "metadata": {
    "slideshow": {
     "slide_type": "slide"
    }
   },
   "source": [
    "# Skill Quiz 3\n",
    "\n",
    "## Find it on Blackboard > Skill Quizzes. "
   ]
  },
  {
   "cell_type": "markdown",
   "id": "d95953ca",
   "metadata": {
    "slideshow": {
     "slide_type": "slide"
    }
   },
   "source": [
    "# Next time\n",
    "\n",
    "- The Invertible Matrix Theorem \n",
    "- Determinants \n",
    "- How inverses and determinants connect to linear independence, span, etc. "
   ]
  }
 ],
 "metadata": {
  "celltoolbar": "Slideshow",
  "kernelspec": {
   "display_name": "Python 3 (ipykernel)",
   "language": "python",
   "name": "python3"
  },
  "language_info": {
   "codemirror_mode": {
    "name": "ipython",
    "version": 3
   },
   "file_extension": ".py",
   "mimetype": "text/x-python",
   "name": "python",
   "nbconvert_exporter": "python",
   "pygments_lexer": "ipython3",
   "version": "3.9.12"
  }
 },
 "nbformat": 4,
 "nbformat_minor": 5
}
