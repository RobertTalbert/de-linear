{
 "cells": [
  {
   "cell_type": "markdown",
   "id": "39b7e24e",
   "metadata": {
    "slideshow": {
     "slide_type": "slide"
    }
   },
   "source": [
    "# MTH 302: Linear Algebra and Differential Equations\n",
    "\n",
    "## Matrix Algebra and Introduction to Inverses\n",
    "    \n",
    "## 2023 February 2"
   ]
  },
  {
   "cell_type": "markdown",
   "id": "5e8c0736",
   "metadata": {
    "slideshow": {
     "slide_type": "slide"
    }
   },
   "source": [
    "## Housekeeping\n",
    "\n",
    "- Change to quiz setup for Class Preps next week \n",
    "- Where do you find due dates? \n",
    "- What's in the announcements? "
   ]
  },
  {
   "cell_type": "markdown",
   "id": "5fd295f5",
   "metadata": {
    "slideshow": {
     "slide_type": "slide"
    }
   },
   "source": [
    "## Today's Goals\n",
    "\n",
    "- Add, subtract, rescale, and multiply matrices by hand\n",
    "- Do all of this in SymPy as well\n",
    "- Make conjectures about matrix arithmetic \n",
    "- Find the inverse of a square matrix (if it exists) using RREF \n",
    "- Make conjectutes about matrix inverses (connect to linear independence, etc.) "
   ]
  },
  {
   "cell_type": "markdown",
   "id": "def88617",
   "metadata": {
    "slideshow": {
     "slide_type": "slide"
    }
   },
   "source": [
    "## Q&A from Class Prep \n",
    "\n",
    "(Filled in later)"
   ]
  },
  {
   "cell_type": "markdown",
   "id": "a548b2b2",
   "metadata": {
    "slideshow": {
     "slide_type": "slide"
    }
   },
   "source": [
    "## Practice \n",
    "\n",
    "Work through **Exercise 1.7 #1 (and #2 if time)** by hand.\n",
    "\n",
    "Note: This is Foundational Skill LA.4\n",
    "\n",
    ">LA.4: I can add, subtract, and multiply matrices.\n",
    "\n",
    "We will debrief this using SymPy. "
   ]
  },
  {
   "cell_type": "code",
   "execution_count": 4,
   "id": "680a889a",
   "metadata": {
    "slideshow": {
     "slide_type": "slide"
    }
   },
   "outputs": [],
   "source": [
    "from sympy import *\n",
    "init_printing()\n",
    "A = Matrix(2,3,[3,-5,2,-1,5,-4])\n",
    "B = Matrix(3,2,[-6,10,2,11,-3,-2])\n",
    "C = Matrix(3,2,[5,3,-1,0,2,-4])"
   ]
  },
  {
   "cell_type": "code",
   "execution_count": 6,
   "id": "28d28af6",
   "metadata": {
    "slideshow": {
     "slide_type": "fragment"
    }
   },
   "outputs": [
    {
     "data": {
      "text/latex": [
       "$\\displaystyle \\left[\\begin{matrix}3 & -1\\\\-5 & 5\\\\2 & -4\\end{matrix}\\right]$"
      ],
      "text/plain": [
       "⎡3   -1⎤\n",
       "⎢      ⎥\n",
       "⎢-5  5 ⎥\n",
       "⎢      ⎥\n",
       "⎣2   -4⎦"
      ]
     },
     "execution_count": 6,
     "metadata": {},
     "output_type": "execute_result"
    }
   ],
   "source": [
    "A.transpose()"
   ]
  },
  {
   "cell_type": "code",
   "execution_count": null,
   "id": "63397b6c",
   "metadata": {
    "slideshow": {
     "slide_type": "fragment"
    }
   },
   "outputs": [],
   "source": [
    "# Check arithmetic here "
   ]
  },
  {
   "cell_type": "markdown",
   "id": "3783f654",
   "metadata": {
    "slideshow": {
     "slide_type": "slide"
    }
   },
   "source": [
    "## Activity\n",
    "\n",
    "In groups, work on Part 1 of tonight's activity. \n",
    "\n",
    "Demo for the first item is on the next slide. "
   ]
  },
  {
   "cell_type": "code",
   "execution_count": 9,
   "id": "f17575f4",
   "metadata": {
    "slideshow": {
     "slide_type": "slide"
    }
   },
   "outputs": [
    {
     "data": {
      "text/latex": [
       "$\\displaystyle \\left( \\left[\\begin{matrix}1 & -6 & -11 & 11\\\\6 & 3 & 4 & -9\\\\14 & 1 & -7 & 8\\\\11 & -12 & -7 & 14\\end{matrix}\\right], \\  \\left[\\begin{matrix}-2 & -13 & -1 & -13\\\\9 & 0 & 6 & -11\\\\12 & -8 & 5 & 3\\\\3 & 12 & 5 & -11\\end{matrix}\\right]\\right)$"
      ],
      "text/plain": [
       "⎛⎡1   -6   -11  11⎤  ⎡-2  -13  -1  -13⎤⎞\n",
       "⎜⎢                ⎥  ⎢                ⎥⎟\n",
       "⎜⎢6    3    4   -9⎥  ⎢9    0   6   -11⎥⎟\n",
       "⎜⎢                ⎥, ⎢                ⎥⎟\n",
       "⎜⎢14   1   -7   8 ⎥  ⎢12  -8   5    3 ⎥⎟\n",
       "⎜⎢                ⎥  ⎢                ⎥⎟\n",
       "⎝⎣11  -12  -7   14⎦  ⎣3   12   5   -11⎦⎠"
      ]
     },
     "execution_count": 9,
     "metadata": {},
     "output_type": "execute_result"
    }
   ],
   "source": [
    "# Randomly generate two 4x4 matrices\n",
    "A = randMatrix(4,4,-15,15)\n",
    "B = randMatrix(4,4,-15,15)\n",
    "(A,B)"
   ]
  },
  {
   "cell_type": "code",
   "execution_count": 10,
   "id": "eeb0d88c",
   "metadata": {},
   "outputs": [
    {
     "data": {
      "text/latex": [
       "$\\displaystyle \\left( \\left[\\begin{matrix}-1 & -19 & -12 & -2\\\\15 & 3 & 10 & -20\\\\26 & -7 & -2 & 11\\\\14 & 0 & -2 & 3\\end{matrix}\\right], \\  \\left[\\begin{matrix}-1 & -19 & -12 & -2\\\\15 & 3 & 10 & -20\\\\26 & -7 & -2 & 11\\\\14 & 0 & -2 & 3\\end{matrix}\\right]\\right)$"
      ],
      "text/plain": [
       "⎛⎡-1  -19  -12  -2 ⎤  ⎡-1  -19  -12  -2 ⎤⎞\n",
       "⎜⎢                 ⎥  ⎢                 ⎥⎟\n",
       "⎜⎢15   3   10   -20⎥  ⎢15   3   10   -20⎥⎟\n",
       "⎜⎢                 ⎥, ⎢                 ⎥⎟\n",
       "⎜⎢26  -7   -2   11 ⎥  ⎢26  -7   -2   11 ⎥⎟\n",
       "⎜⎢                 ⎥  ⎢                 ⎥⎟\n",
       "⎝⎣14   0   -2    3 ⎦  ⎣14   0   -2    3 ⎦⎠"
      ]
     },
     "execution_count": 10,
     "metadata": {},
     "output_type": "execute_result"
    }
   ],
   "source": [
    "(A+B, B+A)"
   ]
  },
  {
   "cell_type": "markdown",
   "id": "e9881528",
   "metadata": {},
   "source": [
    "Does $A+B$ appear to be equal to $B+A$ all the time? If so, what's a general explanation? If not, what's an example of failure and an example of success? "
   ]
  },
  {
   "cell_type": "markdown",
   "id": "4a4c2561",
   "metadata": {
    "slideshow": {
     "slide_type": "slide"
    }
   },
   "source": [
    "# Break time! "
   ]
  },
  {
   "cell_type": "markdown",
   "id": "7531c007",
   "metadata": {
    "slideshow": {
     "slide_type": "slide"
    }
   },
   "source": [
    "## Inverses\n",
    "\n",
    "If $\\mathbf{A}$ is $n \\times n$, then $\\mathbf{A}$ is **invertible** if there is another matrix $\\mathbf{B}$ such that $\\mathbf{AB = I}_n$ and $\\mathbf{BA = I}_n$. \n",
    "\n",
    "Example: $\\mathbf{A} = \\begin{bmatrix} 1 & 2 \\\\ -1 & 4 \\end{bmatrix}$ is invertible:\n",
    "\n",
    "$$\\begin{bmatrix} 1 & 2 \\\\ -1 & 4 \\end{bmatrix} \\left[\\begin{matrix}\\frac{2}{3} & - \\frac{1}{3}\\\\\\frac{1}{6} & \\frac{1}{6}\\end{matrix}\\right] = \\begin{bmatrix} 1 & 0 \\\\ 0 & 1 \\end{bmatrix}$$\n",
    "\n",
    "(Check that this also works if you reverse the order.) "
   ]
  },
  {
   "cell_type": "markdown",
   "id": "5c81ea6f",
   "metadata": {
    "slideshow": {
     "slide_type": "slide"
    }
   },
   "source": [
    "## Not all matrices are invertible \n",
    "\n",
    "Let $\\mathbf{A} = \\begin{bmatrix} 1 & 2 \\\\ -1 & -2 \\end{bmatrix}$. Is there a way to fill in the entries? \n",
    "\n",
    "$$\\begin{bmatrix} 1 & 2 \\\\ -1 & -2 \\end{bmatrix} \\left[\\begin{matrix} a & b \\\\ c & d \\end{matrix}\\right] = \\begin{bmatrix} 1 & 0 \\\\ 0 & 1 \\end{bmatrix}$$"
   ]
  },
  {
   "cell_type": "code",
   "execution_count": 19,
   "id": "72073202",
   "metadata": {
    "slideshow": {
     "slide_type": "fragment"
    }
   },
   "outputs": [
    {
     "data": {
      "text/latex": [
       "$\\displaystyle \\left[\\begin{matrix}a + 2 c & b + 2 d\\\\- a - 2 c & - b - 2 d\\end{matrix}\\right]$"
      ],
      "text/plain": [
       "⎡a + 2⋅c   b + 2⋅d ⎤\n",
       "⎢                  ⎥\n",
       "⎣-a - 2⋅c  -b - 2⋅d⎦"
      ]
     },
     "execution_count": 19,
     "metadata": {},
     "output_type": "execute_result"
    }
   ],
   "source": [
    "a,b,c,d = var(\"a b c d\")\n",
    "A = Matrix(2,2,[1,2,-1,-2])\n",
    "X = Matrix(2,2,[a,b,c,d])\n",
    "A*X"
   ]
  },
  {
   "cell_type": "markdown",
   "id": "a36dc517",
   "metadata": {
    "slideshow": {
     "slide_type": "slide"
    }
   },
   "source": [
    "## Finding inverses using RREF\n",
    "\n",
    "- Form an augmented matrix with $\\mathbf{A}$ on the left and $\\mathbf{I}_n$ on the right\n",
    "- RREF the entire thing\n",
    "- If pivot position in every row: Get $\\mathbf{I}_n$ on the left and $\\mathbf{A}^{-1}$ on the right\n",
    "- Otherwise $\\mathbf{A}$ is not invertible"
   ]
  },
  {
   "cell_type": "code",
   "execution_count": 37,
   "id": "67d90f7d",
   "metadata": {},
   "outputs": [
    {
     "data": {
      "text/latex": [
       "$\\displaystyle \\left[\\begin{matrix}-10 & -1 & 0 & 1 & 0 & 0\\\\0 & 5 & 2 & 0 & 1 & 0\\\\10 & 8 & -8 & 0 & 0 & 1\\end{matrix}\\right]$"
      ],
      "text/plain": [
       "⎡-10  -1  0   1  0  0⎤\n",
       "⎢                    ⎥\n",
       "⎢ 0   5   2   0  1  0⎥\n",
       "⎢                    ⎥\n",
       "⎣10   8   -8  0  0  1⎦"
      ]
     },
     "execution_count": 37,
     "metadata": {},
     "output_type": "execute_result"
    }
   ],
   "source": [
    "# Example\n",
    "A = randMatrix(3,3,-10,10)\n",
    "I = eye(3)   # Produces 3x3 identity matrix \n",
    "M = A.col_insert(4,I)\n",
    "M"
   ]
  },
  {
   "cell_type": "code",
   "execution_count": 38,
   "id": "95475ba4",
   "metadata": {
    "slideshow": {
     "slide_type": "fragment"
    }
   },
   "outputs": [
    {
     "data": {
      "text/latex": [
       "$\\displaystyle \\left[\\begin{matrix}1 & 0 & 0 & - \\frac{14}{135} & - \\frac{2}{135} & - \\frac{1}{270}\\\\0 & 1 & 0 & \\frac{1}{27} & \\frac{4}{27} & \\frac{1}{27}\\\\0 & 0 & 1 & - \\frac{5}{54} & \\frac{7}{54} & - \\frac{5}{54}\\end{matrix}\\right]$"
      ],
      "text/plain": [
       "⎡         -14                  ⎤\n",
       "⎢1  0  0  ────   -2/135  -1/270⎥\n",
       "⎢         135                  ⎥\n",
       "⎢                              ⎥\n",
       "⎢0  1  0  1/27    4/27    1/27 ⎥\n",
       "⎢                              ⎥\n",
       "⎣0  0  1  -5/54   7/54   -5/54 ⎦"
      ]
     },
     "execution_count": 38,
     "metadata": {},
     "output_type": "execute_result"
    }
   ],
   "source": [
    "M.rref(pivots=False)"
   ]
  },
  {
   "cell_type": "markdown",
   "id": "95b32809",
   "metadata": {
    "slideshow": {
     "slide_type": "slide"
    }
   },
   "source": [
    "## Getting inverses from SymPy directly"
   ]
  },
  {
   "cell_type": "code",
   "execution_count": 39,
   "id": "8167bc34",
   "metadata": {},
   "outputs": [
    {
     "data": {
      "text/latex": [
       "$\\displaystyle \\left[\\begin{matrix}4 & -16 & 12 & -7\\\\10 & 17 & -6 & -13\\\\5 & 13 & -8 & 3\\\\1 & -15 & 20 & -18\\end{matrix}\\right]$"
      ],
      "text/plain": [
       "⎡4   -16  12  -7 ⎤\n",
       "⎢                ⎥\n",
       "⎢10  17   -6  -13⎥\n",
       "⎢                ⎥\n",
       "⎢5   13   -8   3 ⎥\n",
       "⎢                ⎥\n",
       "⎣1   -15  20  -18⎦"
      ]
     },
     "execution_count": 39,
     "metadata": {},
     "output_type": "execute_result"
    }
   ],
   "source": [
    "A = randMatrix(4,4,-20,20)\n",
    "A"
   ]
  },
  {
   "cell_type": "code",
   "execution_count": 40,
   "id": "7c19f611",
   "metadata": {},
   "outputs": [
    {
     "data": {
      "text/latex": [
       "$\\displaystyle \\left[\\begin{matrix}\\frac{763}{6696} & - \\frac{7}{1674} & \\frac{271}{2232} & - \\frac{47}{2232}\\\\- \\frac{187}{2232} & - \\frac{29}{558} & \\frac{113}{744} & \\frac{71}{744}\\\\- \\frac{835}{13392} & - \\frac{407}{3348} & \\frac{1169}{4464} & \\frac{695}{4464}\\\\\\frac{23}{3348} & - \\frac{77}{837} & \\frac{191}{1116} & \\frac{41}{1116}\\end{matrix}\\right]$"
      ],
      "text/plain": [
       "⎡763             271   -47 ⎤\n",
       "⎢────   -7/1674  ────  ────⎥\n",
       "⎢6696            2232  2232⎥\n",
       "⎢                          ⎥\n",
       "⎢-187    -29     113    71 ⎥\n",
       "⎢─────   ────    ───   ─── ⎥\n",
       "⎢ 2232   558     744   744 ⎥\n",
       "⎢                          ⎥\n",
       "⎢-835    -407    1169  695 ⎥\n",
       "⎢─────   ─────   ────  ────⎥\n",
       "⎢13392    3348   4464  4464⎥\n",
       "⎢                          ⎥\n",
       "⎢ 23     -77     191    41 ⎥\n",
       "⎢────    ────    ────  ────⎥\n",
       "⎣3348    837     1116  1116⎦"
      ]
     },
     "execution_count": 40,
     "metadata": {},
     "output_type": "execute_result"
    }
   ],
   "source": [
    "A.inv()"
   ]
  },
  {
   "cell_type": "code",
   "execution_count": 41,
   "id": "d90a701f",
   "metadata": {
    "slideshow": {
     "slide_type": "slide"
    }
   },
   "outputs": [
    {
     "ename": "NonInvertibleMatrixError",
     "evalue": "Matrix det == 0; not invertible.",
     "output_type": "error",
     "traceback": [
      "\u001b[0;31m---------------------------------------------------------------------------\u001b[0m",
      "\u001b[0;31mNonInvertibleMatrixError\u001b[0m                  Traceback (most recent call last)",
      "\u001b[0;32m/var/folders/2l/lcsckh_d17q9mfx384308my00000gn/T/ipykernel_25158/816655930.py\u001b[0m in \u001b[0;36m<module>\u001b[0;34m\u001b[0m\n\u001b[1;32m      1\u001b[0m \u001b[0;31m# What if A is non-invertible\u001b[0m\u001b[0;34m\u001b[0m\u001b[0;34m\u001b[0m\u001b[0m\n\u001b[1;32m      2\u001b[0m \u001b[0mA\u001b[0m \u001b[0;34m=\u001b[0m \u001b[0mMatrix\u001b[0m\u001b[0;34m(\u001b[0m\u001b[0;36m2\u001b[0m\u001b[0;34m,\u001b[0m\u001b[0;36m2\u001b[0m\u001b[0;34m,\u001b[0m\u001b[0;34m[\u001b[0m\u001b[0;36m1\u001b[0m\u001b[0;34m,\u001b[0m\u001b[0;34m-\u001b[0m\u001b[0;36m1\u001b[0m\u001b[0;34m,\u001b[0m\u001b[0;36m2\u001b[0m\u001b[0;34m,\u001b[0m\u001b[0;34m-\u001b[0m\u001b[0;36m2\u001b[0m\u001b[0;34m]\u001b[0m\u001b[0;34m)\u001b[0m\u001b[0;34m\u001b[0m\u001b[0;34m\u001b[0m\u001b[0m\n\u001b[0;32m----> 3\u001b[0;31m \u001b[0mA\u001b[0m\u001b[0;34m.\u001b[0m\u001b[0minv\u001b[0m\u001b[0;34m(\u001b[0m\u001b[0;34m)\u001b[0m\u001b[0;34m\u001b[0m\u001b[0;34m\u001b[0m\u001b[0m\n\u001b[0m",
      "\u001b[0;32m~/opt/anaconda3/lib/python3.9/site-packages/sympy/matrices/matrices.py\u001b[0m in \u001b[0;36minv\u001b[0;34m(self, method, iszerofunc, try_block_diag)\u001b[0m\n\u001b[1;32m   2217\u001b[0m \u001b[0;34m\u001b[0m\u001b[0m\n\u001b[1;32m   2218\u001b[0m     \u001b[0;32mdef\u001b[0m \u001b[0minv\u001b[0m\u001b[0;34m(\u001b[0m\u001b[0mself\u001b[0m\u001b[0;34m,\u001b[0m \u001b[0mmethod\u001b[0m\u001b[0;34m=\u001b[0m\u001b[0;32mNone\u001b[0m\u001b[0;34m,\u001b[0m \u001b[0miszerofunc\u001b[0m\u001b[0;34m=\u001b[0m\u001b[0m_iszero\u001b[0m\u001b[0;34m,\u001b[0m \u001b[0mtry_block_diag\u001b[0m\u001b[0;34m=\u001b[0m\u001b[0;32mFalse\u001b[0m\u001b[0;34m)\u001b[0m\u001b[0;34m:\u001b[0m\u001b[0;34m\u001b[0m\u001b[0;34m\u001b[0m\u001b[0m\n\u001b[0;32m-> 2219\u001b[0;31m         return _inv(self, method=method, iszerofunc=iszerofunc,\n\u001b[0m\u001b[1;32m   2220\u001b[0m                 try_block_diag=try_block_diag)\n\u001b[1;32m   2221\u001b[0m \u001b[0;34m\u001b[0m\u001b[0m\n",
      "\u001b[0;32m~/opt/anaconda3/lib/python3.9/site-packages/sympy/matrices/inverse.py\u001b[0m in \u001b[0;36m_inv\u001b[0;34m(M, method, iszerofunc, try_block_diag)\u001b[0m\n\u001b[1;32m    457\u001b[0m \u001b[0;34m\u001b[0m\u001b[0m\n\u001b[1;32m    458\u001b[0m     \u001b[0;32mif\u001b[0m \u001b[0mmethod\u001b[0m \u001b[0;34m==\u001b[0m \u001b[0;34m\"GE\"\u001b[0m\u001b[0;34m:\u001b[0m\u001b[0;34m\u001b[0m\u001b[0;34m\u001b[0m\u001b[0m\n\u001b[0;32m--> 459\u001b[0;31m         \u001b[0mrv\u001b[0m \u001b[0;34m=\u001b[0m \u001b[0mM\u001b[0m\u001b[0;34m.\u001b[0m\u001b[0minverse_GE\u001b[0m\u001b[0;34m(\u001b[0m\u001b[0miszerofunc\u001b[0m\u001b[0;34m=\u001b[0m\u001b[0miszerofunc\u001b[0m\u001b[0;34m)\u001b[0m\u001b[0;34m\u001b[0m\u001b[0;34m\u001b[0m\u001b[0m\n\u001b[0m\u001b[1;32m    460\u001b[0m     \u001b[0;32melif\u001b[0m \u001b[0mmethod\u001b[0m \u001b[0;34m==\u001b[0m \u001b[0;34m\"LU\"\u001b[0m\u001b[0;34m:\u001b[0m\u001b[0;34m\u001b[0m\u001b[0;34m\u001b[0m\u001b[0m\n\u001b[1;32m    461\u001b[0m         \u001b[0mrv\u001b[0m \u001b[0;34m=\u001b[0m \u001b[0mM\u001b[0m\u001b[0;34m.\u001b[0m\u001b[0minverse_LU\u001b[0m\u001b[0;34m(\u001b[0m\u001b[0miszerofunc\u001b[0m\u001b[0;34m=\u001b[0m\u001b[0miszerofunc\u001b[0m\u001b[0;34m)\u001b[0m\u001b[0;34m\u001b[0m\u001b[0;34m\u001b[0m\u001b[0m\n",
      "\u001b[0;32m~/opt/anaconda3/lib/python3.9/site-packages/sympy/matrices/matrices.py\u001b[0m in \u001b[0;36minverse_GE\u001b[0;34m(self, iszerofunc)\u001b[0m\n\u001b[1;32m   2202\u001b[0m \u001b[0;34m\u001b[0m\u001b[0m\n\u001b[1;32m   2203\u001b[0m     \u001b[0;32mdef\u001b[0m \u001b[0minverse_GE\u001b[0m\u001b[0;34m(\u001b[0m\u001b[0mself\u001b[0m\u001b[0;34m,\u001b[0m \u001b[0miszerofunc\u001b[0m\u001b[0;34m=\u001b[0m\u001b[0m_iszero\u001b[0m\u001b[0;34m)\u001b[0m\u001b[0;34m:\u001b[0m\u001b[0;34m\u001b[0m\u001b[0;34m\u001b[0m\u001b[0m\n\u001b[0;32m-> 2204\u001b[0;31m         \u001b[0;32mreturn\u001b[0m \u001b[0m_inv_GE\u001b[0m\u001b[0;34m(\u001b[0m\u001b[0mself\u001b[0m\u001b[0;34m,\u001b[0m \u001b[0miszerofunc\u001b[0m\u001b[0;34m=\u001b[0m\u001b[0miszerofunc\u001b[0m\u001b[0;34m)\u001b[0m\u001b[0;34m\u001b[0m\u001b[0;34m\u001b[0m\u001b[0m\n\u001b[0m\u001b[1;32m   2205\u001b[0m \u001b[0;34m\u001b[0m\u001b[0m\n\u001b[1;32m   2206\u001b[0m     \u001b[0;32mdef\u001b[0m \u001b[0minverse_LU\u001b[0m\u001b[0;34m(\u001b[0m\u001b[0mself\u001b[0m\u001b[0;34m,\u001b[0m \u001b[0miszerofunc\u001b[0m\u001b[0;34m=\u001b[0m\u001b[0m_iszero\u001b[0m\u001b[0;34m)\u001b[0m\u001b[0;34m:\u001b[0m\u001b[0;34m\u001b[0m\u001b[0;34m\u001b[0m\u001b[0m\n",
      "\u001b[0;32m~/opt/anaconda3/lib/python3.9/site-packages/sympy/matrices/inverse.py\u001b[0m in \u001b[0;36m_inv_GE\u001b[0;34m(M, iszerofunc)\u001b[0m\n\u001b[1;32m    243\u001b[0m \u001b[0;34m\u001b[0m\u001b[0m\n\u001b[1;32m    244\u001b[0m     \u001b[0;32mif\u001b[0m \u001b[0many\u001b[0m\u001b[0;34m(\u001b[0m\u001b[0miszerofunc\u001b[0m\u001b[0;34m(\u001b[0m\u001b[0mred\u001b[0m\u001b[0;34m[\u001b[0m\u001b[0mj\u001b[0m\u001b[0;34m,\u001b[0m \u001b[0mj\u001b[0m\u001b[0;34m]\u001b[0m\u001b[0;34m)\u001b[0m \u001b[0;32mfor\u001b[0m \u001b[0mj\u001b[0m \u001b[0;32min\u001b[0m \u001b[0mrange\u001b[0m\u001b[0;34m(\u001b[0m\u001b[0mred\u001b[0m\u001b[0;34m.\u001b[0m\u001b[0mrows\u001b[0m\u001b[0;34m)\u001b[0m\u001b[0;34m)\u001b[0m\u001b[0;34m:\u001b[0m\u001b[0;34m\u001b[0m\u001b[0;34m\u001b[0m\u001b[0m\n\u001b[0;32m--> 245\u001b[0;31m         \u001b[0;32mraise\u001b[0m \u001b[0mNonInvertibleMatrixError\u001b[0m\u001b[0;34m(\u001b[0m\u001b[0;34m\"Matrix det == 0; not invertible.\"\u001b[0m\u001b[0;34m)\u001b[0m\u001b[0;34m\u001b[0m\u001b[0;34m\u001b[0m\u001b[0m\n\u001b[0m\u001b[1;32m    246\u001b[0m \u001b[0;34m\u001b[0m\u001b[0m\n\u001b[1;32m    247\u001b[0m     \u001b[0;32mreturn\u001b[0m \u001b[0mM\u001b[0m\u001b[0;34m.\u001b[0m\u001b[0m_new\u001b[0m\u001b[0;34m(\u001b[0m\u001b[0mred\u001b[0m\u001b[0;34m[\u001b[0m\u001b[0;34m:\u001b[0m\u001b[0;34m,\u001b[0m \u001b[0mbig\u001b[0m\u001b[0;34m.\u001b[0m\u001b[0mrows\u001b[0m\u001b[0;34m:\u001b[0m\u001b[0;34m]\u001b[0m\u001b[0;34m)\u001b[0m\u001b[0;34m\u001b[0m\u001b[0;34m\u001b[0m\u001b[0m\n",
      "\u001b[0;31mNonInvertibleMatrixError\u001b[0m: Matrix det == 0; not invertible."
     ]
    }
   ],
   "source": [
    "# What if A is non-invertible \n",
    "A = Matrix(2,2,[1,-1,2,-2])\n",
    "A.inv()"
   ]
  },
  {
   "cell_type": "markdown",
   "id": "26eddf3b",
   "metadata": {
    "slideshow": {
     "slide_type": "slide"
    }
   },
   "source": [
    "# Activity\n",
    "\n",
    "## Work in groups on today's activity, Part 2. "
   ]
  },
  {
   "cell_type": "markdown",
   "id": "dd722b04",
   "metadata": {
    "slideshow": {
     "slide_type": "slide"
    }
   },
   "source": [
    "# Skill Quiz 3\n",
    "\n",
    "## Find it on Blackboard > Skill Quizzes. "
   ]
  },
  {
   "cell_type": "markdown",
   "id": "d95953ca",
   "metadata": {
    "slideshow": {
     "slide_type": "slide"
    }
   },
   "source": [
    "# Next time\n",
    "\n",
    "- The Invertible Matrix Theorem \n",
    "- Determinants \n",
    "- How inverses and determinants connect to linear independence, span, etc. "
   ]
  }
 ],
 "metadata": {
  "celltoolbar": "Slideshow",
  "kernelspec": {
   "display_name": "Python 3 (ipykernel)",
   "language": "python",
   "name": "python3"
  },
  "language_info": {
   "codemirror_mode": {
    "name": "ipython",
    "version": 3
   },
   "file_extension": ".py",
   "mimetype": "text/x-python",
   "name": "python",
   "nbconvert_exporter": "python",
   "pygments_lexer": "ipython3",
   "version": "3.9.15"
  }
 },
 "nbformat": 4,
 "nbformat_minor": 5
}
