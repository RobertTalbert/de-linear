{
 "cells": [
  {
   "cell_type": "markdown",
   "metadata": {
    "slideshow": {
     "slide_type": "slide"
    }
   },
   "source": [
    "## Linear systems revisited\n",
    "\n",
    "## Part 2: One theorem to rule them all \n",
    "\n",
    "### MTH 302: Linear Algebra and Differential Equations"
   ]
  },
  {
   "cell_type": "markdown",
   "metadata": {
    "slideshow": {
     "slide_type": "slide"
    }
   },
   "source": [
    "## Everything comes back to linear systems\n",
    "\n",
    "![](system-connection.png)"
   ]
  },
  {
   "cell_type": "markdown",
   "metadata": {
    "slideshow": {
     "slide_type": "slide"
    }
   },
   "source": [
    "$$\\mathbf{A} = \\begin{bmatrix} 2 & -1 \\\\ 1 & -1/2 \\end{bmatrix}$$\n",
    "\n",
    "**Choose one:** The system $\\mathbf{Ax} = \\mathbf{b}$ is consistent (has a solution)...\n",
    "\n",
    "1. For all vectors $\\mathbf{b} \\in \\mathbb{R}^2$\n",
    "2. For some, but not all vectors $\\mathbf{b} \\in \\mathbb{R}^2$\n",
    "3. For none of the vectors $\\mathbf{b} \\in \\mathbb{R}^2$\n",
    "\n",
    "\n"
   ]
  },
  {
   "cell_type": "markdown",
   "metadata": {
    "slideshow": {
     "slide_type": "slide"
    }
   },
   "source": [
    "$$\\mathbf{A} = \\begin{bmatrix} 2 & -1 \\\\ 1 & -1/2 \\end{bmatrix}$$\n",
    "\n",
    "The system $\\mathbf{Ax} = \\mathbf{b}$ is *sometimes* consistent. \n",
    "\n",
    "Example: $\\mathbf{b} = [6 \\ 3]^T$"
   ]
  },
  {
   "cell_type": "code",
   "execution_count": 1,
   "metadata": {
    "slideshow": {
     "slide_type": "-"
    }
   },
   "outputs": [],
   "source": [
    "from sympy import * \n",
    "init_printing()"
   ]
  },
  {
   "cell_type": "code",
   "execution_count": 2,
   "metadata": {
    "slideshow": {
     "slide_type": "fragment"
    }
   },
   "outputs": [
    {
     "data": {
      "text/latex": [
       "$\\displaystyle \\left[\\begin{matrix}1 & - \\frac{1}{2} & 3\\\\0 & 0 & 0\\end{matrix}\\right]$"
      ],
      "text/plain": [
       "⎡1  -1/2  3⎤\n",
       "⎢          ⎥\n",
       "⎣0   0    0⎦"
      ]
     },
     "execution_count": 2,
     "metadata": {},
     "output_type": "execute_result"
    }
   ],
   "source": [
    "A = Matrix(2,3,[2,-1,6,1,-1/2,3])\n",
    "A.rref(pivots=False)"
   ]
  },
  {
   "cell_type": "markdown",
   "metadata": {
    "slideshow": {
     "slide_type": "slide"
    }
   },
   "source": [
    "$$\\mathbf{A} = \\begin{bmatrix} 2 & -1 \\\\ 1 & -1/2 \\end{bmatrix}$$\n",
    "\n",
    "Notice too: \n",
    "\n",
    "* $[ 6 \\ 3]^T$ is a linear combination of the columns of $\\mathbf{A}$ (3 times first column plus 0 times second; or 0 times the first column plus $-6$ times the second)\n",
    "* Which means $[ 6 \\ 3]^T$ is in the span of the columns of $\\mathbf{A}$ "
   ]
  },
  {
   "cell_type": "markdown",
   "metadata": {
    "slideshow": {
     "slide_type": "slide"
    }
   },
   "source": [
    "$$\\mathbf{A} = \\begin{bmatrix} 2 & -1 \\\\ 1 & -1/2 \\end{bmatrix}$$\n",
    "\n",
    "But the system $\\mathbf{Ax} = \\mathbf{b}$ is *not always* consistent. \n",
    "\n",
    "Example: $\\mathbf{b} = [4 \\ 4]^T$"
   ]
  },
  {
   "cell_type": "code",
   "execution_count": 3,
   "metadata": {
    "slideshow": {
     "slide_type": "fragment"
    }
   },
   "outputs": [
    {
     "data": {
      "text/latex": [
       "$\\displaystyle \\left[\\begin{matrix}1 & - \\frac{1}{2} & 0\\\\0 & 0 & 1\\end{matrix}\\right]$"
      ],
      "text/plain": [
       "⎡1  -1/2  0⎤\n",
       "⎢          ⎥\n",
       "⎣0   0    1⎦"
      ]
     },
     "execution_count": 3,
     "metadata": {},
     "output_type": "execute_result"
    }
   ],
   "source": [
    "A = Matrix(2,3,[2,-1,4,1,-1/2,4])\n",
    "A.rref(pivots=False)"
   ]
  },
  {
   "cell_type": "markdown",
   "metadata": {
    "slideshow": {
     "slide_type": "slide"
    }
   },
   "source": [
    "![Theorem 1.5.1](thm151.jpeg)"
   ]
  },
  {
   "cell_type": "markdown",
   "metadata": {
    "slideshow": {
     "slide_type": "slide"
    }
   },
   "source": [
    "## Theorem 1.5.1\n",
    "\n",
    "Let $\\mathbf{A}$ be an $m \\times n$ matrix. Let $\\mathbf{b}$ be a vector in $\\mathbb{R}^m$. So, $\\mathbf{Ax} = \\mathbf{b}$ represents a system of $m$ linear equations in $n$ variables. Then *the following are equivalent*: \n",
    "\n",
    "1. The system $\\mathbf{Ax} = \\mathbf{b}$ is consistent. \n",
    "2. The vector $\\mathbf{b}$ is a linear combination of the columns of $\\mathbf{A}$. \n",
    "3. The vector $\\mathbf{b}$ is in the span of the columns of $\\mathbf{A}$. \n",
    "4. When the augmented matrix $[\\mathbf{A} \\ \\mathbf{b}]$ is row-reduced, there are no rows where the first $n$ entries are zero but the last entry is nonzero. \n"
   ]
  },
  {
   "cell_type": "markdown",
   "metadata": {
    "slideshow": {
     "slide_type": "slide"
    }
   },
   "source": [
    "## Theorem 1.5.1 makes it easy to learn things about systems\n"
   ]
  },
  {
   "cell_type": "code",
   "execution_count": 4,
   "metadata": {},
   "outputs": [
    {
     "data": {
      "text/latex": [
       "$\\displaystyle \\left( \\left[\\begin{matrix}4\\\\9\\\\-3\\\\7\\\\-10\\end{matrix}\\right], \\  \\left[\\begin{matrix}-4\\\\-4\\\\4\\\\0\\\\5\\end{matrix}\\right], \\  \\left[\\begin{matrix}9\\\\2\\\\7\\\\-7\\\\-9\\end{matrix}\\right], \\  \\left[\\begin{matrix}-2\\\\-9\\\\10\\\\-5\\\\7\\end{matrix}\\right], \\  \\left[\\begin{matrix}-6\\\\-8\\\\-4\\\\7\\\\8\\end{matrix}\\right]\\right)$"
      ],
      "text/plain": [
       "⎛⎡ 4 ⎤  ⎡-4⎤  ⎡9 ⎤  ⎡-2⎤  ⎡-6⎤⎞\n",
       "⎜⎢   ⎥  ⎢  ⎥  ⎢  ⎥  ⎢  ⎥  ⎢  ⎥⎟\n",
       "⎜⎢ 9 ⎥  ⎢-4⎥  ⎢2 ⎥  ⎢-9⎥  ⎢-8⎥⎟\n",
       "⎜⎢   ⎥  ⎢  ⎥  ⎢  ⎥  ⎢  ⎥  ⎢  ⎥⎟\n",
       "⎜⎢-3 ⎥, ⎢4 ⎥, ⎢7 ⎥, ⎢10⎥, ⎢-4⎥⎟\n",
       "⎜⎢   ⎥  ⎢  ⎥  ⎢  ⎥  ⎢  ⎥  ⎢  ⎥⎟\n",
       "⎜⎢ 7 ⎥  ⎢0 ⎥  ⎢-7⎥  ⎢-5⎥  ⎢7 ⎥⎟\n",
       "⎜⎢   ⎥  ⎢  ⎥  ⎢  ⎥  ⎢  ⎥  ⎢  ⎥⎟\n",
       "⎝⎣-10⎦  ⎣5 ⎦  ⎣-9⎦  ⎣7 ⎦  ⎣8 ⎦⎠"
      ]
     },
     "execution_count": 4,
     "metadata": {},
     "output_type": "execute_result"
    }
   ],
   "source": [
    "v1 = randMatrix(5,1,-10,10)\n",
    "v2 = randMatrix(5,1,-10,10)\n",
    "v3 = randMatrix(5,1,-10,10)\n",
    "v4 = randMatrix(5,1,-10,10)\n",
    "b = randMatrix(5,1,-10,10)\n",
    "(v1, v2, v3, v4, b)"
   ]
  },
  {
   "cell_type": "markdown",
   "metadata": {
    "slideshow": {
     "slide_type": "fragment"
    }
   },
   "source": [
    "**Question: Is the last vector in the span of the first four?**"
   ]
  },
  {
   "cell_type": "code",
   "execution_count": 5,
   "metadata": {
    "slideshow": {
     "slide_type": "slide"
    }
   },
   "outputs": [
    {
     "data": {
      "text/latex": [
       "$\\displaystyle \\left[\\begin{matrix}4 & -4 & 9 & -2 & -6\\\\9 & -4 & 2 & -9 & -8\\\\-3 & 4 & 7 & 10 & -4\\\\7 & 0 & -7 & -5 & 7\\\\-10 & 5 & -9 & 7 & 8\\end{matrix}\\right]$"
      ],
      "text/plain": [
       "⎡ 4   -4  9   -2  -6⎤\n",
       "⎢                   ⎥\n",
       "⎢ 9   -4  2   -9  -8⎥\n",
       "⎢                   ⎥\n",
       "⎢-3   4   7   10  -4⎥\n",
       "⎢                   ⎥\n",
       "⎢ 7   0   -7  -5  7 ⎥\n",
       "⎢                   ⎥\n",
       "⎣-10  5   -9  7   8 ⎦"
      ]
     },
     "execution_count": 5,
     "metadata": {},
     "output_type": "execute_result"
    }
   ],
   "source": [
    "# You can ignore the chain of methods on this, just focus on the output\n",
    "M = Matrix([v1,v2,v3,v4,b]).reshape(5,5).transpose()\n",
    "M"
   ]
  },
  {
   "cell_type": "code",
   "execution_count": 6,
   "metadata": {
    "slideshow": {
     "slide_type": "fragment"
    }
   },
   "outputs": [
    {
     "data": {
      "text/latex": [
       "$\\displaystyle \\left[\\begin{matrix}1 & 0 & 0 & 0 & 0\\\\0 & 1 & 0 & 0 & 0\\\\0 & 0 & 1 & 0 & 0\\\\0 & 0 & 0 & 1 & 0\\\\0 & 0 & 0 & 0 & 1\\end{matrix}\\right]$"
      ],
      "text/plain": [
       "⎡1  0  0  0  0⎤\n",
       "⎢             ⎥\n",
       "⎢0  1  0  0  0⎥\n",
       "⎢             ⎥\n",
       "⎢0  0  1  0  0⎥\n",
       "⎢             ⎥\n",
       "⎢0  0  0  1  0⎥\n",
       "⎢             ⎥\n",
       "⎣0  0  0  0  1⎦"
      ]
     },
     "execution_count": 6,
     "metadata": {},
     "output_type": "execute_result"
    }
   ],
   "source": [
    "M.rref(pivots=False)"
   ]
  },
  {
   "cell_type": "markdown",
   "metadata": {
    "slideshow": {
     "slide_type": "slide"
    }
   },
   "source": [
    "## Why Theorem 1.5.1 is true\n",
    "\n",
    "1. The system $\\mathbf{Ax} = \\mathbf{b}$ is consistent. \n",
    "2. The vector $\\mathbf{b}$ is a linear combination of the columns of $\\mathbf{A}$. \n",
    "3. The vector $\\mathbf{b}$ is in the span of the columns of $\\mathbf{A}$. \n",
    "4. When the augmented matrix $[\\mathbf{A} \\ \\mathbf{b}]$ is row-reduced, there are no rows where the first $n$ entries are zero but the last entry is nonzero. "
   ]
  },
  {
   "cell_type": "markdown",
   "metadata": {
    "slideshow": {
     "slide_type": "fragment"
    }
   },
   "source": [
    "- (1) $\\leftrightarrow$ (4) is what we learned in week 1\n",
    "- (2) $\\leftrightarrow$ (3) is the definition of \"span\" \n",
    "- (1) $\\leftrightarrow$ (2) because \"$\\mathbf{Ax}$\" is a linear combination of the columns of $\\mathbf{A}$ using the entires of $\\mathbf{x}$ as the weights"
   ]
  }
 ],
 "metadata": {
  "celltoolbar": "Slideshow",
  "kernelspec": {
   "display_name": "Python 3 (ipykernel)",
   "language": "python",
   "name": "python3"
  },
  "language_info": {
   "codemirror_mode": {
    "name": "ipython",
    "version": 3
   },
   "file_extension": ".py",
   "mimetype": "text/x-python",
   "name": "python",
   "nbconvert_exporter": "python",
   "pygments_lexer": "ipython3",
   "version": "3.9.12"
  },
  "vscode": {
   "interpreter": {
    "hash": "784cc7598c8dead48ccbe373380d278edc58654b6275e9517b5b2c0bab31845c"
   }
  }
 },
 "nbformat": 4,
 "nbformat_minor": 2
}
