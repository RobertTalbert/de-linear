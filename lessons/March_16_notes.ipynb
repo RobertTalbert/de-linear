{
  "nbformat": 4,
  "nbformat_minor": 0,
  "metadata": {
    "colab": {
      "provenance": [],
      "authorship_tag": "ABX9TyORMM03PpYkF1bu2OBXTMee",
      "include_colab_link": true
    },
    "kernelspec": {
      "name": "python3",
      "display_name": "Python 3"
    },
    "language_info": {
      "name": "python"
    }
  },
  "cells": [
    {
      "cell_type": "markdown",
      "metadata": {
        "id": "view-in-github",
        "colab_type": "text"
      },
      "source": [
        "<a href=\"https://colab.research.google.com/github/RobertTalbert/linalg-diffeq/blob/main/lessons/March_16_notes.ipynb\" target=\"_parent\"><img src=\"https://colab.research.google.com/assets/colab-badge.svg\" alt=\"Open In Colab\"/></a>"
      ]
    },
    {
      "cell_type": "code",
      "execution_count": 1,
      "metadata": {
        "id": "vsCOiYLHUFMX"
      },
      "outputs": [],
      "source": [
        "from sympy import * \n",
        "init_printing()"
      ]
    },
    {
      "cell_type": "markdown",
      "source": [
        "$$\\mathbf{x}' = \\begin{bmatrix} 1 & 2 \\\\ 3 & 2 \\end{bmatrix} \\mathbf{x}$$\n",
        "\n",
        "Find the straight line solutions: \n",
        "1. Get eigenvalue/eigenvector pairs\n",
        "2. Build SLS with those"
      ],
      "metadata": {
        "id": "zk6N__0EUSaI"
      }
    },
    {
      "cell_type": "code",
      "source": [
        "# Eigenpairs \n",
        "\n",
        "A = Matrix(2,2,[1,2,3,2])\n",
        "A.eigenvects()"
      ],
      "metadata": {
        "id": "eBsOrr9MUJ4o"
      },
      "execution_count": null,
      "outputs": []
    },
    {
      "cell_type": "code",
      "source": [
        "t = var('t')\n",
        "f = Function('f')\n",
        "\n",
        "# First SLS\n",
        "s1 = (-exp(-t), exp(-t))\n",
        "\n",
        "# Second SLS \n",
        "s2 = (2/3*exp(4*t), exp(4*t))"
      ],
      "metadata": {
        "id": "FqqHoL-9UoOu"
      },
      "execution_count": 3,
      "outputs": []
    },
    {
      "cell_type": "code",
      "source": [
        "from sympy.core import parameters\n",
        "plot_parametric(s1, s2, (t,-2,2), \n",
        "                xlim = (-3,3), ylim = (-3,3), legend = True)\n",
        "\n",
        "# This plot doesn't use different colors! \n",
        "# Which one is which? "
      ],
      "metadata": {
        "id": "Hfx0tG9xUv6n"
      },
      "execution_count": null,
      "outputs": []
    },
    {
      "cell_type": "markdown",
      "source": [
        "Look at the first SLS: \n",
        "\n",
        "$$s_1(t) = e^{-t} \\begin{bmatrix} -1 \\\\ 1 \\end{bmatrix}$$\n",
        "\n",
        "What is the *trajectory* of a point along this line over time? \n",
        "\n",
        "- Let time be $t = 0$ and find the point on the line at that time \n",
        "- Make a table of values: \n",
        "\n",
        "| $t$ | $x$ | $y$ | \n",
        "|--- | --- | --- | \n",
        "| 0 |    |  | \n",
        "| 1 |    |  | \n",
        "| 2 |    |  | \n",
        "| 3 |    |  | \n",
        "\n",
        "What's happening over time? \n",
        "\n",
        "Then do the same for the other SLS. \n",
        "\n",
        "Then come up with a general explanation about the long-term behavior of SLS for a system that connects back to eigenvalues. "
      ],
      "metadata": {
        "id": "uq07s5XLXqqP"
      }
    },
    {
      "cell_type": "markdown",
      "source": [
        "## Equilibrium solutions \n",
        "\n",
        "$$\\mathbf{x}' = A\\mathbf{x}$$ \n",
        "\n",
        "An equilibrium solution to a system of DE's is a *constant* function that satisfies the system. \n",
        "\n",
        "If $\\mathbf{x}$ is an equilibrium solution then the left hand side of the above is ____. \n",
        "\n",
        "So how might we find equilibrium solutions? \n",
        "\n",
        "Apply this to the system from above. \n"
      ],
      "metadata": {
        "id": "QrjSRBByYlv2"
      }
    }
  ]
}