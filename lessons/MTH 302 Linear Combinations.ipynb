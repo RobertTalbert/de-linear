{
 "cells": [
  {
   "cell_type": "markdown",
   "id": "f35a501d",
   "metadata": {
    "slideshow": {
     "slide_type": "slide"
    }
   },
   "source": [
    "# MTH 302: Linear Algebra and Differential Equations \n",
    "\n",
    "## Linear combinations and matrix-vector products \n",
    "\n",
    "## 17 January 2023"
   ]
  },
  {
   "cell_type": "markdown",
   "id": "1c2b0fa6",
   "metadata": {
    "slideshow": {
     "slide_type": "slide"
    }
   },
   "source": [
    "## Goals  \n",
    "\n",
    "- Load Sympy into a Jupyter notebook; create matrices and vectors in SymPy\n",
    "- Compute a linear combination of two or more vectors and state the weights \n",
    "- Multiply a matrix times a vector and interpret the results as linear combinations \n",
    "- Compute a matrix-vector product using a computer tool (SymPy and Jupyter notebooks) "
   ]
  },
  {
   "cell_type": "markdown",
   "id": "ea59d8b6",
   "metadata": {
    "slideshow": {
     "slide_type": "slide"
    }
   },
   "source": [
    "##  Q&A from Class Prep \n",
    "\n",
    "(To be filled in later) "
   ]
  },
  {
   "cell_type": "markdown",
   "id": "2f16d0bd",
   "metadata": {
    "slideshow": {
     "slide_type": "slide"
    }
   },
   "source": [
    "## SymPy\n",
    "\n",
    "Follow along by going to https://colab.research.google.com/ and open a new Jupyter notebook \n"
   ]
  },
  {
   "cell_type": "code",
   "execution_count": 1,
   "id": "d183b8f2",
   "metadata": {
    "slideshow": {
     "slide_type": "fragment"
    }
   },
   "outputs": [],
   "source": [
    "# Load the SymPy package \n",
    "from sympy import * \n",
    "\n",
    "# This makes the math output look nice \n",
    "init_printing() "
   ]
  },
  {
   "cell_type": "markdown",
   "id": "dc581006",
   "metadata": {
    "slideshow": {
     "slide_type": "slide"
    }
   },
   "source": [
    "Solve this system using SymPy:\n",
    "$$\\begin{align*}\n",
    "x + y + z &= 3 \\\\\n",
    "y - z &= 2 \\\\\n",
    "2x + y + z &= 4\n",
    "\\end{align*}$$"
   ]
  },
  {
   "cell_type": "code",
   "execution_count": 2,
   "id": "ce98e01a",
   "metadata": {
    "slideshow": {
     "slide_type": "fragment"
    }
   },
   "outputs": [
    {
     "data": {
      "image/png": "[encoded data removed]",
      "text/latex": [
       "$\\displaystyle \\left[\\begin{matrix}1 & 1 & 1 & 3\\\\0 & 1 & -1 & 2\\\\2 & 1 & 1 & 4\\end{matrix}\\right]$"
      ],
      "text/plain": [
       "⎡1  1  1   3⎤\n",
       "⎢           ⎥\n",
       "⎢0  1  -1  2⎥\n",
       "⎢           ⎥\n",
       "⎣2  1  1   4⎦"
      ]
     },
     "execution_count": 2,
     "metadata": {},
     "output_type": "execute_result"
    }
   ],
   "source": [
    "# Create the augmented matrix using the Matrix command\n",
    "A = Matrix([[1,1,1,3], [0,1,-1,2], [2,1,1,4]])\n",
    "A"
   ]
  },
  {
   "cell_type": "code",
   "execution_count": 3,
   "id": "fa81130a",
   "metadata": {
    "slideshow": {
     "slide_type": "fragment"
    }
   },
   "outputs": [
    {
     "data": {
      "image/png": "[encoded data removed]",
      "text/latex": [
       "$\\displaystyle \\left[\\begin{matrix}1 & 0 & 0 & 1\\\\0 & 1 & 0 & 2\\\\0 & 0 & 1 & 0\\end{matrix}\\right]$"
      ],
      "text/plain": [
       "⎡1  0  0  1⎤\n",
       "⎢          ⎥\n",
       "⎢0  1  0  2⎥\n",
       "⎢          ⎥\n",
       "⎣0  0  1  0⎦"
      ]
     },
     "execution_count": 3,
     "metadata": {},
     "output_type": "execute_result"
    }
   ],
   "source": [
    "A.rref(pivots=False)"
   ]
  },
  {
   "cell_type": "code",
   "execution_count": 4,
   "id": "296099c5",
   "metadata": {
    "slideshow": {
     "slide_type": "slide"
    }
   },
   "outputs": [
    {
     "data": {
      "image/png": "[encoded data removed]",
      "text/latex": [
       "$\\displaystyle \\left[\\begin{matrix}1\\\\2\\\\3\\\\4\\end{matrix}\\right]$"
      ],
      "text/plain": [
       "⎡1⎤\n",
       "⎢ ⎥\n",
       "⎢2⎥\n",
       "⎢ ⎥\n",
       "⎢3⎥\n",
       "⎢ ⎥\n",
       "⎣4⎦"
      ]
     },
     "execution_count": 4,
     "metadata": {},
     "output_type": "execute_result"
    }
   ],
   "source": [
    "# Vectors are just 1-column matrices entered as a row\n",
    "\n",
    "v = Matrix([1,2,3,4])\n",
    "v"
   ]
  },
  {
   "cell_type": "markdown",
   "id": "9dbe539b",
   "metadata": {
    "slideshow": {
     "slide_type": "slide"
    }
   },
   "source": [
    "## Linear combinations\n",
    "\n",
    "A **sum** of **scalar multiples** of a collection of vectors. \n",
    "\n",
    "**Example:** $\\mathbf{v} = [1,0,-1]^T$, $\\mathbf{w} = [2,5,1]^T$ \n",
    "\n",
    "$$3\\mathbf{v} - 2\\mathbf{w} = 3 \\begin{bmatrix} 1 \\\\ 0 \\\\ -1 \\end{bmatrix} - 2 \\begin{bmatrix} 2 \\\\ 5 \\\\ 1 \\end{bmatrix} = \\begin{bmatrix} 3 \\\\ 0 \\\\ -3 \\end{bmatrix} + \\begin{bmatrix} -4 \\\\ -10 \\\\ -2 \\end{bmatrix} = \n",
    "\\begin{bmatrix} -1 \\\\ -10 \\\\ -5 \\end{bmatrix}$$"
   ]
  },
  {
   "cell_type": "code",
   "execution_count": 6,
   "id": "94b79e96",
   "metadata": {
    "slideshow": {
     "slide_type": "fragment"
    }
   },
   "outputs": [
    {
     "data": {
      "image/png": "[encoded data removed]",
      "text/latex": [
       "$\\displaystyle \\left[\\begin{matrix}-1\\\\-10\\\\-5\\end{matrix}\\right]$"
      ],
      "text/plain": [
       "⎡-1 ⎤\n",
       "⎢   ⎥\n",
       "⎢-10⎥\n",
       "⎢   ⎥\n",
       "⎣-5 ⎦"
      ]
     },
     "execution_count": 6,
     "metadata": {},
     "output_type": "execute_result"
    }
   ],
   "source": [
    "v = Matrix([1,0,-1])\n",
    "w = Matrix([2,5,1]) \n",
    "\n",
    "# Don't forget the *\n",
    "3*v - 2*w"
   ]
  },
  {
   "cell_type": "markdown",
   "id": "7d64871d",
   "metadata": {
    "slideshow": {
     "slide_type": "slide"
    }
   },
   "source": [
    "## Activity: \n",
    "\n",
    "1. By hand, find the linear combination $2\\mathbf{v} - \\mathbf{w}$ for the vectors $\\mathbf{v}, \\mathbf{w}$ in $\\mathbb{R}^2$ randomly generated below. \n",
    "2. By hand, find the linear combination $\\mathbf{a} + \\mathbf{b} - 3 \\mathbf{c}$ for the vectors $\\mathbf{a}, \\mathbf{b}, \\mathbf{c}$ in $\\mathbb{R}^3$ randomly generated below. \n",
    "3. Can you find a \"linear combination\" of a set of vectors with just one vector in it? \n",
    "4. Can you linearly combine a vector from $\\mathbb{R}^3$ with a vector from $\\mathbb{R}^4$? \n",
    "5. Check your work on the first two using Sympy. "
   ]
  },
  {
   "cell_type": "code",
   "execution_count": 20,
   "id": "fe034368",
   "metadata": {
    "slideshow": {
     "slide_type": "-"
    }
   },
   "outputs": [],
   "source": [
    "v = randMatrix(2,1,-10,10)\n",
    "w = randMatrix(2,1,-10,10)\n",
    "a = randMatrix(3,1,-10,10)\n",
    "b = randMatrix(3,1,-10,10)\n",
    "c = randMatrix(3,1,-10,10)"
   ]
  },
  {
   "cell_type": "code",
   "execution_count": 21,
   "id": "e4dcf454",
   "metadata": {
    "slideshow": {
     "slide_type": "slide"
    }
   },
   "outputs": [
    {
     "data": {
      "image/png": "[encoded data removed]",
      "text/latex": [
       "$\\displaystyle \\left( \\left[\\begin{matrix}4\\\\-10\\end{matrix}\\right], \\  \\left[\\begin{matrix}-2\\\\-3\\end{matrix}\\right]\\right)$"
      ],
      "text/plain": [
       "⎛⎡ 4 ⎤  ⎡-2⎤⎞\n",
       "⎜⎢   ⎥, ⎢  ⎥⎟\n",
       "⎝⎣-10⎦  ⎣-3⎦⎠"
      ]
     },
     "execution_count": 21,
     "metadata": {},
     "output_type": "execute_result"
    }
   ],
   "source": [
    "# Find 2v - w\n",
    "\n",
    "(v,w)"
   ]
  },
  {
   "cell_type": "code",
   "execution_count": 17,
   "id": "dbed188c",
   "metadata": {
    "slideshow": {
     "slide_type": "-"
    }
   },
   "outputs": [
    {
     "data": {
      "image/png": "[encoded data removed]",
      "text/latex": [
       "$\\displaystyle \\left( \\left[\\begin{matrix}-5\\\\-3\\\\-10\\end{matrix}\\right], \\  \\left[\\begin{matrix}-10\\\\-7\\\\-6\\end{matrix}\\right], \\  \\left[\\begin{matrix}4\\\\-10\\\\3\\end{matrix}\\right]\\right)$"
      ],
      "text/plain": [
       "⎛⎡-5 ⎤  ⎡-10⎤  ⎡ 4 ⎤⎞\n",
       "⎜⎢   ⎥  ⎢   ⎥  ⎢   ⎥⎟\n",
       "⎜⎢-3 ⎥, ⎢-7 ⎥, ⎢-10⎥⎟\n",
       "⎜⎢   ⎥  ⎢   ⎥  ⎢   ⎥⎟\n",
       "⎝⎣-10⎦  ⎣-6 ⎦  ⎣ 3 ⎦⎠"
      ]
     },
     "execution_count": 17,
     "metadata": {},
     "output_type": "execute_result"
    }
   ],
   "source": [
    "# Find a + b - 3c\n",
    "\n",
    "(a,b,c)"
   ]
  },
  {
   "cell_type": "code",
   "execution_count": 22,
   "id": "b5f31c3e",
   "metadata": {
    "slideshow": {
     "slide_type": "slide"
    }
   },
   "outputs": [
    {
     "data": {
      "image/png": "[encoded data removed]",
      "text/latex": [
       "$\\displaystyle \\left( \\left[\\begin{matrix}4\\\\-10\\end{matrix}\\right], \\  \\left[\\begin{matrix}-2\\\\-3\\end{matrix}\\right]\\right)$"
      ],
      "text/plain": [
       "⎛⎡ 4 ⎤  ⎡-2⎤⎞\n",
       "⎜⎢   ⎥, ⎢  ⎥⎟\n",
       "⎝⎣-10⎦  ⎣-3⎦⎠"
      ]
     },
     "execution_count": 22,
     "metadata": {},
     "output_type": "execute_result"
    }
   ],
   "source": [
    "(v,w)"
   ]
  },
  {
   "cell_type": "markdown",
   "id": "53c3c357",
   "metadata": {
    "slideshow": {
     "slide_type": "slide"
    }
   },
   "source": [
    "## Matrix-vector products \n",
    "\n",
    "- Given: Matrix $\\mathbf{A}$, vector $\\mathbf{v}$. \n",
    "- The **product $\\mathbf{Av}$** is a *vector* obtained through a *linear combination of the columns of $\\mathbf{A}$, using the entries of $\\mathbf{v}$ as the weights.* \n",
    "\n",
    "**Example:**\n",
    "$$\\left[\\begin{matrix}10 & 4 & 1\\\\4 & 8 & 3\\\\5 & 8 & -9\\\\-4 & -3 & 1\\end{matrix}\\right] \\left[\\begin{matrix}-1\\\\-4\\\\3\\end{matrix}\\right]  \n",
    "= \\left[\\begin{matrix}-23\\\\-27\\\\-64\\\\19\\end{matrix}\\right]$$\n",
    "\n",
    "Note: This only makes sense if *the number of columns in the matrix equals the number of entries in the matrix.* "
   ]
  },
  {
   "cell_type": "code",
   "execution_count": 32,
   "id": "16d8591f",
   "metadata": {
    "slideshow": {
     "slide_type": "slide"
    }
   },
   "outputs": [
    {
     "data": {
      "image/png": "[encoded data removed]",
      "text/latex": [
       "$\\displaystyle \\left[\\begin{matrix}-23\\\\-27\\\\-64\\\\19\\end{matrix}\\right]$"
      ],
      "text/plain": [
       "⎡-23⎤\n",
       "⎢   ⎥\n",
       "⎢-27⎥\n",
       "⎢   ⎥\n",
       "⎢-64⎥\n",
       "⎢   ⎥\n",
       "⎣19 ⎦"
      ]
     },
     "execution_count": 32,
     "metadata": {},
     "output_type": "execute_result"
    }
   ],
   "source": [
    "# Checking\n",
    "\n",
    "A = Matrix(4,3,[10, 4, 1, 4, 8, 3, 5, 8, -9, -4, -3, 1])\n",
    "v = Matrix(3,1,[-1,-4,3])\n",
    "A*v"
   ]
  },
  {
   "cell_type": "markdown",
   "id": "3ba89df0",
   "metadata": {
    "slideshow": {
     "slide_type": "slide"
    }
   },
   "source": [
    "## Every system of linear equations can be phrased as a *single* equation involving the product of a matrix and a vector"
   ]
  },
  {
   "cell_type": "markdown",
   "id": "20768516",
   "metadata": {
    "slideshow": {
     "slide_type": "fragment"
    }
   },
   "source": [
    "$$\\begin{align*}\n",
    "x + y + z &= 3 \\\\\n",
    "y - z &= 2 \\\\\n",
    "2x + y + z &= 4\n",
    "\\end{align*}$$"
   ]
  },
  {
   "cell_type": "markdown",
   "id": "bc406c82",
   "metadata": {
    "slideshow": {
     "slide_type": "fragment"
    }
   },
   "source": [
    "$$\\left[\\begin{matrix} 1 & 1 & 1 \\\\ 0 & 1 & -1 \\\\ 2 & 1 & 1  \\end{matrix}\\right] \n",
    "\\left[ \\begin{matrix} x \\\\ y \\\\ z \\end{matrix} \\right]\n",
    "= \\left[ \\begin{matrix} 3 \\\\ 2 \\\\ 4 \\end{matrix}\\right]$$"
   ]
  },
  {
   "cell_type": "markdown",
   "id": "c88d6542",
   "metadata": {
    "slideshow": {
     "slide_type": "slide"
    }
   },
   "source": [
    "## Solving a linear system $\\leftrightarrow$ solving an equation involving a matrix and a vector... a.k.a. a question about linear combinations. "
   ]
  },
  {
   "cell_type": "markdown",
   "id": "3e426b24",
   "metadata": {
    "slideshow": {
     "slide_type": "slide"
    }
   },
   "source": [
    "**Backward question:** Given a randomly generated vector in $\\mathbb{R}^2$, can it be written as a linear combination of $\\mathbf{v}$ and $\\mathbf{w}$? "
   ]
  },
  {
   "cell_type": "code",
   "execution_count": 34,
   "id": "61400dc7",
   "metadata": {
    "slideshow": {
     "slide_type": "-"
    }
   },
   "outputs": [
    {
     "data": {
      "image/png": "[encoded data removed]",
      "text/latex": [
       "$\\displaystyle \\left( \\left[\\begin{matrix}4\\\\-7\\end{matrix}\\right], \\  \\left[\\begin{matrix}-10\\\\-3\\end{matrix}\\right], \\  \\left[\\begin{matrix}-2\\\\-10\\end{matrix}\\right]\\right)$"
      ],
      "text/plain": [
       "⎛⎡4 ⎤  ⎡-10⎤  ⎡-2 ⎤⎞\n",
       "⎜⎢  ⎥, ⎢   ⎥, ⎢   ⎥⎟\n",
       "⎝⎣-7⎦  ⎣-3 ⎦  ⎣-10⎦⎠"
      ]
     },
     "execution_count": 34,
     "metadata": {},
     "output_type": "execute_result"
    }
   ],
   "source": [
    "v = randMatrix(2,1,-10,10)\n",
    "w = randMatrix(2,1,-10,10)\n",
    "x = randMatrix(2,1,-10,10)\n",
    "(v,w,x)"
   ]
  },
  {
   "cell_type": "markdown",
   "id": "8e4bbecd",
   "metadata": {
    "slideshow": {
     "slide_type": "-"
    }
   },
   "source": [
    "Are there weights $a,b$ such that $a \\mathbf{v} + b \\mathbf{w} = \\mathbf{x}$?"
   ]
  },
  {
   "cell_type": "markdown",
   "id": "e6b6a0b1",
   "metadata": {
    "slideshow": {
     "slide_type": "slide"
    }
   },
   "source": [
    "# Main Activity\n",
    "\n",
    "- Posted as a Jupyter notebook on the Resource Page (look in Blackboard sidebar). \n",
    "- Two versions linked: One you can download and run, one you can only view. Pick either one. \n",
    "- Some portions are designated \"**★AA**\". These parts are to be written up individually and submitted as part of **Application/Analysis 1** due next Wednesday. "
   ]
  }
 ],
 "metadata": {
  "celltoolbar": "Slideshow",
  "kernelspec": {
   "display_name": "Python 3 (ipykernel)",
   "language": "python",
   "name": "python3"
  },
  "language_info": {
   "codemirror_mode": {
    "name": "ipython",
    "version": 3
   },
   "file_extension": ".py",
   "mimetype": "text/x-python",
   "name": "python",
   "nbconvert_exporter": "python",
   "pygments_lexer": "ipython3",
   "version": "3.9.12"
  }
 },
 "nbformat": 4,
 "nbformat_minor": 5
}
