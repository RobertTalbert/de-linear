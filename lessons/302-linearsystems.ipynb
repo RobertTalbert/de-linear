{
  "cells": [
    {
      "cell_type": "raw",
      "metadata": {},
      "source": [
        "---\n",
        "title: Linear equations and systems\n",
        "author: MTH 302 January 12\n",
        "format: revealjs\n",
        "---"
      ],
      "id": "475e4b27"
    },
    {
      "cell_type": "markdown",
      "metadata": {},
      "source": [
        "::: {.callout-note}\n",
        "## Example\n",
        "Tickets to a basketball game are 25 for kids and 50 for adults. At one of the games, 2000 people attend and the total gate revenue is $70,000. \n",
        "\n",
        "**How many kids attended, and how many adults?** \n",
        ":::\n",
        "\n",
        "Let $x$ be the number of children attending and $y$ the number of adults. Write **two equations** that represent the two pieces of info in the second sentence. "
      ],
      "id": "5b2c3952"
    },
    {
      "cell_type": "raw",
      "metadata": {},
      "source": [
        "---\n",
        "\n",
        "$$\\begin{align*}\n",
        "x + y &= 2000 \\\\\n",
        "25x + 50y &= 70000\n",
        "\\end{align*}$$\n",
        "\n",
        ":::{.callout-note}\n",
        "## Linear equation\n",
        "A *linear equation in $n$ variables* is an equation that looks like this:\n",
        "\n",
        "$a_1 x_1 + a_2x_2 + \\cdots + a_n x_n = b$ \n",
        "\n",
        "Left side is nothing but variables multiplied by numbers and then added together. Nothing else is done to the variables. \n",
        ":::\n",
        "\n",
        "---"
      ],
      "id": "e59a194c"
    },
    {
      "cell_type": "markdown",
      "metadata": {},
      "source": [
        "$$\\begin{align*}\n",
        "x + y &= 2000 \\\\\n",
        "25x + 50y &= 70000\n",
        "\\end{align*}$$\n",
        "\n",
        ":::{.callout-note}\n",
        "## System of equations\n",
        "A **system of $m$ linear equations in $n$ unknowns** (or an \"$m \\times n$ system\") is a collection of $m$ linear equations with $n$ variables. A **solution** to a system is a list of specific values for the variables that makes all the equations in the system true at the same time. \n",
        ":::\n",
        "\n",
        "A $3 \\times 5$ linear system: \n",
        "$$\\begin{align*}\n",
        "2x_1 + 3x_2 - x_4 + 3x_5 &= 10 \\\\\n",
        "x_2 + x_4 &= 1 \\\\\n",
        "-x_1 + 3x_2 + 5x_3 + 2x_4 - 100x_5 &= 0 \n",
        "\\end{align*}$$"
      ],
      "id": "6346f770"
    },
    {
      "cell_type": "raw",
      "metadata": {},
      "source": [
        "---\n",
        "\n",
        "![](ge1)\n",
        "\n",
        "---"
      ],
      "id": "4d41c692"
    },
    {
      "cell_type": "markdown",
      "metadata": {},
      "source": [
        "$$\\begin{align*}\n",
        "x + y &= 2000 \\\\\n",
        "25x + 50y &= 70000\n",
        "\\end{align*}$$\n",
        "\n",
        ":::{.callout-important}\n",
        "## Activity\n",
        "\n",
        "Using whatever means you can think of, determine if this $2 \\times 2$ system has a solution. If it doesn't have a solution, be ready to explain why. If it does have a solution, figure out *how many* it has, and what it is/they are. \n",
        ":::"
      ],
      "id": "1e9712b2"
    },
    {
      "cell_type": "markdown",
      "metadata": {},
      "source": [
        "---\n",
        "\n",
        "## There are basically three ways to find solutions to a system \n",
        "\n",
        "You can **graph** the equations and see if their graphs intersect. This works OK for systems with two variables: \n"
      ],
      "id": "4c9894db"
    },
    {
      "cell_type": "code",
      "metadata": {},
      "source": [
        "from sympy import *\n",
        "x, y = symbols('x y')\n",
        "p1 = plot(2000 - x, (x,-10,2000), show = False)\n",
        "p2 = plot((70000-25*x)/50, (x, -10, 2000), show = False)\n",
        "p1.append(p2[0])\n",
        "p1\n",
        "p1.show()"
      ],
      "id": "e8208277",
      "execution_count": null,
      "outputs": []
    },
    {
      "cell_type": "raw",
      "metadata": {},
      "source": [
        "---"
      ],
      "id": "9ee3fa3f"
    },
    {
      "cell_type": "markdown",
      "metadata": {},
      "source": [
        "...but for three variables, it gets weird: \n",
        "\n",
        "$$\\begin{align*}\n",
        "x + y + z &= 3 \\\\   \n",
        "y - z &= 2 \\\\ \n",
        "2x + y + z &= 4 \n",
        "\\end{align*}$$\n"
      ],
      "id": "2d3e6708"
    },
    {
      "cell_type": "code",
      "metadata": {},
      "source": [
        "from sympy.plotting import plot3d\n",
        "x,y,z = symbols('x y z')\n",
        "p1 = plot3d(3 - x - y, (x,-5,5), (y,-5,5), show=False)\n",
        "p2 = plot3d(y - 2, (x,-5,5), (y,-5,5), show=False)\n",
        "p3 = plot3d(4 - 2*x - y, (x,-5,5), (y,-5,5), show=False)\n",
        "p1.append(p2[0])\n",
        "p1.append(p3[0])\n",
        "p1\n",
        "p1.show()"
      ],
      "id": "dca958ef",
      "execution_count": null,
      "outputs": []
    },
    {
      "cell_type": "raw",
      "metadata": {},
      "source": [
        "---\n",
        "\n",
        "## But graphical intuition is very important for us\n",
        "\n",
        "Since solutions to systems are intersections of lines or planes (ir higher-dimensional versions of these): \n",
        "\n",
        "- A solution might have solutions (the system is **consistent**), or it might have none (it's **inconsistent**)\n",
        "- A consistent system can have either **exactly one** solution, or **infinitely many solutions**, but nothing in between. \n",
        "\n",
        "[Check this out](https://www.desmos.com/calculator/wrajgsvua6)\n",
        "\n",
        "---"
      ],
      "id": "178008dc"
    },
    {
      "cell_type": "markdown",
      "metadata": {},
      "source": [
        "Example of a *consistent* system with *exactly one* solution: \n",
        "$$\\begin{align*}\n",
        "x + y &= 2 \\\\\n",
        "x - y &= 0\n",
        "\\end{align*}$$\n",
        "\n",
        "Example of a *consistent* system with *infinitely many* solutions: \n",
        "$$\\begin{align*}\n",
        "x + y &= 2 \\\\\n",
        "3x + 3y &= 6\n",
        "\\end{align*}$$\n",
        "\n",
        "Example of an *inconsistent* system: \n",
        "$$\\begin{align*}\n",
        "x + y &= 2 \\\\\n",
        "x + y &= 0\n",
        "\\end{align*}$$"
      ],
      "id": "3f30689b"
    },
    {
      "cell_type": "raw",
      "metadata": {},
      "source": [
        "---\n",
        "\n",
        "Back to solution methods: You could also **substitute** - Pick an equation, solve for a variable, plug in to the other equations, and repeat until you have values. Tedious but doable for 2 or 3 variables. \n",
        "\n",
        "But this? No thanks: \n",
        "$$\\begin{align*}\n",
        "2x_1 + 3x_2 - x_4 + 3x_5 &= 10 \\\\\n",
        "x_2 + x_4 &= 1 \\\\\n",
        "-x_1 + 3x_2 + 5x_3 + 2x_4 - 100x_5 &= 0 \n",
        "\\end{align*}$$\n",
        "\n",
        "--- "
      ],
      "id": "f545e3ad"
    },
    {
      "cell_type": "markdown",
      "metadata": {},
      "source": [
        "The best option is **elimination**. Works by performing a combination of three *elementary operations*: \n",
        "\n",
        "1. *Replace* a row, with the sum of itself and a multiple of another row. \n",
        "2. *Swap* any two rows. \n",
        "3. *Scale* a row by multiplying both sides by a nonzero constant. \n",
        "\n",
        "Each operation produces a system that is **equivalent** to the original one (it has the same solutions). \n",
        "\n",
        "At the board: how this works. "
      ],
      "id": "7cec8f52"
    },
    {
      "cell_type": "markdown",
      "metadata": {},
      "source": [
        "---\n",
        "\n",
        "$\\begin{align*}\n",
        "x + y &= 3 \\\\ \n",
        "y - z &= 2 \\\\ \n",
        "2x + y + z &= 4 \n",
        "\\end{align*}$ \n",
        "$\\Longrightarrow$\n",
        "$\\begin{align*}\n",
        "x + z &= 1 \\\\ \n",
        "y - z &= 2 \\\\ \n",
        "0 &= 0\n",
        "\\end{align*}$\n"
      ],
      "id": "5a7b71a4"
    },
    {
      "cell_type": "code",
      "metadata": {},
      "source": [
        "from sympy.plotting import plot3d\n",
        "x,y,z = symbols('x y z')\n",
        "p1 = plot3d(3 - x - y, (x,-5,5), (y,-5,5), show=False)\n",
        "p2 = plot3d(y - 2, (x,-5,5), (y,-5,5), show=False)\n",
        "p1.append(p2[0])\n",
        "p1\n",
        "p1.show()"
      ],
      "id": "42933182",
      "execution_count": null,
      "outputs": []
    },
    {
      "cell_type": "raw",
      "metadata": {},
      "source": [
        "--- "
      ],
      "id": "24fa4d37"
    },
    {
      "cell_type": "markdown",
      "metadata": {},
      "source": [
        ":::{.callout-important}\n",
        "## KEY INSIGHT\n",
        "The variables in the elimination process don't matter that much. They are just there as placeholders for the coefficients. So forget them and put the coefficients and right-hand sides into an array called the **augmented matrix** for the system. \n",
        ":::\n",
        "\n",
        "$$\\begin{align*}\n",
        "x + y + z &= 3 \\\\   \n",
        "y - z &= 2 \\\\ \n",
        "2x + y + z &= 4 \n",
        "\\end{align*}$$\n",
        "\n",
        "$$\\begin{bmatrix}\n",
        "1 & 1 & 1 & 3 \\\\ \n",
        "0 & 1 & -1 & 2 \\\\ \n",
        "2 & 1 & 1 & 4\n",
        "\\end{bmatrix}$$\n",
        "Now you can do elimination just with the matrix. (Board) "
      ],
      "id": "cb21300e"
    },
    {
      "cell_type": "raw",
      "metadata": {},
      "source": [
        "---\n",
        "\n",
        "$$\\begin{equation*}\n",
        "\\begin{alignedat}{4}\n",
        "x &  {}+{}  & 2y &  &  &  {}={}  & 4 \\\\\n",
        "2x &  {}+{}  & y &  {}-{}  & 3z &  {}={}  & 11 \\\\\n",
        "-3x &  {}-{}  & 2y &  {}+{}  & z &  {}={}  & -10 \\\\\n",
        "\\end{alignedat}\n",
        "\\end{equation*}$$\n",
        "\n",
        ":::{.callout-important}\n",
        "## Activity\n",
        "Convert this system into an augmented matrix. Then use a sequence of the three elementary operations to try to find a solution (there may not be one). \n",
        ":::\n",
        "\n",
        "---"
      ],
      "id": "3ebf583c"
    },
    {
      "cell_type": "code",
      "metadata": {},
      "source": [
        "from sympy import * \n",
        "init_printing()\n",
        "M = Matrix(3,4, [1,2,0,4,2,1,-3,11, -3, -2, 1, -10])\n",
        "M.rref(pivots = False)"
      ],
      "id": "e927cacc",
      "execution_count": null,
      "outputs": []
    },
    {
      "cell_type": "markdown",
      "metadata": {},
      "source": [
        "This matrix is in **reduced row echelon form (RREF)**: \n",
        "\n",
        "- If there are any rows that are all zero, they are at the bottom. \n",
        "- The first nonzero entry in a given row is $1$, and it's in a column that's to the right of the first nonzero entry in any row above it. \n",
        "- Every other entry in a column with a leading $1$ is $0$. "
      ],
      "id": "768302f6"
    },
    {
      "cell_type": "raw",
      "metadata": {},
      "source": [
        "---\n",
        "\n",
        "Consistent with one solution: \n",
        "$$\\begin{bmatrix}\n",
        "1 & 0 & 2 \\\\\n",
        "0 & 1 & -5 \n",
        "\\end{bmatrix}$$ \n",
        "\n",
        "Consistent with infinitely many solutions: \n",
        "$$\\begin{bmatrix}\n",
        "1 & 0 & 2 & 1 \\\\\n",
        "0 & 1 & -1 & -5  \n",
        "\\end{bmatrix}$$ \n",
        "\n",
        "Inconsistent: \n",
        "$$\\begin{bmatrix}\n",
        "1 & 0 & 2 \\\\\n",
        "0 & 0 & -5 \n",
        "\\end{bmatrix}$$ \n",
        "\n",
        "--- "
      ],
      "id": "e49c9b36"
    },
    {
      "cell_type": "markdown",
      "metadata": {},
      "source": [
        "$$\\begin{bmatrix}\n",
        "1 & 0 & 2 & 1 \\\\\n",
        "0 & 1 & -1 & -5  \n",
        "\\end{bmatrix}$$ \n",
        "\n",
        "Is shorthand for the system \n",
        "$$\\begin{align*}\n",
        "x_1 + 2x_3 &= 1 \\\\  \n",
        "x_2 - x_3 &= -5\n",
        "\\end{align*}$$\n",
        "To find a solution: Pick anything for $x_3$. Then $x_1 = 1 - 2x_3$ and $x_2 = x_3 - 5$. \n",
        "\n",
        "- $x_3$ is a **free variable**\n",
        "- $x_1$ and $x_2$ are **pivots** or sometimes \"determined\" or \"dependent\" variables"
      ],
      "id": "e664fc30"
    },
    {
      "cell_type": "raw",
      "metadata": {},
      "source": [
        "---\n",
        "\n",
        "![](ge2)\n",
        "\n",
        "---"
      ],
      "id": "2b397cac"
    },
    {
      "cell_type": "markdown",
      "metadata": {},
      "source": [
        "## More facts about RREF\n",
        "\n",
        "- The process of putting a matrix into RREF is called **Gauss-Jordan elimination** and it's kind of a big deal\n",
        "- *Skill LA.1: I can solve a system of linear equations by converting it into an augmented matrix and putting into reduced row echelon form*. Coming next Thursday on Skill Quiz 1 and in Practice Set 1. \n",
        "- **But this is the only place you will be asked to do elimination by hand!** In all other situations you will use a computer. \n",
        "- So don't stress over doing RREF by hand, just practice until you can do it on simple systems without a bunch of mistakes. $\\rightarrow$ **Optional RREF Practice set on WeBWorK** "
      ],
      "id": "b6e9208e"
    },
    {
      "cell_type": "raw",
      "metadata": {},
      "source": [
        "---\n",
        "\n",
        "\n",
        "```{mermaid}\n",
        "flowchart TD\n",
        "A[System] --> B[Convert to augmented matrix]\n",
        "B -->|Usually with a computer| R[Get to RREF]\n",
        "R --> C{{Pivot in last column?}}\n",
        "C -->|Yes|I[Inconsistent]\n",
        "C -->|No|P{{Pivot in each column except last?}}\n",
        "P -->|Yes|E[Consistent and one solution]\n",
        "E -->X[Read off solution]\n",
        "P -->|No|F[Consistent and infinitely many solutions]\n",
        "F -->Y[Identify free variables and set up relationships between these and pivots]\n",
        "```\n",
        "\n",
        "\n",
        "\n",
        "---"
      ],
      "id": "1eb51ee3"
    },
    {
      "cell_type": "markdown",
      "metadata": {},
      "source": [
        "![](system.png)\n",
        "\n",
        "Solve this system using matrices. If there are no solutions, say so and explain how you know (using a matrix).\n"
      ],
      "id": "ec6c4005"
    },
    {
      "cell_type": "markdown",
      "metadata": {},
      "source": [
        "---\n",
        "\n",
        "## Next\n",
        "\n",
        "- Remainder of today: Choose your adventure. Get 1-1 help; work on Practice Set 1; work on Startup tasks; work on RREF practice\n",
        "- (Section 04 only) Please put tables back in rows \n",
        "- Sunday: Complete Practice Set 1 by 11:59pm ET \n",
        "- Tuesday: \n",
        "    - Complete Class Prep for Jan 17 (Blackboard > Class Prep) by 11:59pm ET **Monday** \n",
        "    - Focus for Tuesday: Linear combinations of vectors (and what this has to do with solutions to systems)"
      ],
      "id": "10ef9c08"
    }
  ],
  "metadata": {
    "kernelspec": {
      "name": "python3",
      "language": "python",
      "display_name": "Python 3 (ipykernel)"
    }
  },
  "nbformat": 4,
  "nbformat_minor": 5
}