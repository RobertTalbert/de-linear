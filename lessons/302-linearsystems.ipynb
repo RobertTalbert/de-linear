{
  "cells": [
    {
      "cell_type": "raw",
      "metadata": {},
      "source": [
        "---\n",
        "title: Linear equations and systems\n",
        "author: MTH 302\n",
        "format: revealjs\n",
        "---"
      ],
      "id": "48b9297a"
    },
    {
      "cell_type": "markdown",
      "metadata": {},
      "source": [
        "::: {.callout-note}\n",
        "## Example\n",
        "Tickets to a basketball game are 25 for kids and 50 for adults. At one of the games, 2000 people attend and the total gate revenue is $70,000. \n",
        "\n",
        "**How many kids attended, and how many adults?** \n",
        ":::\n",
        "\n",
        "Let $x$ be the number of children attending and $y$ the number of adults. Write **two equations** that represent the two pieces of info in the second sentence. "
      ],
      "id": "f3a8e827"
    },
    {
      "cell_type": "raw",
      "metadata": {},
      "source": [
        "---\n",
        "\n",
        "$$\\begin{align*}\n",
        "x + y &= 2000 \\\\\n",
        "25x + 50y &= 70000\n",
        "\\end{align*}$$\n",
        "\n",
        ":::{.callout-note}\n",
        "## Linear equation\n",
        "A *linear equation in $n$ variables* is an equation that looks like this:\n",
        "\n",
        "$a_1 x_1 + a_2x_2 + \\cdots + a_n x_n = b$ \n",
        "\n",
        "Left side is nothing but variables multiplied by numbers and then added together. Nothing else is done to the variables. \n",
        ":::\n",
        "\n",
        "---"
      ],
      "id": "fff9c514"
    },
    {
      "cell_type": "markdown",
      "metadata": {},
      "source": [
        "$$\\begin{align*}\n",
        "x + y &= 2000 \\\\\n",
        "25x + 50y &= 70000\n",
        "\\end{align*}$$\n",
        "\n",
        ":::{.callout-note}\n",
        "## System of equations\n",
        "A **system of $m$ linear equations in $n$ unknowns** (or an \"$m \\times n$ system\") is a collection of $m$ linear equations with $n$ variables. A **solution** to a system is a list of specific values for the variables that makes all the equations in the system true at the same time. \n",
        ":::\n",
        "\n",
        "A $3 \\times 5$ linear system: \n",
        "$$\\begin{align*}\n",
        "2x_1 + 3x_2 - x_4 + 3x_5 &= 10 \\\\\n",
        "x_2 + x_4 &= 1 \\\\\n",
        "-x_1 + 3x_2 + 5x_3 + 2x_4 - 100x_5 &= 0 \n",
        "\\end{align*}$$"
      ],
      "id": "dfe3f63f"
    },
    {
      "cell_type": "raw",
      "metadata": {},
      "source": [
        "---\n",
        "\n",
        "![](ge1)\n",
        "\n",
        "---"
      ],
      "id": "99d3d131"
    },
    {
      "cell_type": "markdown",
      "metadata": {},
      "source": [
        "$$\\begin{align*}\n",
        "x + y &= 2000 \\\\\n",
        "25x + 50y &= 70000\n",
        "\\end{align*}$$\n",
        "\n",
        ":::{.callout-important}\n",
        "## Activity\n",
        "\n",
        "Using whatever means you can think of, determine if this $2 \\times 2$ system has a solution. If it doesn't have a solution, be ready to explain why. If it does have a solution, figure out *how many* it has, and what it is/they are. \n",
        ":::"
      ],
      "id": "d9ce0210"
    },
    {
      "cell_type": "markdown",
      "metadata": {},
      "source": [
        "---\n",
        "\n",
        "## There are basically three ways to find solutions to a system \n",
        "\n",
        "You can **graph** the equations and see if their graphs intersect. This works OK for systems with two variables: \n"
      ],
      "id": "6d4cfb6e"
    },
    {
      "cell_type": "code",
      "metadata": {},
      "source": [
        "from sympy import *\n",
        "x, y = symbols('x y')\n",
        "p1 = plot(2000 - x, (x,-10,2000), show = False)\n",
        "p2 = plot((70000-25*x)/50, (x, -10, 2000), show = False)\n",
        "p1.append(p2[0])\n",
        "p1\n",
        "p1.show()"
      ],
      "id": "bc44bc55",
      "execution_count": null,
      "outputs": []
    },
    {
      "cell_type": "raw",
      "metadata": {},
      "source": [
        "---"
      ],
      "id": "8e6ebbb6"
    },
    {
      "cell_type": "markdown",
      "metadata": {},
      "source": [
        "...but for three variables, it gets weird: \n",
        "\n",
        "$$\\begin{align*}\n",
        "x + y + z &= 3 \\\\   \n",
        "y - z &= 2 \\\\ \n",
        "2x + y + z &= 4 \n",
        "\\end{align*}$$\n"
      ],
      "id": "75adc83b"
    },
    {
      "cell_type": "code",
      "metadata": {},
      "source": [
        "from sympy.plotting import plot3d\n",
        "x,y,z = symbols('x y z')\n",
        "p1 = plot3d(3 - x - y, (x,-5,5), (y,-5,5), show=False)\n",
        "p2 = plot3d(y - 2, (x,-5,5), (y,-5,5), show=False)\n",
        "p3 = plot3d(4 - 2*x - y, (x,-5,5), (y,-5,5), show=False)\n",
        "p1.append(p2[0])\n",
        "p1.append(p3[0])\n",
        "p1\n",
        "p1.show()"
      ],
      "id": "b59278eb",
      "execution_count": null,
      "outputs": []
    },
    {
      "cell_type": "raw",
      "metadata": {},
      "source": [
        "---\n",
        "\n",
        "You could also **substitute**: Pick an equation, solve for a variable, plug in to the other equations, and repeat until you have values. Tedious but doable for 2 or 3 variables. \n",
        "\n",
        "But this?\n",
        "$$\\begin{align*}\n",
        "2x_1 + 3x_2 - x_4 + 3x_5 &= 10 \\\\\n",
        "x_2 + x_4 &= 1 \\\\\n",
        "-x_1 + 3x_2 + 5x_3 + 2x_4 - 100x_5 &= 0 \n",
        "\\end{align*}$$\n",
        "\n",
        "--- "
      ],
      "id": "fefa1015"
    },
    {
      "cell_type": "markdown",
      "metadata": {},
      "source": [
        "The best option is **elimination**. Works by performing a combination of three *elementary operations*: \n",
        "\n",
        "1. *Replace* a row, with the sum of itself and a multiple of another row. \n",
        "2. *Swap* any two rows. \n",
        "3. *Scale* a row by multiplying both sides by a nonzero constant. \n",
        "\n",
        "Each operation produces a system that is **equivalent** to the original one (it has the same solutions). \n",
        "\n",
        "At the board: how this works. "
      ],
      "id": "52abe9b6"
    },
    {
      "cell_type": "raw",
      "metadata": {},
      "source": [
        "--- \n",
        "\n",
        ":::{.callout-important}\n",
        "## KEY INSIGHT\n",
        "The variables in the elimination process don't matter that much. They are just there as placeholders for the coefficients. So forget them and put the coefficients and right-hand sides into an array called the **augmented matrix** for the system. \n",
        ":::\n",
        "\n",
        "$$\\begin{align*}\n",
        "x + y + z &= 3 \\\\   \n",
        "y - z &= 2 \\\\ \n",
        "2x + y + z &= 4 \n",
        "\\end{align*}$$\n",
        "\n",
        "$$\\begin{bmatrix}\n",
        "1 & 1 & 1 & 3 \\\\ \n",
        "0 & 1 & -1 & 2 \\\\ \n",
        "2 & 1 & 1 & 4\n",
        "\\end{bmatrix}$$\n",
        "Now you can do elimination just with the matrix. (Board) \n",
        "\n",
        "---"
      ],
      "id": "eb1a9c33"
    },
    {
      "cell_type": "markdown",
      "metadata": {},
      "source": [
        "$$\\begin{equation*}\n",
        "\\begin{alignedat}{4}\n",
        "x &  {}+{}  & 2y &  &  &  {}={}  & 4 \\\\\n",
        "2x &  {}+{}  & y &  {}-{}  & 3z &  {}={}  & 11 \\\\\n",
        "-3x &  {}-{}  & 2y &  {}+{}  & z &  {}={}  & -10 \\\\\n",
        "\\end{alignedat}\n",
        "\\end{equation*}$$\n",
        "\n",
        ":::{.callout-important}\n",
        "## Activity\n",
        "Convert this system into an augmented matrix. Then use a sequence of the three elementary operations to try to find a solution (there may not be one). \n",
        ":::"
      ],
      "id": "606c2258"
    },
    {
      "cell_type": "markdown",
      "metadata": {},
      "source": [
        "---\n"
      ],
      "id": "83ddfc53"
    },
    {
      "cell_type": "code",
      "metadata": {},
      "source": [
        "from sympy import * \n",
        "init_printing()\n",
        "M = Matrix(3,4, [1,2,0,4,2,1,-3,11, -3, -2, 1, -10])\n",
        "M.rref(pivots = False)"
      ],
      "id": "18d38d5f",
      "execution_count": null,
      "outputs": []
    },
    {
      "cell_type": "raw",
      "metadata": {},
      "source": [
        "This matrix is in **reduced row echelon form (RREF)**: \n",
        "\n",
        "- If there are any rows that are all zero, they are at the bottom. \n",
        "- The first nonzero entry in a given row is $1$, and it's in a column that's to the right of the first nonzero entry in any row above it. \n",
        "- Every other entry in a column with a leading $1$ is $0$. \n",
        "\n",
        "---"
      ],
      "id": "9ae533a8"
    },
    {
      "cell_type": "markdown",
      "metadata": {},
      "source": [
        "![](ge2)"
      ],
      "id": "87a3c34a"
    },
    {
      "cell_type": "markdown",
      "metadata": {},
      "source": [
        "---\n",
        "\n",
        "## Facts about RREF\n",
        "\n",
        "- Once the augmented matrix for a system is in RREF, you can tell everything about its solutions.\n",
        "- The process of putting a matrix into RREF is called **Gauss-Jordan elimination** and it's kind of a big deal\n",
        "- *Skill LA.1: I can solve a system of linear equations by converting it into an augmented matrix and putting into reduced row echelon form*. Coming next Thursday on Skill Quiz 1 and in Practice Set 1. \n",
        "- **But this is the only place you will be asked to do elimination by hand!** In all other situations you will use a computer. "
      ],
      "id": "03b9e3bb"
    }
  ],
  "metadata": {
    "kernelspec": {
      "display_name": "Python 3",
      "language": "python",
      "name": "python3"
    }
  },
  "nbformat": 4,
  "nbformat_minor": 5
}