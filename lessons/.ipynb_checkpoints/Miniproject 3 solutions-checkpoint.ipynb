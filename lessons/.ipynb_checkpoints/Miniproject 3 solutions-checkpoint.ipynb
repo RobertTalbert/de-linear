{
 "cells": [
  {
   "cell_type": "code",
   "execution_count": 1,
   "id": "4c8f5874-bf9e-46c3-96e7-11f4bcdc217e",
   "metadata": {},
   "outputs": [],
   "source": [
    "from sympy import *\n",
    "init_printing()"
   ]
  },
  {
   "cell_type": "markdown",
   "id": "6885a004-d64c-4320-b8f4-e2bbac77b72e",
   "metadata": {},
   "source": [
    "# Solutions for Miniproject 3\n",
    "\n",
    "## 1(a)\n",
    "\n",
    "Those constants exist because the vectors $\\mathbf{v}_1, \\dots, \\mathbf{v}_n$ are linearly independent, and there are $n$ of them. Therefore they span all of $\\mathbb{R}^n$, and hence $\\mathbf{x}^{(0)}$ can be written as a linear combination of them. \n",
    "\n",
    "If you mulitply both sides of the first equation by $A$, the multiplication will distribute over the sum on the right so that we have a sum of terms looking like $A(c_i \\mathbf{v}_i)$. You can pull out the constant to get $c_i A\\mathbf{v}_i$. Then since $\\mathbf{v}_i$ is an eigenvector for $A$, this because $c_i \\lambda_i \\mathbf{v}_i$.\n",
    "\n",
    "If you multiply again, the same thing happens and each term becomes \n",
    "$$A (c_i \\lambda_i \\mathbf{v}_i) = c_i \\lambda_i A \\mathbf{v}_i = c_i \\lambda^2_i \\mathbf{v}_i$$\n",
    "And so on, raising the power by 1 each time we multiply by $A$. \n",
    "\n",
    "## 1(b) \n",
    "\n",
    "The quantity $\\lambda_2/\\lambda_1$ has an absolute value between 0 and 1 since $|\\lambda_1| > |\\lambda_2|$. Therefore the fraction goes to 0 as $k \\to \\infty$. The same is true for all the other $\\lambda_i$ values. \n",
    "\n",
    "Therefore when we divide by $\\lambda_1^k$, the right side is a sum all of whose terms go to zero except for the $\\mathbf{v}_1$ term: \n",
    "\n",
    "$$\\left( \\frac{1}{\\lambda_1} \\right)^k A \\mathbf{x}^{(0)} \\approx c_1 \\mathbf{v_1}$$\n",
    "\n",
    "## 1(c)"
   ]
  },
  {
   "cell_type": "code",
   "execution_count": 3,
   "id": "eb8465fa-55cf-45c1-99d5-14144c5503fd",
   "metadata": {},
   "outputs": [
    {
     "data": {
      "text/latex": [
       "$\\displaystyle \\left[\\begin{matrix}0 & 0 & 0.33\\\\0.18 & 0 & 0\\\\0 & 0.71 & 0.94\\end{matrix}\\right]$"
      ],
      "text/plain": [
       "⎡ 0     0    0.33⎤\n",
       "⎢                ⎥\n",
       "⎢0.18   0     0  ⎥\n",
       "⎢                ⎥\n",
       "⎣ 0    0.71  0.94⎦"
      ]
     },
     "execution_count": 3,
     "metadata": {},
     "output_type": "execute_result"
    }
   ],
   "source": [
    "# Transition matrix \n",
    "M = Matrix(3,3, [0,0,.33, 0.18,0,0, 0, 0.71, 0.94])  \n",
    "M"
   ]
  },
  {
   "cell_type": "code",
   "execution_count": 7,
   "id": "ecb057cf-a092-4331-861a-7c6d93d772ba",
   "metadata": {},
   "outputs": [
    {
     "data": {
      "text/latex": [
       "$\\displaystyle \\left[\\begin{matrix}0.33 k\\\\0.18 j\\\\0.94 k + 0.71 s\\end{matrix}\\right]$"
      ],
      "text/plain": [
       "⎡    0.33⋅k     ⎤\n",
       "⎢               ⎥\n",
       "⎢    0.18⋅j     ⎥\n",
       "⎢               ⎥\n",
       "⎣0.94⋅k + 0.71⋅s⎦"
      ]
     },
     "execution_count": 7,
     "metadata": {},
     "output_type": "execute_result"
    }
   ],
   "source": [
    "j,s,k = var(\"j s k\")\n",
    "x = Matrix([j,s,k]) \n",
    "M*x"
   ]
  },
  {
   "cell_type": "markdown",
   "id": "1760dfe7-c0ce-4cd4-8e97-25e5df08d3eb",
   "metadata": {},
   "source": [
    "About 18% of juveniles survive to become subadults. About 71% of subadults survive to become adults. About 94% of adults survive from one year to the next. About 33% of adults produce juvenile offspring from year to year. \n",
    "\n",
    "## 1(d) "
   ]
  },
  {
   "cell_type": "code",
   "execution_count": 9,
   "id": "35f178be-988c-4c4b-8e26-bdc2b8b92437",
   "metadata": {},
   "outputs": [
    {
     "name": "stdout",
     "output_type": "stream",
     "text": [
      "Matrix([[200], [45], [725]])\n",
      "Matrix([[239.250000000000], [36.0000000000000], [713.450000000000]])\n",
      "Matrix([[235.438500000000], [43.0650000000000], [696.203000000000]])\n",
      "Matrix([[229.746990000000], [42.3789300000000], [685.006970000000]])\n",
      "Matrix([[226.052300100000], [41.3544582000000], [673.995592100000]])\n",
      "Matrix([[222.418545393000], [40.6894140180000], [662.917521896000]])\n",
      "Matrix([[218.762782225680], [40.0353381707400], [652.031954535020]])\n",
      "Matrix([[215.170544996557], [39.3773008006224], [641.335127364144]])\n",
      "Matrix([[211.640592030168], [38.7306980993802], [630.812903290737]])\n",
      "Matrix([[208.168258085943], [38.0953065654302], [620.462924743853]])\n",
      "Matrix([[204.752765165472], [37.4702864554698], [610.282816920677]])\n",
      "Matrix([[201.393329583824], [36.8554977297849], [600.269751288820]])\n",
      "Matrix([[198.089017925311], [36.2507993250882], [590.420969599638]])\n",
      "Matrix([[194.838919967881], [35.6560232265559], [580.733778944472]])\n",
      "Matrix([[191.642147051676], [35.0710055942185], [571.205528698659]])\n",
      "Matrix([[188.497824470557], [34.4955864693017], [561.833610948634]])\n",
      "Matrix([[185.405091613049], [33.9296084047003], [552.615460684921]])\n",
      "Matrix([[182.363102026024], [33.3729164903489], [543.548555011163]])\n",
      "Matrix([[179.371023153684], [32.8253583646843], [534.630412418641]])\n",
      "Matrix([[176.428036098151], [32.2867841676631], [525.858592112448]])\n",
      "Matrix([[173.533335397108], [31.7570464976672], [517.230693344742]])\n"
     ]
    }
   ],
   "source": [
    "x0 = Matrix([200, 45, 725]) \n",
    "for i in range(21): \n",
    "    print(M**i*x0)"
   ]
  },
  {
   "cell_type": "markdown",
   "id": "fd47e80b-b3f8-4a8c-80a9-d70c6cd232d0",
   "metadata": {},
   "source": [
    "The total population of owls appears to be decreasing across the board over time. Eventually if this trend continues, the owls will become extinct. \n",
    "\n",
    "## 1(e) "
   ]
  },
  {
   "cell_type": "code",
   "execution_count": 36,
   "id": "1683f03d-b8d2-4cee-b832-b3f2aaa4b5a0",
   "metadata": {},
   "outputs": [
    {
     "name": "stdout",
     "output_type": "stream",
     "text": [
      "Matrix([[200], [45], [725]])\n",
      "Matrix([[239.250000000000], [53.0000000000000], [713.450000000000]])\n",
      "Matrix([[235.438500000000], [63.4012500000000], [708.273000000000]])\n",
      "Matrix([[233.730090000000], [62.3912025000000], [710.791507500000]])\n",
      "Matrix([[234.561197475000], [61.9384738500000], [712.441770825000]])\n",
      "Matrix([[235.105784372250], [62.1587173308750], [713.671581009000]])\n",
      "Matrix([[235.511621732970], [62.3030328586462], [714.983975453381]])\n",
      "Matrix([[235.944711899616], [62.4105797592370], [716.320090255817]])\n",
      "Matrix([[236.385629784420], [62.5253486533982], [717.652396469526]])\n",
      "Matrix([[236.825290834944], [62.6421918928712], [718.986250225268]])\n",
      "Matrix([[237.265462574338], [62.7587020712601], [720.323031455690]])\n",
      "Matrix([[237.706600380378], [62.8753475821997], [721.662328038943]])\n",
      "Matrix([[238.148568252851], [62.9922491008001], [723.004085139968]])\n",
      "Matrix([[238.591348096190], [63.1093705870056], [724.348336893138]])\n",
      "Matrix([[239.034951174736], [63.2267072454902], [725.695089796324]])\n",
      "Matrix([[239.479379632787], [63.3442620613049], [727.044346552842]])\n",
      "Matrix([[239.924634362438], [63.4620356026885], [728.396111823198]])\n",
      "Matrix([[240.370716901656], [63.5800281060461], [729.750390391716]])\n",
      "Matrix([[240.817628829266], [63.6982399789387], [731.107186923505]])\n",
      "Matrix([[241.265371684757], [63.8166716397555], [732.466506093141]])\n",
      "Matrix([[241.713947010737], [63.9353234964605], [733.828352591779]])\n"
     ]
    }
   ],
   "source": [
    "# Modified transition matrix \n",
    "\n",
    "r = 0.265\n",
    "M = Matrix(3,3, [0,0,.33, r,0,0, 0, 0.71, 0.94])  \n",
    "\n",
    "x0 = Matrix([200, 45, 725]) \n",
    "for i in range(21): \n",
    "    print(M**i*x0)"
   ]
  },
  {
   "cell_type": "markdown",
   "id": "5fe41903-1ff9-466c-ad6e-d1435fe9dd08",
   "metadata": {},
   "source": [
    "By experimenting with $r$ values, $r \\approx 0.265$ is as small as $r$ can get for the owl population to avoid extinction. \n",
    "\n",
    "In this case, the eigenvalues of $M$ are: \n"
   ]
  },
  {
   "cell_type": "code",
   "execution_count": 37,
   "id": "5f55112b-2a10-4135-8f60-589c3c57e32f",
   "metadata": {},
   "outputs": [
    {
     "data": {
      "text/latex": [
       "$\\displaystyle \\left\\{ 1.00185926112308 : 1, \\  -0.0309296305615387 - 0.24701747224784 i : 1, \\  -0.0309296305615387 + 0.24701747224784 i : 1\\right\\}$"
      ],
      "text/plain": [
       "{1.00185926112308: 1, -0.0309296305615387 - 0.24701747224784⋅ⅈ: 1, -0.03092963\n",
       "05615387 + 0.24701747224784⋅ⅈ: 1}"
      ]
     },
     "execution_count": 37,
     "metadata": {},
     "output_type": "execute_result"
    }
   ],
   "source": [
    "M.eigenvals()"
   ]
  },
  {
   "cell_type": "markdown",
   "id": "c2af4d66-2033-4885-b8a5-54b371244cd7",
   "metadata": {},
   "source": [
    "The one real eigenvalue is nearly 1. So maybe whatever value of $r$ makes this eigenvalue equal to $1$ is the minimum threshhold. \n",
    "\n",
    "**Bonus: Finding that value of $r$**"
   ]
  },
  {
   "cell_type": "code",
   "execution_count": 42,
   "id": "dfb5843d-a2e7-4e24-a3d6-78603dc49631",
   "metadata": {},
   "outputs": [
    {
     "data": {
      "text/latex": [
       "$\\displaystyle \\operatorname{PurePoly}{\\left( 1.0 \\lambda^{3} - 0.94 \\lambda^{2} -  0.2343 r, \\lambda, domain=\\mathbb{R}\\left[r\\right] \\right)}$"
      ],
      "text/plain": [
       "PurePoly(1.0*lambda**3 - 0.94*lambda**2 - 0.2343*r, lambda, domain='RR[r]')"
      ]
     },
     "execution_count": 42,
     "metadata": {},
     "output_type": "execute_result"
    }
   ],
   "source": [
    "r = var(\"r\")\n",
    "M = Matrix(3,3, [0,0,.33, r,0,0, 0, 0.71, 0.94])  \n",
    "M.charpoly()"
   ]
  },
  {
   "cell_type": "code",
   "execution_count": 47,
   "id": "da028693-f8af-4e26-8b75-276a9d45dc19",
   "metadata": {},
   "outputs": [
    {
     "data": {
      "text/latex": [
       "$\\displaystyle \\left[ 0.256081946222791\\right]$"
      ],
      "text/plain": [
       "[0.256081946222791]"
      ]
     },
     "execution_count": 47,
     "metadata": {},
     "output_type": "execute_result"
    }
   ],
   "source": [
    "x = var(\"x\")\n",
    "# Substitute lambda = 1 into the characteristic polynomial\n",
    "solve(0.06 - 0.2343*r, r)"
   ]
  },
  {
   "cell_type": "markdown",
   "id": "df8a8b44-5861-4ddb-b731-95f01e86403d",
   "metadata": {},
   "source": [
    "So it's actually $0.2561$. "
   ]
  },
  {
   "cell_type": "code",
   "execution_count": null,
   "id": "3e9b0262-de8b-49fc-82a3-1e741b4f1201",
   "metadata": {},
   "outputs": [],
   "source": []
  }
 ],
 "metadata": {
  "kernelspec": {
   "display_name": "Python 3 (ipykernel)",
   "language": "python",
   "name": "python3"
  },
  "language_info": {
   "codemirror_mode": {
    "name": "ipython",
    "version": 3
   },
   "file_extension": ".py",
   "mimetype": "text/x-python",
   "name": "python",
   "nbconvert_exporter": "python",
   "pygments_lexer": "ipython3",
   "version": "3.9.15"
  }
 },
 "nbformat": 4,
 "nbformat_minor": 5
}
