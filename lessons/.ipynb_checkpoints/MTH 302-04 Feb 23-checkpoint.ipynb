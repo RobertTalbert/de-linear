{
 "cells": [
  {
   "cell_type": "markdown",
   "id": "f5fa6766-8df4-4f9c-8144-2d63ab60bdf8",
   "metadata": {},
   "source": [
    "# MTH 302-04 2023-02-23 Scratchwork\n"
   ]
  },
  {
   "cell_type": "code",
   "execution_count": 1,
   "id": "ac8439ad-fc48-4d2a-9acf-0abc76573839",
   "metadata": {},
   "outputs": [],
   "source": [
    "from sympy import *\n",
    "init_printing()"
   ]
  },
  {
   "cell_type": "code",
   "execution_count": 2,
   "id": "d9ea56dd-a08f-42d0-874d-fb952658819c",
   "metadata": {},
   "outputs": [
    {
     "data": {
      "text/latex": [
       "$\\displaystyle \\left[\\begin{matrix}-2 & 0\\\\0 & 3\\end{matrix}\\right]$"
      ],
      "text/plain": [
       "⎡-2  0⎤\n",
       "⎢     ⎥\n",
       "⎣0   3⎦"
      ]
     },
     "execution_count": 2,
     "metadata": {},
     "output_type": "execute_result"
    }
   ],
   "source": [
    "A = Matrix([[-2,0], [0,3]])\n",
    "A"
   ]
  },
  {
   "cell_type": "code",
   "execution_count": 3,
   "id": "ed229ee8-a694-42d3-854e-c86f6d5b2bef",
   "metadata": {},
   "outputs": [
    {
     "data": {
      "text/latex": [
       "$\\displaystyle \\left[ \\left( -2, \\  1, \\  \\left[ \\left[\\begin{matrix}1\\\\0\\end{matrix}\\right]\\right]\\right), \\  \\left( 3, \\  1, \\  \\left[ \\left[\\begin{matrix}0\\\\1\\end{matrix}\\right]\\right]\\right)\\right]$"
      ],
      "text/plain": [
       "⎡⎛       ⎡⎡1⎤⎤⎞  ⎛      ⎡⎡0⎤⎤⎞⎤\n",
       "⎢⎜-2, 1, ⎢⎢ ⎥⎥⎟, ⎜3, 1, ⎢⎢ ⎥⎥⎟⎥\n",
       "⎣⎝       ⎣⎣0⎦⎦⎠  ⎝      ⎣⎣1⎦⎦⎠⎦"
      ]
     },
     "execution_count": 3,
     "metadata": {},
     "output_type": "execute_result"
    }
   ],
   "source": [
    "A.eigenvects()"
   ]
  },
  {
   "cell_type": "code",
   "execution_count": 4,
   "id": "fee74ca0-073a-4298-868d-fc48029d513c",
   "metadata": {},
   "outputs": [
    {
     "data": {
      "text/latex": [
       "$\\displaystyle \\left[\\begin{matrix}-2\\\\3\\end{matrix}\\right]$"
      ],
      "text/plain": [
       "⎡-2⎤\n",
       "⎢  ⎥\n",
       "⎣3 ⎦"
      ]
     },
     "execution_count": 4,
     "metadata": {},
     "output_type": "execute_result"
    }
   ],
   "source": [
    "A*Matrix([1,1])"
   ]
  },
  {
   "cell_type": "code",
   "execution_count": 5,
   "id": "3796b614-a8bb-4390-8a9a-8233fa7da75d",
   "metadata": {},
   "outputs": [],
   "source": [
    "x = var(\"x\")\n",
    "y = Function(\"y\")"
   ]
  },
  {
   "cell_type": "code",
   "execution_count": 6,
   "id": "a950c17d-65d1-46a0-a882-ed77148fdb1c",
   "metadata": {},
   "outputs": [
    {
     "data": {
      "text/latex": [
       "$\\displaystyle \\frac{d}{d x} y{\\left(x \\right)} = - 2 y^{3}{\\left(x \\right)}$"
      ],
      "text/plain": [
       "d              3   \n",
       "──(y(x)) = -2⋅y (x)\n",
       "dx                 "
      ]
     },
     "execution_count": 6,
     "metadata": {},
     "output_type": "execute_result"
    }
   ],
   "source": [
    "de = Eq(diff(y(x),x), -2*(y(x))**3)\n",
    "de"
   ]
  },
  {
   "cell_type": "code",
   "execution_count": 10,
   "id": "5e7cced1-b587-4fb6-b2de-d58a9d7418b0",
   "metadata": {},
   "outputs": [
    {
     "data": {
      "text/latex": [
       "$\\displaystyle y{\\left(x \\right)} = \\sqrt{\\frac{1}{4 x + 1}}$"
      ],
      "text/plain": [
       "           _________\n",
       "          ╱    1    \n",
       "y(x) =   ╱  ─────── \n",
       "       ╲╱   4⋅x + 1 "
      ]
     },
     "execution_count": 10,
     "metadata": {},
     "output_type": "execute_result"
    }
   ],
   "source": [
    "simplify(dsolve(de, y(x), ics = {y(0) : 1}))"
   ]
  },
  {
   "cell_type": "code",
   "execution_count": null,
   "id": "dd1720f5-90b2-4704-b69b-3eea701e717a",
   "metadata": {},
   "outputs": [],
   "source": []
  }
 ],
 "metadata": {
  "kernelspec": {
   "display_name": "Python 3 (ipykernel)",
   "language": "python",
   "name": "python3"
  },
  "language_info": {
   "codemirror_mode": {
    "name": "ipython",
    "version": 3
   },
   "file_extension": ".py",
   "mimetype": "text/x-python",
   "name": "python",
   "nbconvert_exporter": "python",
   "pygments_lexer": "ipython3",
   "version": "3.9.15"
  }
 },
 "nbformat": 4,
 "nbformat_minor": 5
}
