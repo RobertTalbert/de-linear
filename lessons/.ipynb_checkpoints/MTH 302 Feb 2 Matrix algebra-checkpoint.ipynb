{
 "cells": [
  {
   "cell_type": "markdown",
   "id": "39b7e24e",
   "metadata": {
    "slideshow": {
     "slide_type": "slide"
    }
   },
   "source": [
    "# MTH 302: Linear Algebra and Differential Equations\n",
    "\n",
    "## Matrix Algebra and Introduction to Inverses\n",
    "    \n",
    "## 2023 February 2"
   ]
  },
  {
   "cell_type": "markdown",
   "id": "5e8c0736",
   "metadata": {
    "slideshow": {
     "slide_type": "slide"
    }
   },
   "source": [
    "## Housekeeping\n",
    "\n",
    "- Change to quiz setup for Class Preps next week \n",
    "- Where do you find due dates? \n",
    "- What's in the announcements? "
   ]
  },
  {
   "cell_type": "markdown",
   "id": "5fd295f5",
   "metadata": {
    "slideshow": {
     "slide_type": "slide"
    }
   },
   "source": [
    "## Today's Goals\n",
    "\n",
    "- Add, subtract, rescale, and multiply matrices by hand\n",
    "- Do all of this in SymPy as well\n",
    "- Make conjectures about matrix arithmetic \n",
    "- Find the inverse of a square matrix (if it exists) using RREF \n",
    "- Make conjectutes about matrix inverses (connect to linear independence, etc.) "
   ]
  },
  {
   "cell_type": "markdown",
   "id": "def88617",
   "metadata": {
    "slideshow": {
     "slide_type": "slide"
    }
   },
   "source": [
    "## Debriefing Class Prep \n",
    "\n",
    "No big questions but some items to clear up "
   ]
  },
  {
   "cell_type": "markdown",
   "id": "a548b2b2",
   "metadata": {
    "slideshow": {
     "slide_type": "slide"
    }
   },
   "source": [
    "## Practice \n",
    "\n",
    "Work through **Exercise 1.7 #1 (and #2 if time)** by hand.\n",
    "\n",
    "Note: This is Foundational Skill LA.4\n",
    "\n",
    ">LA.4: I can add, subtract, and multiply matrices.\n",
    "\n",
    "We will debrief this using SymPy. "
   ]
  },
  {
   "cell_type": "code",
   "execution_count": null,
   "id": "680a889a",
   "metadata": {
    "slideshow": {
     "slide_type": "slide"
    }
   },
   "outputs": [],
   "source": [
    "from sympy import *\n",
    "init_printing()\n",
    "A = Matrix(2,3,[3,-5,2,-1,5,-4])\n",
    "B = Matrix(3,2,[-6,10,2,11,-3,-2])\n",
    "C = Matrix(3,2,[5,3,-1,0,2,-4])"
   ]
  },
  {
   "cell_type": "code",
   "execution_count": null,
   "id": "28d28af6",
   "metadata": {
    "slideshow": {
     "slide_type": "fragment"
    }
   },
   "outputs": [],
   "source": [
    "A.transpose()"
   ]
  },
  {
   "cell_type": "code",
   "execution_count": null,
   "id": "63397b6c",
   "metadata": {
    "slideshow": {
     "slide_type": "fragment"
    }
   },
   "outputs": [],
   "source": [
    "# Check arithmetic here "
   ]
  },
  {
   "cell_type": "markdown",
   "id": "3783f654",
   "metadata": {
    "slideshow": {
     "slide_type": "slide"
    }
   },
   "source": [
    "## Activity\n",
    "\n",
    "In groups, work on Part 1 of tonight's activity. \n",
    "\n",
    "Demo for the first item is on the next slide. "
   ]
  },
  {
   "cell_type": "code",
   "execution_count": null,
   "id": "f17575f4",
   "metadata": {
    "slideshow": {
     "slide_type": "slide"
    }
   },
   "outputs": [],
   "source": [
    "# Randomly generate two 4x4 matrices\n",
    "A = randMatrix(4,4,-15,15)\n",
    "B = randMatrix(4,4,-15,15)\n",
    "(A,B)"
   ]
  },
  {
   "cell_type": "code",
   "execution_count": null,
   "id": "eeb0d88c",
   "metadata": {},
   "outputs": [],
   "source": [
    "(A+B, B+A)"
   ]
  },
  {
   "cell_type": "markdown",
   "id": "e9881528",
   "metadata": {},
   "source": [
    "Does $A+B$ appear to be equal to $B+A$ all the time? If so, what's a general explanation? If not, what's an example of failure and an example of success? "
   ]
  },
  {
   "cell_type": "markdown",
   "id": "4a4c2561",
   "metadata": {
    "slideshow": {
     "slide_type": "slide"
    }
   },
   "source": [
    "# Break time! "
   ]
  },
  {
   "cell_type": "markdown",
   "id": "7531c007",
   "metadata": {
    "slideshow": {
     "slide_type": "slide"
    }
   },
   "source": [
    "## Inverses\n",
    "\n",
    "If $\\mathbf{A}$ is $n \\times n$, then $\\mathbf{A}$ is **invertible** if there is another matrix $\\mathbf{B}$ such that $\\mathbf{AB = I}_n$ and $\\mathbf{BA = I}_n$. \n",
    "\n",
    "Example: $\\mathbf{A} = \\begin{bmatrix} 1 & 2 \\\\ -1 & 4 \\end{bmatrix}$ is invertible:\n",
    "\n",
    "$$\\begin{bmatrix} 1 & 2 \\\\ -1 & 4 \\end{bmatrix} \\left[\\begin{matrix}\\frac{2}{3} & - \\frac{1}{3}\\\\\\frac{1}{6} & \\frac{1}{6}\\end{matrix}\\right] = \\begin{bmatrix} 1 & 0 \\\\ 0 & 1 \\end{bmatrix}$$\n",
    "\n",
    "(Check that this also works if you reverse the order.) "
   ]
  },
  {
   "cell_type": "markdown",
   "id": "5c81ea6f",
   "metadata": {
    "slideshow": {
     "slide_type": "slide"
    }
   },
   "source": [
    "## Not all matrices are invertible \n",
    "\n",
    "Let $\\mathbf{A} = \\begin{bmatrix} 1 & 2 \\\\ -1 & -2 \\end{bmatrix}$. Is there a way to fill in the entries? \n",
    "\n",
    "$$\\begin{bmatrix} 1 & 2 \\\\ -1 & -2 \\end{bmatrix} \\left[\\begin{matrix} a & b \\\\ c & d \\end{matrix}\\right] = \\begin{bmatrix} 1 & 0 \\\\ 0 & 1 \\end{bmatrix}$$"
   ]
  },
  {
   "cell_type": "code",
   "execution_count": null,
   "id": "72073202",
   "metadata": {
    "slideshow": {
     "slide_type": "fragment"
    }
   },
   "outputs": [],
   "source": [
    "a,b,c,d = var(\"a b c d\")\n",
    "A = Matrix(2,2,[1,2,-1,-2])\n",
    "X = Matrix(2,2,[a,b,c,d])\n",
    "A*X"
   ]
  },
  {
   "cell_type": "markdown",
   "id": "a36dc517",
   "metadata": {
    "slideshow": {
     "slide_type": "slide"
    }
   },
   "source": [
    "## Finding inverses using RREF\n",
    "\n",
    "- Form an augmented matrix with $\\mathbf{A}$ on the left and $\\mathbf{I}_n$ on the right\n",
    "- RREF the entire thing\n",
    "- If pivot position in every row: Get $\\mathbf{I}_n$ on the left and $\\mathbf{A}^{-1}$ on the right\n",
    "- Otherwise $\\mathbf{A}$ is not invertible"
   ]
  },
  {
   "cell_type": "code",
   "execution_count": null,
   "id": "67d90f7d",
   "metadata": {},
   "outputs": [],
   "source": [
    "# Example\n",
    "A = randMatrix(3,3,-10,10)\n",
    "I = eye(3)   # Produces 3x3 identity matrix \n",
    "M = A.col_insert(4,I)\n",
    "M"
   ]
  },
  {
   "cell_type": "code",
   "execution_count": null,
   "id": "95475ba4",
   "metadata": {
    "slideshow": {
     "slide_type": "fragment"
    }
   },
   "outputs": [],
   "source": [
    "M.rref(pivots=False)"
   ]
  },
  {
   "cell_type": "markdown",
   "id": "95b32809",
   "metadata": {
    "slideshow": {
     "slide_type": "slide"
    }
   },
   "source": [
    "## Getting inverses from SymPy directly"
   ]
  },
  {
   "cell_type": "code",
   "execution_count": null,
   "id": "8167bc34",
   "metadata": {},
   "outputs": [],
   "source": [
    "A = randMatrix(4,4,-20,20)\n",
    "A"
   ]
  },
  {
   "cell_type": "code",
   "execution_count": null,
   "id": "7c19f611",
   "metadata": {},
   "outputs": [],
   "source": [
    "A.inv()"
   ]
  },
  {
   "cell_type": "code",
   "execution_count": null,
   "id": "d90a701f",
   "metadata": {
    "slideshow": {
     "slide_type": "slide"
    }
   },
   "outputs": [],
   "source": [
    "# What if A is non-invertible \n",
    "A = Matrix(2,2,[1,-1,2,-2])\n",
    "A.inv()"
   ]
  },
  {
   "cell_type": "markdown",
   "id": "26eddf3b",
   "metadata": {
    "slideshow": {
     "slide_type": "slide"
    }
   },
   "source": [
    "# Activity\n",
    "\n",
    "## Work in groups on today's activity, Part 2. "
   ]
  },
  {
   "cell_type": "markdown",
   "id": "dd722b04",
   "metadata": {
    "slideshow": {
     "slide_type": "slide"
    }
   },
   "source": [
    "# Skill Quiz 3\n",
    "\n",
    "## Find it on Blackboard > Skill Quizzes. "
   ]
  },
  {
   "cell_type": "markdown",
   "id": "d95953ca",
   "metadata": {
    "slideshow": {
     "slide_type": "slide"
    }
   },
   "source": [
    "# Next time\n",
    "\n",
    "- The Invertible Matrix Theorem \n",
    "- Determinants \n",
    "- How inverses and determinants connect to linear independence, span, etc. "
   ]
  }
 ],
 "metadata": {
  "celltoolbar": "Slideshow",
  "kernelspec": {
   "display_name": "Python 3 (ipykernel)",
   "language": "python",
   "name": "python3"
  },
  "language_info": {
   "codemirror_mode": {
    "name": "ipython",
    "version": 3
   },
   "file_extension": ".py",
   "mimetype": "text/x-python",
   "name": "python",
   "nbconvert_exporter": "python",
   "pygments_lexer": "ipython3",
   "version": "3.9.12"
  }
 },
 "nbformat": 4,
 "nbformat_minor": 5
}
