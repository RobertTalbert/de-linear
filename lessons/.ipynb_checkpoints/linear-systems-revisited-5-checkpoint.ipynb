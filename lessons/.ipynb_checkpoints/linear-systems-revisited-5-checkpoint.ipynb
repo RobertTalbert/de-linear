{
 "cells": [
  {
   "cell_type": "markdown",
   "metadata": {
    "slideshow": {
     "slide_type": "slide"
    }
   },
   "source": [
    "## Linear systems revisited\n",
    "\n",
    "## Part 5: Introducing differential equations\n",
    "\n",
    "### MTH 302: Linear Algebra and Differential Equations"
   ]
  },
  {
   "cell_type": "markdown",
   "metadata": {
    "slideshow": {
     "slide_type": "slide"
    }
   },
   "source": [
    "## Example from Day 1\n",
    "\n",
    "A population of rabbits has no limitations on its natural environment. Under those conditions **the population will grow in proportion to its size.**"
   ]
  },
  {
   "cell_type": "markdown",
   "metadata": {
    "slideshow": {
     "slide_type": "fragment"
    }
   },
   "source": [
    "Let $y(t)$ be the population size at time $t$. \n",
    "\n",
    "So $y'$ or $\\frac{dy}{dt}$ is the growth rate of the population.\n",
    "\n",
    "$$y' = 2y$$ \n",
    "\n",
    "This is a **differential equation**.\n",
    "- An equation that relates a function to one or more of its derivatives. \n",
    "- A *solution* to a differential equation is a **function** that satisfies the equation. "
   ]
  },
  {
   "cell_type": "markdown",
   "metadata": {
    "slideshow": {
     "slide_type": "slide"
    }
   },
   "source": [
    "$$y' = 2y$$\n",
    "\n",
    "One solution to this: Constant function $y(t) = 0$. \n",
    "\n",
    "- Left side: $\\frac{d}{dt}[0] = 0$\n",
    "- Right side: $2y = 2(0) = 0$ "
   ]
  },
  {
   "cell_type": "markdown",
   "metadata": {
    "slideshow": {
     "slide_type": "fragment"
    }
   },
   "source": [
    "Not a solution: $y(t) = t^2$ \n",
    "\n",
    "- Left side: $\\frac{d}{dt}[t^2] = 2t$\n",
    "- Right side: $2y = 2(2t)  = 4t$ "
   ]
  },
  {
   "cell_type": "markdown",
   "metadata": {
    "slideshow": {
     "slide_type": "slide"
    }
   },
   "source": [
    "$$y' = 2y$$\n",
    "\n",
    "Better solution: $y(t) = e^{2t}$ \n",
    "\n",
    "- Left side: $\\frac{d}{dt}[e^{2t}] = 2e^{2t}$ \n",
    "- Right side: $2y = 2 \\cdot e^{2t}$ "
   ]
  },
  {
   "cell_type": "markdown",
   "metadata": {
    "slideshow": {
     "slide_type": "fragment"
    }
   },
   "source": [
    "Another nontrivial solution: $y(t) = 15e^{2t}$ \n",
    "\n",
    "- Left side: $\\frac{d}{dt}[15e^{2t}] = 30e^{2t}$ \n",
    "- Right side: $2y = 2 \\cdot 15e^{2t}$ "
   ]
  },
  {
   "cell_type": "markdown",
   "metadata": {
    "slideshow": {
     "slide_type": "slide"
    }
   },
   "source": [
    "## You try it\n",
    "\n",
    "Which of the following are solutions to the differential equation $y' + 5y = 0$? \n",
    "\n",
    "1. $y(t) = 5$\n",
    "2. $y(t) = 0$\n",
    "3. $y(t) = \\sin(5t)$\n",
    "4. $y(t) = e^{5t}$\n",
    "5. $y(t) = e^{-5t}\n",
    "6. $y(t) = 8e^{-5t}$\n",
    "7. $y(t) = e^{-5t} + 100$ "
   ]
  },
  {
   "cell_type": "markdown",
   "metadata": {
    "slideshow": {
     "slide_type": "slide"
    }
   },
   "source": [
    "## How to take derivatives in SymPy\n",
    "\n",
    "- Define symbolic variables using `symbols` command\n",
    "- `diff(f(x), x)` finds the derivative of `f(x)`"
   ]
  },
  {
   "cell_type": "code",
   "execution_count": 14,
   "metadata": {
    "slideshow": {
     "slide_type": "fragment"
    }
   },
   "outputs": [
    {
     "data": {
      "text/latex": [
       "$\\displaystyle \\cos{\\left(t \\right)}$"
      ],
      "text/plain": [
       "cos(t)"
      ]
     },
     "execution_count": 14,
     "metadata": {},
     "output_type": "execute_result"
    }
   ],
   "source": [
    "from sympy import *\n",
    "init_printing()\n",
    "\n",
    "t = symbols('t')\n",
    "diff(sin(t), t)"
   ]
  },
  {
   "cell_type": "code",
   "execution_count": 15,
   "metadata": {
    "slideshow": {
     "slide_type": "fragment"
    }
   },
   "outputs": [
    {
     "data": {
      "text/latex": [
       "$\\displaystyle \\frac{\\tan^{2}{\\left(t \\right)} + 1}{\\tan{\\left(t \\right)}}$"
      ],
      "text/plain": [
       "   2       \n",
       "tan (t) + 1\n",
       "───────────\n",
       "   tan(t)  "
      ]
     },
     "execution_count": 15,
     "metadata": {},
     "output_type": "execute_result"
    }
   ],
   "source": [
    "# Or assign the function to another variable\n",
    "y = log(tan(t))\n",
    "diff(y,t)"
   ]
  },
  {
   "cell_type": "code",
   "execution_count": 18,
   "metadata": {
    "slideshow": {
     "slide_type": "fragment"
    }
   },
   "outputs": [
    {
     "data": {
      "text/latex": [
       "$\\displaystyle 0$"
      ],
      "text/plain": [
       "0"
      ]
     },
     "execution_count": 18,
     "metadata": {},
     "output_type": "execute_result"
    }
   ],
   "source": [
    "y = exp(-5*t)\n",
    "diff(y,t) + 5*y "
   ]
  },
  {
   "cell_type": "markdown",
   "metadata": {
    "slideshow": {
     "slide_type": "slide"
    }
   },
   "source": [
    "## A \"non-homogeneous\" DE\n",
    "\n",
    "$$y' + 5y = 20$$\n",
    "\n",
    "Notice, $y(t) = e^{-5t}$ no longer solves this. How do we find a solution? "
   ]
  },
  {
   "cell_type": "markdown",
   "metadata": {
    "slideshow": {
     "slide_type": "fragment"
    }
   },
   "source": [
    "Answer: Look at the homogeneous version $y' + 5y = 0$. We know $y(t) = e^{-5t}$ is a solution. "
   ]
  },
  {
   "cell_type": "markdown",
   "metadata": {
    "slideshow": {
     "slide_type": "fragment"
    }
   },
   "source": [
    "Next: Find a particular solution to the non-homogeneous version by guess-and-check, etc.\n",
    "\n",
    "$y(t) = 4$ works: \n",
    "- $y' + 5y = 0 + 5\\cdot 4 = 20$ "
   ]
  },
  {
   "cell_type": "markdown",
   "metadata": {},
   "source": [
    "Then just like with linear systems, add the homogeneous solution to the nonhomogeneous solution. \n",
    "\n",
    "$$y(t) = e^{-5t} + 20$$ \n",
    "\n",
    "Checking: "
   ]
  },
  {
   "cell_type": "code",
   "execution_count": 20,
   "metadata": {},
   "outputs": [
    {
     "data": {
      "text/latex": [
       "$\\displaystyle 20$"
      ],
      "text/plain": [
       "20"
      ]
     },
     "execution_count": 20,
     "metadata": {},
     "output_type": "execute_result"
    }
   ],
   "source": [
    "y = exp(-5*t) + 4\n",
    "diff(y,t) + 5*y"
   ]
  },
  {
   "cell_type": "markdown",
   "metadata": {},
   "source": [
    "- This is a just a preview -- we begin focus on DE's in a couple of weeks. \n",
    "- To notice now: Parallels between solving linear systems and solving DE's. \n",
    "- Later: How do we come up with the solutions to DE's other than guess/check? "
   ]
  },
  {
   "cell_type": "markdown",
   "metadata": {},
   "source": []
  }
 ],
 "metadata": {
  "celltoolbar": "Slideshow",
  "kernelspec": {
   "display_name": "Python 3 (ipykernel)",
   "language": "python",
   "name": "python3"
  },
  "language_info": {
   "codemirror_mode": {
    "name": "ipython",
    "version": 3
   },
   "file_extension": ".py",
   "mimetype": "text/x-python",
   "name": "python",
   "nbconvert_exporter": "python",
   "pygments_lexer": "ipython3",
   "version": "3.9.15"
  },
  "vscode": {
   "interpreter": {
    "hash": "784cc7598c8dead48ccbe373380d278edc58654b6275e9517b5b2c0bab31845c"
   }
  }
 },
 "nbformat": 4,
 "nbformat_minor": 2
}
