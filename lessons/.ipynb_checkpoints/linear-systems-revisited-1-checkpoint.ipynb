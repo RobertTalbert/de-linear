{
 "cells": [
  {
   "cell_type": "markdown",
   "metadata": {
    "slideshow": {
     "slide_type": "slide"
    }
   },
   "source": [
    "# Linear systems revisited\n",
    "\n",
    "## Part 1: What we know so far about systems\n",
    "\n",
    "### MTH 302: Linear Algebra and Differential Equations"
   ]
  },
  {
   "cell_type": "markdown",
   "metadata": {
    "slideshow": {
     "slide_type": "slide"
    }
   },
   "source": [
    "## 1. Linear systems $\\leftrightarrow$ matrices \n",
    "\n",
    "$$\\begin{alignedat}{4}\n",
    "x &  {}+{}  & y &  {}+{}  & 2z &  {}={}  & 1 \\\\\n",
    "2x &  {}-{}  & y &  {}-{}  & 2z &  {}={}  & 2 \\\\\n",
    "-x &  {}+{}  & y &  {}+{}  & z &  {}={}  & 0 \\\\\n",
    "\\end{alignedat}$$"
   ]
  },
  {
   "cell_type": "markdown",
   "metadata": {
    "slideshow": {
     "slide_type": "fragment"
    }
   },
   "source": [
    "$$\\begin{bmatrix}\n",
    "1 & 1 & 2 & 1 \\\\\n",
    "2 & 1 & -2 & 2 \\\\\n",
    "-1 & 1 & 1 & 0\n",
    "\\end{bmatrix}$$"
   ]
  },
  {
   "cell_type": "code",
   "execution_count": null,
   "metadata": {
    "slideshow": {
     "slide_type": "slide"
    }
   },
   "outputs": [],
   "source": [
    "from sympy import *\n",
    "init_printing()"
   ]
  },
  {
   "cell_type": "code",
   "execution_count": null,
   "metadata": {
    "slideshow": {
     "slide_type": "fragment"
    }
   },
   "outputs": [],
   "source": [
    "A = Matrix(3,4,[1,1,2,1,2,1,-2,2,-1,1,1,0])\n",
    "A.rref(pivots=False)"
   ]
  },
  {
   "cell_type": "markdown",
   "metadata": {
    "slideshow": {
     "slide_type": "slide"
    }
   },
   "source": [
    "## 2. Linear combinations $\\leftrightarrow$ linear systems\n",
    "\n",
    "Is $[-1,5,3]^T$ a linear combination of $[-1,2,1]^T$, $[-2,4,2]^T$, and $[2,-1,0]^T$? "
   ]
  },
  {
   "cell_type": "markdown",
   "metadata": {
    "slideshow": {
     "slide_type": "fragment"
    }
   },
   "source": [
    "Do there exist weights $a,b,c$ such that \n",
    "\n",
    "$$a \\begin{bmatrix} -1 \\\\ 2 \\\\ 1 \\end{bmatrix} + b \\begin{bmatrix} -2 \\\\ 4 \\\\ 2 \\end{bmatrix} + c \\begin{bmatrix} 2 \\\\ -1 \\\\ 0 \\end{bmatrix} = \\begin{bmatrix} -1 \\\\ 5 \\\\ 3 \\end{bmatrix}$$"
   ]
  },
  {
   "cell_type": "markdown",
   "metadata": {
    "slideshow": {
     "slide_type": "fragment"
    }
   },
   "source": [
    "Is there a solution to \n",
    "$$\\begin{alignedat}{4}\n",
    "-a &  {}+{}  & -2b &  {}+{}  & 2c &  {}={}  & -1 \\\\\n",
    "2a &  {}+{}  & 4b &  {}-{}  & c &  {}={}  & 5 \\\\\n",
    "a &  {}+{}  & 2b &  {}{}  &  &  {}={}  & 3 \\\\\n",
    "\\end{alignedat}$$"
   ]
  },
  {
   "cell_type": "code",
   "execution_count": null,
   "metadata": {
    "slideshow": {
     "slide_type": "slide"
    }
   },
   "outputs": [],
   "source": [
    "A = Matrix(3,4,[-1,-2,2,-1,2,4,-1,5,1,2,0,3])\n",
    "A.rref(pivots=False)"
   ]
  },
  {
   "cell_type": "markdown",
   "metadata": {
    "slideshow": {
     "slide_type": "fragment"
    }
   },
   "source": [
    "**Yes** -- there are infinitely many solutions because $b$ is free, $c=1$, and $a = 3 - 2b$. For example choose $b=0$ to get $a = 3$, $b = 0$, $c = 1$:\n",
    "$$3 \\begin{bmatrix} -1 \\\\ 2 \\\\ 1 \\end{bmatrix} +  \\begin{bmatrix} 2 \\\\ -1 \\\\ 0 \\end{bmatrix} = \\begin{bmatrix} -1 \\\\ 5 \\\\ 3 \\end{bmatrix}$$"
   ]
  },
  {
   "cell_type": "markdown",
   "metadata": {
    "slideshow": {
     "slide_type": "slide"
    }
   },
   "source": [
    "## 3. Being in the span = Being a linear combination $\\leftrightarrow$ Systems\n",
    "\n",
    "Is $[-1,5,2]^T$ in $\\text{Span}\\left\\{ [-1,2,1]^T, [-2,4,2]^T,  [2,-1,0]^T \\right\\}$? "
   ]
  },
  {
   "cell_type": "markdown",
   "metadata": {
    "slideshow": {
     "slide_type": "fragment"
    }
   },
   "source": [
    "Is $[-1,5,2]^T$ a linear combination of $[-1,2,1]^T$, $[-2,4,2]^T$, and $[2,-1,0]^T$? "
   ]
  },
  {
   "cell_type": "markdown",
   "metadata": {
    "slideshow": {
     "slide_type": "fragment"
    }
   },
   "source": [
    "Is there a solution to \n",
    "$$\\begin{alignedat}{4}\n",
    "-a &  {}+{}  & -2b &  {}+{}  & 2c &  {}={}  & -1 \\\\\n",
    "2a &  {}+{}  & 4b &  {}-{}  & c &  {}={}  & 5 \\\\\n",
    "a &  {}+{}  & 2b &  {}{}  &  &  {}={}  & 2 \\\\\n",
    "\\end{alignedat}$$"
   ]
  },
  {
   "cell_type": "code",
   "execution_count": null,
   "metadata": {
    "slideshow": {
     "slide_type": "slide"
    }
   },
   "outputs": [],
   "source": [
    "A = Matrix(3,4,[-1,-2,2,-1,2,4,-1,5,1,2,0,2])\n",
    "A.rref(pivots=False)"
   ]
  },
  {
   "cell_type": "markdown",
   "metadata": {
    "slideshow": {
     "slide_type": "fragment"
    }
   },
   "source": [
    "**NO** -- the system is inconsistent and therefore \n",
    "- $[-1,5,2]^T$ is not a linear combination of $[-1,2,1]^T$, $[-2,4,2]^T$, and $[2,-1,0]^T$, and \n",
    "- $[-1,5,2]^T$ is not in the span of $[-1,2,1]^T$, $[-2,4,2]^T$, and $[2,-1,0]^T$"
   ]
  },
  {
   "cell_type": "markdown",
   "metadata": {
    "slideshow": {
     "slide_type": "slide"
    }
   },
   "source": [
    "## Everything comes back to linear systems\n",
    "\n",
    "![](system-connection.png)"
   ]
  }
 ],
 "metadata": {
  "celltoolbar": "Slideshow",
  "kernelspec": {
   "display_name": "Python 3 (ipykernel)",
   "language": "python",
   "name": "python3"
  },
  "language_info": {
   "codemirror_mode": {
    "name": "ipython",
    "version": 3
   },
   "file_extension": ".py",
   "mimetype": "text/x-python",
   "name": "python",
   "nbconvert_exporter": "python",
   "pygments_lexer": "ipython3",
   "version": "3.9.15"
  },
  "vscode": {
   "interpreter": {
    "hash": "784cc7598c8dead48ccbe373380d278edc58654b6275e9517b5b2c0bab31845c"
   }
  }
 },
 "nbformat": 4,
 "nbformat_minor": 2
}
