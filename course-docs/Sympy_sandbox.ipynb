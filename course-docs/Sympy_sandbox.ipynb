{
  "nbformat": 4,
  "nbformat_minor": 0,
  "metadata": {
    "colab": {
      "provenance": [],
      "authorship_tag": "ABX9TyMSTcWmmYHEFd+m6hh2+5z8",
      "include_colab_link": true
    },
    "kernelspec": {
      "name": "python3",
      "display_name": "Python 3"
    },
    "language_info": {
      "name": "python"
    }
  },
  "cells": [
    {
      "cell_type": "markdown",
      "metadata": {
        "id": "view-in-github",
        "colab_type": "text"
      },
      "source": [
        "<a href=\"https://colab.research.google.com/github/RobertTalbert/de-linear/blob/main/Sympy_sandbox.ipynb\" target=\"_parent\"><img src=\"https://colab.research.google.com/assets/colab-badge.svg\" alt=\"Open In Colab\"/></a>"
      ]
    },
    {
      "cell_type": "code",
      "execution_count": 41,
      "metadata": {
        "id": "a4_1pypSh-sB"
      },
      "outputs": [],
      "source": [
        "import sympy as sp\n",
        "from sympy import *\n",
        "\n",
        "from sympy import init_printing\n",
        "init_printing() # Always do this line if you want pretty print"
      ]
    },
    {
      "cell_type": "markdown",
      "source": [
        "# Matrices and matrix algebra\n",
        "\n",
        "- [ ] Define a matrix\n",
        "- [ ] Add matrices\n",
        "- [ ] Multiply matrices\n",
        "- [ ] Row-reduce matrices\n",
        "- [ ] Perform a single elementary row operation on a matrix \n",
        "- [ ] Determinant \n",
        "- [ ] Eigenvalues and eigenvectors \n",
        "\n"
      ],
      "metadata": {
        "id": "dvx1xqVKiEok"
      }
    },
    {
      "cell_type": "code",
      "source": [
        "# Creating a matrix \n",
        "# Three ways: Specify the rows; randomly; specify the dimensions then give a list\n",
        "\n",
        "A = Matrix([[1,2,3], [4,5,6], [7,8,9]])\n",
        "B = randMatrix(3,3,0,10)\n",
        "C = Matrix(3,2, [9,8,7,6,5,4])\n"
      ],
      "metadata": {
        "id": "EKEQooyli0gq"
      },
      "execution_count": 10,
      "outputs": []
    },
    {
      "cell_type": "code",
      "source": [
        "# Arithmetic\n",
        "\n",
        "A + B"
      ],
      "metadata": {
        "colab": {
          "base_uri": "https://localhost:8080/",
          "height": 78
        },
        "id": "m8xhorL-kdF_",
        "outputId": "30340ebf-ca2f-479e-becf-42bb927ce9a1"
      },
      "execution_count": 11,
      "outputs": [
        {
          "output_type": "execute_result",
          "data": {
            "text/plain": [
              "Matrix([\n",
              "[ 1, 12, 12],\n",
              "[ 5, 15,  8],\n",
              "[13, 18, 12]])"
            ],
            "text/latex": "$\\displaystyle \\left[\\begin{matrix}1 & 12 & 12\\\\5 & 15 & 8\\\\13 & 18 & 12\\end{matrix}\\right]$"
          },
          "metadata": {},
          "execution_count": 11
        }
      ]
    },
    {
      "cell_type": "code",
      "source": [
        "A*B"
      ],
      "metadata": {
        "colab": {
          "base_uri": "https://localhost:8080/",
          "height": 78
        },
        "id": "IbQuwVK8ke06",
        "outputId": "3f13b645-fbbc-4b31-a9ed-ef426e2c3faa"
      },
      "execution_count": 16,
      "outputs": [
        {
          "output_type": "execute_result",
          "data": {
            "text/plain": [
              "Matrix([\n",
              "[20,  60,  22],\n",
              "[41, 150,  64],\n",
              "[62, 240, 106]])"
            ],
            "text/latex": "$\\displaystyle \\left[\\begin{matrix}20 & 60 & 22\\\\41 & 150 & 64\\\\62 & 240 & 106\\end{matrix}\\right]$"
          },
          "metadata": {},
          "execution_count": 16
        }
      ]
    },
    {
      "cell_type": "code",
      "source": [
        "# Row-Reduce\n",
        "\n",
        "# Echelon form but not RREF\n",
        "A.echelon_form()\n",
        "\n",
        "# Just this much returns a matrix with indices of the pivot variables\n",
        "A.rref()\n",
        "\n",
        "# pivots = False drops the pivots and makes it look inice\n",
        "A.rref(pivots=False)"
      ],
      "metadata": {
        "colab": {
          "base_uri": "https://localhost:8080/",
          "height": 78
        },
        "id": "YQMX6prqlfaY",
        "outputId": "e859c23b-f38e-46f8-dd44-01ce1bbf3629"
      },
      "execution_count": 33,
      "outputs": [
        {
          "output_type": "execute_result",
          "data": {
            "text/plain": [
              "Matrix([\n",
              "[1, 0, -1],\n",
              "[0, 1,  2],\n",
              "[0, 0,  0]])"
            ],
            "text/latex": "$\\displaystyle \\left[\\begin{matrix}1 & 0 & -1\\\\0 & 1 & 2\\\\0 & 0 & 0\\end{matrix}\\right]$"
          },
          "metadata": {},
          "execution_count": 33
        }
      ]
    },
    {
      "cell_type": "code",
      "source": [
        "# Single elementary row operation\n",
        "\n",
        "A\n",
        "B"
      ],
      "metadata": {
        "colab": {
          "base_uri": "https://localhost:8080/",
          "height": 78
        },
        "id": "TbP6FRxEkkOe",
        "outputId": "142fcdc0-473c-4953-e7f1-0597a8f5dffb"
      },
      "execution_count": 21,
      "outputs": [
        {
          "output_type": "execute_result",
          "data": {
            "text/plain": [
              "Matrix([\n",
              "[0, 10, 9],\n",
              "[1, 10, 2],\n",
              "[6, 10, 3]])"
            ],
            "text/latex": "$\\displaystyle \\left[\\begin{matrix}0 & 10 & 9\\\\1 & 10 & 2\\\\6 & 10 & 3\\end{matrix}\\right]$"
          },
          "metadata": {},
          "execution_count": 21
        }
      ]
    },
    {
      "cell_type": "code",
      "source": [
        "B.elementary_row_op(op = 'n->kn', row = 1, k = -6)\n",
        "\n",
        "# Rows are indexed at 0, not 1. \n",
        "# This doesn't actually change B \n",
        "\n"
      ],
      "metadata": {
        "colab": {
          "base_uri": "https://localhost:8080/",
          "height": 78
        },
        "id": "9NwF92T_k6zb",
        "outputId": "3468b4b8-e48b-404c-97a2-128a346b0bd3"
      },
      "execution_count": 27,
      "outputs": [
        {
          "output_type": "execute_result",
          "data": {
            "text/plain": [
              "Matrix([\n",
              "[ 0,  10,   9],\n",
              "[-6, -60, -12],\n",
              "[ 6,  10,   3]])"
            ],
            "text/latex": "$\\displaystyle \\left[\\begin{matrix}0 & 10 & 9\\\\-6 & -60 & -12\\\\6 & 10 & 3\\end{matrix}\\right]$"
          },
          "metadata": {},
          "execution_count": 27
        }
      ]
    },
    {
      "cell_type": "code",
      "source": [
        "B"
      ],
      "metadata": {
        "colab": {
          "base_uri": "https://localhost:8080/",
          "height": 78
        },
        "id": "WtK_CjAxlTEA",
        "outputId": "8d1b1fd9-5c46-4b1a-a1a0-85fd57d5916a"
      },
      "execution_count": 26,
      "outputs": [
        {
          "output_type": "execute_result",
          "data": {
            "text/plain": [
              "Matrix([\n",
              "[0, 10, 9],\n",
              "[1, 10, 2],\n",
              "[6, 10, 3]])"
            ],
            "text/latex": "$\\displaystyle \\left[\\begin{matrix}0 & 10 & 9\\\\1 & 10 & 2\\\\6 & 10 & 3\\end{matrix}\\right]$"
          },
          "metadata": {},
          "execution_count": 26
        }
      ]
    },
    {
      "cell_type": "code",
      "source": [
        "det(B)"
      ],
      "metadata": {
        "colab": {
          "base_uri": "https://localhost:8080/",
          "height": 37
        },
        "id": "sn1ddfRLmakK",
        "outputId": "5d83b8b5-cb1f-4e99-a869-bcf27d7be1d5"
      },
      "execution_count": 35,
      "outputs": [
        {
          "output_type": "execute_result",
          "data": {
            "text/plain": [
              "-360"
            ],
            "text/latex": "$\\displaystyle -360$"
          },
          "metadata": {},
          "execution_count": 35
        }
      ]
    },
    {
      "cell_type": "code",
      "source": [
        "A.eigenvals()"
      ],
      "metadata": {
        "colab": {
          "base_uri": "https://localhost:8080/",
          "height": 68
        },
        "id": "ij5XPa39oG52",
        "outputId": "49bd5c63-60ee-439a-dc97-3fee50875723"
      },
      "execution_count": 42,
      "outputs": [
        {
          "output_type": "execute_result",
          "data": {
            "text/plain": [
              "⎧      15   3⋅√33     15   3⋅√33   ⎫\n",
              "⎨0: 1, ── - ─────: 1, ── + ─────: 1⎬\n",
              "⎩      2      2       2      2     ⎭"
            ],
            "image/png": "[encoded data removed]",
            "text/latex": "$\\displaystyle \\left\\{ 0 : 1, \\  \\frac{15}{2} - \\frac{3 \\sqrt{33}}{2} : 1, \\  \\frac{15}{2} + \\frac{3 \\sqrt{33}}{2} : 1\\right\\}$"
          },
          "metadata": {},
          "execution_count": 42
        }
      ]
    },
    {
      "cell_type": "code",
      "source": [
        "B.eigenvects()"
      ],
      "metadata": {
        "colab": {
          "base_uri": "https://localhost:8080/",
          "height": 78
        },
        "id": "tPbcEHzmoYyo",
        "outputId": "55588b23-073e-463d-a2bb-db3be9256d0d"
      },
      "execution_count": 44,
      "outputs": [
        {
          "output_type": "execute_result",
          "data": {
            "text/plain": [
              "⎡⎛       ⎡⎡-62  ⎤⎤⎞                                    ⎤\n",
              "⎢⎜       ⎢⎢──── ⎥⎥⎟  ⎛      ⎡⎡ 1  ⎤⎤⎞  ⎛       ⎡⎡ 1 ⎤⎤⎞⎥\n",
              "⎢⎜       ⎢⎢ 43  ⎥⎥⎟  ⎜      ⎢⎢    ⎥⎥⎟  ⎜       ⎢⎢   ⎥⎥⎟⎥\n",
              "⎢⎜-6, 1, ⎢⎢     ⎥⎥⎟, ⎜4, 1, ⎢⎢-1/2⎥⎥⎟, ⎜15, 1, ⎢⎢3/5⎥⎥⎟⎥\n",
              "⎢⎜       ⎢⎢-3/86⎥⎥⎟  ⎜      ⎢⎢    ⎥⎥⎟  ⎜       ⎢⎢   ⎥⎥⎟⎥\n",
              "⎢⎜       ⎢⎢     ⎥⎥⎟  ⎝      ⎣⎣ 1  ⎦⎦⎠  ⎝       ⎣⎣ 1 ⎦⎦⎠⎥\n",
              "⎣⎝       ⎣⎣  1  ⎦⎦⎠                                    ⎦"
            ],
            "text/latex": "$\\displaystyle \\left[ \\left( -6, \\  1, \\  \\left[ \\left[\\begin{matrix}- \\frac{62}{43}\\\\- \\frac{3}{86}\\\\1\\end{matrix}\\right]\\right]\\right), \\  \\left( 4, \\  1, \\  \\left[ \\left[\\begin{matrix}1\\\\- \\frac{1}{2}\\\\1\\end{matrix}\\right]\\right]\\right), \\  \\left( 15, \\  1, \\  \\left[ \\left[\\begin{matrix}1\\\\\\frac{3}{5}\\\\1\\end{matrix}\\right]\\right]\\right)\\right]$"
          },
          "metadata": {},
          "execution_count": 44
        }
      ]
    },
    {
      "cell_type": "markdown",
      "source": [
        "# Vectors \n",
        "\n",
        "- [ ] Define a vector\n",
        "- [ ] Multiply vector by scalar\n",
        "- [ ] Multiply vector by matrix "
      ],
      "metadata": {
        "id": "wcaNMjmznEyd"
      }
    },
    {
      "cell_type": "code",
      "source": [
        "# Defining a vector \n",
        "\n",
        "v = Matrix([1,2,3])\n",
        "v"
      ],
      "metadata": {
        "colab": {
          "base_uri": "https://localhost:8080/",
          "height": 78
        },
        "id": "YHfF-PDBn60I",
        "outputId": "ed59934c-e242-4e92-9fea-8ebd137775cb"
      },
      "execution_count": 37,
      "outputs": [
        {
          "output_type": "execute_result",
          "data": {
            "text/plain": [
              "Matrix([\n",
              "[1],\n",
              "[2],\n",
              "[3]])"
            ],
            "text/latex": "$\\displaystyle \\left[\\begin{matrix}1\\\\2\\\\3\\end{matrix}\\right]$"
          },
          "metadata": {},
          "execution_count": 37
        }
      ]
    },
    {
      "cell_type": "code",
      "source": [
        "22*v"
      ],
      "metadata": {
        "colab": {
          "base_uri": "https://localhost:8080/",
          "height": 78
        },
        "id": "XcaMr3a9oC-_",
        "outputId": "37d39a1f-48e2-4168-8a02-cacb8d734c40"
      },
      "execution_count": 39,
      "outputs": [
        {
          "output_type": "execute_result",
          "data": {
            "text/plain": [
              "Matrix([\n",
              "[22],\n",
              "[44],\n",
              "[66]])"
            ],
            "text/latex": "$\\displaystyle \\left[\\begin{matrix}22\\\\44\\\\66\\end{matrix}\\right]$"
          },
          "metadata": {},
          "execution_count": 39
        }
      ]
    },
    {
      "cell_type": "code",
      "source": [
        "A*v"
      ],
      "metadata": {
        "colab": {
          "base_uri": "https://localhost:8080/",
          "height": 78
        },
        "id": "hhzkk87poA6U",
        "outputId": "dd40840e-f2da-4fbd-c89a-7206bac027ff"
      },
      "execution_count": 38,
      "outputs": [
        {
          "output_type": "execute_result",
          "data": {
            "text/plain": [
              "Matrix([\n",
              "[14],\n",
              "[32],\n",
              "[50]])"
            ],
            "text/latex": "$\\displaystyle \\left[\\begin{matrix}14\\\\32\\\\50\\end{matrix}\\right]$"
          },
          "metadata": {},
          "execution_count": 38
        }
      ]
    },
    {
      "cell_type": "markdown",
      "source": [
        "# Linear systems\n",
        "\n",
        "- [ ] Solve a system of linear equations\n"
      ],
      "metadata": {
        "id": "8ln1rHkknMxV"
      }
    },
    {
      "cell_type": "code",
      "source": [
        "# First define the variables \n",
        "x, y, z = symbols('x y z')"
      ],
      "metadata": {
        "id": "qXXXoNMGpGdA"
      },
      "execution_count": 45,
      "outputs": []
    },
    {
      "cell_type": "code",
      "source": [
        "# As a list of equations \n",
        "# (Except not really equations, subtract constants over)\n",
        "\n",
        "linsolve([x + y + z - 1, x + y + 2*z - 3 ], (x, y, z))"
      ],
      "metadata": {
        "colab": {
          "base_uri": "https://localhost:8080/",
          "height": 38
        },
        "id": "gHy-lt7LpN5y",
        "outputId": "2ad6387c-a70c-46c7-b580-4a1a6ab7d048"
      },
      "execution_count": 51,
      "outputs": [
        {
          "output_type": "execute_result",
          "data": {
            "text/plain": [
              "{(-y - 1, y, 2)}"
            ],
            "image/png": "[encoded data removed]",
            "text/latex": "$\\displaystyle \\left\\{\\left( - y - 1, \\  y, \\  2\\right)\\right\\}$"
          },
          "metadata": {},
          "execution_count": 51
        }
      ]
    },
    {
      "cell_type": "code",
      "source": [
        "# As an augmented matrix\n",
        "\n",
        "linsolve(Matrix([[1,1,1,1], [1,1,2,3]]), (x,y,z))"
      ],
      "metadata": {
        "colab": {
          "base_uri": "https://localhost:8080/",
          "height": 38
        },
        "id": "SfjogcdoqJy-",
        "outputId": "7d4dea2b-503d-4e28-b659-02964f868df6"
      },
      "execution_count": 54,
      "outputs": [
        {
          "output_type": "execute_result",
          "data": {
            "text/plain": [
              "{(-y - 1, y, 2)}"
            ],
            "image/png": "[encoded data removed]",
            "text/latex": "$\\displaystyle \\left\\{\\left( - y - 1, \\  y, \\  2\\right)\\right\\}$"
          },
          "metadata": {},
          "execution_count": 54
        }
      ]
    },
    {
      "cell_type": "code",
      "source": [
        "# Another way\n",
        "\n",
        "eq1 = x + y + z\n",
        "eq2 = x + y + 2*z\n",
        "solve([eq1 - 1, eq2 -3], (x,y,z))"
      ],
      "metadata": {
        "colab": {
          "base_uri": "https://localhost:8080/",
          "height": 38
        },
        "id": "oKL5HbfCqxQl",
        "outputId": "53019c9f-0b4c-4db5-f3f7-66fcb2c8cc68"
      },
      "execution_count": 55,
      "outputs": [
        {
          "output_type": "execute_result",
          "data": {
            "text/plain": [
              "{x: -y - 1, z: 2}"
            ],
            "image/png": "[encoded data removed]",
            "text/latex": "$\\displaystyle \\left\\{ x : - y - 1, \\  z : 2\\right\\}$"
          },
          "metadata": {},
          "execution_count": 55
        }
      ]
    },
    {
      "cell_type": "markdown",
      "source": [
        "# First-order DEs\n",
        "\n",
        "- [ ] Draw slope field\n",
        "- [ ] Solve a DE/IVP directly\n",
        "- [ ] Numerical solution with Euler's method \n"
      ],
      "metadata": {
        "id": "YE0lIvSGnUiJ"
      }
    },
    {
      "cell_type": "code",
      "source": [
        "# Uses dsolve\n",
        "# Create undefined function to symbols \n",
        "\n",
        "y = symbols('y', cls= Function)\n",
        "\n",
        "y(x).diff(x)"
      ],
      "metadata": {
        "colab": {
          "base_uri": "https://localhost:8080/",
          "height": 52
        },
        "id": "Nm9gFZKzpVoZ",
        "outputId": "faf9237b-10fb-4219-9ed2-e404b1c9e170"
      },
      "execution_count": 59,
      "outputs": [
        {
          "output_type": "execute_result",
          "data": {
            "text/plain": [
              "d       \n",
              "──(y(x))\n",
              "dx      "
            ],
            "image/png": "[encoded data removed]",
            "text/latex": "$\\displaystyle \\frac{d}{d x} y{\\left(x \\right)}$"
          },
          "metadata": {},
          "execution_count": 59
        }
      ]
    },
    {
      "cell_type": "code",
      "source": [
        "diffeq = Eq(y(x).diff(x), 3*y(x)+x**2)\n",
        "diffeq"
      ],
      "metadata": {
        "colab": {
          "base_uri": "https://localhost:8080/",
          "height": 52
        },
        "id": "LffHVO8krk2R",
        "outputId": "3e4068f8-e063-4ab6-bbe8-08a51d8c635d"
      },
      "execution_count": 66,
      "outputs": [
        {
          "output_type": "execute_result",
          "data": {
            "text/plain": [
              "d           2         \n",
              "──(y(x)) = x  + 3⋅y(x)\n",
              "dx                    "
            ],
            "image/png": "[encoded data removed]",
            "text/latex": "$\\displaystyle \\frac{d}{d x} y{\\left(x \\right)} = x^{2} + 3 y{\\left(x \\right)}$"
          },
          "metadata": {},
          "execution_count": 66
        }
      ]
    },
    {
      "cell_type": "code",
      "source": [
        "dsolve(diffeq, y(x))"
      ],
      "metadata": {
        "colab": {
          "base_uri": "https://localhost:8080/",
          "height": 68
        },
        "id": "H7RrmnM0r5dP",
        "outputId": "0d474eab-5f53-4df7-be90-d1f2344bca53"
      },
      "execution_count": 67,
      "outputs": [
        {
          "output_type": "execute_result",
          "data": {
            "text/plain": [
              "       ⎛     ⎛     2          ⎞  -3⋅x⎞     \n",
              "       ⎜     ⎝- 9⋅x  - 6⋅x - 2⎠⋅ℯ    ⎟  3⋅x\n",
              "y(x) = ⎜C₁ + ────────────────────────⎟⋅ℯ   \n",
              "       ⎝                27           ⎠     "
            ],
            "image/png": "[encoded data removed]",
            "text/latex": "$\\displaystyle y{\\left(x \\right)} = \\left(C_{1} + \\frac{\\left(- 9 x^{2} - 6 x - 2\\right) e^{- 3 x}}{27}\\right) e^{3 x}$"
          },
          "metadata": {},
          "execution_count": 67
        }
      ]
    },
    {
      "cell_type": "markdown",
      "source": [
        "# Systems of DEs\n",
        "\n",
        "- [ ] Solve DE system directly\n",
        "- [ ] Direction field with solution plots \n"
      ],
      "metadata": {
        "id": "ZmYIGKF0nmTV"
      }
    },
    {
      "cell_type": "markdown",
      "source": [
        "# Other stuff\n",
        "\n",
        "- [ ] Laplace transforms \n",
        "- [ ] Partial fraction decomposition \n",
        "- [ ] Integrate a function\n",
        "\n",
        "\n",
        "\n",
        "\n",
        "## General flow of tutorials \n",
        "\n",
        "**Do these as Jupyter notebooks and leave the notebooks on GitHub** \n",
        "\n",
        "- Colab and Jupyter notebooks \n",
        "- Sympy (getting started, importing) \n",
        "- Basic arithmetic and algebra in sympy (variables) \n",
        "- Calculus in sympy (functions, derivatives, definite integrals, indefinite integrals) \n",
        "- Matrices and vectors (defining, arithmetic) \n",
        "- Eigenvalues and eigenvectors\n",
        "- RREF for matrices and performing a single row operation \n",
        "- Basic first-order DEs algebraic solutions using dsolve\n",
        "- *Plotting a slope field*\n",
        "- *Numerical solution with Eulers method*\n",
        "- Systems of DEs \n",
        "- Direction field \n",
        "\n"
      ],
      "metadata": {
        "id": "lW6Z1QfHnxcB"
      }
    }
  ]
}