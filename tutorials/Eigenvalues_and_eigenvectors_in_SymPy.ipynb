{
  "nbformat": 4,
  "nbformat_minor": 0,
  "metadata": {
    "colab": {
      "provenance": [],
      "authorship_tag": "ABX9TyN5A95+S/EFU2XDrTMSw0di",
      "include_colab_link": true
    },
    "kernelspec": {
      "name": "python3",
      "display_name": "Python 3"
    },
    "language_info": {
      "name": "python"
    }
  },
  "cells": [
    {
      "cell_type": "markdown",
      "metadata": {
        "id": "view-in-github",
        "colab_type": "text"
      },
      "source": [
        "<a href=\"https://colab.research.google.com/github/RobertTalbert/linalg-diffeq/blob/main/tutorials/Eigenvalues_and_eigenvectors_in_SymPy.ipynb\" target=\"_parent\"><img src=\"https://colab.research.google.com/assets/colab-badge.svg\" alt=\"Open In Colab\"/></a>"
      ]
    },
    {
      "cell_type": "code",
      "execution_count": 1,
      "metadata": {
        "id": "hQ9eOA8EVSKk"
      },
      "outputs": [],
      "source": [
        "from sympy import *\n",
        "init_printing()"
      ]
    },
    {
      "cell_type": "markdown",
      "source": [
        "# Eigenvalues and eigenvectors in SymPy\n",
        "\n",
        "This notebook shows how to find the eigenvectors of a matrix and the eigenvalues corresponding to an eigenvector, using SymPy. \n",
        "\n",
        "Both of these terms are defined as follows: \n",
        "\n",
        ">For a given $n \\times n$ matrix $\\mathbf{A}$, a nonzero vector $\\mathbf{v}$ is said to be an *eigenvector* of $\\mathbf{A}$ if and only if there exists a scalar $\\lambda$ such that \n",
        "$$\\mathbf{Av} = \\lambda \\mathbf{v}$$\n",
        ">The scalar $\\lambda$ is called the *eigenvalue* corresponding to the eigenvector $\\mathbf{v}$. "
      ],
      "metadata": {
        "id": "c9Tk1JiLVZcA"
      }
    },
    {
      "cell_type": "markdown",
      "source": [
        "## Finding eigenvectors in SymPy\n",
        "\n",
        "If the matrix `A` is defined in SymPy, the method `.eigenvects()` finds the eigenvectors of `A`: *italicized text*"
      ],
      "metadata": {
        "id": "o71R_CgDWnfQ"
      }
    },
    {
      "cell_type": "code",
      "source": [
        "A = Matrix(2,2, [2,1,1,2])\n",
        "A"
      ],
      "metadata": {
        "colab": {
          "base_uri": "https://localhost:8080/",
          "height": 58
        },
        "id": "u7knx_9PVYs3",
        "outputId": "7e2e1a09-46d5-4ad7-e730-fef03f6c2bfe"
      },
      "execution_count": 2,
      "outputs": [
        {
          "output_type": "execute_result",
          "data": {
            "text/plain": [
              "⎡2  1⎤\n",
              "⎢    ⎥\n",
              "⎣1  2⎦"
            ],
            "text/latex": "$\\displaystyle \\left[\\begin{matrix}2 & 1\\\\1 & 2\\end{matrix}\\right]$"
          },
          "metadata": {},
          "execution_count": 2
        }
      ]
    },
    {
      "cell_type": "code",
      "source": [
        "A.eigenvects()"
      ],
      "metadata": {
        "colab": {
          "base_uri": "https://localhost:8080/",
          "height": 58
        },
        "id": "oD2ZrwO5W1il",
        "outputId": "94132772-5ca6-4d58-f76a-90bddf475978"
      },
      "execution_count": 3,
      "outputs": [
        {
          "output_type": "execute_result",
          "data": {
            "text/plain": [
              "⎡⎛      ⎡⎡-1⎤⎤⎞  ⎛      ⎡⎡1⎤⎤⎞⎤\n",
              "⎢⎜1, 1, ⎢⎢  ⎥⎥⎟, ⎜3, 1, ⎢⎢ ⎥⎥⎟⎥\n",
              "⎣⎝      ⎣⎣1 ⎦⎦⎠  ⎝      ⎣⎣1⎦⎦⎠⎦"
            ],
            "text/latex": "$\\displaystyle \\left[ \\left( 1, \\  1, \\  \\left[ \\left[\\begin{matrix}-1\\\\1\\end{matrix}\\right]\\right]\\right), \\  \\left( 3, \\  1, \\  \\left[ \\left[\\begin{matrix}1\\\\1\\end{matrix}\\right]\\right]\\right)\\right]$"
          },
          "metadata": {},
          "execution_count": 3
        }
      ]
    },
    {
      "cell_type": "markdown",
      "source": [
        "The output of `A.eigenvects()` is a list. Each item in the list is a triple, each holding the following information: \n",
        "\n",
        "- The *third* entry in the triple is one of the eigenvectors of `A`. \n",
        "- The *first* entry is the eigenvalue associated with that eigenvector. \n",
        "- The *second* entry is the multiplicity of the eigenvalue. This refers to the number of times the eigenvalue appears as a root of [the characteristic polynomial](https://byjus.com/maths/characteristic-polynomial/).\n",
        "\n",
        "For example, in this matrix, there are two eigenvectors: $\\begin{bmatrix} -1 \\\\ 1 \\end{bmatrix}$ and $\\begin{bmatrix} 1 \\\\ 1 \\end{bmatrix}$. The eigenvalue corresponding to the first eigenvector is $\\lambda = 1$, and the eigenvalue corresponding to the second eigenvector is $\\lambda = 3$. \n",
        "\n",
        "This means that if we multiplied $A$ by $\\begin{bmatrix} -1 \\\\ 1 \\end{bmatrix}$, we should get $\\begin{bmatrix} -1 \\\\ 1 \\end{bmatrix}$. Let's check: "
      ],
      "metadata": {
        "id": "PqMyqx8pXKgd"
      }
    },
    {
      "cell_type": "code",
      "source": [
        "v1 = Matrix([-1,1])\n",
        "A*v1"
      ],
      "metadata": {
        "colab": {
          "base_uri": "https://localhost:8080/",
          "height": 58
        },
        "id": "uIHQ9yTbZFhi",
        "outputId": "8b3bb2f2-aa38-4a9e-ca19-6d8bff099479"
      },
      "execution_count": 4,
      "outputs": [
        {
          "output_type": "execute_result",
          "data": {
            "text/plain": [
              "⎡-1⎤\n",
              "⎢  ⎥\n",
              "⎣1 ⎦"
            ],
            "text/latex": "$\\displaystyle \\left[\\begin{matrix}-1\\\\1\\end{matrix}\\right]$"
          },
          "metadata": {},
          "execution_count": 4
        }
      ]
    },
    {
      "cell_type": "markdown",
      "source": [
        "And if we multiplied $A$ by $\\begin{bmatrix} 1 \\\\ 1 \\end{bmatrix}$, we should get $\\begin{bmatrix} 3 \\\\ 3 \\end{bmatrix}$. Let's check: "
      ],
      "metadata": {
        "id": "prITFT0tZNC1"
      }
    },
    {
      "cell_type": "code",
      "source": [
        "v2 = Matrix([1,1])\n",
        "A*v2"
      ],
      "metadata": {
        "colab": {
          "base_uri": "https://localhost:8080/",
          "height": 58
        },
        "id": "1hEugjOCZSYx",
        "outputId": "a9b3922e-43f9-48b2-daa6-4e78928c061c"
      },
      "execution_count": 5,
      "outputs": [
        {
          "output_type": "execute_result",
          "data": {
            "text/plain": [
              "⎡3⎤\n",
              "⎢ ⎥\n",
              "⎣3⎦"
            ],
            "text/latex": "$\\displaystyle \\left[\\begin{matrix}3\\\\3\\end{matrix}\\right]$"
          },
          "metadata": {},
          "execution_count": 5
        }
      ]
    },
    {
      "cell_type": "markdown",
      "source": [
        "Of course this method works on $3 \\times 3$ matrices as well: "
      ],
      "metadata": {
        "id": "Rv3gorXXZakG"
      }
    },
    {
      "cell_type": "code",
      "source": [
        "B = Matrix(3,3,[5,6,2,0,-1,-8,1,0,-2])\n",
        "B"
      ],
      "metadata": {
        "colab": {
          "base_uri": "https://localhost:8080/",
          "height": 78
        },
        "id": "erppdmpWZUpK",
        "outputId": "a33851a3-3708-48de-b652-33b729b1b9d1"
      },
      "execution_count": 6,
      "outputs": [
        {
          "output_type": "execute_result",
          "data": {
            "text/plain": [
              "⎡5  6   2 ⎤\n",
              "⎢         ⎥\n",
              "⎢0  -1  -8⎥\n",
              "⎢         ⎥\n",
              "⎣1  0   -2⎦"
            ],
            "text/latex": "$\\displaystyle \\left[\\begin{matrix}5 & 6 & 2\\\\0 & -1 & -8\\\\1 & 0 & -2\\end{matrix}\\right]$"
          },
          "metadata": {},
          "execution_count": 6
        }
      ]
    },
    {
      "cell_type": "code",
      "source": [
        "B.eigenvects()"
      ],
      "metadata": {
        "colab": {
          "base_uri": "https://localhost:8080/",
          "height": 78
        },
        "id": "W1DstqVnZshr",
        "outputId": "5ef9316b-8a17-43d9-eb6d-1cf39acb1bbb"
      },
      "execution_count": 7,
      "outputs": [
        {
          "output_type": "execute_result",
          "data": {
            "text/plain": [
              "⎡⎛       ⎡⎡-2 ⎤⎤⎞  ⎛      ⎡⎡5 ⎤⎤⎞⎤\n",
              "⎢⎜       ⎢⎢   ⎥⎥⎟  ⎜      ⎢⎢  ⎥⎥⎟⎥\n",
              "⎢⎜-4, 1, ⎢⎢8/3⎥⎥⎟, ⎜3, 2, ⎢⎢-2⎥⎥⎟⎥\n",
              "⎢⎜       ⎢⎢   ⎥⎥⎟  ⎜      ⎢⎢  ⎥⎥⎟⎥\n",
              "⎣⎝       ⎣⎣ 1 ⎦⎦⎠  ⎝      ⎣⎣1 ⎦⎦⎠⎦"
            ],
            "text/latex": "$\\displaystyle \\left[ \\left( -4, \\  1, \\  \\left[ \\left[\\begin{matrix}-2\\\\\\frac{8}{3}\\\\1\\end{matrix}\\right]\\right]\\right), \\  \\left( 3, \\  2, \\  \\left[ \\left[\\begin{matrix}5\\\\-2\\\\1\\end{matrix}\\right]\\right]\\right)\\right]$"
          },
          "metadata": {},
          "execution_count": 7
        }
      ]
    },
    {
      "cell_type": "markdown",
      "source": [
        "However for matrices of size $4 \\times 4$ or larger, SymPy is *very slow* in computing this information. At this point we would be better off using numerical approximations to eigenvectors, a topic we may explore later. "
      ],
      "metadata": {
        "id": "K1IPOoPHa0B2"
      }
    },
    {
      "cell_type": "markdown",
      "source": [
        "## Finding just the eigenvalues \n",
        "\n",
        "SymPy also provides a method `.eigenvals()` which only computes the eigenvalues and their multipicities without the vector information: "
      ],
      "metadata": {
        "id": "Ca8KqpLea_dB"
      }
    },
    {
      "cell_type": "code",
      "source": [
        "A.eigenvals()"
      ],
      "metadata": {
        "colab": {
          "base_uri": "https://localhost:8080/",
          "height": 37
        },
        "id": "eJibu-z7bKRB",
        "outputId": "2f4461b0-d438-49eb-bc10-c2c09ea6b59a"
      },
      "execution_count": 8,
      "outputs": [
        {
          "output_type": "execute_result",
          "data": {
            "text/plain": [
              "{1: 1, 3: 1}"
            ],
            "image/png": "[encoded data removed]",
            "text/latex": "$\\displaystyle \\left\\{ 1 : 1, \\  3 : 1\\right\\}$"
          },
          "metadata": {},
          "execution_count": 8
        }
      ]
    },
    {
      "cell_type": "markdown",
      "source": [
        "This is using the `A` matrix from above. This is a \"dictionary\" data structure in Python. The numbers to the left of the colon are the eigenvalues; the numbers to the right are the multiplicities. "
      ],
      "metadata": {
        "id": "3AsMgck7bMhF"
      }
    },
    {
      "cell_type": "code",
      "source": [
        "B.eigenvals()"
      ],
      "metadata": {
        "colab": {
          "base_uri": "https://localhost:8080/",
          "height": 37
        },
        "id": "NTkSukxbbZk_",
        "outputId": "5714be3a-fa86-45c8-c75c-087d8ae9f8c9"
      },
      "execution_count": 9,
      "outputs": [
        {
          "output_type": "execute_result",
          "data": {
            "text/plain": [
              "{-4: 1, 3: 2}"
            ],
            "image/png": "[encoded data removed]",
            "text/latex": "$\\displaystyle \\left\\{ -4 : 1, \\  3 : 2\\right\\}$"
          },
          "metadata": {},
          "execution_count": 9
        }
      ]
    }
  ]
}