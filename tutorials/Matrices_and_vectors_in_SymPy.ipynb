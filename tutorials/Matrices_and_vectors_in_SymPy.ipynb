{
  "nbformat": 4,
  "nbformat_minor": 0,
  "metadata": {
    "colab": {
      "provenance": [],
      "authorship_tag": "ABX9TyN5ndyVBVTQ5K0BZ3A3lKXL",
      "include_colab_link": true
    },
    "kernelspec": {
      "name": "python3",
      "display_name": "Python 3"
    },
    "language_info": {
      "name": "python"
    }
  },
  "cells": [
    {
      "cell_type": "markdown",
      "metadata": {
        "id": "view-in-github",
        "colab_type": "text"
      },
      "source": [
        "<a href=\"https://colab.research.google.com/github/RobertTalbert/linalg-diffeq/blob/main/tutorials/Matrices_and_vectors_in_SymPy.ipynb\" target=\"_parent\"><img src=\"https://colab.research.google.com/assets/colab-badge.svg\" alt=\"Open In Colab\"/></a>"
      ]
    },
    {
      "cell_type": "code",
      "execution_count": 1,
      "metadata": {
        "id": "B7x7mVfHEWgc"
      },
      "outputs": [],
      "source": [
        "from sympy import * \n",
        "init_printing()"
      ]
    },
    {
      "cell_type": "markdown",
      "source": [
        "# Matrices and Vectors in SymPy\n",
        "\n",
        "## Overview \n",
        "\n",
        "This tutorial will show you how to: \n",
        "\n",
        "- Solve a system of linear equations in SymPy\n",
        "- Enter matrices and vectors in SymPy\n",
        "- Get a matrix into row-reduced echelon form\n",
        "- Perform single elementary row operations on a matrix\n",
        "- Add, subtract, and multiply matrices, as well as multiply a matrix or vector by a scalar and multiply a vector times a matrix \n",
        "\n",
        "A future tutorial will go over how to find eigenvalues and eigenvectors of a matrix in Sympy. \n",
        "\n",
        "Make sure you've watched the Introduction to SymPy video before proceeding. "
      ],
      "metadata": {
        "id": "xqMpm6kTE96-"
      }
    },
    {
      "cell_type": "markdown",
      "source": [
        "## Solving linear systems directly\n",
        "\n",
        "Suppose we have this linear system we want to solve: \n",
        "\n",
        "$$\\begin{align*}\n",
        "x - 2y &= 3 \\\\\n",
        "3x + 4y &= -1\n",
        "\\end{align*}$$ \n",
        "\n",
        "**The `solve` function in SymPy allows you to solve linear systems directly** without using matrices. To set this up, rewrite the system with zeroes on the right sides, by moving the constants over: \n",
        "\n",
        "$$\\begin{align*}\n",
        "x - 2y - 3 &= 0 \\\\\n",
        "3x + 4y + 1&= 0\n",
        "\\end{align*}$$ \n",
        "\n",
        "Next, make sure the symbols are defined (these only need to be defined once in your notebook):"
      ],
      "metadata": {
        "id": "E383b9E1JoZN"
      }
    },
    {
      "cell_type": "code",
      "source": [
        "x,y = symbols('x y')"
      ],
      "metadata": {
        "id": "lj5yxxJ6F5SI"
      },
      "execution_count": 2,
      "outputs": []
    },
    {
      "cell_type": "markdown",
      "source": [
        "Then, use the syntax `solve((equation1, equation2), x, y)`: "
      ],
      "metadata": {
        "id": "p9otBGaWG5M8"
      }
    },
    {
      "cell_type": "code",
      "source": [
        "solve((x - 2*y - 3, 3*x + 4*y +1), x, y)"
      ],
      "metadata": {
        "colab": {
          "base_uri": "https://localhost:8080/",
          "height": 39
        },
        "id": "9pM-ivOHG4mc",
        "outputId": "3ffc06fc-ee3d-4387-86f5-19b141cdf827"
      },
      "execution_count": 3,
      "outputs": [
        {
          "output_type": "execute_result",
          "data": {
            "text/plain": [
              "{x: 1, y: -1}"
            ],
            "image/png": "[encoded data removed]",
            "text/latex": "$\\displaystyle \\left\\{ x : 1, \\  y : -1\\right\\}$"
          },
          "metadata": {},
          "execution_count": 3
        }
      ]
    },
    {
      "cell_type": "markdown",
      "source": [
        "In the `solve` command, note we didn't enter the equations themselves but the left-hand sides of the modified versions once we set them to zero. \n",
        "\n",
        "If we give SymPy an inconsistent system, like this one: \n",
        "$$\\begin{align*}\n",
        "x + 2y &= 1 \\\\\n",
        "x + 2y &= 4\n",
        "\\end{align*}$$ \n",
        "then we get an empty solution, as we should: "
      ],
      "metadata": {
        "id": "_s5_cGTpHE_6"
      }
    },
    {
      "cell_type": "code",
      "source": [
        "solve((x+2*y -1, x + 2*y -4), x, y)"
      ],
      "metadata": {
        "colab": {
          "base_uri": "https://localhost:8080/",
          "height": 37
        },
        "id": "timYDdypIJnU",
        "outputId": "83f931e0-cdc2-42f9-d674-15bfd62c01b2"
      },
      "execution_count": 4,
      "outputs": [
        {
          "output_type": "execute_result",
          "data": {
            "text/plain": [
              "[]"
            ],
            "image/png": "[encoded data removed]",
            "text/latex": "$\\displaystyle \\left[ \\right]$"
          },
          "metadata": {},
          "execution_count": 4
        }
      ]
    },
    {
      "cell_type": "markdown",
      "source": [
        "On the other hand if we enter a system with infinitely many solutions like this: \n",
        "$$\\begin{align*}\n",
        "x + 2y &= 1 \\\\\n",
        "4x + 8y &= 4\n",
        "\\end{align*}$$ \n",
        "then SymPy will pick the free variables and give an expression for the others in terms of the free variables: "
      ],
      "metadata": {
        "id": "n1vxkxT8IUOu"
      }
    },
    {
      "cell_type": "code",
      "source": [
        "solve((x+2*y -1, 4*x + 8*y -4), x, y)"
      ],
      "metadata": {
        "colab": {
          "base_uri": "https://localhost:8080/",
          "height": 39
        },
        "id": "NPA22JW8Id77",
        "outputId": "ad2e0b18-7e26-4fdd-d9d4-a1ba4dac6b5f"
      },
      "execution_count": 5,
      "outputs": [
        {
          "output_type": "execute_result",
          "data": {
            "text/plain": [
              "{x: 1 - 2⋅y}"
            ],
            "image/png": "[encoded data removed]",
            "text/latex": "$\\displaystyle \\left\\{ x : 1 - 2 y\\right\\}$"
          },
          "metadata": {},
          "execution_count": 5
        }
      ]
    },
    {
      "cell_type": "markdown",
      "source": [
        "This works for larger systems too: \n",
        "$$\\begin{align*}\n",
        "x + 2y + z &= 1 \\\\\n",
        "3x + 4y - 2z &= 5 \\\\\n",
        "3x - y + z &= -2\n",
        "\\end{align*}$$ "
      ],
      "metadata": {
        "id": "elaWe8UUIrsU"
      }
    },
    {
      "cell_type": "code",
      "source": [
        "z = symbols('z')\n",
        "solve((x + 2*y + z - 1, 3*x + 4*y - 2*z - 5, 3*x -y +z + 2), x, y, z)"
      ],
      "metadata": {
        "colab": {
          "base_uri": "https://localhost:8080/",
          "height": 58
        },
        "id": "9L2dA826I5Rl",
        "outputId": "53270aef-626b-4425-b579-29e870cb4530"
      },
      "execution_count": 6,
      "outputs": [
        {
          "output_type": "execute_result",
          "data": {
            "text/plain": [
              "⎧             29     -24 ⎫\n",
              "⎨x: -3/31, y: ──, z: ────⎬\n",
              "⎩             31      31 ⎭"
            ],
            "image/png": "[encoded data removed]",
            "text/latex": "$\\displaystyle \\left\\{ x : - \\frac{3}{31}, \\  y : \\frac{29}{31}, \\  z : - \\frac{24}{31}\\right\\}$"
          },
          "metadata": {},
          "execution_count": 6
        }
      ]
    },
    {
      "cell_type": "markdown",
      "source": [
        "## Entering matrices and vectors \n",
        "\n"
      ],
      "metadata": {
        "id": "4g5srJBDJTcQ"
      }
    },
    {
      "cell_type": "markdown",
      "source": [
        "Matrices in SymPy are formed by: \n",
        "\n",
        "*   Turning each row into a list (comma separated and enclosed with square brackets)\n",
        "*   Putting the rows themselves into a list\n",
        "*  Then wrapping the outer list in `Matrix( )` (and usually assigning it a variable name). \n",
        "\n",
        "**Example**: To enter the matrix \n",
        "$M = \\begin{pmatrix}\n",
        "1 & 2 & 3 \\\\\n",
        "4 & 5 & 6\n",
        "\\end{pmatrix}$: \n",
        "\n"
      ],
      "metadata": {
        "id": "dsegPP9PJyXI"
      }
    },
    {
      "cell_type": "code",
      "source": [
        "M = Matrix([[1,2,3], [4,5,6]])\n",
        "M"
      ],
      "metadata": {
        "colab": {
          "base_uri": "https://localhost:8080/",
          "height": 58
        },
        "id": "U9dMoUbtJNr6",
        "outputId": "9738675e-fcce-4fa6-cacc-4ff8f628649c"
      },
      "execution_count": 7,
      "outputs": [
        {
          "output_type": "execute_result",
          "data": {
            "text/plain": [
              "⎡1  2  3⎤\n",
              "⎢       ⎥\n",
              "⎣4  5  6⎦"
            ],
            "text/latex": "$\\displaystyle \\left[\\begin{matrix}1 & 2 & 3\\\\4 & 5 & 6\\end{matrix}\\right]$"
          },
          "metadata": {},
          "execution_count": 7
        }
      ]
    },
    {
      "cell_type": "markdown",
      "source": [
        "Notice that the $\\LaTeX$ preview in Colab notebooks puts square brackets around matrices, not parentheses. \n",
        "\n",
        "Another way to enter a matrix is to specify the dimensions (number of rows, number of columns) then a single list containing the elements, listed row by row. \n",
        "\n",
        "**Example:** To enter $N = \\begin{pmatrix} 9 & 8 \\\\ 7 & 6 \\\\ 5 & 4 \\end{pmatrix}$: "
      ],
      "metadata": {
        "id": "gs5ADCtJK_lv"
      }
    },
    {
      "cell_type": "code",
      "source": [
        "N = Matrix(3,2, [9,8,7,6,5,4])\n",
        "N"
      ],
      "metadata": {
        "colab": {
          "base_uri": "https://localhost:8080/",
          "height": 78
        },
        "id": "QhbCUH5gMUYp",
        "outputId": "c3366f48-6fd9-4042-e362-9fa7f8d86b4b"
      },
      "execution_count": 8,
      "outputs": [
        {
          "output_type": "execute_result",
          "data": {
            "text/plain": [
              "⎡9  8⎤\n",
              "⎢    ⎥\n",
              "⎢7  6⎥\n",
              "⎢    ⎥\n",
              "⎣5  4⎦"
            ],
            "text/latex": "$\\displaystyle \\left[\\begin{matrix}9 & 8\\\\7 & 6\\\\5 & 4\\end{matrix}\\right]$"
          },
          "metadata": {},
          "execution_count": 8
        }
      ]
    },
    {
      "cell_type": "markdown",
      "source": [
        "Sometimes it's useful to create a matrix randomly, for practice or for testing out ideas. The `randMatrix` function does this. For example, here's a random $5 \\times 7$ matrix with entries between $-10$ and $10$: "
      ],
      "metadata": {
        "id": "ZMQfVYkiMX1q"
      }
    },
    {
      "cell_type": "code",
      "source": [
        "R = randMatrix(5,7,-10,10)\n",
        "R"
      ],
      "metadata": {
        "colab": {
          "base_uri": "https://localhost:8080/",
          "height": 119
        },
        "id": "RY2bBRaqMxFv",
        "outputId": "7658fc5e-5178-409e-edca-555794736de2"
      },
      "execution_count": 9,
      "outputs": [
        {
          "output_type": "execute_result",
          "data": {
            "text/plain": [
              "⎡-8  3   6   -3   0   5   0 ⎤\n",
              "⎢                           ⎥\n",
              "⎢1   7   -1  -10  -7  4   -8⎥\n",
              "⎢                           ⎥\n",
              "⎢7   -2  5   -9   -9  -9  8 ⎥\n",
              "⎢                           ⎥\n",
              "⎢5   5   2   -2   -7  6   -2⎥\n",
              "⎢                           ⎥\n",
              "⎣-1  7   -8   7   2   1   5 ⎦"
            ],
            "text/latex": "$\\displaystyle \\left[\\begin{matrix}-8 & 3 & 6 & -3 & 0 & 5 & 0\\\\1 & 7 & -1 & -10 & -7 & 4 & -8\\\\7 & -2 & 5 & -9 & -9 & -9 & 8\\\\5 & 5 & 2 & -2 & -7 & 6 & -2\\\\-1 & 7 & -8 & 7 & 2 & 1 & 5\\end{matrix}\\right]$"
          },
          "metadata": {},
          "execution_count": 9
        }
      ]
    },
    {
      "cell_type": "markdown",
      "source": [
        "We can enter vectors using the same ideas as above, just by thinking of them as $1 \\times n$ matrices. But we don't need to enter in each row as a separate, one-item list -- just a single list with no dimensions specified. "
      ],
      "metadata": {
        "id": "LUg5TULTNPgH"
      }
    },
    {
      "cell_type": "code",
      "source": [
        "v = Matrix([8,9,7])\n",
        "v"
      ],
      "metadata": {
        "colab": {
          "base_uri": "https://localhost:8080/",
          "height": 78
        },
        "id": "bE6oC0jPM7bK",
        "outputId": "e36f10a8-9650-4fdc-a2f8-4686e85f4f92"
      },
      "execution_count": 10,
      "outputs": [
        {
          "output_type": "execute_result",
          "data": {
            "text/plain": [
              "⎡8⎤\n",
              "⎢ ⎥\n",
              "⎢9⎥\n",
              "⎢ ⎥\n",
              "⎣7⎦"
            ],
            "text/latex": "$\\displaystyle \\left[\\begin{matrix}8\\\\9\\\\7\\end{matrix}\\right]$"
          },
          "metadata": {},
          "execution_count": 10
        }
      ]
    },
    {
      "cell_type": "markdown",
      "source": [
        "SymPy is smart enough to know that if no dimensions are given and there's just a single list, then it's a vector. "
      ],
      "metadata": {
        "id": "YbgZXm_kTv9R"
      }
    },
    {
      "cell_type": "markdown",
      "source": [
        "## Row Reduced Echelon Form \n",
        "\n",
        "If you've defined a matrix `M` in SymPy, you can produce its row-reduced echelon form simply by adding the `.rref()` method: "
      ],
      "metadata": {
        "id": "U2UakMJJNkvw"
      }
    },
    {
      "cell_type": "code",
      "source": [
        "A = Matrix([[1,2,3], [4,5,6], [7,8,9]])\n",
        "A.rref()"
      ],
      "metadata": {
        "colab": {
          "base_uri": "https://localhost:8080/",
          "height": 78
        },
        "id": "ZDjpwe31NzMO",
        "outputId": "54f013e6-a7b2-4196-d358-c36b98c3ff22"
      },
      "execution_count": 11,
      "outputs": [
        {
          "output_type": "execute_result",
          "data": {
            "text/plain": [
              "⎛⎡1  0  -1⎤        ⎞\n",
              "⎜⎢        ⎥        ⎟\n",
              "⎜⎢0  1  2 ⎥, (0, 1)⎟\n",
              "⎜⎢        ⎥        ⎟\n",
              "⎝⎣0  0  0 ⎦        ⎠"
            ],
            "text/latex": "$\\displaystyle \\left( \\left[\\begin{matrix}1 & 0 & -1\\\\0 & 1 & 2\\\\0 & 0 & 0\\end{matrix}\\right], \\  \\left( 0, \\  1\\right)\\right)$"
          },
          "metadata": {},
          "execution_count": 11
        }
      ]
    },
    {
      "cell_type": "markdown",
      "source": [
        "This may not have been what you expected: The RREF matrix is there, but it's coupled with a pair of numbers. That pair of numbers gives the *indices of the pivot variables* in the matrix, in this case appearing in columns 0 and 1. Most of the time we don't want this extra information. To produce just the matrix itself, add `pivots=False` inside `.rref()`:  "
      ],
      "metadata": {
        "id": "cm7Wvqq8OLro"
      }
    },
    {
      "cell_type": "code",
      "source": [
        "A.rref(pivots = False)"
      ],
      "metadata": {
        "colab": {
          "base_uri": "https://localhost:8080/",
          "height": 78
        },
        "id": "YiRleg4BOjRS",
        "outputId": "cf225cef-4ab4-480e-8480-b9f1272c75ca"
      },
      "execution_count": 12,
      "outputs": [
        {
          "output_type": "execute_result",
          "data": {
            "text/plain": [
              "⎡1  0  -1⎤\n",
              "⎢        ⎥\n",
              "⎢0  1  2 ⎥\n",
              "⎢        ⎥\n",
              "⎣0  0  0 ⎦"
            ],
            "text/latex": "$\\displaystyle \\left[\\begin{matrix}1 & 0 & -1\\\\0 & 1 & 2\\\\0 & 0 & 0\\end{matrix}\\right]$"
          },
          "metadata": {},
          "execution_count": 12
        }
      ]
    },
    {
      "cell_type": "markdown",
      "source": [
        "Here's another example, where we'll use RREF to solve the linear system at the top of this tutorial: "
      ],
      "metadata": {
        "id": "0n0yV-srV7G5"
      }
    },
    {
      "cell_type": "code",
      "source": [
        "# First set up the augmented matrix\n",
        "\n",
        "M = Matrix([[1,-2,3],[3,4,-1]])\n",
        "M"
      ],
      "metadata": {
        "colab": {
          "base_uri": "https://localhost:8080/",
          "height": 58
        },
        "id": "ir-uR3feWB76",
        "outputId": "89bf0212-d48b-426a-cef3-1e0270684e0e"
      },
      "execution_count": 13,
      "outputs": [
        {
          "output_type": "execute_result",
          "data": {
            "text/plain": [
              "⎡1  -2  3 ⎤\n",
              "⎢         ⎥\n",
              "⎣3  4   -1⎦"
            ],
            "text/latex": "$\\displaystyle \\left[\\begin{matrix}1 & -2 & 3\\\\3 & 4 & -1\\end{matrix}\\right]$"
          },
          "metadata": {},
          "execution_count": 13
        }
      ]
    },
    {
      "cell_type": "code",
      "source": [
        "# Now go to RREF to get the solutions: \n",
        "M.rref(pivots = False)"
      ],
      "metadata": {
        "colab": {
          "base_uri": "https://localhost:8080/",
          "height": 58
        },
        "id": "77eDUVHxWQBm",
        "outputId": "cbd8aa8d-4dc8-4c82-f8cd-0d66664ee227"
      },
      "execution_count": 14,
      "outputs": [
        {
          "output_type": "execute_result",
          "data": {
            "text/plain": [
              "⎡1  0  1 ⎤\n",
              "⎢        ⎥\n",
              "⎣0  1  -1⎦"
            ],
            "text/latex": "$\\displaystyle \\left[\\begin{matrix}1 & 0 & 1\\\\0 & 1 & -1\\end{matrix}\\right]$"
          },
          "metadata": {},
          "execution_count": 14
        }
      ]
    },
    {
      "cell_type": "markdown",
      "source": [
        "We can also get a matrix into *echelon form* but not *row reduced echelon form* by using the `.echelon_form()` method: "
      ],
      "metadata": {
        "id": "umxsGqlQO2xt"
      }
    },
    {
      "cell_type": "code",
      "source": [
        "B = randMatrix(3,4,-10,10)\n",
        "B"
      ],
      "metadata": {
        "colab": {
          "base_uri": "https://localhost:8080/",
          "height": 78
        },
        "id": "WCc0Re9jPAem",
        "outputId": "5029eee4-63fa-47db-d46a-b2f340018f7e"
      },
      "execution_count": 15,
      "outputs": [
        {
          "output_type": "execute_result",
          "data": {
            "text/plain": [
              "⎡ 7   1   -4  -2⎤\n",
              "⎢               ⎥\n",
              "⎢-10  -9  6   -8⎥\n",
              "⎢               ⎥\n",
              "⎣-4   -2  8   4 ⎦"
            ],
            "text/latex": "$\\displaystyle \\left[\\begin{matrix}7 & 1 & -4 & -2\\\\-10 & -9 & 6 & -8\\\\-4 & -2 & 8 & 4\\end{matrix}\\right]$"
          },
          "metadata": {},
          "execution_count": 15
        }
      ]
    },
    {
      "cell_type": "code",
      "source": [
        "B.echelon_form()"
      ],
      "metadata": {
        "colab": {
          "base_uri": "https://localhost:8080/",
          "height": 78
        },
        "id": "g2MBOqn6PHtL",
        "outputId": "d7f9a75e-e408-4871-ea71-0ed5240b34a2"
      },
      "execution_count": 16,
      "outputs": [
        {
          "output_type": "execute_result",
          "data": {
            "text/plain": [
              "⎡7   1    -4     -2  ⎤\n",
              "⎢                    ⎥\n",
              "⎢0  -53    2     -76 ⎥\n",
              "⎢                    ⎥\n",
              "⎣0   0   -2100  -1820⎦"
            ],
            "text/latex": "$\\displaystyle \\left[\\begin{matrix}7 & 1 & -4 & -2\\\\0 & -53 & 2 & -76\\\\0 & 0 & -2100 & -1820\\end{matrix}\\right]$"
          },
          "metadata": {},
          "execution_count": 16
        }
      ]
    },
    {
      "cell_type": "markdown",
      "source": [
        "You'd do this in situations where all you want to know about a linear system is how many solutions it has and how many free variables. Echelon form gives that information without wasting computational time. "
      ],
      "metadata": {
        "id": "yLDzf7SyPJ-z"
      }
    },
    {
      "cell_type": "markdown",
      "source": [
        "## Elementary row operations\n",
        "\n",
        "It's also possible to perform single elementary row operations on a matrix using the `elementary_row_op` method. Take the matrix $B$ from above. To rescale the middle row by a factor of 1/2, "
      ],
      "metadata": {
        "id": "AW0498B-Oywj"
      }
    },
    {
      "cell_type": "code",
      "source": [
        "B.elementary_row_op(op = 'n->kn', row = 1, k = 1/2)"
      ],
      "metadata": {
        "colab": {
          "base_uri": "https://localhost:8080/",
          "height": 78
        },
        "id": "K1ljdI9xP0-S",
        "outputId": "63663b15-1190-425b-8874-36b781e0543c"
      },
      "execution_count": 17,
      "outputs": [
        {
          "output_type": "execute_result",
          "data": {
            "text/plain": [
              "⎡ 7     1    -4    -2 ⎤\n",
              "⎢                     ⎥\n",
              "⎢-5.0  -4.5  3.0  -4.0⎥\n",
              "⎢                     ⎥\n",
              "⎣ -4    -2    8    4  ⎦"
            ],
            "text/latex": "$\\displaystyle \\left[\\begin{matrix}7 & 1 & -4 & -2\\\\-5.0 & -4.5 & 3.0 & -4.0\\\\-4 & -2 & 8 & 4\\end{matrix}\\right]$"
          },
          "metadata": {},
          "execution_count": 17
        }
      ]
    },
    {
      "cell_type": "markdown",
      "source": [
        "Three things to note on this: \n",
        "1. The string `'n->kn'` inside the argument has to be in quotes and typed exactly as you see it, no spaces. \n",
        "2. Rows and columns in SymPy are zero-indexed, so the *top* row is \"row 0\", not row 1; the middle row is row 1; and the bottom is row 2. \n",
        "3. This operation doesn't change the original $B$: "
      ],
      "metadata": {
        "id": "Er3o8iyiQLFf"
      }
    },
    {
      "cell_type": "code",
      "source": [
        "B"
      ],
      "metadata": {
        "colab": {
          "base_uri": "https://localhost:8080/",
          "height": 78
        },
        "id": "YQ0LWEcaQByt",
        "outputId": "c40dd545-a450-4a1b-975d-409f0e107521"
      },
      "execution_count": 18,
      "outputs": [
        {
          "output_type": "execute_result",
          "data": {
            "text/plain": [
              "⎡ 7   1   -4  -2⎤\n",
              "⎢               ⎥\n",
              "⎢-10  -9  6   -8⎥\n",
              "⎢               ⎥\n",
              "⎣-4   -2  8   4 ⎦"
            ],
            "text/latex": "$\\displaystyle \\left[\\begin{matrix}7 & 1 & -4 & -2\\\\-10 & -9 & 6 & -8\\\\-4 & -2 & 8 & 4\\end{matrix}\\right]$"
          },
          "metadata": {},
          "execution_count": 18
        }
      ]
    },
    {
      "cell_type": "markdown",
      "source": [
        "To swap the top and bottom rows: "
      ],
      "metadata": {
        "id": "9lI65a70Qi5t"
      }
    },
    {
      "cell_type": "code",
      "source": [
        "B.elementary_row_op(op=\"n<->m\", row1 = 0, row2 = 2)"
      ],
      "metadata": {
        "colab": {
          "base_uri": "https://localhost:8080/",
          "height": 78
        },
        "id": "W2Hg_ZuLQllf",
        "outputId": "a6d2b715-5f09-4af1-fc3b-7bca8601558a"
      },
      "execution_count": 19,
      "outputs": [
        {
          "output_type": "execute_result",
          "data": {
            "text/plain": [
              "⎡-4   -2  8   4 ⎤\n",
              "⎢               ⎥\n",
              "⎢-10  -9  6   -8⎥\n",
              "⎢               ⎥\n",
              "⎣ 7   1   -4  -2⎦"
            ],
            "text/latex": "$\\displaystyle \\left[\\begin{matrix}-4 & -2 & 8 & 4\\\\-10 & -9 & 6 & -8\\\\7 & 1 & -4 & -2\\end{matrix}\\right]$"
          },
          "metadata": {},
          "execution_count": 19
        }
      ]
    },
    {
      "cell_type": "markdown",
      "source": [
        "To replace the middle row with itself plus 2 times the bottom row (which will zero out the $(1,2)$ entry): "
      ],
      "metadata": {
        "id": "wvvsZ6WrRGCe"
      }
    },
    {
      "cell_type": "code",
      "source": [
        "B.elementary_row_op(op=\"n->n+km\", k = 2, row1 = 1, row2=2)"
      ],
      "metadata": {
        "colab": {
          "base_uri": "https://localhost:8080/",
          "height": 78
        },
        "id": "lAokY5quRRw6",
        "outputId": "863f1aec-ad0d-43d7-ad75-3c86595458c1"
      },
      "execution_count": 20,
      "outputs": [
        {
          "output_type": "execute_result",
          "data": {
            "text/plain": [
              "⎡ 7    1   -4  -2⎤\n",
              "⎢                ⎥\n",
              "⎢-18  -13  22  0 ⎥\n",
              "⎢                ⎥\n",
              "⎣-4   -2   8   4 ⎦"
            ],
            "text/latex": "$\\displaystyle \\left[\\begin{matrix}7 & 1 & -4 & -2\\\\-18 & -13 & 22 & 0\\\\-4 & -2 & 8 & 4\\end{matrix}\\right]$"
          },
          "metadata": {},
          "execution_count": 20
        }
      ]
    },
    {
      "cell_type": "markdown",
      "source": [
        "## Matrix arithmetic\n",
        "\n",
        "Once matrices and vectors are defined, we can add, subtract, and multiply them just like any other object. "
      ],
      "metadata": {
        "id": "07si1VGKRhDn"
      }
    },
    {
      "cell_type": "code",
      "source": [
        "A = randMatrix(2,2, -10, 10) # A random 2x2 matrixB\n",
        "B = randMatrix(2,2, -10, 10) # Another random 2x2 matrix\n",
        "C = randMatrix(4,2, -10, 10) # A random 4x2 matrix"
      ],
      "metadata": {
        "id": "3kaUZ-C1Rn2-"
      },
      "execution_count": 21,
      "outputs": []
    },
    {
      "cell_type": "code",
      "source": [
        "A"
      ],
      "metadata": {
        "colab": {
          "base_uri": "https://localhost:8080/",
          "height": 58
        },
        "id": "P7RBvEMNR-qQ",
        "outputId": "5f6a2ffe-fc59-4e12-8716-fd58fc4cef5a"
      },
      "execution_count": 22,
      "outputs": [
        {
          "output_type": "execute_result",
          "data": {
            "text/plain": [
              "⎡0   5 ⎤\n",
              "⎢      ⎥\n",
              "⎣10  -4⎦"
            ],
            "text/latex": "$\\displaystyle \\left[\\begin{matrix}0 & 5\\\\10 & -4\\end{matrix}\\right]$"
          },
          "metadata": {},
          "execution_count": 22
        }
      ]
    },
    {
      "cell_type": "code",
      "source": [
        "B"
      ],
      "metadata": {
        "colab": {
          "base_uri": "https://localhost:8080/",
          "height": 58
        },
        "id": "0XSN2gmvR_pF",
        "outputId": "e804a46b-f8e7-4875-bbe1-51012a2dfc67"
      },
      "execution_count": 23,
      "outputs": [
        {
          "output_type": "execute_result",
          "data": {
            "text/plain": [
              "⎡-1  7⎤\n",
              "⎢     ⎥\n",
              "⎣7   1⎦"
            ],
            "text/latex": "$\\displaystyle \\left[\\begin{matrix}-1 & 7\\\\7 & 1\\end{matrix}\\right]$"
          },
          "metadata": {},
          "execution_count": 23
        }
      ]
    },
    {
      "cell_type": "code",
      "source": [
        "C"
      ],
      "metadata": {
        "colab": {
          "base_uri": "https://localhost:8080/",
          "height": 98
        },
        "id": "cWWk2o8RSA05",
        "outputId": "48df44b6-c79f-4124-836d-24798e34feae"
      },
      "execution_count": 24,
      "outputs": [
        {
          "output_type": "execute_result",
          "data": {
            "text/plain": [
              "⎡5   -5⎤\n",
              "⎢      ⎥\n",
              "⎢3   10⎥\n",
              "⎢      ⎥\n",
              "⎢5   -8⎥\n",
              "⎢      ⎥\n",
              "⎣-9  -9⎦"
            ],
            "text/latex": "$\\displaystyle \\left[\\begin{matrix}5 & -5\\\\3 & 10\\\\5 & -8\\\\-9 & -9\\end{matrix}\\right]$"
          },
          "metadata": {},
          "execution_count": 24
        }
      ]
    },
    {
      "cell_type": "code",
      "source": [
        "# Adding/subtracting/multiplying the 2x2 matrices\n",
        "\n",
        "A + B"
      ],
      "metadata": {
        "colab": {
          "base_uri": "https://localhost:8080/",
          "height": 58
        },
        "id": "s5BjCgpbSMMr",
        "outputId": "017c5a4a-e287-4b77-e9d4-3ebc2af25653"
      },
      "execution_count": 25,
      "outputs": [
        {
          "output_type": "execute_result",
          "data": {
            "text/plain": [
              "⎡-1  12⎤\n",
              "⎢      ⎥\n",
              "⎣17  -3⎦"
            ],
            "text/latex": "$\\displaystyle \\left[\\begin{matrix}-1 & 12\\\\17 & -3\\end{matrix}\\right]$"
          },
          "metadata": {},
          "execution_count": 25
        }
      ]
    },
    {
      "cell_type": "code",
      "source": [
        "A - B"
      ],
      "metadata": {
        "colab": {
          "base_uri": "https://localhost:8080/",
          "height": 58
        },
        "id": "aBqvhh8eSSmU",
        "outputId": "2a5491d6-8989-440d-fb7e-dcc5e4c81845"
      },
      "execution_count": 26,
      "outputs": [
        {
          "output_type": "execute_result",
          "data": {
            "text/plain": [
              "⎡1  -2⎤\n",
              "⎢     ⎥\n",
              "⎣3  -5⎦"
            ],
            "text/latex": "$\\displaystyle \\left[\\begin{matrix}1 & -2\\\\3 & -5\\end{matrix}\\right]$"
          },
          "metadata": {},
          "execution_count": 26
        }
      ]
    },
    {
      "cell_type": "code",
      "source": [
        "A*B"
      ],
      "metadata": {
        "colab": {
          "base_uri": "https://localhost:8080/",
          "height": 58
        },
        "id": "ZpBv9oQPSUMx",
        "outputId": "25924df6-d45b-40ed-ccd2-6a01f1e365e7"
      },
      "execution_count": 27,
      "outputs": [
        {
          "output_type": "execute_result",
          "data": {
            "text/plain": [
              "⎡35   5 ⎤\n",
              "⎢       ⎥\n",
              "⎣-38  66⎦"
            ],
            "text/latex": "$\\displaystyle \\left[\\begin{matrix}35 & 5\\\\-38 & 66\\end{matrix}\\right]$"
          },
          "metadata": {},
          "execution_count": 27
        }
      ]
    },
    {
      "cell_type": "code",
      "source": [
        "# Notice the order matters in matrix multiplication!\n",
        "B*A"
      ],
      "metadata": {
        "colab": {
          "base_uri": "https://localhost:8080/",
          "height": 58
        },
        "id": "g9YrAEA_SvPV",
        "outputId": "952d936d-93da-4ecb-e2e8-042d7fdcfa3c"
      },
      "execution_count": 28,
      "outputs": [
        {
          "output_type": "execute_result",
          "data": {
            "text/plain": [
              "⎡70  -33⎤\n",
              "⎢       ⎥\n",
              "⎣10  31 ⎦"
            ],
            "text/latex": "$\\displaystyle \\left[\\begin{matrix}70 & -33\\\\10 & 31\\end{matrix}\\right]$"
          },
          "metadata": {},
          "execution_count": 28
        }
      ]
    },
    {
      "cell_type": "code",
      "source": [
        "# We can compute C*A because the dimensions match\n",
        "C*A"
      ],
      "metadata": {
        "colab": {
          "base_uri": "https://localhost:8080/",
          "height": 98
        },
        "id": "CIKcP210SXLn",
        "outputId": "b3f8fc2b-6641-49a8-b04b-50bcfc338991"
      },
      "execution_count": 29,
      "outputs": [
        {
          "output_type": "execute_result",
          "data": {
            "text/plain": [
              "⎡-50  45 ⎤\n",
              "⎢        ⎥\n",
              "⎢100  -25⎥\n",
              "⎢        ⎥\n",
              "⎢-80  57 ⎥\n",
              "⎢        ⎥\n",
              "⎣-90  -9 ⎦"
            ],
            "text/latex": "$\\displaystyle \\left[\\begin{matrix}-50 & 45\\\\100 & -25\\\\-80 & 57\\\\-90 & -9\\end{matrix}\\right]$"
          },
          "metadata": {},
          "execution_count": 29
        }
      ]
    },
    {
      "cell_type": "code",
      "source": [
        "# But not A*C: \n",
        "A*C"
      ],
      "metadata": {
        "colab": {
          "base_uri": "https://localhost:8080/",
          "height": 336
        },
        "id": "2Ieik8-RSdFx",
        "outputId": "2ca2eeec-70c5-4579-952f-29a7c80e3895"
      },
      "execution_count": 30,
      "outputs": [
        {
          "output_type": "error",
          "ename": "ShapeError",
          "evalue": "ignored",
          "traceback": [
            "\u001b[0;31m---------------------------------------------------------------------------\u001b[0m",
            "\u001b[0;31mShapeError\u001b[0m                                Traceback (most recent call last)",
            "\u001b[0;32m<ipython-input-30-619b509400d7>\u001b[0m in \u001b[0;36m<module>\u001b[0;34m\u001b[0m\n\u001b[1;32m      1\u001b[0m \u001b[0;31m# But not A*C:\u001b[0m\u001b[0;34m\u001b[0m\u001b[0;34m\u001b[0m\u001b[0;34m\u001b[0m\u001b[0m\n\u001b[0;32m----> 2\u001b[0;31m \u001b[0mA\u001b[0m\u001b[0;34m*\u001b[0m\u001b[0mC\u001b[0m\u001b[0;34m\u001b[0m\u001b[0;34m\u001b[0m\u001b[0m\n\u001b[0m",
            "\u001b[0;32m/usr/local/lib/python3.8/dist-packages/sympy/core/decorators.py\u001b[0m in \u001b[0;36mbinary_op_wrapper\u001b[0;34m(self, other)\u001b[0m\n\u001b[1;32m    135\u001b[0m                     \u001b[0;32mif\u001b[0m \u001b[0mf\u001b[0m \u001b[0;32mis\u001b[0m \u001b[0;32mnot\u001b[0m \u001b[0;32mNone\u001b[0m\u001b[0;34m:\u001b[0m\u001b[0;34m\u001b[0m\u001b[0;34m\u001b[0m\u001b[0m\n\u001b[1;32m    136\u001b[0m                         \u001b[0;32mreturn\u001b[0m \u001b[0mf\u001b[0m\u001b[0;34m(\u001b[0m\u001b[0mself\u001b[0m\u001b[0;34m)\u001b[0m\u001b[0;34m\u001b[0m\u001b[0;34m\u001b[0m\u001b[0m\n\u001b[0;32m--> 137\u001b[0;31m             \u001b[0;32mreturn\u001b[0m \u001b[0mfunc\u001b[0m\u001b[0;34m(\u001b[0m\u001b[0mself\u001b[0m\u001b[0;34m,\u001b[0m \u001b[0mother\u001b[0m\u001b[0;34m)\u001b[0m\u001b[0;34m\u001b[0m\u001b[0;34m\u001b[0m\u001b[0m\n\u001b[0m\u001b[1;32m    138\u001b[0m         \u001b[0;32mreturn\u001b[0m \u001b[0mbinary_op_wrapper\u001b[0m\u001b[0;34m\u001b[0m\u001b[0;34m\u001b[0m\u001b[0m\n\u001b[1;32m    139\u001b[0m     \u001b[0;32mreturn\u001b[0m \u001b[0mpriority_decorator\u001b[0m\u001b[0;34m\u001b[0m\u001b[0;34m\u001b[0m\u001b[0m\n",
            "\u001b[0;32m/usr/local/lib/python3.8/dist-packages/sympy/matrices/common.py\u001b[0m in \u001b[0;36m__mul__\u001b[0;34m(self, other)\u001b[0m\n\u001b[1;32m   2605\u001b[0m         \"\"\"\n\u001b[1;32m   2606\u001b[0m \u001b[0;34m\u001b[0m\u001b[0m\n\u001b[0;32m-> 2607\u001b[0;31m         \u001b[0;32mreturn\u001b[0m \u001b[0mself\u001b[0m\u001b[0;34m.\u001b[0m\u001b[0mmultiply\u001b[0m\u001b[0;34m(\u001b[0m\u001b[0mother\u001b[0m\u001b[0;34m)\u001b[0m\u001b[0;34m\u001b[0m\u001b[0;34m\u001b[0m\u001b[0m\n\u001b[0m\u001b[1;32m   2608\u001b[0m \u001b[0;34m\u001b[0m\u001b[0m\n\u001b[1;32m   2609\u001b[0m     \u001b[0;32mdef\u001b[0m \u001b[0mmultiply\u001b[0m\u001b[0;34m(\u001b[0m\u001b[0mself\u001b[0m\u001b[0;34m,\u001b[0m \u001b[0mother\u001b[0m\u001b[0;34m,\u001b[0m \u001b[0mdotprodsimp\u001b[0m\u001b[0;34m=\u001b[0m\u001b[0;32mNone\u001b[0m\u001b[0;34m)\u001b[0m\u001b[0;34m:\u001b[0m\u001b[0;34m\u001b[0m\u001b[0;34m\u001b[0m\u001b[0m\n",
            "\u001b[0;32m/usr/local/lib/python3.8/dist-packages/sympy/matrices/common.py\u001b[0m in \u001b[0;36mmultiply\u001b[0;34m(self, other, dotprodsimp)\u001b[0m\n\u001b[1;32m   2627\u001b[0m              getattr(other, 'is_MatrixLike', True))):\n\u001b[1;32m   2628\u001b[0m             \u001b[0;32mif\u001b[0m \u001b[0mself\u001b[0m\u001b[0;34m.\u001b[0m\u001b[0mshape\u001b[0m\u001b[0;34m[\u001b[0m\u001b[0;36m1\u001b[0m\u001b[0;34m]\u001b[0m \u001b[0;34m!=\u001b[0m \u001b[0mother\u001b[0m\u001b[0;34m.\u001b[0m\u001b[0mshape\u001b[0m\u001b[0;34m[\u001b[0m\u001b[0;36m0\u001b[0m\u001b[0;34m]\u001b[0m\u001b[0;34m:\u001b[0m\u001b[0;34m\u001b[0m\u001b[0;34m\u001b[0m\u001b[0m\n\u001b[0;32m-> 2629\u001b[0;31m                 raise ShapeError(\"Matrix size mismatch: %s * %s.\" % (\n\u001b[0m\u001b[1;32m   2630\u001b[0m                     self.shape, other.shape))\n\u001b[1;32m   2631\u001b[0m \u001b[0;34m\u001b[0m\u001b[0m\n",
            "\u001b[0;31mShapeError\u001b[0m: Matrix size mismatch: (2, 2) * (4, 2)."
          ]
        }
      ]
    },
    {
      "cell_type": "code",
      "source": [
        "# Multiplying a matrix by a scalar: \n",
        "\n",
        "100*C"
      ],
      "metadata": {
        "colab": {
          "base_uri": "https://localhost:8080/",
          "height": 98
        },
        "id": "MtxELwjoTGDY",
        "outputId": "b3a88349-eb3d-4747-9e60-190b084b6d51"
      },
      "execution_count": 31,
      "outputs": [
        {
          "output_type": "execute_result",
          "data": {
            "text/plain": [
              "⎡500   -500⎤\n",
              "⎢          ⎥\n",
              "⎢300   1000⎥\n",
              "⎢          ⎥\n",
              "⎢500   -800⎥\n",
              "⎢          ⎥\n",
              "⎣-900  -900⎦"
            ],
            "text/latex": "$\\displaystyle \\left[\\begin{matrix}500 & -500\\\\300 & 1000\\\\500 & -800\\\\-900 & -900\\end{matrix}\\right]$"
          },
          "metadata": {},
          "execution_count": 31
        }
      ]
    },
    {
      "cell_type": "markdown",
      "source": [
        "Since vectors are just a particular kind of matrix, all of the above works when vectors are involved: "
      ],
      "metadata": {
        "id": "rYfwQYSeS8uK"
      }
    },
    {
      "cell_type": "code",
      "source": [
        "v = Matrix([-3,4])\n",
        "w = Matrix([1,2])\n",
        "\n",
        "# A linear combination\n",
        "\n",
        "4*v + 9*w"
      ],
      "metadata": {
        "colab": {
          "base_uri": "https://localhost:8080/",
          "height": 58
        },
        "id": "8RRY-8gUTQXt",
        "outputId": "1f817839-221a-488d-d2de-60e2d17b3f35"
      },
      "execution_count": 32,
      "outputs": [
        {
          "output_type": "execute_result",
          "data": {
            "text/plain": [
              "⎡-3⎤\n",
              "⎢  ⎥\n",
              "⎣34⎦"
            ],
            "text/latex": "$\\displaystyle \\left[\\begin{matrix}-3\\\\34\\end{matrix}\\right]$"
          },
          "metadata": {},
          "execution_count": 32
        }
      ]
    },
    {
      "cell_type": "code",
      "source": [
        "# Multiplying a matrix to a vector\n",
        "\n",
        "A*v"
      ],
      "metadata": {
        "colab": {
          "base_uri": "https://localhost:8080/",
          "height": 58
        },
        "id": "S_YAfK9OTblx",
        "outputId": "df95a3bf-b8e8-41d2-afb0-e2f908433bbc"
      },
      "execution_count": 33,
      "outputs": [
        {
          "output_type": "execute_result",
          "data": {
            "text/plain": [
              "⎡20 ⎤\n",
              "⎢   ⎥\n",
              "⎣-46⎦"
            ],
            "text/latex": "$\\displaystyle \\left[\\begin{matrix}20\\\\-46\\end{matrix}\\right]$"
          },
          "metadata": {},
          "execution_count": 33
        }
      ]
    }
  ]
}