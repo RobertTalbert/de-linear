{
  "nbformat": 4,
  "nbformat_minor": 0,
  "metadata": {
    "colab": {
      "provenance": [],
      "authorship_tag": "ABX9TyPNbGXEoH4AklEKSNC0XN3I",
      "include_colab_link": true
    },
    "kernelspec": {
      "name": "python3",
      "display_name": "Python 3"
    },
    "language_info": {
      "name": "python"
    }
  },
  "cells": [
    {
      "cell_type": "markdown",
      "metadata": {
        "id": "view-in-github",
        "colab_type": "text"
      },
      "source": [
        "<a href=\"https://colab.research.google.com/github/RobertTalbert/linalg-diffeq/blob/main/tutorials/Matrices_and_vectors_in_SymPy.ipynb\" target=\"_parent\"><img src=\"https://colab.research.google.com/assets/colab-badge.svg\" alt=\"Open In Colab\"/></a>"
      ]
    },
    {
      "cell_type": "code",
      "execution_count": 1,
      "metadata": {
        "id": "B7x7mVfHEWgc"
      },
      "outputs": [],
      "source": [
        "from sympy import * \n",
        "init_printing()"
      ]
    },
    {
      "cell_type": "markdown",
      "source": [
        "# Matrices and Vectors in SymPy\n",
        "\n",
        "## Overview \n",
        "\n",
        "This tutorial will show you how to: \n",
        "\n",
        "- Solve a system of linear equations in SymPy\n",
        "- Enter matrices and vectors in SymPy\n",
        "- Get a matrix into row-reduced echelon form\n",
        "- Perform single elementary row operations on a matrix\n",
        "- Add, subtract, and multiply matrices, as well as multiply a matrix or vector by a scalar and multiply a vector times a matrix \n",
        "\n",
        "A future tutorial will go over how to find eigenvalues and eigenvectors of a matrix in Sympy. \n",
        "\n",
        "Make sure you've watched the Introduction to SymPy video before proceeding. "
      ],
      "metadata": {
        "id": "xqMpm6kTE96-"
      }
    },
    {
      "cell_type": "markdown",
      "source": [
        "## Solving linear systems directly\n",
        "\n",
        "Suppose we have this linear system we want to solve: \n",
        "\n",
        "$$\\begin{align*}\n",
        "x - 2y &= 3 \\\\\n",
        "3x + 4y &= -1\n",
        "\\end{align*}$$ \n",
        "\n",
        "**The `solve` function in SymPy allows you to solve linear systems directly** without using matrices. To set this up, rewrite the system with zeroes on the right sides, by moving the constants over: \n",
        "\n",
        "$$\\begin{align*}\n",
        "x - 2y - 3 &= 0 \\\\\n",
        "3x + 4y + 1&= 0\n",
        "\\end{align*}$$ \n",
        "\n",
        "Next, make sure the symbols are defined (these only need to be defined once in your notebook):"
      ],
      "metadata": {
        "id": "E383b9E1JoZN"
      }
    },
    {
      "cell_type": "code",
      "source": [
        "x,y = symbols('x y')"
      ],
      "metadata": {
        "id": "lj5yxxJ6F5SI"
      },
      "execution_count": 2,
      "outputs": []
    },
    {
      "cell_type": "markdown",
      "source": [
        "Then, use the syntax `solve((equation1, equation2), x, y)`: "
      ],
      "metadata": {
        "id": "p9otBGaWG5M8"
      }
    },
    {
      "cell_type": "code",
      "source": [
        "solve((x - 2*y - 3, 3*x + 4*y +1), x, y)"
      ],
      "metadata": {
        "colab": {
          "base_uri": "https://localhost:8080/",
          "height": 39
        },
        "id": "9pM-ivOHG4mc",
        "outputId": "bcb68f1e-a43b-4c6e-c003-7accc38aa183"
      },
      "execution_count": 3,
      "outputs": [
        {
          "output_type": "execute_result",
          "data": {
            "text/plain": [
              "{x: 1, y: -1}"
            ],
            "image/png": "[encoded data removed]",
            "text/latex": "$\\displaystyle \\left\\{ x : 1, \\  y : -1\\right\\}$"
          },
          "metadata": {},
          "execution_count": 3
        }
      ]
    },
    {
      "cell_type": "markdown",
      "source": [
        "In the `solve` command, note we didn't enter the equations themselves but the left-hand sides of the modified versions once we set them to zero. \n",
        "\n",
        "If we give SymPy an inconsistent system, like this one: \n",
        "$$\\begin{align*}\n",
        "x + 2y &= 1 \\\\\n",
        "x + 2y &= 4\n",
        "\\end{align*}$$ \n",
        "then we get an empty solution, as we should: "
      ],
      "metadata": {
        "id": "_s5_cGTpHE_6"
      }
    },
    {
      "cell_type": "code",
      "source": [
        "solve((x+2*y -1, x + 2*y -4), x, y)"
      ],
      "metadata": {
        "colab": {
          "base_uri": "https://localhost:8080/",
          "height": 37
        },
        "id": "timYDdypIJnU",
        "outputId": "5efee95d-6ad9-4363-8841-94ef561ad704"
      },
      "execution_count": 4,
      "outputs": [
        {
          "output_type": "execute_result",
          "data": {
            "text/plain": [
              "[]"
            ],
            "image/png": "[encoded data removed]",
            "text/latex": "$\\displaystyle \\left[ \\right]$"
          },
          "metadata": {},
          "execution_count": 4
        }
      ]
    },
    {
      "cell_type": "markdown",
      "source": [
        "On the other hand if we enter a system with infinitely many solutions like this: \n",
        "$$\\begin{align*}\n",
        "x + 2y &= 1 \\\\\n",
        "4x + 8y &= 4\n",
        "\\end{align*}$$ \n",
        "then SymPy will pick the free variables and give an expression for the others in terms of the free variables: "
      ],
      "metadata": {
        "id": "n1vxkxT8IUOu"
      }
    },
    {
      "cell_type": "code",
      "source": [
        "solve((x+2*y -1, 4*x + 8*y -4), x, y)"
      ],
      "metadata": {
        "colab": {
          "base_uri": "https://localhost:8080/",
          "height": 39
        },
        "id": "NPA22JW8Id77",
        "outputId": "688a250e-fdda-411e-db78-990e864c76d5"
      },
      "execution_count": 5,
      "outputs": [
        {
          "output_type": "execute_result",
          "data": {
            "text/plain": [
              "{x: 1 - 2⋅y}"
            ],
            "image/png": "[encoded data removed]",
            "text/latex": "$\\displaystyle \\left\\{ x : 1 - 2 y\\right\\}$"
          },
          "metadata": {},
          "execution_count": 5
        }
      ]
    },
    {
      "cell_type": "markdown",
      "source": [
        "This works for larger systems too: \n",
        "$$\\begin{align*}\n",
        "x + 2y + z &= 1 \\\\\n",
        "3x + 4y - 2z &= 5 \\\\\n",
        "3x - y + z &= -2\n",
        "\\end{align*}$$ "
      ],
      "metadata": {
        "id": "elaWe8UUIrsU"
      }
    },
    {
      "cell_type": "code",
      "source": [
        "z = symbols('z')\n",
        "solve((x + 2*y + z - 1, 3*x + 4*y - 2*z - 5, 3*x -y +z + 2), x, y, z)"
      ],
      "metadata": {
        "colab": {
          "base_uri": "https://localhost:8080/",
          "height": 58
        },
        "id": "9L2dA826I5Rl",
        "outputId": "748dc07d-28fa-446e-824e-f352616c62b7"
      },
      "execution_count": 6,
      "outputs": [
        {
          "output_type": "execute_result",
          "data": {
            "text/plain": [
              "⎧             29     -24 ⎫\n",
              "⎨x: -3/31, y: ──, z: ────⎬\n",
              "⎩             31      31 ⎭"
            ],
            "image/png": "[encoded data removed]",
            "text/latex": "$\\displaystyle \\left\\{ x : - \\frac{3}{31}, \\  y : \\frac{29}{31}, \\  z : - \\frac{24}{31}\\right\\}$"
          },
          "metadata": {},
          "execution_count": 6
        }
      ]
    },
    {
      "cell_type": "markdown",
      "source": [
        "## Entering matrices and vectors \n",
        "\n"
      ],
      "metadata": {
        "id": "4g5srJBDJTcQ"
      }
    },
    {
      "cell_type": "markdown",
      "source": [
        "Matrices in SymPy are formed by: \n",
        "\n",
        "*   Turning each row into a list (comma separated and enclosed with square brackets)\n",
        "*   Putting the rows themselves into a list\n",
        "*  Then wrapping the outer list in `Matrix( )` (and usually assigning it a variable name). \n",
        "\n",
        "**Example**: To enter the matrix \n",
        "$M = \\begin{pmatrix}\n",
        "1 & 2 & 3 \\\\\n",
        "4 & 5 & 6\n",
        "\\end{pmatrix}$: \n",
        "\n"
      ],
      "metadata": {
        "id": "dsegPP9PJyXI"
      }
    },
    {
      "cell_type": "code",
      "source": [
        "M = Matrix([[1,2,3], [4,5,6]])\n",
        "M"
      ],
      "metadata": {
        "colab": {
          "base_uri": "https://localhost:8080/",
          "height": 58
        },
        "id": "U9dMoUbtJNr6",
        "outputId": "7a1a6712-ae99-4cca-8297-bc4c0d83e7f8"
      },
      "execution_count": 7,
      "outputs": [
        {
          "output_type": "execute_result",
          "data": {
            "text/plain": [
              "⎡1  2  3⎤\n",
              "⎢       ⎥\n",
              "⎣4  5  6⎦"
            ],
            "text/latex": "$\\displaystyle \\left[\\begin{matrix}1 & 2 & 3\\\\4 & 5 & 6\\end{matrix}\\right]$"
          },
          "metadata": {},
          "execution_count": 7
        }
      ]
    },
    {
      "cell_type": "markdown",
      "source": [
        "Notice that the $\\LaTeX$ preview in Colab notebooks puts square brackets around matrices, not parentheses. \n",
        "\n",
        "Another way to enter a matrix is to specify the dimensions (number of rows, number of columns) then a single list containing the elements, listed row by row. \n",
        "\n",
        "**Example:** To enter $N = \\begin{pmatrix} 9 & 8 \\\\ 7 & 6 \\\\ 5 & 4 \\end{pmatrix}$: "
      ],
      "metadata": {
        "id": "gs5ADCtJK_lv"
      }
    },
    {
      "cell_type": "code",
      "source": [
        "N = Matrix(3,2, [9,8,7,6,5,4])\n",
        "N"
      ],
      "metadata": {
        "colab": {
          "base_uri": "https://localhost:8080/",
          "height": 78
        },
        "id": "QhbCUH5gMUYp",
        "outputId": "e2dcf0b7-dc0b-4e6a-de45-766a05adaebf"
      },
      "execution_count": 8,
      "outputs": [
        {
          "output_type": "execute_result",
          "data": {
            "text/plain": [
              "⎡9  8⎤\n",
              "⎢    ⎥\n",
              "⎢7  6⎥\n",
              "⎢    ⎥\n",
              "⎣5  4⎦"
            ],
            "text/latex": "$\\displaystyle \\left[\\begin{matrix}9 & 8\\\\7 & 6\\\\5 & 4\\end{matrix}\\right]$"
          },
          "metadata": {},
          "execution_count": 8
        }
      ]
    },
    {
      "cell_type": "markdown",
      "source": [
        "Sometimes it's useful to create a matrix randomly, for practice or for testing out ideas. The `randMatrix` function does this. For example, here's a random $5 \\times 7$ matrix with entries between $-10$ and $10$: "
      ],
      "metadata": {
        "id": "ZMQfVYkiMX1q"
      }
    },
    {
      "cell_type": "code",
      "source": [
        "R = randMatrix(5,7,-10,10)\n",
        "R"
      ],
      "metadata": {
        "colab": {
          "base_uri": "https://localhost:8080/",
          "height": 119
        },
        "id": "RY2bBRaqMxFv",
        "outputId": "e728bbdd-4e67-4cc6-d5f1-3169cfdebe91"
      },
      "execution_count": 9,
      "outputs": [
        {
          "output_type": "execute_result",
          "data": {
            "text/plain": [
              "⎡3   -6   -5  7   -2  8   7 ⎤\n",
              "⎢                           ⎥\n",
              "⎢1   -10  9   -9  -6  1   -9⎥\n",
              "⎢                           ⎥\n",
              "⎢-4  -1   10  3   -6  3   3 ⎥\n",
              "⎢                           ⎥\n",
              "⎢-6   2   2   -3  0   -3  -4⎥\n",
              "⎢                           ⎥\n",
              "⎣-3   2   6   -8  1   5   1 ⎦"
            ],
            "text/latex": "$\\displaystyle \\left[\\begin{matrix}3 & -6 & -5 & 7 & -2 & 8 & 7\\\\1 & -10 & 9 & -9 & -6 & 1 & -9\\\\-4 & -1 & 10 & 3 & -6 & 3 & 3\\\\-6 & 2 & 2 & -3 & 0 & -3 & -4\\\\-3 & 2 & 6 & -8 & 1 & 5 & 1\\end{matrix}\\right]$"
          },
          "metadata": {},
          "execution_count": 9
        }
      ]
    },
    {
      "cell_type": "markdown",
      "source": [
        "We can enter vectors using the same ideas as above, just by thinking of them as $1 \\times n$ matrices. But we don't need to enter in each row as a separate, one-item list -- just a single list with no dimensions specified. "
      ],
      "metadata": {
        "id": "LUg5TULTNPgH"
      }
    },
    {
      "cell_type": "code",
      "source": [
        "v = Matrix([8,9,7])\n",
        "v"
      ],
      "metadata": {
        "colab": {
          "base_uri": "https://localhost:8080/",
          "height": 78
        },
        "id": "bE6oC0jPM7bK",
        "outputId": "9f4e4a85-1c83-4231-ef2f-3bde556be2dd"
      },
      "execution_count": 10,
      "outputs": [
        {
          "output_type": "execute_result",
          "data": {
            "text/plain": [
              "⎡8⎤\n",
              "⎢ ⎥\n",
              "⎢9⎥\n",
              "⎢ ⎥\n",
              "⎣7⎦"
            ],
            "text/latex": "$\\displaystyle \\left[\\begin{matrix}8\\\\9\\\\7\\end{matrix}\\right]$"
          },
          "metadata": {},
          "execution_count": 10
        }
      ]
    },
    {
      "cell_type": "markdown",
      "source": [
        "SymPy is smart enough to know that if no dimensions are given and there's just a single list, then it's a vector. "
      ],
      "metadata": {
        "id": "YbgZXm_kTv9R"
      }
    },
    {
      "cell_type": "markdown",
      "source": [
        "## Row Reduced Echelon Form \n",
        "\n",
        "If you've defined a matrix `M` in SymPy, you can produce its row-reduced echelon form simply by adding the `.rref()` method: "
      ],
      "metadata": {
        "id": "U2UakMJJNkvw"
      }
    },
    {
      "cell_type": "code",
      "source": [
        "A = Matrix([[1,2,3], [4,5,6], [7,8,9]])\n",
        "A.rref()"
      ],
      "metadata": {
        "colab": {
          "base_uri": "https://localhost:8080/",
          "height": 78
        },
        "id": "ZDjpwe31NzMO",
        "outputId": "f7fa8ed8-1335-4878-86d7-3bf74e8eb473"
      },
      "execution_count": 11,
      "outputs": [
        {
          "output_type": "execute_result",
          "data": {
            "text/plain": [
              "⎛⎡1  0  -1⎤        ⎞\n",
              "⎜⎢        ⎥        ⎟\n",
              "⎜⎢0  1  2 ⎥, (0, 1)⎟\n",
              "⎜⎢        ⎥        ⎟\n",
              "⎝⎣0  0  0 ⎦        ⎠"
            ],
            "text/latex": "$\\displaystyle \\left( \\left[\\begin{matrix}1 & 0 & -1\\\\0 & 1 & 2\\\\0 & 0 & 0\\end{matrix}\\right], \\  \\left( 0, \\  1\\right)\\right)$"
          },
          "metadata": {},
          "execution_count": 11
        }
      ]
    },
    {
      "cell_type": "markdown",
      "source": [
        "This may not have been what you expected: The RREF matrix is there, but it's coupled with a pair of numbers. That pair of numbers gives the *indices of the pivot variables* in the matrix, in this case appearing in columns 0 and 1. Most of the time we don't want this extra information. To produce just the matrix itself, add `pivots=False` inside `.rref()`:  "
      ],
      "metadata": {
        "id": "cm7Wvqq8OLro"
      }
    },
    {
      "cell_type": "code",
      "source": [
        "A.rref(pivots = False)"
      ],
      "metadata": {
        "colab": {
          "base_uri": "https://localhost:8080/",
          "height": 78
        },
        "id": "YiRleg4BOjRS",
        "outputId": "895312c3-b081-4727-c331-9d47a92948cb"
      },
      "execution_count": 12,
      "outputs": [
        {
          "output_type": "execute_result",
          "data": {
            "text/plain": [
              "⎡1  0  -1⎤\n",
              "⎢        ⎥\n",
              "⎢0  1  2 ⎥\n",
              "⎢        ⎥\n",
              "⎣0  0  0 ⎦"
            ],
            "text/latex": "$\\displaystyle \\left[\\begin{matrix}1 & 0 & -1\\\\0 & 1 & 2\\\\0 & 0 & 0\\end{matrix}\\right]$"
          },
          "metadata": {},
          "execution_count": 12
        }
      ]
    },
    {
      "cell_type": "markdown",
      "source": [
        "We can also get a matrix into *echelon form* but not *row reduced echelon form* by using the `.echelon_form()` method: "
      ],
      "metadata": {
        "id": "umxsGqlQO2xt"
      }
    },
    {
      "cell_type": "code",
      "source": [
        "B = randMatrix(3,4,-10,10)\n",
        "B"
      ],
      "metadata": {
        "colab": {
          "base_uri": "https://localhost:8080/",
          "height": 78
        },
        "id": "WCc0Re9jPAem",
        "outputId": "5798fd80-78bf-4090-e110-b57bfc332d50"
      },
      "execution_count": 13,
      "outputs": [
        {
          "output_type": "execute_result",
          "data": {
            "text/plain": [
              "⎡ 8   5  -3  10⎤\n",
              "⎢              ⎥\n",
              "⎢ 6   7  7   -1⎥\n",
              "⎢              ⎥\n",
              "⎣-10  3  -2  4 ⎦"
            ],
            "text/latex": "$\\displaystyle \\left[\\begin{matrix}8 & 5 & -3 & 10\\\\6 & 7 & 7 & -1\\\\-10 & 3 & -2 & 4\\end{matrix}\\right]$"
          },
          "metadata": {},
          "execution_count": 13
        }
      ]
    },
    {
      "cell_type": "code",
      "source": [
        "B.echelon_form()"
      ],
      "metadata": {
        "colab": {
          "base_uri": "https://localhost:8080/",
          "height": 78
        },
        "id": "g2MBOqn6PHtL",
        "outputId": "a10b5d94-440d-44e1-9796-c5db1bebc92a"
      },
      "execution_count": 14,
      "outputs": [
        {
          "output_type": "execute_result",
          "data": {
            "text/plain": [
              "⎡8  5    -3     10 ⎤\n",
              "⎢                  ⎥\n",
              "⎢0  26   74    -68 ⎥\n",
              "⎢                  ⎥\n",
              "⎣0  0   -6672  8464⎦"
            ],
            "text/latex": "$\\displaystyle \\left[\\begin{matrix}8 & 5 & -3 & 10\\\\0 & 26 & 74 & -68\\\\0 & 0 & -6672 & 8464\\end{matrix}\\right]$"
          },
          "metadata": {},
          "execution_count": 14
        }
      ]
    },
    {
      "cell_type": "markdown",
      "source": [
        "You'd do this in situations where all you want to know about a linear system is how many solutions it has and how many free variables. Echelon form gives that information without wasting computational time. "
      ],
      "metadata": {
        "id": "yLDzf7SyPJ-z"
      }
    },
    {
      "cell_type": "markdown",
      "source": [
        "## Elementary row operations\n",
        "\n",
        "It's also possible to perform single elementary row operations on a matrix using the `elementary_row_op` method. Take the matrix $B$ from above. To rescale the middle row by a factor of 1/2, "
      ],
      "metadata": {
        "id": "AW0498B-Oywj"
      }
    },
    {
      "cell_type": "code",
      "source": [
        "B.elementary_row_op(op = 'n->kn', row = 1, k = 1/2)"
      ],
      "metadata": {
        "colab": {
          "base_uri": "https://localhost:8080/",
          "height": 78
        },
        "id": "K1ljdI9xP0-S",
        "outputId": "c1f7fd3a-978f-45db-aaf2-e968f4dd75d2"
      },
      "execution_count": 15,
      "outputs": [
        {
          "output_type": "execute_result",
          "data": {
            "text/plain": [
              "⎡ 8    5   -3    10 ⎤\n",
              "⎢                   ⎥\n",
              "⎢3.0  3.5  3.5  -0.5⎥\n",
              "⎢                   ⎥\n",
              "⎣-10   3   -2    4  ⎦"
            ],
            "text/latex": "$\\displaystyle \\left[\\begin{matrix}8 & 5 & -3 & 10\\\\3.0 & 3.5 & 3.5 & -0.5\\\\-10 & 3 & -2 & 4\\end{matrix}\\right]$"
          },
          "metadata": {},
          "execution_count": 15
        }
      ]
    },
    {
      "cell_type": "markdown",
      "source": [
        "Three things to note on this: \n",
        "1. The string `'n->kn'` inside the argument has to be in quotes and typed exactly as you see it, no spaces. \n",
        "2. Rows and columns in SymPy are zero-indexed, so the *top* row is \"row 0\", not row 1; the middle row is row 1; and the bottom is row 2. \n",
        "3. This operation doesn't change the original $B$: "
      ],
      "metadata": {
        "id": "Er3o8iyiQLFf"
      }
    },
    {
      "cell_type": "code",
      "source": [
        "B"
      ],
      "metadata": {
        "colab": {
          "base_uri": "https://localhost:8080/",
          "height": 78
        },
        "id": "YQ0LWEcaQByt",
        "outputId": "0bfd40d2-5aa7-43ba-e7f9-c5375d22b384"
      },
      "execution_count": 16,
      "outputs": [
        {
          "output_type": "execute_result",
          "data": {
            "text/plain": [
              "⎡ 8   5  -3  10⎤\n",
              "⎢              ⎥\n",
              "⎢ 6   7  7   -1⎥\n",
              "⎢              ⎥\n",
              "⎣-10  3  -2  4 ⎦"
            ],
            "text/latex": "$\\displaystyle \\left[\\begin{matrix}8 & 5 & -3 & 10\\\\6 & 7 & 7 & -1\\\\-10 & 3 & -2 & 4\\end{matrix}\\right]$"
          },
          "metadata": {},
          "execution_count": 16
        }
      ]
    },
    {
      "cell_type": "markdown",
      "source": [
        "To swap the top and bottom rows: "
      ],
      "metadata": {
        "id": "9lI65a70Qi5t"
      }
    },
    {
      "cell_type": "code",
      "source": [
        "B.elementary_row_op(op=\"n<->m\", row1 = 0, row2 = 2)"
      ],
      "metadata": {
        "colab": {
          "base_uri": "https://localhost:8080/",
          "height": 78
        },
        "id": "W2Hg_ZuLQllf",
        "outputId": "9d046550-e261-4247-ad12-4892ab54de91"
      },
      "execution_count": 17,
      "outputs": [
        {
          "output_type": "execute_result",
          "data": {
            "text/plain": [
              "⎡-10  3  -2  4 ⎤\n",
              "⎢              ⎥\n",
              "⎢ 6   7  7   -1⎥\n",
              "⎢              ⎥\n",
              "⎣ 8   5  -3  10⎦"
            ],
            "text/latex": "$\\displaystyle \\left[\\begin{matrix}-10 & 3 & -2 & 4\\\\6 & 7 & 7 & -1\\\\8 & 5 & -3 & 10\\end{matrix}\\right]$"
          },
          "metadata": {},
          "execution_count": 17
        }
      ]
    },
    {
      "cell_type": "markdown",
      "source": [
        "To replace the middle row with itself plus 2 times the bottom row (which will zero out the $(1,2)$ entry): "
      ],
      "metadata": {
        "id": "wvvsZ6WrRGCe"
      }
    },
    {
      "cell_type": "code",
      "source": [
        "B.elementary_row_op(op=\"n->n+km\", k = 2, row1 = 1, row2=2)"
      ],
      "metadata": {
        "colab": {
          "base_uri": "https://localhost:8080/",
          "height": 78
        },
        "id": "lAokY5quRRw6",
        "outputId": "2d8b85b9-98e3-4e64-86e2-7c009e778ce0"
      },
      "execution_count": 18,
      "outputs": [
        {
          "output_type": "execute_result",
          "data": {
            "text/plain": [
              "⎡ 8   5   -3  10⎤\n",
              "⎢               ⎥\n",
              "⎢-14  13  3   7 ⎥\n",
              "⎢               ⎥\n",
              "⎣-10  3   -2  4 ⎦"
            ],
            "text/latex": "$\\displaystyle \\left[\\begin{matrix}8 & 5 & -3 & 10\\\\-14 & 13 & 3 & 7\\\\-10 & 3 & -2 & 4\\end{matrix}\\right]$"
          },
          "metadata": {},
          "execution_count": 18
        }
      ]
    },
    {
      "cell_type": "markdown",
      "source": [
        "## Matrix arithmetic\n",
        "\n",
        "Once matrices and vectors are defined, we can add, subtract, and multiply them just like any other object. "
      ],
      "metadata": {
        "id": "07si1VGKRhDn"
      }
    },
    {
      "cell_type": "code",
      "source": [
        "A = randMatrix(2,2, -10, 10) # A random 2x2 matrixB\n",
        "B = randMatrix(2,2, -10, 10) # Another random 2x2 matrix\n",
        "C = randMatrix(4,2, -10, 10) # A random 4x2 matrix"
      ],
      "metadata": {
        "id": "3kaUZ-C1Rn2-"
      },
      "execution_count": 19,
      "outputs": []
    },
    {
      "cell_type": "code",
      "source": [
        "A"
      ],
      "metadata": {
        "colab": {
          "base_uri": "https://localhost:8080/",
          "height": 58
        },
        "id": "P7RBvEMNR-qQ",
        "outputId": "89e81f7d-39f6-4ee6-d5e8-e57ed25f87b4"
      },
      "execution_count": 20,
      "outputs": [
        {
          "output_type": "execute_result",
          "data": {
            "text/plain": [
              "⎡-1  -5⎤\n",
              "⎢      ⎥\n",
              "⎣9   6 ⎦"
            ],
            "text/latex": "$\\displaystyle \\left[\\begin{matrix}-1 & -5\\\\9 & 6\\end{matrix}\\right]$"
          },
          "metadata": {},
          "execution_count": 20
        }
      ]
    },
    {
      "cell_type": "code",
      "source": [
        "B"
      ],
      "metadata": {
        "colab": {
          "base_uri": "https://localhost:8080/",
          "height": 58
        },
        "id": "0XSN2gmvR_pF",
        "outputId": "f42c2812-9a01-4eaa-fa00-c9f6073b3438"
      },
      "execution_count": 21,
      "outputs": [
        {
          "output_type": "execute_result",
          "data": {
            "text/plain": [
              "⎡0   -7⎤\n",
              "⎢      ⎥\n",
              "⎣-8  -4⎦"
            ],
            "text/latex": "$\\displaystyle \\left[\\begin{matrix}0 & -7\\\\-8 & -4\\end{matrix}\\right]$"
          },
          "metadata": {},
          "execution_count": 21
        }
      ]
    },
    {
      "cell_type": "code",
      "source": [
        "C"
      ],
      "metadata": {
        "colab": {
          "base_uri": "https://localhost:8080/",
          "height": 98
        },
        "id": "cWWk2o8RSA05",
        "outputId": "91e4c7ef-fc08-4120-9be5-10817afc8a10"
      },
      "execution_count": 22,
      "outputs": [
        {
          "output_type": "execute_result",
          "data": {
            "text/plain": [
              "⎡4   -6⎤\n",
              "⎢      ⎥\n",
              "⎢6   -1⎥\n",
              "⎢      ⎥\n",
              "⎢8   7 ⎥\n",
              "⎢      ⎥\n",
              "⎣-8  2 ⎦"
            ],
            "text/latex": "$\\displaystyle \\left[\\begin{matrix}4 & -6\\\\6 & -1\\\\8 & 7\\\\-8 & 2\\end{matrix}\\right]$"
          },
          "metadata": {},
          "execution_count": 22
        }
      ]
    },
    {
      "cell_type": "code",
      "source": [
        "# Adding/subtracting/multiplying the 2x2 matrices\n",
        "\n",
        "A + B"
      ],
      "metadata": {
        "colab": {
          "base_uri": "https://localhost:8080/",
          "height": 58
        },
        "id": "s5BjCgpbSMMr",
        "outputId": "a298cbb9-edaf-4a34-c3f3-91a09affb28d"
      },
      "execution_count": 23,
      "outputs": [
        {
          "output_type": "execute_result",
          "data": {
            "text/plain": [
              "⎡-1  -12⎤\n",
              "⎢       ⎥\n",
              "⎣1    2 ⎦"
            ],
            "text/latex": "$\\displaystyle \\left[\\begin{matrix}-1 & -12\\\\1 & 2\\end{matrix}\\right]$"
          },
          "metadata": {},
          "execution_count": 23
        }
      ]
    },
    {
      "cell_type": "code",
      "source": [
        "A - B"
      ],
      "metadata": {
        "colab": {
          "base_uri": "https://localhost:8080/",
          "height": 58
        },
        "id": "aBqvhh8eSSmU",
        "outputId": "03db8c8f-ad12-4e05-dc05-92fef30a42bd"
      },
      "execution_count": 24,
      "outputs": [
        {
          "output_type": "execute_result",
          "data": {
            "text/plain": [
              "⎡-1  2 ⎤\n",
              "⎢      ⎥\n",
              "⎣17  10⎦"
            ],
            "text/latex": "$\\displaystyle \\left[\\begin{matrix}-1 & 2\\\\17 & 10\\end{matrix}\\right]$"
          },
          "metadata": {},
          "execution_count": 24
        }
      ]
    },
    {
      "cell_type": "code",
      "source": [
        "A*B"
      ],
      "metadata": {
        "colab": {
          "base_uri": "https://localhost:8080/",
          "height": 58
        },
        "id": "ZpBv9oQPSUMx",
        "outputId": "fe986ef3-ab96-49f5-c726-0a8d78f8e025"
      },
      "execution_count": 25,
      "outputs": [
        {
          "output_type": "execute_result",
          "data": {
            "text/plain": [
              "⎡40   27 ⎤\n",
              "⎢        ⎥\n",
              "⎣-48  -87⎦"
            ],
            "text/latex": "$\\displaystyle \\left[\\begin{matrix}40 & 27\\\\-48 & -87\\end{matrix}\\right]$"
          },
          "metadata": {},
          "execution_count": 25
        }
      ]
    },
    {
      "cell_type": "code",
      "source": [
        "# Notice the order matters in matrix multiplication!\n",
        "B*A"
      ],
      "metadata": {
        "colab": {
          "base_uri": "https://localhost:8080/",
          "height": 58
        },
        "id": "g9YrAEA_SvPV",
        "outputId": "daf46f27-44f1-49ca-d223-0deded9b4942"
      },
      "execution_count": 26,
      "outputs": [
        {
          "output_type": "execute_result",
          "data": {
            "text/plain": [
              "⎡-63  -42⎤\n",
              "⎢        ⎥\n",
              "⎣-28  16 ⎦"
            ],
            "text/latex": "$\\displaystyle \\left[\\begin{matrix}-63 & -42\\\\-28 & 16\\end{matrix}\\right]$"
          },
          "metadata": {},
          "execution_count": 26
        }
      ]
    },
    {
      "cell_type": "code",
      "source": [
        "# We can compute C*A because the dimensions match\n",
        "C*A"
      ],
      "metadata": {
        "colab": {
          "base_uri": "https://localhost:8080/",
          "height": 98
        },
        "id": "CIKcP210SXLn",
        "outputId": "a83ae8e2-efc8-4877-c411-651f3203ed40"
      },
      "execution_count": 27,
      "outputs": [
        {
          "output_type": "execute_result",
          "data": {
            "text/plain": [
              "⎡-58  -56⎤\n",
              "⎢        ⎥\n",
              "⎢-15  -36⎥\n",
              "⎢        ⎥\n",
              "⎢55    2 ⎥\n",
              "⎢        ⎥\n",
              "⎣26   52 ⎦"
            ],
            "text/latex": "$\\displaystyle \\left[\\begin{matrix}-58 & -56\\\\-15 & -36\\\\55 & 2\\\\26 & 52\\end{matrix}\\right]$"
          },
          "metadata": {},
          "execution_count": 27
        }
      ]
    },
    {
      "cell_type": "code",
      "source": [
        "# But not A*C: \n",
        "A*C"
      ],
      "metadata": {
        "colab": {
          "base_uri": "https://localhost:8080/",
          "height": 336
        },
        "id": "2Ieik8-RSdFx",
        "outputId": "55618372-a11a-4fe5-e2bc-bece1eddc5e9"
      },
      "execution_count": 28,
      "outputs": [
        {
          "output_type": "error",
          "ename": "ShapeError",
          "evalue": "ignored",
          "traceback": [
            "\u001b[0;31m---------------------------------------------------------------------------\u001b[0m",
            "\u001b[0;31mShapeError\u001b[0m                                Traceback (most recent call last)",
            "\u001b[0;32m<ipython-input-28-619b509400d7>\u001b[0m in \u001b[0;36m<module>\u001b[0;34m\u001b[0m\n\u001b[1;32m      1\u001b[0m \u001b[0;31m# But not A*C:\u001b[0m\u001b[0;34m\u001b[0m\u001b[0;34m\u001b[0m\u001b[0;34m\u001b[0m\u001b[0m\n\u001b[0;32m----> 2\u001b[0;31m \u001b[0mA\u001b[0m\u001b[0;34m*\u001b[0m\u001b[0mC\u001b[0m\u001b[0;34m\u001b[0m\u001b[0;34m\u001b[0m\u001b[0m\n\u001b[0m",
            "\u001b[0;32m/usr/local/lib/python3.8/dist-packages/sympy/core/decorators.py\u001b[0m in \u001b[0;36mbinary_op_wrapper\u001b[0;34m(self, other)\u001b[0m\n\u001b[1;32m    135\u001b[0m                     \u001b[0;32mif\u001b[0m \u001b[0mf\u001b[0m \u001b[0;32mis\u001b[0m \u001b[0;32mnot\u001b[0m \u001b[0;32mNone\u001b[0m\u001b[0;34m:\u001b[0m\u001b[0;34m\u001b[0m\u001b[0;34m\u001b[0m\u001b[0m\n\u001b[1;32m    136\u001b[0m                         \u001b[0;32mreturn\u001b[0m \u001b[0mf\u001b[0m\u001b[0;34m(\u001b[0m\u001b[0mself\u001b[0m\u001b[0;34m)\u001b[0m\u001b[0;34m\u001b[0m\u001b[0;34m\u001b[0m\u001b[0m\n\u001b[0;32m--> 137\u001b[0;31m             \u001b[0;32mreturn\u001b[0m \u001b[0mfunc\u001b[0m\u001b[0;34m(\u001b[0m\u001b[0mself\u001b[0m\u001b[0;34m,\u001b[0m \u001b[0mother\u001b[0m\u001b[0;34m)\u001b[0m\u001b[0;34m\u001b[0m\u001b[0;34m\u001b[0m\u001b[0m\n\u001b[0m\u001b[1;32m    138\u001b[0m         \u001b[0;32mreturn\u001b[0m \u001b[0mbinary_op_wrapper\u001b[0m\u001b[0;34m\u001b[0m\u001b[0;34m\u001b[0m\u001b[0m\n\u001b[1;32m    139\u001b[0m     \u001b[0;32mreturn\u001b[0m \u001b[0mpriority_decorator\u001b[0m\u001b[0;34m\u001b[0m\u001b[0;34m\u001b[0m\u001b[0m\n",
            "\u001b[0;32m/usr/local/lib/python3.8/dist-packages/sympy/matrices/common.py\u001b[0m in \u001b[0;36m__mul__\u001b[0;34m(self, other)\u001b[0m\n\u001b[1;32m   2605\u001b[0m         \"\"\"\n\u001b[1;32m   2606\u001b[0m \u001b[0;34m\u001b[0m\u001b[0m\n\u001b[0;32m-> 2607\u001b[0;31m         \u001b[0;32mreturn\u001b[0m \u001b[0mself\u001b[0m\u001b[0;34m.\u001b[0m\u001b[0mmultiply\u001b[0m\u001b[0;34m(\u001b[0m\u001b[0mother\u001b[0m\u001b[0;34m)\u001b[0m\u001b[0;34m\u001b[0m\u001b[0;34m\u001b[0m\u001b[0m\n\u001b[0m\u001b[1;32m   2608\u001b[0m \u001b[0;34m\u001b[0m\u001b[0m\n\u001b[1;32m   2609\u001b[0m     \u001b[0;32mdef\u001b[0m \u001b[0mmultiply\u001b[0m\u001b[0;34m(\u001b[0m\u001b[0mself\u001b[0m\u001b[0;34m,\u001b[0m \u001b[0mother\u001b[0m\u001b[0;34m,\u001b[0m \u001b[0mdotprodsimp\u001b[0m\u001b[0;34m=\u001b[0m\u001b[0;32mNone\u001b[0m\u001b[0;34m)\u001b[0m\u001b[0;34m:\u001b[0m\u001b[0;34m\u001b[0m\u001b[0;34m\u001b[0m\u001b[0m\n",
            "\u001b[0;32m/usr/local/lib/python3.8/dist-packages/sympy/matrices/common.py\u001b[0m in \u001b[0;36mmultiply\u001b[0;34m(self, other, dotprodsimp)\u001b[0m\n\u001b[1;32m   2627\u001b[0m              getattr(other, 'is_MatrixLike', True))):\n\u001b[1;32m   2628\u001b[0m             \u001b[0;32mif\u001b[0m \u001b[0mself\u001b[0m\u001b[0;34m.\u001b[0m\u001b[0mshape\u001b[0m\u001b[0;34m[\u001b[0m\u001b[0;36m1\u001b[0m\u001b[0;34m]\u001b[0m \u001b[0;34m!=\u001b[0m \u001b[0mother\u001b[0m\u001b[0;34m.\u001b[0m\u001b[0mshape\u001b[0m\u001b[0;34m[\u001b[0m\u001b[0;36m0\u001b[0m\u001b[0;34m]\u001b[0m\u001b[0;34m:\u001b[0m\u001b[0;34m\u001b[0m\u001b[0;34m\u001b[0m\u001b[0m\n\u001b[0;32m-> 2629\u001b[0;31m                 raise ShapeError(\"Matrix size mismatch: %s * %s.\" % (\n\u001b[0m\u001b[1;32m   2630\u001b[0m                     self.shape, other.shape))\n\u001b[1;32m   2631\u001b[0m \u001b[0;34m\u001b[0m\u001b[0m\n",
            "\u001b[0;31mShapeError\u001b[0m: Matrix size mismatch: (2, 2) * (4, 2)."
          ]
        }
      ]
    },
    {
      "cell_type": "code",
      "source": [
        "# Multiplying a matrix by a scalar: \n",
        "\n",
        "100*C"
      ],
      "metadata": {
        "colab": {
          "base_uri": "https://localhost:8080/",
          "height": 98
        },
        "id": "MtxELwjoTGDY",
        "outputId": "3f0cec63-d678-4949-88ab-9f2e8a4979f0"
      },
      "execution_count": 29,
      "outputs": [
        {
          "output_type": "execute_result",
          "data": {
            "text/plain": [
              "⎡400   -600⎤\n",
              "⎢          ⎥\n",
              "⎢600   -100⎥\n",
              "⎢          ⎥\n",
              "⎢800   700 ⎥\n",
              "⎢          ⎥\n",
              "⎣-800  200 ⎦"
            ],
            "text/latex": "$\\displaystyle \\left[\\begin{matrix}400 & -600\\\\600 & -100\\\\800 & 700\\\\-800 & 200\\end{matrix}\\right]$"
          },
          "metadata": {},
          "execution_count": 29
        }
      ]
    },
    {
      "cell_type": "markdown",
      "source": [
        "Since vectors are just a particular kind of matrix, all of the above works when vectors are involved: "
      ],
      "metadata": {
        "id": "rYfwQYSeS8uK"
      }
    },
    {
      "cell_type": "code",
      "source": [
        "v = Matrix([-3,4])\n",
        "w = Matrix([1,2])\n",
        "\n",
        "# A linear combination\n",
        "\n",
        "4*v + 9*w"
      ],
      "metadata": {
        "colab": {
          "base_uri": "https://localhost:8080/",
          "height": 58
        },
        "id": "8RRY-8gUTQXt",
        "outputId": "73134aa0-7f67-45b4-c11d-dd8a887e8fe1"
      },
      "execution_count": 30,
      "outputs": [
        {
          "output_type": "execute_result",
          "data": {
            "text/plain": [
              "⎡-3⎤\n",
              "⎢  ⎥\n",
              "⎣34⎦"
            ],
            "text/latex": "$\\displaystyle \\left[\\begin{matrix}-3\\\\34\\end{matrix}\\right]$"
          },
          "metadata": {},
          "execution_count": 30
        }
      ]
    },
    {
      "cell_type": "code",
      "source": [
        "# Multiplying a matrix to a vector\n",
        "\n",
        "A*v"
      ],
      "metadata": {
        "colab": {
          "base_uri": "https://localhost:8080/",
          "height": 58
        },
        "id": "S_YAfK9OTblx",
        "outputId": "4fb78888-63aa-43e9-bf6b-9f5775a5302d"
      },
      "execution_count": 31,
      "outputs": [
        {
          "output_type": "execute_result",
          "data": {
            "text/plain": [
              "⎡-17⎤\n",
              "⎢   ⎥\n",
              "⎣-3 ⎦"
            ],
            "text/latex": "$\\displaystyle \\left[\\begin{matrix}-17\\\\-3\\end{matrix}\\right]$"
          },
          "metadata": {},
          "execution_count": 31
        }
      ]
    }
  ]
}