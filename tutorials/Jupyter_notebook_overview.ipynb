{
  "nbformat": 4,
  "nbformat_minor": 0,
  "metadata": {
    "colab": {
      "provenance": [],
      "authorship_tag": "ABX9TyMvDxDeAzew+PABuvwPeHmF",
      "include_colab_link": true
    },
    "kernelspec": {
      "name": "python3",
      "display_name": "Python 3"
    },
    "language_info": {
      "name": "python"
    }
  },
  "cells": [
    {
      "cell_type": "markdown",
      "metadata": {
        "id": "view-in-github",
        "colab_type": "text"
      },
      "source": [
        "<a href=\"https://colab.research.google.com/github/RobertTalbert/linalg-diffeq/blob/main/tutorials/Jupyter_notebook_overview.ipynb\" target=\"_parent\"><img src=\"https://colab.research.google.com/assets/colab-badge.svg\" alt=\"Open In Colab\"/></a>"
      ]
    },
    {
      "cell_type": "markdown",
      "source": [
        "# Welcome to Jupyter notebooks!\n",
        "\n",
        "## What is this? \n",
        "\n",
        "Jupyter notebooks combine text and code into one integrated document that can be easily shared. \n",
        "\n",
        "The text here is [Markdown](https://www.markdownguide.org/) which is a simple markup language for formatting text with links, *italics*, **boldface**, ~strikethrough~, and more. \n",
        "\n",
        "Here is some math, typeset using $\\LaTeX$: $x^2 + y^2 = z^2$ Or in display mode: \n",
        "$$\\frac{d}{dt} \\left[ \\sin(e^{t^2}) \\right] = 2te^{t^2} \\cos(e^{t^2}) $$"
      ],
      "metadata": {
        "id": "9toZUcL3WF5R"
      }
    },
    {
      "cell_type": "code",
      "execution_count": null,
      "metadata": {
        "id": "0yeAnHXvVP2b"
      },
      "outputs": [],
      "source": [
        "# You can also use executable Python code \n",
        "\n",
        "x = 10\n",
        "print(x**3)"
      ]
    }
  ]
}