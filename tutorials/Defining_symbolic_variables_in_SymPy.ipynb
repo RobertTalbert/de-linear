{
  "nbformat": 4,
  "nbformat_minor": 0,
  "metadata": {
    "colab": {
      "provenance": [],
      "authorship_tag": "ABX9TyMkOiqoY5hVlOsioWRfpEYI",
      "include_colab_link": true
    },
    "kernelspec": {
      "name": "python3",
      "display_name": "Python 3"
    },
    "language_info": {
      "name": "python"
    }
  },
  "cells": [
    {
      "cell_type": "markdown",
      "metadata": {
        "id": "view-in-github",
        "colab_type": "text"
      },
      "source": [
        "<a href=\"https://colab.research.google.com/github/RobertTalbert/linalg-diffeq/blob/main/tutorials/Defining_symbolic_variables_in_SymPy.ipynb\" target=\"_parent\"><img src=\"https://colab.research.google.com/assets/colab-badge.svg\" alt=\"Open In Colab\"/></a>"
      ]
    },
    {
      "cell_type": "code",
      "execution_count": 1,
      "metadata": {
        "id": "AywNZggTaIXS"
      },
      "outputs": [],
      "source": [
        "from sympy import *\n",
        "init_printing()"
      ]
    },
    {
      "cell_type": "markdown",
      "source": [
        "# Defining symbolic variables in SymPy\n",
        "\n",
        "The reason SymPy exists is to use the computing power of Python in doing *symbolic math*. Python by itself, for example cannot do the following: \n",
        "\n",
        "- Factor the polynomial $x^2 - 5x + 6$ into $(x-3)(x - 2)$ \n",
        "- Give an exact solution for $x^2 = 3$ (It's $\\pm \\sqrt{3}$, but the best Python can do is approximate this) \n",
        "- Find the determinant of a matrix with a variable in it, like $\\begin{bmatrix} s & 1 \\\\ 2 & s \\end{bmatrix}$ \n",
        "\n",
        "It's because Python by itself is meant for *numerical* computing. So \"variables\" in plain Python are memory containers that we put numbers into. For example we might define the variable `x` by `x = 2` and from that point forward, Python treats `x` as the number 2: "
      ],
      "metadata": {
        "id": "QwPcjEe-aSDw"
      }
    },
    {
      "cell_type": "code",
      "source": [
        "x = 2\n",
        "print(2*x + 5)"
      ],
      "metadata": {
        "colab": {
          "base_uri": "https://localhost:8080/"
        },
        "id": "-9IlWB8JaNEO",
        "outputId": "d864be56-b5a7-463e-b33c-8c1db30e1937"
      },
      "execution_count": 2,
      "outputs": [
        {
          "output_type": "stream",
          "name": "stdout",
          "text": [
            "9\n"
          ]
        }
      ]
    },
    {
      "cell_type": "markdown",
      "source": [
        "But to do *symbolic* math, we need to define a variable not as a container for a number but as an *abstract symbol* that we want to work with algebraically. For that, we need SymPy. \n",
        "\n",
        "To define a variable not as a number but as an abstract symbol, we first need to make sure SymPy is loaded, which this notebook has done at the top. Then, we use the `var` command. Here we'll define `s` as a symbolic variable: "
      ],
      "metadata": {
        "id": "O0kmhH4abPwk"
      }
    },
    {
      "cell_type": "code",
      "source": [
        "s = var(\"s\")"
      ],
      "metadata": {
        "id": "61BuBPsQbLcv"
      },
      "execution_count": 3,
      "outputs": []
    },
    {
      "cell_type": "markdown",
      "source": [
        "The syntax here is: \n",
        "- Put the letter or string you want to use as a symbolic variable on the left, then put an `=` sign\n",
        "- Inside `var`, enter in the exact same letter or string, but in quotes. \n",
        "\n",
        "Now we can use `s` as a symbol with a wide variety of SymPy functions that don't exist in plain Python. The full documentation for what SymPy can do with symbolic expressions is [here](https://docs.sympy.org/latest/index.html). \n",
        "\n",
        "For example to expand the expression $(s-4)^5$: \n"
      ],
      "metadata": {
        "id": "x9e6KUxNboIG"
      }
    },
    {
      "cell_type": "code",
      "source": [
        "# Note: Python/SymPy syntax for powers is **. Don't use ^ because this is \n",
        "# something different in Python. \n",
        "\n",
        "expand((s-4)**5)"
      ],
      "metadata": {
        "colab": {
          "base_uri": "https://localhost:8080/",
          "height": 39
        },
        "id": "Nilygz_Mb0bW",
        "outputId": "4a2cb798-895c-4703-c9a2-24c6e8ce15da"
      },
      "execution_count": 4,
      "outputs": [
        {
          "output_type": "execute_result",
          "data": {
            "text/plain": [
              " 5       4        3        2                \n",
              "s  - 20⋅s  + 160⋅s  - 640⋅s  + 1280⋅s - 1024"
            ],
            "image/png": "[encoded data removed]",
            "text/latex": "$\\displaystyle s^{5} - 20 s^{4} + 160 s^{3} - 640 s^{2} + 1280 s - 1024$"
          },
          "metadata": {},
          "execution_count": 4
        }
      ]
    },
    {
      "cell_type": "markdown",
      "source": [
        "Or we can find the exact solutions to $s^2 = 3$. To solve an equation in SymPy, subtract everything from the right side over to the left side, so that the right side is 0, then enter in the left side inside `solve( )`. For example, to solve $s^2 = 3$, subtract the 3 to get $s^2 - 3 = 0$ and then: "
      ],
      "metadata": {
        "id": "ehnRUViJcVVk"
      }
    },
    {
      "cell_type": "code",
      "source": [
        "solve(s**2 - 3)"
      ],
      "metadata": {
        "colab": {
          "base_uri": "https://localhost:8080/",
          "height": 47
        },
        "id": "B3G1TyQZcCFH",
        "outputId": "caaf3560-ade4-46cb-b038-3f84ca3975a3"
      },
      "execution_count": 5,
      "outputs": [
        {
          "output_type": "execute_result",
          "data": {
            "text/plain": [
              "[-√3, √3]"
            ],
            "image/png": "[encoded data removed]",
            "text/latex": "$\\displaystyle \\left[ - \\sqrt{3}, \\  \\sqrt{3}\\right]$"
          },
          "metadata": {},
          "execution_count": 5
        }
      ]
    },
    {
      "cell_type": "markdown",
      "source": [
        "We can even do calculus symbolically. For example here is the derivative of $\\frac{\\tan(s^2 + 1)}{e^s}$: "
      ],
      "metadata": {
        "id": "8dKPel5Gczdz"
      }
    },
    {
      "cell_type": "code",
      "source": [
        "# diff takes the derivative of the expression \n",
        "# The \"s\" at the end tells SymPy the independent variable\n",
        "diff(tan(s**2+1)/exp(s), s)"
      ],
      "metadata": {
        "colab": {
          "base_uri": "https://localhost:8080/",
          "height": 39
        },
        "id": "HCjxduWacRog",
        "outputId": "494307b9-6f30-4976-9c6c-18bd46e5d6dd"
      },
      "execution_count": 6,
      "outputs": [
        {
          "output_type": "execute_result",
          "data": {
            "text/plain": [
              "    ⎛   2⎛ 2    ⎞    ⎞  -s    -s    ⎛ 2    ⎞\n",
              "2⋅s⋅⎝tan ⎝s  + 1⎠ + 1⎠⋅ℯ   - ℯ  ⋅tan⎝s  + 1⎠"
            ],
            "image/png": "[encoded data removed]",
            "text/latex": "$\\displaystyle 2 s \\left(\\tan^{2}{\\left(s^{2} + 1 \\right)} + 1\\right) e^{- s} - e^{- s} \\tan{\\left(s^{2} + 1 \\right)}$"
          },
          "metadata": {},
          "execution_count": 6
        }
      ]
    },
    {
      "cell_type": "markdown",
      "source": [
        "And of course we can do linear algebra symbolically. Here is a $3 \\times 3$ matrix with variable entries, along with its determinant: "
      ],
      "metadata": {
        "id": "DC4sufVTdP5Z"
      }
    },
    {
      "cell_type": "code",
      "source": [
        "A = Matrix(3,3,[s**2, s, 1, 1, s, 2*s, s, s+1, s+2])\n",
        "A"
      ],
      "metadata": {
        "colab": {
          "base_uri": "https://localhost:8080/",
          "height": 78
        },
        "id": "GlRdeOOtcxrC",
        "outputId": "821da1aa-1f83-4ef6-ed82-80558712c5d3"
      },
      "execution_count": 7,
      "outputs": [
        {
          "output_type": "execute_result",
          "data": {
            "text/plain": [
              "⎡ 2              ⎤\n",
              "⎢s     s      1  ⎥\n",
              "⎢                ⎥\n",
              "⎢1     s     2⋅s ⎥\n",
              "⎢                ⎥\n",
              "⎣s   s + 1  s + 2⎦"
            ],
            "text/latex": "$\\displaystyle \\left[\\begin{matrix}s^{2} & s & 1\\\\1 & s & 2 s\\\\s & s + 1 & s + 2\\end{matrix}\\right]$"
          },
          "metadata": {},
          "execution_count": 7
        }
      ]
    },
    {
      "cell_type": "code",
      "source": [
        "A.det()"
      ],
      "metadata": {
        "colab": {
          "base_uri": "https://localhost:8080/",
          "height": 39
        },
        "id": "DVIJhty5dNDv",
        "outputId": "8c36e4f0-4520-4de4-fd80-dd1edb869517"
      },
      "execution_count": 8,
      "outputs": [
        {
          "output_type": "execute_result",
          "data": {
            "text/plain": [
              "   4      3      2        \n",
              "- s  + 2⋅s  - 2⋅s  - s + 1"
            ],
            "image/png": "[encoded data removed]",
            "text/latex": "$\\displaystyle - s^{4} + 2 s^{3} - 2 s^{2} - s + 1$"
          },
          "metadata": {},
          "execution_count": 8
        }
      ]
    },
    {
      "cell_type": "markdown",
      "source": [
        "It doesn't come up often, but if you need *more* than one symbolic variable in play (for example you're finding a partial derivative or a multiple integral) you can define all symbolic variables in the same command, like this: "
      ],
      "metadata": {
        "id": "oj8SF-kZdX7S"
      }
    },
    {
      "cell_type": "code",
      "source": [
        "# The variables are comma separated on the left\n",
        "# But space-separated on the right inside the quotes\n",
        "x, y = var(\"x y\")"
      ],
      "metadata": {
        "id": "-iimneZ7dOcU"
      },
      "execution_count": 9,
      "outputs": []
    },
    {
      "cell_type": "markdown",
      "source": [
        "For example here is the partial derivative $\\frac{\\partial}{\\partial x}\\left[ x^2 y + y^2 x \\right]$: "
      ],
      "metadata": {
        "id": "gWViOh_MejRP"
      }
    },
    {
      "cell_type": "code",
      "source": [
        "# Change the x at the end to y if you want the partial derivative with respect to y\n",
        "diff(x**2*y + y**2*x, x)"
      ],
      "metadata": {
        "colab": {
          "base_uri": "https://localhost:8080/",
          "height": 39
        },
        "id": "zSysSWlXedTG",
        "outputId": "86ecc331-6cf4-4494-b707-ce5d40142216"
      },
      "execution_count": 10,
      "outputs": [
        {
          "output_type": "execute_result",
          "data": {
            "text/plain": [
              "         2\n",
              "2⋅x⋅y + y "
            ],
            "image/png": "[encoded data removed]",
            "text/latex": "$\\displaystyle 2 x y + y^{2}$"
          },
          "metadata": {},
          "execution_count": 10
        }
      ]
    },
    {
      "cell_type": "markdown",
      "source": [
        "Integration too; here is $\\displaystyle{\\int_0^1 \\int_0^1 (x^2y+y^2x) \\, dx \\, dy}$: "
      ],
      "metadata": {
        "id": "8oRtx1RNf1Mc"
      }
    },
    {
      "cell_type": "code",
      "source": [
        "integrate(integrate(x**2*y + y**2*x,(x,0,1)),(y,0,1))"
      ],
      "metadata": {
        "colab": {
          "base_uri": "https://localhost:8080/",
          "height": 51
        },
        "id": "2K0stwaneg9T",
        "outputId": "57eccc1f-18b1-4c74-da78-f1b74a158116"
      },
      "execution_count": 11,
      "outputs": [
        {
          "output_type": "execute_result",
          "data": {
            "text/plain": [
              "1/3"
            ],
            "image/png": "[encoded data removed]",
            "text/latex": "$\\displaystyle \\frac{1}{3}$"
          },
          "metadata": {},
          "execution_count": 11
        }
      ]
    },
    {
      "cell_type": "code",
      "source": [],
      "metadata": {
        "id": "79xig5YjfvfV"
      },
      "execution_count": 11,
      "outputs": []
    }
  ]
}