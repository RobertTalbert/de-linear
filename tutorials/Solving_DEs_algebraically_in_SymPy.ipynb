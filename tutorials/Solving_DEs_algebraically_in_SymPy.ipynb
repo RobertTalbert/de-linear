{
  "nbformat": 4,
  "nbformat_minor": 0,
  "metadata": {
    "colab": {
      "provenance": [],
      "authorship_tag": "ABX9TyMI1DgdUQAQm2AzeJPWUvBV",
      "include_colab_link": true
    },
    "kernelspec": {
      "name": "python3",
      "display_name": "Python 3"
    },
    "language_info": {
      "name": "python"
    }
  },
  "cells": [
    {
      "cell_type": "markdown",
      "metadata": {
        "id": "view-in-github",
        "colab_type": "text"
      },
      "source": [
        "<a href=\"https://colab.research.google.com/github/RobertTalbert/linalg-diffeq/blob/main/tutorials/Solving_DEs_algebraically_in_SymPy.ipynb\" target=\"_parent\"><img src=\"https://colab.research.google.com/assets/colab-badge.svg\" alt=\"Open In Colab\"/></a>"
      ]
    },
    {
      "cell_type": "code",
      "execution_count": 1,
      "metadata": {
        "id": "YAzxxjnBzj6y"
      },
      "outputs": [],
      "source": [
        "from sympy import *\n",
        "init_printing()"
      ]
    },
    {
      "cell_type": "markdown",
      "source": [
        "# Solving DE's algebraically in SymPy\n",
        "\n",
        "This tutorial will walk through the process of using SymPy's powerful symbolic capabilities to solve differential equations symbolically (when possible). \n",
        "\n",
        "There are several steps involved here that aren't what we as humans would do when solving a DE, and which don't have anything to do with differential equations, but which are necessary in order to get SymPy to understand what we want.  \n",
        "\n",
        "## Equations, symbols, and functions in SymPy\n",
        "\n",
        "As described in [the previous tutorial on symbolic computation in SymPy](https://github.com/RobertTalbert/linalg-diffeq/blob/main/tutorials/Defining_symbolic_variables_in_SymPy.ipynb), in order for SymPy to tell the difference between a numeric variable (that is just a container for a number) and a symbolic variable (that is to be treated as an abstract symbol), we have to tell SymPy what we want, using the `var` command. For example, here we'll define $x$ and $t$ as symbols: "
      ],
      "metadata": {
        "id": "f2QRhEpEzp7Y"
      }
    },
    {
      "cell_type": "code",
      "source": [
        "x,t = var(\"x t\")"
      ],
      "metadata": {
        "id": "p4-YSPjU1hze"
      },
      "execution_count": 2,
      "outputs": []
    },
    {
      "cell_type": "markdown",
      "source": [
        "*Equations* that involve symbolic variables in SymPy have to be defined in a special way using the command `Eq` (note the capital \"E\"). This command takes two inputs, which are the left and right sides of the equation you want. For example here is the (basic algebra) equation $\\sin(x) + \\cos(t^2) = 1$. The first line defines the equation and stores the equation in its own variable, `eq`. The second line prints the equation out. (The second part is optional; just included here so we can see what we did.)"
      ],
      "metadata": {
        "id": "WIAlRUnH1nje"
      }
    },
    {
      "cell_type": "code",
      "source": [
        "eq = Eq(sin(x) + cos(t**2), 1)\n",
        "eq"
      ],
      "metadata": {
        "colab": {
          "base_uri": "https://localhost:8080/",
          "height": 39
        },
        "id": "gtxwPBJ11_o2",
        "outputId": "2ccfbb01-8d84-49f9-f121-8a9c42e7875a"
      },
      "execution_count": 3,
      "outputs": [
        {
          "output_type": "execute_result",
          "data": {
            "text/plain": [
              "            ⎛ 2⎞    \n",
              "sin(x) + cos⎝t ⎠ = 1"
            ],
            "image/png": "[encoded data removed]",
            "text/latex": "$\\displaystyle \\sin{\\left(x \\right)} + \\cos{\\left(t^{2} \\right)} = 1$"
          },
          "metadata": {},
          "execution_count": 3
        }
      ]
    },
    {
      "cell_type": "markdown",
      "source": [
        "In computer science language, what's happening here is we are \"instantiating\" an object of \"class `Eq`\".\n",
        "\n",
        "Once we've defined the equation, we can use `solve` to solve it for one of the variables: "
      ],
      "metadata": {
        "id": "BlhOmPon2mvS"
      }
    },
    {
      "cell_type": "code",
      "source": [
        "# Solve the equation for x\n",
        "solve(eq, x)"
      ],
      "metadata": {
        "colab": {
          "base_uri": "https://localhost:8080/",
          "height": 39
        },
        "id": "6aTcP3xi2SjN",
        "outputId": "ff2c6276-9ebb-4a7a-a86f-323d8c957c7f"
      },
      "execution_count": 4,
      "outputs": [
        {
          "output_type": "execute_result",
          "data": {
            "text/plain": [
              "⎡    ⎛   ⎛ 2⎞    ⎞           ⎛   ⎛ 2⎞    ⎞⎤\n",
              "⎣asin⎝cos⎝t ⎠ - 1⎠ + π, -asin⎝cos⎝t ⎠ - 1⎠⎦"
            ],
            "image/png": "[encoded data removed]",
            "text/latex": "$\\displaystyle \\left[ \\operatorname{asin}{\\left(\\cos{\\left(t^{2} \\right)} - 1 \\right)} + \\pi, \\  - \\operatorname{asin}{\\left(\\cos{\\left(t^{2} \\right)} - 1 \\right)}\\right]$"
          },
          "metadata": {},
          "execution_count": 4
        }
      ]
    },
    {
      "cell_type": "code",
      "source": [
        "# Solve for t\n",
        "solve(eq, t)"
      ],
      "metadata": {
        "colab": {
          "base_uri": "https://localhost:8080/",
          "height": 47
        },
        "id": "7HST_oAN2zdC",
        "outputId": "c0f71d2a-4dd8-489b-d59e-4eeb8cc06fea"
      },
      "execution_count": 5,
      "outputs": [
        {
          "output_type": "execute_result",
          "data": {
            "text/plain": [
              "⎡   _________________________    _________________________     _______________\n",
              "⎣-╲╱ -acos(1 - sin(x)) + 2⋅π , ╲╱ -acos(1 - sin(x)) + 2⋅π , -╲╱ acos(1 - sin(x\n",
              "\n",
              "___    __________________⎤\n",
              ")) , ╲╱ acos(1 - sin(x)) ⎦"
            ],
            "image/png": "[encoded data removed]",
            "text/latex": "$\\displaystyle \\left[ - \\sqrt{- \\operatorname{acos}{\\left(1 - \\sin{\\left(x \\right)} \\right)} + 2 \\pi}, \\  \\sqrt{- \\operatorname{acos}{\\left(1 - \\sin{\\left(x \\right)} \\right)} + 2 \\pi}, \\  - \\sqrt{\\operatorname{acos}{\\left(1 - \\sin{\\left(x \\right)} \\right)}}, \\  \\sqrt{\\operatorname{acos}{\\left(1 - \\sin{\\left(x \\right)} \\right)}}\\right]$"
          },
          "metadata": {},
          "execution_count": 5
        }
      ]
    },
    {
      "cell_type": "markdown",
      "source": [
        "These two variables $x$ and $t$ weren't defined as having any relationship to each other --- they're just two variables. But if we want to define a variable to be **a function** of one of the others, we do so using the special command `Function` instead of `var`. For example, let's define a new variable $y$ that is a function of $t$: "
      ],
      "metadata": {
        "id": "dEWPnK8r27q2"
      }
    },
    {
      "cell_type": "code",
      "source": [
        "y = Function(\"y\")"
      ],
      "metadata": {
        "id": "vEq18LUJ21CA"
      },
      "execution_count": 6,
      "outputs": []
    },
    {
      "cell_type": "markdown",
      "source": [
        "Notice we didn't have to say what the independent variable was! We are just giving SymPy a heads-up that $y$ depends on another variable. The input variable will be declared once we have a differential equation in front of us. \n",
        "\n",
        "## Setting up and solving DE's \n",
        "\n",
        "If `y` has been defined as a function, then \"the derivative of `y` with respect to `t`\" is: \n",
        "\n",
        "```diff(y(t), t)```\n",
        "\n",
        "You can use the `diff` command by itself to simply take derivatives, if you're doing calculus:"
      ],
      "metadata": {
        "id": "KC5TxGqH3WDp"
      }
    },
    {
      "cell_type": "code",
      "source": [
        "diff(log(x**2 + 1), x)"
      ],
      "metadata": {
        "colab": {
          "base_uri": "https://localhost:8080/",
          "height": 52
        },
        "id": "qtFGzq0l3k4X",
        "outputId": "103d5770-3713-47b3-f818-1c3f22761b73"
      },
      "execution_count": 7,
      "outputs": [
        {
          "output_type": "execute_result",
          "data": {
            "text/plain": [
              " 2⋅x  \n",
              "──────\n",
              " 2    \n",
              "x  + 1"
            ],
            "image/png": "[encoded data removed]",
            "text/latex": "$\\displaystyle \\frac{2 x}{x^{2} + 1}$"
          },
          "metadata": {},
          "execution_count": 7
        }
      ]
    },
    {
      "cell_type": "markdown",
      "source": [
        "But if we are solving a differential equation, `diff(y(t),t)` is shorthand for $y'(t)$ or $\\frac{dy}{dt}$. With that shorthand, entering in a differential equation in SymPy works like entering in any other kind of equation.\n",
        "\n",
        "**Example:** The differential equation $\\frac{dy}{dt} = 0.2y$ is: "
      ],
      "metadata": {
        "id": "1rLky5wA4eVh"
      }
    },
    {
      "cell_type": "code",
      "source": [
        "# Again, inside Eq you put the left side, then the right side.\n",
        "# Note that it has to be y(t), not just y. \n",
        "\n",
        "de1 = Eq(diff(y(t),t), 0.2*y(t))\n",
        "de1"
      ],
      "metadata": {
        "colab": {
          "base_uri": "https://localhost:8080/",
          "height": 52
        },
        "id": "gGXtTT4n4aOq",
        "outputId": "0ec75245-2db4-448b-c9ec-e665bdf89df4"
      },
      "execution_count": 8,
      "outputs": [
        {
          "output_type": "execute_result",
          "data": {
            "text/plain": [
              "d                  \n",
              "──(y(t)) = 0.2⋅y(t)\n",
              "dt                 "
            ],
            "image/png": "[encoded data removed]",
            "text/latex": "$\\displaystyle \\frac{d}{d t} y{\\left(t \\right)} = 0.2 y{\\left(t \\right)}$"
          },
          "metadata": {},
          "execution_count": 8
        }
      ]
    },
    {
      "cell_type": "markdown",
      "source": [
        "**Example:** Here is the differential equation $y' + y \\tan(t) = \\cos(t)$ (example 2.3.3 in the text): "
      ],
      "metadata": {
        "id": "ZNNhmXef5JkX"
      }
    },
    {
      "cell_type": "code",
      "source": [
        "de2 = Eq(diff(y(t),t) + y(t)*tan(t), cos(t))\n",
        "de2"
      ],
      "metadata": {
        "colab": {
          "base_uri": "https://localhost:8080/",
          "height": 52
        },
        "id": "_yX3C_9i45BS",
        "outputId": "e8605293-8040-4b58-b739-4f70e643cf15"
      },
      "execution_count": 9,
      "outputs": [
        {
          "output_type": "execute_result",
          "data": {
            "text/plain": [
              "              d                \n",
              "y(t)⋅tan(t) + ──(y(t)) = cos(t)\n",
              "              dt               "
            ],
            "image/png": "[encoded data removed]",
            "text/latex": "$\\displaystyle y{\\left(t \\right)} \\tan{\\left(t \\right)} + \\frac{d}{d t} y{\\left(t \\right)} = \\cos{\\left(t \\right)}$"
          },
          "metadata": {},
          "execution_count": 9
        }
      ]
    },
    {
      "cell_type": "markdown",
      "source": [
        "To *solve* a DE, however, we use the special command `dsolve` (not just `solve`): "
      ],
      "metadata": {
        "id": "36tfdmxN5eQE"
      }
    },
    {
      "cell_type": "code",
      "source": [
        "# There are two inputs: The equation itself, and the function you want to solve for\n",
        "dsolve(de1, y(t))"
      ],
      "metadata": {
        "colab": {
          "base_uri": "https://localhost:8080/",
          "height": 39
        },
        "id": "_F60nQdl5Y6H",
        "outputId": "d92e79c5-9fc7-4ce2-ce61-7ef749861a86"
      },
      "execution_count": 10,
      "outputs": [
        {
          "output_type": "execute_result",
          "data": {
            "text/plain": [
              "           0.2⋅t\n",
              "y(t) = C₁⋅ℯ     "
            ],
            "image/png": "[encoded data removed]",
            "text/latex": "$\\displaystyle y{\\left(t \\right)} = C_{1} e^{0.2 t}$"
          },
          "metadata": {},
          "execution_count": 10
        }
      ]
    },
    {
      "cell_type": "code",
      "source": [
        "dsolve(de2, y(t))"
      ],
      "metadata": {
        "colab": {
          "base_uri": "https://localhost:8080/",
          "height": 39
        },
        "id": "b6DpVZv-5qXM",
        "outputId": "ab3ed911-7141-4a8b-b49b-5c7639c0a0ac"
      },
      "execution_count": 11,
      "outputs": [
        {
          "output_type": "execute_result",
          "data": {
            "text/plain": [
              "y(t) = (C₁ + t)⋅cos(t)"
            ],
            "image/png": "[encoded data removed]",
            "text/latex": "$\\displaystyle y{\\left(t \\right)} = \\left(C_{1} + t\\right) \\cos{\\left(t \\right)}$"
          },
          "metadata": {},
          "execution_count": 11
        }
      ]
    },
    {
      "cell_type": "markdown",
      "source": [
        "## Initial Value Problems\n",
        "\n",
        "To solve an initial value problem, it's the same process, except we need to give `dsolve` the initial conditions. These are entered as a third input to `dsolve`. The input have to be entered in a paricular way: It must start with `ics =` and followed by a set that specifies each initial condition. (It's technically a \"dictionary\" in Python.) \n",
        "\n",
        "The best way to understand this is with examples.\n",
        "\n",
        "**Example:** Solve the IVP $y' = y - t$, $y(0) = 4$.  "
      ],
      "metadata": {
        "id": "GPCuHnh256RM"
      }
    },
    {
      "cell_type": "code",
      "source": [
        "# Set up the equation first \n",
        "ivp_example = Eq(diff(y(t),t), y(t) - t)\n",
        "\n",
        "# Note the format for the initial condition\n",
        "dsolve(ivp_example, y(t), ics = {y(0): 4})"
      ],
      "metadata": {
        "colab": {
          "base_uri": "https://localhost:8080/",
          "height": 39
        },
        "id": "COxizaWm5sZD",
        "outputId": "50f5da89-90f8-4bf4-d288-ca0f3627d012"
      },
      "execution_count": 12,
      "outputs": [
        {
          "output_type": "execute_result",
          "data": {
            "text/plain": [
              "       ⎛         -t    ⎞  t\n",
              "y(t) = ⎝(t + 1)⋅ℯ   + 3⎠⋅ℯ "
            ],
            "image/png": "[encoded data removed]",
            "text/latex": "$\\displaystyle y{\\left(t \\right)} = \\left(\\left(t + 1\\right) e^{- t} + 3\\right) e^{t}$"
          },
          "metadata": {},
          "execution_count": 12
        }
      ]
    },
    {
      "cell_type": "markdown",
      "source": [
        "**Example:** Solve the IVP $y' + \\frac{2}{t}y = e^t$, $y(1) = 4$. (Exercise 31 on page 146)"
      ],
      "metadata": {
        "id": "I1zCUcwf7cOv"
      }
    },
    {
      "cell_type": "code",
      "source": [
        "ivp_example2 = Eq(diff(y(t), t) + (2/t)*y(t), exp(t))\n",
        "soln = dsolve(ivp_example2, y(t), ics = {y(1): 4})\n",
        "soln"
      ],
      "metadata": {
        "colab": {
          "base_uri": "https://localhost:8080/",
          "height": 54
        },
        "id": "dKegG5817L2p",
        "outputId": "6ec849f9-ce73-4ef1-8e6b-4b693d984bbb"
      },
      "execution_count": 13,
      "outputs": [
        {
          "output_type": "execute_result",
          "data": {
            "text/plain": [
              "               t      t        \n",
              "        t   2⋅ℯ    2⋅ℯ    4 - ℯ\n",
              "y(t) = ℯ  - ──── + ──── + ─────\n",
              "             t       2       2 \n",
              "                    t       t  "
            ],
            "image/png": "[encoded data removed]",
            "text/latex": "$\\displaystyle y{\\left(t \\right)} = e^{t} - \\frac{2 e^{t}}{t} + \\frac{2 e^{t}}{t^{2}} + \\frac{4 - e}{t^{2}}$"
          },
          "metadata": {},
          "execution_count": 13
        }
      ]
    },
    {
      "cell_type": "code",
      "source": [
        "# You can use \"simplify\" to get this all into one big fraction\n",
        "simplify(soln)"
      ],
      "metadata": {
        "colab": {
          "base_uri": "https://localhost:8080/",
          "height": 54
        },
        "id": "IwnH0PM77xmv",
        "outputId": "09913d8f-84ed-4593-90ad-e53dd955f260"
      },
      "execution_count": 14,
      "outputs": [
        {
          "output_type": "execute_result",
          "data": {
            "text/plain": [
              "        2  t        t      t        \n",
              "       t ⋅ℯ  - 2⋅t⋅ℯ  + 2⋅ℯ  - ℯ + 4\n",
              "y(t) = ─────────────────────────────\n",
              "                      2             \n",
              "                     t              "
            ],
            "image/png": "[encoded data removed]",
            "text/latex": "$\\displaystyle y{\\left(t \\right)} = \\frac{t^{2} e^{t} - 2 t e^{t} + 2 e^{t} - e + 4}{t^{2}}$"
          },
          "metadata": {},
          "execution_count": 14
        }
      ]
    },
    {
      "cell_type": "markdown",
      "source": [
        "**Example:** (From class on February 21) Acceleration due to gravity near the Earth's surface is $-32$ feet per second per second. Suppose an object is launched into the air from 6 feet above the ground with an initial velocity of 10 feet per second. Find a formula for its position at time $t$ seconds. \n",
        "\n",
        "**Solution:** Let $y(t)$ be its height above the ground. Then $y'' = -32$, $y(0) = 6$, and $y'(0) = 10$. Therefore: "
      ],
      "metadata": {
        "id": "8KYUzxiR8hfT"
      }
    },
    {
      "cell_type": "code",
      "source": [
        "# Adding the 2 inside diff tells SymPy it's the second derivative\n",
        "deq = Eq(diff(y(t),t,2), -32)\n",
        "\n",
        "# This time there are two initial conditions\n",
        "# Just comma-separate them inside the set of IC's\n",
        "# The complicated expression you see is just y'(0) \n",
        "\n",
        "dsolve(deq, y(t), ics = {y(0): 6, diff(y(t),t).subs(t,0): 10})"
      ],
      "metadata": {
        "colab": {
          "base_uri": "https://localhost:8080/",
          "height": 39
        },
        "id": "70WiLdOi878G",
        "outputId": "a18b291e-c090-4dc2-8234-576b4654a152"
      },
      "execution_count": 15,
      "outputs": [
        {
          "output_type": "execute_result",
          "data": {
            "text/plain": [
              "             2           \n",
              "y(t) = - 16⋅t  + 10⋅t + 6"
            ],
            "image/png": "[encoded data removed]",
            "text/latex": "$\\displaystyle y{\\left(t \\right)} = - 16 t^{2} + 10 t + 6$"
          },
          "metadata": {},
          "execution_count": 15
        }
      ]
    }
  ]
}