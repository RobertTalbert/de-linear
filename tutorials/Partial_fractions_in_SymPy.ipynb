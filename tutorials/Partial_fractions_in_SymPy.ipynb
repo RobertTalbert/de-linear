{
  "nbformat": 4,
  "nbformat_minor": 0,
  "metadata": {
    "colab": {
      "provenance": [],
      "authorship_tag": "ABX9TyOvFtO107bBxg4rPvORjgsn",
      "include_colab_link": true
    },
    "kernelspec": {
      "name": "python3",
      "display_name": "Python 3"
    },
    "language_info": {
      "name": "python"
    }
  },
  "cells": [
    {
      "cell_type": "markdown",
      "metadata": {
        "id": "view-in-github",
        "colab_type": "text"
      },
      "source": [
        "<a href=\"https://colab.research.google.com/github/RobertTalbert/linalg-diffeq/blob/main/tutorials/Partial_fractions_in_SymPy.ipynb\" target=\"_parent\"><img src=\"https://colab.research.google.com/assets/colab-badge.svg\" alt=\"Open In Colab\"/></a>"
      ]
    },
    {
      "cell_type": "code",
      "execution_count": 1,
      "metadata": {
        "id": "cRaQG8GVDcni"
      },
      "outputs": [],
      "source": [
        "from sympy import *\n",
        "init_printing()"
      ]
    },
    {
      "cell_type": "markdown",
      "source": [
        "SymPy can perform **partial fraction decomposition**, which is an algebra trick for taking a single fraction whose denominator is factored out, and turning it into a sum of simpler fractions. \n",
        "\n",
        "This comes up when trying to integrate a [rational function](https://www.mathsisfun.com/definitions/rational-function.html); we factor the denominator, split into partial fractions, and then integrate each smaller fraction individually. [More review on this technique here](https://tutorial.math.lamar.edu/classes/calcii/partialfractions.aspx). \n",
        "\n",
        "Below is how this works, using the `apart` function in SymPy to decompose $\\dfrac{1}{s(s+1)(s-2)}$. "
      ],
      "metadata": {
        "id": "lKQswqDbD3zO"
      }
    },
    {
      "cell_type": "code",
      "source": [
        "# First make sure the variable is defined as a symbol\n",
        "# Using \"s\" here as the variable, but use whatever you want\n",
        "\n",
        "s = var(\"s\")\n",
        "\n",
        "# The \"apart\" function performs partial fraction decomposition\n",
        "apart(1/(s*(s+1)*(s-2)))"
      ],
      "metadata": {
        "colab": {
          "base_uri": "https://localhost:8080/",
          "height": 55
        },
        "id": "eq5kE3a6DfKy",
        "outputId": "45ab7e40-5205-49b2-9611-57049443dc7f"
      },
      "execution_count": 2,
      "outputs": [
        {
          "output_type": "execute_result",
          "data": {
            "text/plain": [
              "    1           1        1 \n",
              "───────── + ───────── - ───\n",
              "3⋅(s + 1)   6⋅(s - 2)   2⋅s"
            ],
            "image/png": "[encoded data removed]",
            "text/latex": "$\\displaystyle \\frac{1}{3 \\left(s + 1\\right)} + \\frac{1}{6 \\left(s - 2\\right)} - \\frac{1}{2 s}$"
          },
          "metadata": {},
          "execution_count": 2
        }
      ]
    }
  ]
}