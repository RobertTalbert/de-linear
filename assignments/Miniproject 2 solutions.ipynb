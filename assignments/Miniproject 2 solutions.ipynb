{
 "cells": [
  {
   "cell_type": "code",
   "execution_count": 1,
   "id": "1feb2cb0-0fc0-426c-803e-7cc48885225f",
   "metadata": {},
   "outputs": [],
   "source": [
    "from sympy import *\n",
    "init_printing()"
   ]
  },
  {
   "cell_type": "markdown",
   "id": "f6730d00-a5aa-471a-8c31-bb8a33fd72f3",
   "metadata": {},
   "source": [
    "# Miniproject 2 solutions\n",
    "\n",
    "(1)"
   ]
  },
  {
   "cell_type": "code",
   "execution_count": 3,
   "id": "56d87235-a6cb-45c3-a1d5-4ea7147cfade",
   "metadata": {},
   "outputs": [],
   "source": [
    "a,b,c,d,e,f,x,y = var(\"a b c d e f x y\")"
   ]
  },
  {
   "cell_type": "code",
   "execution_count": 7,
   "id": "5cac1639-9307-4ab9-bd0b-98db291e0b18",
   "metadata": {},
   "outputs": [],
   "source": [
    "A = Matrix(3,3,[a,b,c,d,e,f,0,0,1])\n",
    "v = Matrix([x,y,1])"
   ]
  },
  {
   "cell_type": "code",
   "execution_count": 8,
   "id": "533b444e-97d2-4e55-9d1a-68d5572804d7",
   "metadata": {},
   "outputs": [
    {
     "data": {
      "text/latex": [
       "$\\displaystyle \\left[\\begin{matrix}a x + b y + c\\\\d x + e y + f\\\\1\\end{matrix}\\right]$"
      ],
      "text/plain": [
       "⎡a⋅x + b⋅y + c⎤\n",
       "⎢             ⎥\n",
       "⎢d⋅x + e⋅y + f⎥\n",
       "⎢             ⎥\n",
       "⎣      1      ⎦"
      ]
     },
     "execution_count": 8,
     "metadata": {},
     "output_type": "execute_result"
    }
   ],
   "source": [
    "A*v"
   ]
  },
  {
   "cell_type": "markdown",
   "id": "4d9f994f-bc42-464d-905a-5b732e1db090",
   "metadata": {},
   "source": [
    "(2)"
   ]
  },
  {
   "cell_type": "code",
   "execution_count": 14,
   "id": "10319d7a-4464-4291-ae6c-f6c456d4292a",
   "metadata": {},
   "outputs": [
    {
     "data": {
      "text/latex": [
       "$\\displaystyle \\left[\\begin{matrix}x + 2\\\\y + 1\\\\1\\end{matrix}\\right]$"
      ],
      "text/plain": [
       "⎡x + 2⎤\n",
       "⎢     ⎥\n",
       "⎢y + 1⎥\n",
       "⎢     ⎥\n",
       "⎣  1  ⎦"
      ]
     },
     "execution_count": 14,
     "metadata": {},
     "output_type": "execute_result"
    }
   ],
   "source": [
    "A = Matrix(3,3,[1,0,2,0,1,1,0,0,1])\n",
    "v = Matrix([x,y,1])\n",
    "A*v"
   ]
  },
  {
   "cell_type": "markdown",
   "id": "d3891dcd-2bd1-4c01-b9a9-320e9f84bfcd",
   "metadata": {},
   "source": [
    "Shifts the x and y coordinates\n",
    "\n",
    "(3)\n"
   ]
  },
  {
   "cell_type": "code",
   "execution_count": 13,
   "id": "39e4c618-200b-4f83-b5fd-a47b29b65212",
   "metadata": {},
   "outputs": [
    {
     "data": {
      "text/latex": [
       "$\\displaystyle \\left[\\begin{matrix}- x\\\\y\\\\1\\end{matrix}\\right]$"
      ],
      "text/plain": [
       "⎡-x⎤\n",
       "⎢  ⎥\n",
       "⎢y ⎥\n",
       "⎢  ⎥\n",
       "⎣1 ⎦"
      ]
     },
     "execution_count": 13,
     "metadata": {},
     "output_type": "execute_result"
    }
   ],
   "source": [
    "A = Matrix(3,3,[-1,0,0,0,1,0,0,0,1])\n",
    "v = Matrix([x,y,1])\n",
    "A*v"
   ]
  },
  {
   "cell_type": "markdown",
   "id": "8feec381-c827-4082-91e3-f142d6ddce39",
   "metadata": {},
   "source": [
    "This keeps everyting the same but flips the x coordinate. \n",
    "\n",
    "(4) \n"
   ]
  },
  {
   "cell_type": "code",
   "execution_count": 15,
   "id": "700e8dfe-589e-4ece-b449-8b562bf778ad",
   "metadata": {},
   "outputs": [
    {
     "data": {
      "text/latex": [
       "$\\displaystyle \\left[\\begin{matrix}1.5 x - 0.8 y\\\\0.8 y\\\\1\\end{matrix}\\right]$"
      ],
      "text/plain": [
       "⎡1.5⋅x - 0.8⋅y⎤\n",
       "⎢             ⎥\n",
       "⎢    0.8⋅y    ⎥\n",
       "⎢             ⎥\n",
       "⎣      1      ⎦"
      ]
     },
     "execution_count": 15,
     "metadata": {},
     "output_type": "execute_result"
    }
   ],
   "source": [
    "A = Matrix(3,3,[1.5,-.8,0,0,.8,0,0,0,1])\n",
    "v = Matrix([x,y,1])\n",
    "A*v"
   ]
  },
  {
   "cell_type": "code",
   "execution_count": 16,
   "id": "1208ea9c-eff1-471d-a437-b6107e503d70",
   "metadata": {},
   "outputs": [
    {
     "data": {
      "text/latex": [
       "$\\displaystyle \\cos{\\left(45 \\right)}$"
      ],
      "text/plain": [
       "cos(45)"
      ]
     },
     "execution_count": 16,
     "metadata": {},
     "output_type": "execute_result"
    }
   ],
   "source": [
    "cos(45)"
   ]
  },
  {
   "cell_type": "code",
   "execution_count": 17,
   "id": "af2959c5-476a-4b0b-8580-fddb20f51ec3",
   "metadata": {},
   "outputs": [
    {
     "data": {
      "text/latex": [
       "$\\displaystyle \\frac{\\sqrt{2}}{2}$"
      ],
      "text/plain": [
       "√2\n",
       "──\n",
       "2 "
      ]
     },
     "execution_count": 17,
     "metadata": {},
     "output_type": "execute_result"
    }
   ],
   "source": [
    "cos(pi/4)"
   ]
  },
  {
   "cell_type": "code",
   "execution_count": null,
   "id": "8b0ce4fd-e792-4a21-8657-afa7e12cdb08",
   "metadata": {},
   "outputs": [],
   "source": []
  }
 ],
 "metadata": {
  "kernelspec": {
   "display_name": "Python 3 (ipykernel)",
   "language": "python",
   "name": "python3"
  },
  "language_info": {
   "codemirror_mode": {
    "name": "ipython",
    "version": 3
   },
   "file_extension": ".py",
   "mimetype": "text/x-python",
   "name": "python",
   "nbconvert_exporter": "python",
   "pygments_lexer": "ipython3",
   "version": "3.9.15"
  }
 },
 "nbformat": 4,
 "nbformat_minor": 5
}
