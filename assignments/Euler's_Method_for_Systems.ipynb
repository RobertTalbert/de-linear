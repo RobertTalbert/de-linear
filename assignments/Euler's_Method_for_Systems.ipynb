{
  "nbformat": 4,
  "nbformat_minor": 0,
  "metadata": {
    "colab": {
      "provenance": [],
      "authorship_tag": "ABX9TyMAN1u75kLlWW8oPNdVD1RY",
      "include_colab_link": true
    },
    "kernelspec": {
      "name": "python3",
      "display_name": "Python 3"
    },
    "language_info": {
      "name": "python"
    }
  },
  "cells": [
    {
      "cell_type": "markdown",
      "metadata": {
        "id": "view-in-github",
        "colab_type": "text"
      },
      "source": [
        "<a href=\"https://colab.research.google.com/github/RobertTalbert/linalg-diffeq/blob/main/assignments/Euler's_Method_for_Systems.ipynb\" target=\"_parent\"><img src=\"https://colab.research.google.com/assets/colab-badge.svg\" alt=\"Open In Colab\"/></a>"
      ]
    },
    {
      "cell_type": "code",
      "execution_count": null,
      "metadata": {
        "id": "yXncOSwLKoQ4"
      },
      "outputs": [],
      "source": []
    },
    {
      "cell_type": "markdown",
      "source": [
        "# Euler's Method for Systems\n",
        "\n",
        "This tutorial is intended to go along with Miniproject 6 and gives background on an extension of Euler's method for single differential equations, but applied to systems of DE's. \n",
        "\n",
        "## Why we use numerical methods for systems\n",
        "\n",
        "Consider this system of first-order differential equations: \n",
        "\n",
        "$$\\begin{align*}\n",
        "\\frac{dx}{dt} &= 2x - 1.2xy \\\\ \n",
        "\\frac{dy}{dt} &= -y + 1.2xy\n",
        "\\end{align*}$$\n",
        "\n",
        "This system is different from ones we've worked with. Importantly, it is *nonlinear* because the two dependent variables $x$ and $y$ are being multiplied together. Therefore we can't put it into a matrix form, and all of our algebraic solution techniques are useless!\n",
        "\n",
        "In fact most systems in real life are like this. While still fairly simple, this system does not have an easy algebraic solution. So instead, engineers and others who use systems of DEs opt for **numerical solutions**, where instead of a formula for $x(t)$ and $y(t)$, we generate a table of approximate outputs for $x$ and $y$ as time varies. \n",
        "\n",
        "## Review of Euler's Method for single DEs\n",
        "\n",
        "We did this for single differential equations earlier in the course using Euler's Method. To use Euler's Method, we need a first-order DE $\\frac{dy}{dt} = f(t,y)$, an initial condition $y(t_0) = y_0$, and a step size $h$. The method proceeds by starting at the point $(t_0, y_0)$ and then stepping $h$ units along the tangent line at this point, which has slope $f(t_0, y_0)$. This gets us to a new point $(t_1, y_1)$ whose coordinates are \n",
        "\n",
        "$$t_1 = t_0 + h \\qquad y_1 = y_0 + h f(t_0,y_0)$$ \n",
        "\n",
        "Then repeat this process starting at $(t_1,y_1)$: Move $h$ units along the tangent line, ending at the point $(t_2, y_2)$ with \n",
        "\n",
        "$$t_2 = t_1 + h \\qquad y_2 = y_1 + h f(t_1,y_1)$$ \n",
        "\n",
        "Keep going until you have generated all the $(t,y)$ pairs you want. To see examples, check out the Class Prep for our earlier lesson on Euler's Method as well as solutions from Skill Quizzes. \n",
        "\n",
        "## Euler's Method for Systems\n",
        "\n",
        "We can generalize this technique for systems of two DE's. We start with a system (not necessarily linear or homogeneous) of two first-order DEs:\n",
        "\n",
        "$$\\begin{align*}\n",
        "\\frac{dx}{dt} &= f(x,y) \\\\\n",
        "\\frac{dy}{dt} &= g(x,y)\n",
        "\\end{align*}$$\n",
        "\n",
        " plus an initial condition for *both* independent variables: $x(t_0) = x_0$ and $y(t_0) = y_0$, plus a step size $h$. The method proceeds like this: \n",
        "\n",
        "- Compute the rate at which $x$ is changing: $f(t_0,x_0)$. \n",
        "- Compute the rate at which $y$ is changing: $g(t_0, y_0)$. \n",
        "- Step $h$ units in the $x$ direction at the rate you determined to get the new $x$ value: $x_1 = x_0 + hf(x_0, y_0)$. \n",
        "- Step $h$ units in the $y$ direction at the rate you determined to get the new $y$ value: $y_1 = y_0 + hg(x_0, y_0)$. \n",
        "- Let $t_1 = t_0 + h$ and repeat this process to get $x_2 = x_1 + hf(x_1,y_1)$ and $y_2 = y_1 + hg(x_1,y_1)$.\n",
        "\n",
        "Continue this process until you have generated all the values of $x$ and $y$ you want. In general, we would have \n",
        "\n",
        "$$x_{k+1} = x_k + hf(x_k, y_k) \\qquad \\text{and} \\qquad y_{k+1} = y_k + h g(x_k, y_k)$$ \n",
        "\n",
        "This method only works for **autonomous** systems of DEs, which are systems where the right-hand sides consist only of combinations of the two independent variables $x$ and $y$ (i.e. there is no \"$t$\" on the right). \n",
        "\n",
        "## Example\n",
        "\n",
        "Look at the system from earlier: \n",
        "$$\\begin{align*}\n",
        "\\frac{dx}{dt} &= 2x - 1.2xy \\\\ \n",
        "\\frac{dy}{dt} &= -y + 1.2xy\n",
        "\\end{align*}$$\n",
        "\n",
        "Let's suppose $h = 0.25$ and this system has initial conditions $x(0) = 1$ and $y(0) = 2$. Let's get approximate values for $x(1)$ and $y(1)$. \n",
        "\n",
        "First we compute $x(0.25)$ and $y(0.25)$. The rates of change for $x$ and $y$ at the initial point are: \n",
        "\n",
        "$$\\begin{align*}\n",
        "\\frac{dx}{dt} &= 2(1) - 1.2(1)(2) =  \\\\ \n",
        "\\frac{dy}{dt} &= -(2) + 1.2(1)(2) = \n",
        "\\end{align*}$$\n",
        "\n",
        "So we move $h = 0.25$ steps in each direction using those rates to get to the new point: "
      ],
      "metadata": {
        "id": "BontO3sQKr8E"
      }
    }
  ]
}