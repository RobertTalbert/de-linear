{
 "cells": [
  {
   "cell_type": "code",
   "execution_count": 1,
   "id": "19ea8259",
   "metadata": {},
   "outputs": [],
   "source": [
    "from sympy import *\n",
    "init_printing()"
   ]
  },
  {
   "cell_type": "markdown",
   "id": "55ddbc47",
   "metadata": {},
   "source": [
    "# LA.2\n"
   ]
  },
  {
   "cell_type": "code",
   "execution_count": 10,
   "id": "8f9925db",
   "metadata": {},
   "outputs": [
    {
     "data": {
      "image/png": "[encoded data removed]",
      "text/latex": [
       "$\\displaystyle \\left[\\begin{matrix}1 & 0 & - \\frac{1}{6}\\\\0 & 1 & \\frac{1}{6}\\end{matrix}\\right]$"
      ],
      "text/plain": [
       "⎡1  0  -1/6⎤\n",
       "⎢          ⎥\n",
       "⎣0  1  1/6 ⎦"
      ]
     },
     "execution_count": 10,
     "metadata": {},
     "output_type": "execute_result"
    }
   ],
   "source": [
    "# Problem 1 \n",
    "v1 = Matrix([3,4])\n",
    "v2 = Matrix([9,10])\n",
    "b = Matrix([1,1])\n",
    "A = Matrix([v1,v2,b]).reshape(3,2).transpose()\n",
    "A.rref(pivots=False)"
   ]
  },
  {
   "cell_type": "markdown",
   "id": "50651e9e",
   "metadata": {},
   "source": [
    "Since the system $x_1 \\mathbf{v}_1 + x_2 \\mathbf{v}_2 = \\mathbf{b}$ has a solution, $\\mathbf{b}$ is in the span of $\\mathbf{v}_1$ and $\\mathbf{v}_2$. (Or, note that $\\mathbf{v}_1$ and $\\mathbf{v}_2$ are not parallel, so they span all of $\\mathbb{R}^2$, and therefore $\\mathbf{b}$ is automatically in their span.) "
   ]
  },
  {
   "cell_type": "code",
   "execution_count": 12,
   "id": "1d58ec69",
   "metadata": {},
   "outputs": [
    {
     "data": {
      "image/png": "[encoded data removed]",
      "text/latex": [
       "$\\displaystyle \\left[\\begin{matrix}1 & 0 & 2 & 0\\\\0 & 1 & -3 & 0\\\\0 & 0 & 0 & 1\\end{matrix}\\right]$"
      ],
      "text/plain": [
       "⎡1  0  2   0⎤\n",
       "⎢           ⎥\n",
       "⎢0  1  -3  0⎥\n",
       "⎢           ⎥\n",
       "⎣0  0  0   1⎦"
      ]
     },
     "execution_count": 12,
     "metadata": {},
     "output_type": "execute_result"
    }
   ],
   "source": [
    "# Problem 2\n",
    "A = Matrix(3,4,[10,-10,50,8,2,-8,28,50,3,-8,30,-60])\n",
    "A.rref(pivots=False)"
   ]
  },
  {
   "cell_type": "markdown",
   "id": "42e4ef6e",
   "metadata": {},
   "source": [
    "Since the system $x_1 \\mathbf{v}_1 + x_2 \\mathbf{v}_2 + x_3 \\mathbf{v}_3= \\mathbf{b}$ is inconsistent, $\\mathbf{b}$ is not in the span of $\\mathbf{v}_1$, $\\mathbf{v}_2$, and $\\mathbf{v}_3$. "
   ]
  },
  {
   "cell_type": "code",
   "execution_count": 13,
   "id": "c931dc8c",
   "metadata": {
    "scrolled": true
   },
   "outputs": [
    {
     "data": {
      "image/png": "[encoded data removed]",
      "text/latex": [
       "$\\displaystyle \\left[\\begin{matrix}1 & 0 & 0 & 2\\\\0 & 1 & 0 & -1\\\\0 & 0 & 1 & 1\\\\0 & 0 & 0 & 0\\\\0 & 0 & 0 & 0\\end{matrix}\\right]$"
      ],
      "text/plain": [
       "⎡1  0  0  2 ⎤\n",
       "⎢           ⎥\n",
       "⎢0  1  0  -1⎥\n",
       "⎢           ⎥\n",
       "⎢0  0  1  1 ⎥\n",
       "⎢           ⎥\n",
       "⎢0  0  0  0 ⎥\n",
       "⎢           ⎥\n",
       "⎣0  0  0  0 ⎦"
      ]
     },
     "execution_count": 13,
     "metadata": {},
     "output_type": "execute_result"
    }
   ],
   "source": [
    "# Problem 3 \n",
    "A = Matrix(5,4,[6,-6,5,23,-2,7,-7,-18,5,10,5,5,3,-3,-7,2,-1,9,3,-8])\n",
    "A.rref(pivots=False)"
   ]
  },
  {
   "cell_type": "markdown",
   "id": "b292d163",
   "metadata": {},
   "source": [
    "Since the system $x_1 \\mathbf{v}_1 + x_2 \\mathbf{v}_2 + x_3 \\mathbf{v}_3= \\mathbf{b}$ is consistent, $\\mathbf{b}$ is  in the span of $\\mathbf{v}_1$, $\\mathbf{v}_2$, and $\\mathbf{v}_3$. "
   ]
  },
  {
   "cell_type": "markdown",
   "id": "dd6873d9",
   "metadata": {},
   "source": [
    "# LA.3\n",
    "\n",
    "In each set, put the vectors into a matrix, get to RREF, and if there is a pivot position in every column then the vectors are linearly independent. Otherwise they are linearly dependent. "
   ]
  },
  {
   "cell_type": "code",
   "execution_count": 14,
   "id": "b8bcf956",
   "metadata": {},
   "outputs": [
    {
     "data": {
      "image/png": "[encoded data removed]",
      "text/latex": [
       "$\\displaystyle \\left[\\begin{matrix}1 & -5\\\\0 & 0\\end{matrix}\\right]$"
      ],
      "text/plain": [
       "⎡1  -5⎤\n",
       "⎢     ⎥\n",
       "⎣0  0 ⎦"
      ]
     },
     "execution_count": 14,
     "metadata": {},
     "output_type": "execute_result"
    }
   ],
   "source": [
    "# Problem 1\n",
    "P1 = Matrix(2,2,[1, -5, -2, 10])\n",
    "P1.rref(pivots=False)"
   ]
  },
  {
   "cell_type": "markdown",
   "id": "2ad2222d",
   "metadata": {},
   "source": [
    "Column/row 2 has no pivot, so these vectors are linearly **dependent**. (Or, note that the second one is $-5$ times the first.) "
   ]
  },
  {
   "cell_type": "code",
   "execution_count": 15,
   "id": "5e5bb64e",
   "metadata": {},
   "outputs": [
    {
     "data": {
      "image/png": "[encoded data removed]",
      "text/latex": [
       "$\\displaystyle \\left[\\begin{matrix}1 & 0 & 2\\\\0 & 1 & 1\\\\0 & 0 & 0\\end{matrix}\\right]$"
      ],
      "text/plain": [
       "⎡1  0  2⎤\n",
       "⎢       ⎥\n",
       "⎢0  1  1⎥\n",
       "⎢       ⎥\n",
       "⎣0  0  0⎦"
      ]
     },
     "execution_count": 15,
     "metadata": {},
     "output_type": "execute_result"
    }
   ],
   "source": [
    "# Problem 2\n",
    "P2 = Matrix(3,3,[1,2,4,1,-3,-1,1,1,3])\n",
    "P2.rref(pivots=False)"
   ]
  },
  {
   "cell_type": "markdown",
   "id": "9680e444",
   "metadata": {},
   "source": [
    "Column/row 3 has no pivot, so these vectors are linearly **dependent**. (You might also note that the third vector is 2 times the first plus the second.) "
   ]
  },
  {
   "cell_type": "code",
   "execution_count": 16,
   "id": "52930b5c",
   "metadata": {},
   "outputs": [
    {
     "data": {
      "image/png": "[encoded data removed]",
      "text/latex": [
       "$\\displaystyle \\left[\\begin{matrix}1 & 0 & 0\\\\0 & 1 & 0\\\\0 & 0 & 1\\\\0 & 0 & 0\\end{matrix}\\right]$"
      ],
      "text/plain": [
       "⎡1  0  0⎤\n",
       "⎢       ⎥\n",
       "⎢0  1  0⎥\n",
       "⎢       ⎥\n",
       "⎢0  0  1⎥\n",
       "⎢       ⎥\n",
       "⎣0  0  0⎦"
      ]
     },
     "execution_count": 16,
     "metadata": {},
     "output_type": "execute_result"
    }
   ],
   "source": [
    "# Problem 3\n",
    "P3 = Matrix(4,3,[-6,-4,8,-10,-6,5,-9,6,-9,-2,-9,-6])\n",
    "P3.rref(pivots=False)"
   ]
  },
  {
   "cell_type": "markdown",
   "id": "9d3a9f28",
   "metadata": {},
   "source": [
    "There is a pivot in every column, so these three vectors are linearly **independent**. "
   ]
  },
  {
   "cell_type": "code",
   "execution_count": null,
   "id": "468b295b",
   "metadata": {},
   "outputs": [],
   "source": []
  }
 ],
 "metadata": {
  "kernelspec": {
   "display_name": "Python 3 (ipykernel)",
   "language": "python",
   "name": "python3"
  },
  "language_info": {
   "codemirror_mode": {
    "name": "ipython",
    "version": 3
   },
   "file_extension": ".py",
   "mimetype": "text/x-python",
   "name": "python",
   "nbconvert_exporter": "python",
   "pygments_lexer": "ipython3",
   "version": "3.9.12"
  }
 },
 "nbformat": 4,
 "nbformat_minor": 5
}
