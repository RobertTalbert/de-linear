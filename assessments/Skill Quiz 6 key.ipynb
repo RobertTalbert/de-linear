{
 "cells": [
  {
   "cell_type": "code",
   "execution_count": 1,
   "id": "f3fd01b7-7601-4cdf-834e-1571402749c4",
   "metadata": {},
   "outputs": [],
   "source": [
    "from sympy import *\n",
    "init_printing()"
   ]
  },
  {
   "cell_type": "markdown",
   "id": "f3423947-6d71-4459-b88c-d63d9af9c23a",
   "metadata": {},
   "source": [
    "# LA.4"
   ]
  },
  {
   "cell_type": "code",
   "execution_count": 9,
   "id": "3c761969-d9d2-4026-9161-e7dd680c5fcf",
   "metadata": {},
   "outputs": [
    {
     "data": {
      "text/latex": [
       "$\\displaystyle \\left[\\begin{matrix}19 & -59\\\\-7 & 24\\\\-3 & -97\\end{matrix}\\right]$"
      ],
      "text/plain": [
       "⎡19  -59⎤\n",
       "⎢       ⎥\n",
       "⎢-7  24 ⎥\n",
       "⎢       ⎥\n",
       "⎣-3  -97⎦"
      ]
     },
     "execution_count": 9,
     "metadata": {},
     "output_type": "execute_result"
    }
   ],
   "source": [
    "A = Matrix(3,3,[-3,-5,2,-1,6,0,-3,-3,8])\n",
    "B = Matrix(3,2,[-5,6,-2,5,-3,-8])\n",
    "C = Matrix([5,-6,-5])\n",
    "\n",
    "A*B"
   ]
  },
  {
   "cell_type": "code",
   "execution_count": 10,
   "id": "365a116f-4e70-408d-b059-2b564f3a57f0",
   "metadata": {},
   "outputs": [
    {
     "ename": "ShapeError",
     "evalue": "Matrix size mismatch: (3, 2) * (3, 1).",
     "output_type": "error",
     "traceback": [
      "\u001b[0;31m---------------------------------------------------------------------------\u001b[0m",
      "\u001b[0;31mShapeError\u001b[0m                                Traceback (most recent call last)",
      "\u001b[0;32m/var/folders/2l/lcsckh_d17q9mfx384308my00000gn/T/ipykernel_17302/2428265818.py\u001b[0m in \u001b[0;36m<module>\u001b[0;34m\u001b[0m\n\u001b[0;32m----> 1\u001b[0;31m \u001b[0mB\u001b[0m\u001b[0;34m*\u001b[0m\u001b[0mC\u001b[0m\u001b[0;34m\u001b[0m\u001b[0;34m\u001b[0m\u001b[0m\n\u001b[0m",
      "\u001b[0;32m~/opt/anaconda3/lib/python3.9/site-packages/sympy/core/decorators.py\u001b[0m in \u001b[0;36mbinary_op_wrapper\u001b[0;34m(self, other)\u001b[0m\n\u001b[1;32m    104\u001b[0m                     \u001b[0;32mif\u001b[0m \u001b[0mf\u001b[0m \u001b[0;32mis\u001b[0m \u001b[0;32mnot\u001b[0m \u001b[0;32mNone\u001b[0m\u001b[0;34m:\u001b[0m\u001b[0;34m\u001b[0m\u001b[0;34m\u001b[0m\u001b[0m\n\u001b[1;32m    105\u001b[0m                         \u001b[0;32mreturn\u001b[0m \u001b[0mf\u001b[0m\u001b[0;34m(\u001b[0m\u001b[0mself\u001b[0m\u001b[0;34m)\u001b[0m\u001b[0;34m\u001b[0m\u001b[0;34m\u001b[0m\u001b[0m\n\u001b[0;32m--> 106\u001b[0;31m             \u001b[0;32mreturn\u001b[0m \u001b[0mfunc\u001b[0m\u001b[0;34m(\u001b[0m\u001b[0mself\u001b[0m\u001b[0;34m,\u001b[0m \u001b[0mother\u001b[0m\u001b[0;34m)\u001b[0m\u001b[0;34m\u001b[0m\u001b[0;34m\u001b[0m\u001b[0m\n\u001b[0m\u001b[1;32m    107\u001b[0m         \u001b[0;32mreturn\u001b[0m \u001b[0mbinary_op_wrapper\u001b[0m\u001b[0;34m\u001b[0m\u001b[0;34m\u001b[0m\u001b[0m\n\u001b[1;32m    108\u001b[0m     \u001b[0;32mreturn\u001b[0m \u001b[0mpriority_decorator\u001b[0m\u001b[0;34m\u001b[0m\u001b[0;34m\u001b[0m\u001b[0m\n",
      "\u001b[0;32m~/opt/anaconda3/lib/python3.9/site-packages/sympy/matrices/common.py\u001b[0m in \u001b[0;36m__mul__\u001b[0;34m(self, other)\u001b[0m\n\u001b[1;32m   2769\u001b[0m         \"\"\"\n\u001b[1;32m   2770\u001b[0m \u001b[0;34m\u001b[0m\u001b[0m\n\u001b[0;32m-> 2771\u001b[0;31m         \u001b[0;32mreturn\u001b[0m \u001b[0mself\u001b[0m\u001b[0;34m.\u001b[0m\u001b[0mmultiply\u001b[0m\u001b[0;34m(\u001b[0m\u001b[0mother\u001b[0m\u001b[0;34m)\u001b[0m\u001b[0;34m\u001b[0m\u001b[0;34m\u001b[0m\u001b[0m\n\u001b[0m\u001b[1;32m   2772\u001b[0m \u001b[0;34m\u001b[0m\u001b[0m\n\u001b[1;32m   2773\u001b[0m     \u001b[0;32mdef\u001b[0m \u001b[0mmultiply\u001b[0m\u001b[0;34m(\u001b[0m\u001b[0mself\u001b[0m\u001b[0;34m,\u001b[0m \u001b[0mother\u001b[0m\u001b[0;34m,\u001b[0m \u001b[0mdotprodsimp\u001b[0m\u001b[0;34m=\u001b[0m\u001b[0;32mNone\u001b[0m\u001b[0;34m)\u001b[0m\u001b[0;34m:\u001b[0m\u001b[0;34m\u001b[0m\u001b[0;34m\u001b[0m\u001b[0m\n",
      "\u001b[0;32m~/opt/anaconda3/lib/python3.9/site-packages/sympy/matrices/common.py\u001b[0m in \u001b[0;36mmultiply\u001b[0;34m(self, other, dotprodsimp)\u001b[0m\n\u001b[1;32m   2791\u001b[0m              getattr(other, 'is_MatrixLike', True))):\n\u001b[1;32m   2792\u001b[0m             \u001b[0;32mif\u001b[0m \u001b[0mself\u001b[0m\u001b[0;34m.\u001b[0m\u001b[0mshape\u001b[0m\u001b[0;34m[\u001b[0m\u001b[0;36m1\u001b[0m\u001b[0;34m]\u001b[0m \u001b[0;34m!=\u001b[0m \u001b[0mother\u001b[0m\u001b[0;34m.\u001b[0m\u001b[0mshape\u001b[0m\u001b[0;34m[\u001b[0m\u001b[0;36m0\u001b[0m\u001b[0;34m]\u001b[0m\u001b[0;34m:\u001b[0m\u001b[0;34m\u001b[0m\u001b[0;34m\u001b[0m\u001b[0m\n\u001b[0;32m-> 2793\u001b[0;31m                 raise ShapeError(\"Matrix size mismatch: %s * %s.\" % (\n\u001b[0m\u001b[1;32m   2794\u001b[0m                     self.shape, other.shape))\n\u001b[1;32m   2795\u001b[0m \u001b[0;34m\u001b[0m\u001b[0m\n",
      "\u001b[0;31mShapeError\u001b[0m: Matrix size mismatch: (3, 2) * (3, 1)."
     ]
    }
   ],
   "source": [
    "B*C\n",
    "\n",
    "# Error below means that BC cannot be computed"
   ]
  },
  {
   "cell_type": "code",
   "execution_count": 12,
   "id": "cf529d3e-7f5b-4c5f-af54-d83f34874c63",
   "metadata": {},
   "outputs": [
    {
     "data": {
      "text/latex": [
       "$\\displaystyle \\left[\\begin{matrix}2 & 40\\end{matrix}\\right]$"
      ],
      "text/plain": [
       "[2  40]"
      ]
     },
     "execution_count": 12,
     "metadata": {},
     "output_type": "execute_result"
    }
   ],
   "source": [
    "C.transpose()*B"
   ]
  },
  {
   "cell_type": "markdown",
   "id": "77f04a8f-79cb-4b46-86ce-65bfa4098fab",
   "metadata": {},
   "source": [
    "# LA.5\n",
    "\n",
    "1. **$A$ is not invertible** because the third column is a linear combination of the first two. This means that the columns of $A$ are linearly dependent, so $A$ is not invertible. \n",
    "2. **$B$ is not invertible** because the equation $A\\mathbf{x} = \\begin{bmatrix} 2 \\\\ 4 \\\\ 6 \\end{bmatrix}$ does not have a unique solution -- it has at least two solutions, as given in the problem statement. Since $A \\mathbf{x} = \\mathbf{b}$ does not have a unique solution for every $\\mathbf{b}$, it means $A$ is not invertible. \n",
    "3. **$C$ is invertible** since the matrix $\\begin{bmatrix} 2 & 1 \\\\ 0 & 1 \\end{bmatrix}$ will row reduce to $I_2$, Since $C$ is row equivalent to this matrix, $C$ will also row reduce to $I_2$ and therefore $C$ is invertible. \n",
    "\n",
    "# LA.6"
   ]
  },
  {
   "cell_type": "code",
   "execution_count": 13,
   "id": "b71da5a3-dcff-47c1-b178-d29af36476e8",
   "metadata": {},
   "outputs": [
    {
     "data": {
      "text/latex": [
       "$\\displaystyle \\left[ \\left( -3, \\  1, \\  \\left[ \\left[\\begin{matrix}-3\\\\1\\end{matrix}\\right]\\right]\\right), \\  \\left( 5, \\  1, \\  \\left[ \\left[\\begin{matrix}-1\\\\1\\end{matrix}\\right]\\right]\\right)\\right]$"
      ],
      "text/plain": [
       "⎡⎛       ⎡⎡-3⎤⎤⎞  ⎛      ⎡⎡-1⎤⎤⎞⎤\n",
       "⎢⎜-3, 1, ⎢⎢  ⎥⎥⎟, ⎜5, 1, ⎢⎢  ⎥⎥⎟⎥\n",
       "⎣⎝       ⎣⎣1 ⎦⎦⎠  ⎝      ⎣⎣1 ⎦⎦⎠⎦"
      ]
     },
     "execution_count": 13,
     "metadata": {},
     "output_type": "execute_result"
    }
   ],
   "source": [
    "A = Matrix(2,2,[-7,-12,4,9])\n",
    "A.eigenvects()"
   ]
  },
  {
   "cell_type": "markdown",
   "id": "69e8938e-1e91-482b-9105-1bd5b888eebe",
   "metadata": {},
   "source": [
    "The result here says that $\\lambda_1 = -3$ is an eigenvalue with a corresponding eigenvector of $\\mathbf{v}_1 = [-3,1]^T$, and $\\lambda_2 = 5$ is an eigenvalue with a corresponding eigenvector of $\\mathbf{v}_2 = [-1,1]^T$. "
   ]
  },
  {
   "cell_type": "markdown",
   "id": "589ff9f9-5a36-4fc7-8383-83e6dc36972c",
   "metadata": {},
   "source": [
    "# DE.1"
   ]
  },
  {
   "cell_type": "code",
   "execution_count": 7,
   "id": "5189eb65-9717-4b60-975e-2569b6c1cffd",
   "metadata": {},
   "outputs": [],
   "source": [
    "# Sympy setup\n",
    "\n",
    "t = var(\"t\")\n",
    "y = Function(\"y\")"
   ]
  },
  {
   "cell_type": "code",
   "execution_count": 4,
   "id": "4ba2f606-669f-40d8-94bd-68fa92f9b305",
   "metadata": {},
   "outputs": [
    {
     "data": {
      "text/latex": [
       "$\\displaystyle y{\\left(t \\right)} = C_{1} e^{- \\frac{t^{3}}{3}}$"
      ],
      "text/plain": [
       "             3 \n",
       "           -t  \n",
       "           ────\n",
       "            3  \n",
       "y(t) = C₁⋅ℯ    "
      ]
     },
     "execution_count": 4,
     "metadata": {},
     "output_type": "execute_result"
    }
   ],
   "source": [
    "part1 = Eq(diff(y(t),t) + t**2*y(t),0)\n",
    "dsolve(part1)"
   ]
  },
  {
   "cell_type": "code",
   "execution_count": 5,
   "id": "cb641486-e878-43bb-b5ea-6ae1e39a456d",
   "metadata": {},
   "outputs": [
    {
     "data": {
      "text/latex": [
       "$\\displaystyle y{\\left(t \\right)} = 0.5 e^{- \\sin{\\left(t \\right)}}$"
      ],
      "text/plain": [
       "            -sin(t)\n",
       "y(t) = 0.5⋅ℯ       "
      ]
     },
     "execution_count": 5,
     "metadata": {},
     "output_type": "execute_result"
    }
   ],
   "source": [
    "part2 = Eq(diff(y(t),t) + y(t)*cos(t), 0)\n",
    "dsolve(part2, y(t), ics = {y(0): 1/2})"
   ]
  }
 ],
 "metadata": {
  "kernelspec": {
   "display_name": "Python 3 (ipykernel)",
   "language": "python",
   "name": "python3"
  },
  "language_info": {
   "codemirror_mode": {
    "name": "ipython",
    "version": 3
   },
   "file_extension": ".py",
   "mimetype": "text/x-python",
   "name": "python",
   "nbconvert_exporter": "python",
   "pygments_lexer": "ipython3",
   "version": "3.9.15"
  }
 },
 "nbformat": 4,
 "nbformat_minor": 5
}
