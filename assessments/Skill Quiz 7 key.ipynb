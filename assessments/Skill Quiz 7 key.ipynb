{
 "cells": [
  {
   "cell_type": "code",
   "execution_count": 1,
   "id": "e3342859-52cb-470e-837a-5cf12c28175c",
   "metadata": {},
   "outputs": [],
   "source": [
    "from sympy import *\n",
    "init_printing()"
   ]
  },
  {
   "cell_type": "markdown",
   "id": "111743e4-0f95-4c98-a8e7-1a985484f21b",
   "metadata": {},
   "source": [
    "# Quiz 7 Key\n",
    "\n",
    "## LA.6"
   ]
  },
  {
   "cell_type": "code",
   "execution_count": 2,
   "id": "046d9ed0-df92-465b-940e-5306c63b88b5",
   "metadata": {},
   "outputs": [],
   "source": [
    "A = Matrix(2,2,[5,-3,-3,5])"
   ]
  },
  {
   "cell_type": "code",
   "execution_count": 3,
   "id": "62f66ddb-ee47-4a7d-9047-f66cc40793cb",
   "metadata": {},
   "outputs": [
    {
     "data": {
      "text/latex": [
       "$\\displaystyle \\left[ \\left( 2, \\  1, \\  \\left[ \\left[\\begin{matrix}1\\\\1\\end{matrix}\\right]\\right]\\right), \\  \\left( 8, \\  1, \\  \\left[ \\left[\\begin{matrix}-1\\\\1\\end{matrix}\\right]\\right]\\right)\\right]$"
      ],
      "text/plain": [
       "⎡⎛      ⎡⎡1⎤⎤⎞  ⎛      ⎡⎡-1⎤⎤⎞⎤\n",
       "⎢⎜2, 1, ⎢⎢ ⎥⎥⎟, ⎜8, 1, ⎢⎢  ⎥⎥⎟⎥\n",
       "⎣⎝      ⎣⎣1⎦⎦⎠  ⎝      ⎣⎣1 ⎦⎦⎠⎦"
      ]
     },
     "execution_count": 3,
     "metadata": {},
     "output_type": "execute_result"
    }
   ],
   "source": [
    "A.eigenvects()"
   ]
  },
  {
   "cell_type": "markdown",
   "id": "437be3c6-40ae-4403-b2c2-2ff3cd7085f9",
   "metadata": {},
   "source": [
    "Eigenpairs: \n",
    "\n",
    "- $\\lambda_1 = 2$, $\\mathbf{v}_1 = \\begin{bmatrix} 1 \\\\ 1 \\end{bmatrix}$\n",
    "- $\\lambda_2 = 8$, $\\mathbf{v}_1 = \\begin{bmatrix} -1 \\\\ 1 \\end{bmatrix}$"
   ]
  },
  {
   "cell_type": "markdown",
   "id": "dfecc8d0-393b-4fde-bdcf-33d7e5b08656",
   "metadata": {},
   "source": [
    "## DE.1"
   ]
  },
  {
   "cell_type": "code",
   "execution_count": 4,
   "id": "50c2691d-3efd-4e5f-b6a3-bb0e786e62d6",
   "metadata": {},
   "outputs": [],
   "source": [
    "t = var('t')\n",
    "y = Function('y')"
   ]
  },
  {
   "cell_type": "code",
   "execution_count": 5,
   "id": "0dbf0570-690b-4847-937f-b0c852dc7323",
   "metadata": {},
   "outputs": [
    {
     "data": {
      "image/png": "[encoded data removed]",
      "text/latex": [
       "$\\displaystyle y{\\left(t \\right)} = C_{1} e^{- e^{t}}$"
      ],
      "text/plain": [
       "             t\n",
       "           -ℯ \n",
       "y(t) = C₁⋅ℯ   "
      ]
     },
     "execution_count": 5,
     "metadata": {},
     "output_type": "execute_result"
    }
   ],
   "source": [
    "de1_1 = Eq(diff(y(t),t) + y(t) * exp(t), 0) \n",
    "dsolve(de1_1, y(t))"
   ]
  },
  {
   "cell_type": "code",
   "execution_count": 6,
   "id": "680ea27e-1bf8-4c73-b188-e317d7ccf3d9",
   "metadata": {},
   "outputs": [
    {
     "data": {
      "image/png": "[encoded data removed]",
      "text/latex": [
       "$\\displaystyle y{\\left(t \\right)} = e e^{- \\frac{1}{t^{2}}}$"
      ],
      "text/plain": [
       "          -1 \n",
       "          ───\n",
       "            2\n",
       "           t \n",
       "y(t) = ℯ⋅ℯ   "
      ]
     },
     "execution_count": 6,
     "metadata": {},
     "output_type": "execute_result"
    }
   ],
   "source": [
    "de1_2 = Eq(t**3 * diff(y(t),t), 2*y(t)) \n",
    "dsolve(de1_2, y(t), ics = {y(1) : 1})"
   ]
  },
  {
   "cell_type": "markdown",
   "id": "a5350f2a-5ad8-490a-a1d4-945c35c5de68",
   "metadata": {},
   "source": [
    "## DE.2"
   ]
  },
  {
   "cell_type": "code",
   "execution_count": 7,
   "id": "41883024-5df0-4b31-8a8b-b064b58e4990",
   "metadata": {},
   "outputs": [
    {
     "data": {
      "image/png": "[encoded data removed]",
      "text/latex": [
       "$\\displaystyle \\left[ y{\\left(t \\right)} = \\pi - \\operatorname{asin}{\\left(\\frac{1}{\\tanh{\\left(C_{1} + t \\right)}} \\right)}, \\  y{\\left(t \\right)} = \\operatorname{asin}{\\left(\\frac{1}{\\tanh{\\left(C_{1} + t \\right)}} \\right)}\\right]$"
      ],
      "text/plain": [
       "⎡               ⎛     1      ⎞             ⎛     1      ⎞⎤\n",
       "⎢y(t) = π - asin⎜────────────⎟, y(t) = asin⎜────────────⎟⎥\n",
       "⎣               ⎝tanh(C₁ + t)⎠             ⎝tanh(C₁ + t)⎠⎦"
      ]
     },
     "execution_count": 7,
     "metadata": {},
     "output_type": "execute_result"
    }
   ],
   "source": [
    "de2_1 = Eq(diff(y(t),t), cos(y(t)))\n",
    "dsolve(de2_1, y(t))"
   ]
  },
  {
   "cell_type": "markdown",
   "id": "895b62c1-a0a9-4753-9708-417e3d916f4b",
   "metadata": {},
   "source": [
    "This is what `dsolve` gives, but as mentioned in the notes from the announcement on Thursday, it's better to leave the solution in implicit form this time. Here's a by-hand solution: \n",
    "\n",
    "$$\\begin{align}\n",
    "\\frac{dy}{dt} &= \\cos(y) \\\\\n",
    "\\frac{dy}{\\cos(y)} &= dt \\\\\n",
    "\\sec(y) dy &= dt \\\\\n",
    "\\int \\sec(y) \\, dy &= \\int dt \\\\ \n",
    "\\ln(\\sec(t) + \\tan(t)) &= t + C \\\\\n",
    "\\sec(t) + \\tan(t) &= Ce^t\n",
    "\\end{align}$$\n",
    "\n",
    "And that's good enough. \n",
    "\n",
    "**\"Success\" is given if you separate the variables correctly, apply integration to both sides, integrate the right side correctly to get $t + C$, and then do any single correct step on the left.** Some examples of *incorrect* steps are: \n",
    "\n",
    "- Saying that the integral of $1/\\cos(y)$ is $\\ln(\\cos(y))$ \n",
    "- Saying that $1/\\cos(y)$ is $\\cos^{-1}(y)$ (the inverse cosine)\n",
    "- Saying that $1/\\cos(y)$ is $-\\cos(y)$ \n",
    "- Integrating $1/\\cos(y)$ to get $1/\\sin(y)$\n",
    "\n",
    "This list is not all-inclusive. \n",
    "\n",
    "**Why the integral of $\\sec(t)$ is what this says it is:** Start with $\\sec(t)$ and multiply by $\\frac{\\sec(t) + \\tan(t)}{\\sec(t) + \\tan(t)}$: \n",
    "$$\\int \\sec(t) \\, dt = \\int \\frac{\\sec^2(t) + \\sec(t) \\tan(t)}{\\sec(t) + \\tan(t)} \\, dt$$\n",
    "Now let $u = \\sec(t) + \\tan(t)$ and integrate with $u$-substitution. \n"
   ]
  },
  {
   "cell_type": "code",
   "execution_count": 8,
   "id": "edf4cc59-8e19-4009-bdbf-c530d2d57637",
   "metadata": {},
   "outputs": [
    {
     "data": {
      "image/png": "[encoded data removed]",
      "text/latex": [
       "$\\displaystyle y{\\left(t \\right)} = \\frac{4}{t^{2} + 1}$"
      ],
      "text/plain": [
       "         4   \n",
       "y(t) = ──────\n",
       "        2    \n",
       "       t  + 1"
      ]
     },
     "execution_count": 8,
     "metadata": {},
     "output_type": "execute_result"
    }
   ],
   "source": [
    "de2_2 = Eq(diff(y(t),t), (-2*t*y(t))/(t**2 + 1))\n",
    "dsolve(de2_2, y(t), ics = {y(0): 4})"
   ]
  },
  {
   "cell_type": "markdown",
   "id": "a665ee4b-453c-488e-a5b7-8c6fce7935a4",
   "metadata": {},
   "source": [
    "**Partial solution with steps:** First separate the variables: \n",
    "\n",
    "$$\\frac{dy}{y} = \\frac{-2t}{t^2+1} \\, dt$$\n",
    "\n",
    "Integrate both sides. The left side is $\\ln(y)$. Use $u$-substitution with $u = t^2+1$ (so $du = 2t$) on the right: \n",
    "$$\\int \\frac{-2t}{t^2+1} \\, dt = - \\int \\frac{du}{u} = - \\ln(t^2 + 1) + C$$\n",
    "\n",
    "We get $\\ln(y) = - \\ln(t^2 + 1) + C$, so $y = Ce^{-\\ln(t^2+1)} = \\frac{C}{t^2 + 1}$. Now use the initial condition to solve the IVP. "
   ]
  },
  {
   "cell_type": "code",
   "execution_count": null,
   "id": "111a4594-ba57-4a2b-b24a-9f6a1b298138",
   "metadata": {},
   "outputs": [],
   "source": []
  }
 ],
 "metadata": {
  "kernelspec": {
   "display_name": "Python 3 (ipykernel)",
   "language": "python",
   "name": "python3"
  },
  "language_info": {
   "codemirror_mode": {
    "name": "ipython",
    "version": 3
   },
   "file_extension": ".py",
   "mimetype": "text/x-python",
   "name": "python",
   "nbconvert_exporter": "python",
   "pygments_lexer": "ipython3",
   "version": "3.9.15"
  }
 },
 "nbformat": 4,
 "nbformat_minor": 5
}
