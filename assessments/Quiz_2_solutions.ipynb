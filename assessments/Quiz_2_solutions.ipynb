{
  "nbformat": 4,
  "nbformat_minor": 0,
  "metadata": {
    "colab": {
      "provenance": [],
      "authorship_tag": "ABX9TyPOKnNx5Juw5TwmiIUgTBS2",
      "include_colab_link": true
    },
    "kernelspec": {
      "name": "python3",
      "display_name": "Python 3"
    },
    "language_info": {
      "name": "python"
    }
  },
  "cells": [
    {
      "cell_type": "markdown",
      "metadata": {
        "id": "view-in-github",
        "colab_type": "text"
      },
      "source": [
        "<a href=\"https://colab.research.google.com/github/RobertTalbert/linalg-diffeq/blob/main/assessments/Quiz_2_solutions.ipynb\" target=\"_parent\"><img src=\"https://colab.research.google.com/assets/colab-badge.svg\" alt=\"Open In Colab\"/></a>"
      ]
    },
    {
      "cell_type": "markdown",
      "source": [
        "## Skill LA.1 attempt 2\n",
        "\n",
        "$$\\begin{alignedat}{4}\n",
        "x &  {}+{}  & y &  {}+{}  & 2z &  {}={}  & 1 \\\\\n",
        "2x &  {}-{}  & y &  {}-{}  & 2z &  {}={}  & 2 \\\\\n",
        "-x &  {}+{}  & y &  {}+{}  & z &  {}={}  & 0 \\\\\n",
        "\\end{alignedat}$$"
      ],
      "metadata": {
        "id": "hXcm-xw5gk4F"
      }
    },
    {
      "cell_type": "code",
      "execution_count": null,
      "metadata": {
        "id": "BnjKPZ8eggTo"
      },
      "outputs": [],
      "source": [
        "from sympy import *\n",
        "init_printing()"
      ]
    },
    {
      "cell_type": "code",
      "source": [
        "# Augmented matrix: \n",
        "M = Matrix(3,4,[1,1,2,1,2,-1,-2,2,-1,1,1,0])\n",
        "M"
      ],
      "metadata": {
        "colab": {
          "base_uri": "https://localhost:8080/",
          "height": 78
        },
        "id": "mikmyfP7g9hR",
        "outputId": "20064527-686a-4b17-bc74-557827124708"
      },
      "execution_count": null,
      "outputs": [
        {
          "output_type": "execute_result",
          "data": {
            "text/plain": [
              "⎡1   1   2   1⎤\n",
              "⎢             ⎥\n",
              "⎢2   -1  -2  2⎥\n",
              "⎢             ⎥\n",
              "⎣-1  1   1   0⎦"
            ],
            "text/latex": "$\\displaystyle \\left[\\begin{matrix}1 & 1 & 2 & 1\\\\2 & -1 & -2 & 2\\\\-1 & 1 & 1 & 0\\end{matrix}\\right]$"
          },
          "metadata": {},
          "execution_count": 2
        }
      ]
    },
    {
      "cell_type": "code",
      "source": [
        "## RREF done by computer here\n",
        "## Any work done on the quiz will need to show the row operation steps\n",
        "M.rref(pivots=False)"
      ],
      "metadata": {
        "colab": {
          "base_uri": "https://localhost:8080/",
          "height": 78
        },
        "id": "8R6pwBEmhDkk",
        "outputId": "afbac250-6edf-4b58-86b4-a73c7f81e9a8"
      },
      "execution_count": null,
      "outputs": [
        {
          "output_type": "execute_result",
          "data": {
            "text/plain": [
              "⎡1  0  0  1 ⎤\n",
              "⎢           ⎥\n",
              "⎢0  1  0  2 ⎥\n",
              "⎢           ⎥\n",
              "⎣0  0  1  -1⎦"
            ],
            "text/latex": "$\\displaystyle \\left[\\begin{matrix}1 & 0 & 0 & 1\\\\0 & 1 & 0 & 2\\\\0 & 0 & 1 & -1\\end{matrix}\\right]$"
          },
          "metadata": {},
          "execution_count": 3
        }
      ]
    },
    {
      "cell_type": "markdown",
      "source": [
        "So there is exactly one solution: $x = 1, y = 2, z = -1$. "
      ],
      "metadata": {
        "id": "hPg0CltuhP5R"
      }
    },
    {
      "cell_type": "markdown",
      "source": [
        "## Skill LA.2, attempt 1\n",
        "\n",
        "Each one of the parts is solved by loading the vectors into a matrix, getting to RREF, and then interpreting the answers. If the system is consistent then the target vector is in the span; otherwise it isn't. \n",
        "\n",
        "1. Given vectors: $\\mathbf{v_1} = [1 \\ 2]^T$, $\\mathbf{v_2} = [-6 \\ -12]^T$; target vector $\\mathbf{b} = [5 \\ 5]^T$"
      ],
      "metadata": {
        "id": "PaTYOAelhXeS"
      }
    },
    {
      "cell_type": "code",
      "source": [
        "M = Matrix(2,3,[1,-6,5,2,-12, 5])\n",
        "M"
      ],
      "metadata": {
        "colab": {
          "base_uri": "https://localhost:8080/",
          "height": 58
        },
        "id": "62zohCn4hXJz",
        "outputId": "f2362a46-130b-4a64-f5e6-dc525fb0b9e2"
      },
      "execution_count": null,
      "outputs": [
        {
          "output_type": "execute_result",
          "data": {
            "text/plain": [
              "⎡1  -6   5⎤\n",
              "⎢         ⎥\n",
              "⎣2  -12  5⎦"
            ],
            "text/latex": "$\\displaystyle \\left[\\begin{matrix}1 & -6 & 5\\\\2 & -12 & 5\\end{matrix}\\right]$"
          },
          "metadata": {},
          "execution_count": 4
        }
      ]
    },
    {
      "cell_type": "code",
      "source": [
        "M.rref(pivots=False)"
      ],
      "metadata": {
        "colab": {
          "base_uri": "https://localhost:8080/",
          "height": 58
        },
        "id": "ukEv0Fi_hMqE",
        "outputId": "7a9e572d-63d7-46e8-acac-6e99c8762fe9"
      },
      "execution_count": null,
      "outputs": [
        {
          "output_type": "execute_result",
          "data": {
            "text/plain": [
              "⎡1  -6  0⎤\n",
              "⎢        ⎥\n",
              "⎣0  0   1⎦"
            ],
            "text/latex": "$\\displaystyle \\left[\\begin{matrix}1 & -6 & 0\\\\0 & 0 & 1\\end{matrix}\\right]$"
          },
          "metadata": {},
          "execution_count": 5
        }
      ]
    },
    {
      "cell_type": "markdown",
      "source": [
        "The system is inconsistent so $\\mathbf{b}$ is not in the span. \n",
        "\n",
        "Another explanation is that $\\mathbf{v}_1$ and $\\mathbf{v}_2$ are parallel, and $\\mathbf{b}$ is not parallel to either, so $\\mathbf{b}$ should not be in the span. \n",
        "\n",
        "---\n",
        "\n",
        "Given vectors: $\\mathbf{v_1} = [1 \\ 2 \\ 5]^T$, $\\mathbf{v_2} = [-3 \\ {-6} \\ 4 ]^T$, $\\mathbf{v_3} = [0 \\ 2 \\ {-1}]^T$; target vector $\\mathbf{b} = [5 \\ 10 \\ 15]^T$"
      ],
      "metadata": {
        "id": "zr7NXG08h6-e"
      }
    },
    {
      "cell_type": "code",
      "source": [
        "M = Matrix(3,4,[1,-3,0,5,2,-6,2,10,5,4,-1,15])\n",
        "M.rref(pivots=False)"
      ],
      "metadata": {
        "colab": {
          "base_uri": "https://localhost:8080/",
          "height": 78
        },
        "id": "QHIMnOJ7h18M",
        "outputId": "80ced791-d1cf-4acd-ea7f-69133b9fa2c3"
      },
      "execution_count": null,
      "outputs": [
        {
          "output_type": "execute_result",
          "data": {
            "text/plain": [
              "⎡          65 ⎤\n",
              "⎢1  0  0   ── ⎥\n",
              "⎢          19 ⎥\n",
              "⎢             ⎥\n",
              "⎢         -10 ⎥\n",
              "⎢0  1  0  ────⎥\n",
              "⎢          19 ⎥\n",
              "⎢             ⎥\n",
              "⎣0  0  1   0  ⎦"
            ],
            "text/latex": "$\\displaystyle \\left[\\begin{matrix}1 & 0 & 0 & \\frac{65}{19}\\\\0 & 1 & 0 & - \\frac{10}{19}\\\\0 & 0 & 1 & 0\\end{matrix}\\right]$"
          },
          "metadata": {},
          "execution_count": 6
        }
      ]
    },
    {
      "cell_type": "markdown",
      "source": [
        "The system is consistent, with the single solution $x = 65/19, y = -10/19, z = 0$. So $\\mathbf{b}$ is in the span of these vectors. \n",
        "\n",
        "---\n",
        "\n",
        "Given vectors: $\\mathbf{v_1} = [1 \\ 2 \\ 5 \\ -1]^T$, $\\mathbf{v_2} = [{-3} \\ {-6} \\ 4 \\ 2]^T$, $\\mathbf{v_3} = [1 \\ 0 \\ {-1} \\ 0]^T$; target vector $\\mathbf{b} = [{-1} \\ {-4} \\ 8 \\ 1]^T$"
      ],
      "metadata": {
        "id": "R9aslYPviVMA"
      }
    },
    {
      "cell_type": "code",
      "source": [
        "M = Matrix(4,4,[1,-3,1,-1,2,-6,0,-4,5,4,-1,8,-1,2,0,1])\n",
        "M.rref(pivots=False)"
      ],
      "metadata": {
        "colab": {
          "base_uri": "https://localhost:8080/",
          "height": 98
        },
        "id": "UNvfVTtoh0Ut",
        "outputId": "7bdc9844-dc31-46ad-e3d4-2548e8c79e53"
      },
      "execution_count": null,
      "outputs": [
        {
          "output_type": "execute_result",
          "data": {
            "text/plain": [
              "⎡1  0  0  1⎤\n",
              "⎢          ⎥\n",
              "⎢0  1  0  1⎥\n",
              "⎢          ⎥\n",
              "⎢0  0  1  1⎥\n",
              "⎢          ⎥\n",
              "⎣0  0  0  0⎦"
            ],
            "text/latex": "$\\displaystyle \\left[\\begin{matrix}1 & 0 & 0 & 1\\\\0 & 1 & 0 & 1\\\\0 & 0 & 1 & 1\\\\0 & 0 & 0 & 0\\end{matrix}\\right]$"
          },
          "metadata": {},
          "execution_count": 7
        }
      ]
    },
    {
      "cell_type": "markdown",
      "source": [
        "The system is consistent with $x_1 = 1, x_2 = 1, x_3 = 1$ so $\\mathbf{b}$ is in the span of the three vectors. In fact the results are telling you that $\\mathbf{b}$ is simply $\\mathbf{v}_1 + \\mathbf{v}_2 + \\mathbf{v}_3$, so an alternative explanation is to simply notice this from the beginning and say so. "
      ],
      "metadata": {
        "id": "-lujzN14ip0B"
      }
    },
    {
      "cell_type": "code",
      "source": [],
      "metadata": {
        "id": "WabyjkTrq8ji"
      },
      "execution_count": null,
      "outputs": []
    }
  ]
}